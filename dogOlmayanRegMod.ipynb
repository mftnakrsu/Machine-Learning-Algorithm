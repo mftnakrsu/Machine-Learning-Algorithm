{
 "cells": [
  {
   "cell_type": "markdown",
   "metadata": {},
   "source": [
    "# Doğrusal Olmayan Regresyon Modelleri"
   ]
  },
  {
   "cell_type": "code",
   "execution_count": 1,
   "metadata": {},
   "outputs": [],
   "source": [
    "import numpy as np\n",
    "import pandas as pd \n",
    "from sklearn.model_selection import train_test_split, GridSearchCV\n",
    "from sklearn.metrics import mean_squared_error, r2_score\n",
    "import matplotlib.pyplot as plt\n",
    "from sklearn.preprocessing import scale \n",
    "from sklearn.preprocessing import StandardScaler\n",
    "from sklearn import model_selection\n",
    "from sklearn.linear_model import LinearRegression\n",
    "from sklearn.tree import DecisionTreeRegressor\n",
    "from sklearn.neighbors import KNeighborsRegressor\n",
    "from sklearn.neural_network import MLPRegressor\n",
    "from sklearn.ensemble import RandomForestRegressor\n",
    "from sklearn.ensemble import GradientBoostingRegressor\n",
    "from sklearn import neighbors\n",
    "from sklearn.svm import SVR"
   ]
  },
  {
   "cell_type": "code",
   "execution_count": 2,
   "metadata": {},
   "outputs": [],
   "source": [
    "from warnings import filterwarnings\n",
    "filterwarnings('ignore')"
   ]
  },
  {
   "cell_type": "markdown",
   "metadata": {},
   "source": [
    "# KNN"
   ]
  },
  {
   "cell_type": "code",
   "execution_count": 3,
   "metadata": {},
   "outputs": [],
   "source": [
    "#Gözlemlerin birbirine olan benzerlikleri üzerinden tahmin yapılır\n",
    "#k seç, uzaklık, k gözlemini seç, "
   ]
  },
  {
   "cell_type": "code",
   "execution_count": 4,
   "metadata": {},
   "outputs": [],
   "source": [
    "df = pd.read_csv(\"Hitters.csv\")\n",
    "df = df.dropna()\n",
    "dms = pd.get_dummies(df[['League', 'Division', 'NewLeague']])\n",
    "y = df[\"Salary\"]\n",
    "X_ = df.drop(['Salary', 'League', 'Division', 'NewLeague'], axis=1).astype('float64')\n",
    "X = pd.concat([X_, dms[['League_N', 'Division_W', 'NewLeague_N']]], axis=1)\n",
    "X_train, X_test, y_train, y_test = train_test_split(X, y, test_size=0.25, random_state=42)"
   ]
  },
  {
   "cell_type": "code",
   "execution_count": 5,
   "metadata": {},
   "outputs": [
    {
     "data": {
      "text/html": [
       "<div>\n",
       "<style scoped>\n",
       "    .dataframe tbody tr th:only-of-type {\n",
       "        vertical-align: middle;\n",
       "    }\n",
       "\n",
       "    .dataframe tbody tr th {\n",
       "        vertical-align: top;\n",
       "    }\n",
       "\n",
       "    .dataframe thead th {\n",
       "        text-align: right;\n",
       "    }\n",
       "</style>\n",
       "<table border=\"1\" class=\"dataframe\">\n",
       "  <thead>\n",
       "    <tr style=\"text-align: right;\">\n",
       "      <th></th>\n",
       "      <th>AtBat</th>\n",
       "      <th>Hits</th>\n",
       "      <th>HmRun</th>\n",
       "      <th>Runs</th>\n",
       "      <th>RBI</th>\n",
       "      <th>Walks</th>\n",
       "      <th>Years</th>\n",
       "      <th>CAtBat</th>\n",
       "      <th>CHits</th>\n",
       "      <th>CHmRun</th>\n",
       "      <th>CRuns</th>\n",
       "      <th>CRBI</th>\n",
       "      <th>CWalks</th>\n",
       "      <th>PutOuts</th>\n",
       "      <th>Assists</th>\n",
       "      <th>Errors</th>\n",
       "      <th>League_N</th>\n",
       "      <th>Division_W</th>\n",
       "      <th>NewLeague_N</th>\n",
       "    </tr>\n",
       "  </thead>\n",
       "  <tbody>\n",
       "    <tr>\n",
       "      <th>183</th>\n",
       "      <td>328.0</td>\n",
       "      <td>91.0</td>\n",
       "      <td>12.0</td>\n",
       "      <td>51.0</td>\n",
       "      <td>43.0</td>\n",
       "      <td>33.0</td>\n",
       "      <td>2.0</td>\n",
       "      <td>342.0</td>\n",
       "      <td>94.0</td>\n",
       "      <td>12.0</td>\n",
       "      <td>51.0</td>\n",
       "      <td>44.0</td>\n",
       "      <td>33.0</td>\n",
       "      <td>145.0</td>\n",
       "      <td>59.0</td>\n",
       "      <td>8.0</td>\n",
       "      <td>1</td>\n",
       "      <td>0</td>\n",
       "      <td>1</td>\n",
       "    </tr>\n",
       "    <tr>\n",
       "      <th>229</th>\n",
       "      <td>514.0</td>\n",
       "      <td>144.0</td>\n",
       "      <td>0.0</td>\n",
       "      <td>67.0</td>\n",
       "      <td>54.0</td>\n",
       "      <td>79.0</td>\n",
       "      <td>9.0</td>\n",
       "      <td>4739.0</td>\n",
       "      <td>1169.0</td>\n",
       "      <td>13.0</td>\n",
       "      <td>583.0</td>\n",
       "      <td>374.0</td>\n",
       "      <td>528.0</td>\n",
       "      <td>229.0</td>\n",
       "      <td>453.0</td>\n",
       "      <td>15.0</td>\n",
       "      <td>1</td>\n",
       "      <td>0</td>\n",
       "      <td>1</td>\n",
       "    </tr>\n",
       "    <tr>\n",
       "      <th>286</th>\n",
       "      <td>593.0</td>\n",
       "      <td>152.0</td>\n",
       "      <td>23.0</td>\n",
       "      <td>69.0</td>\n",
       "      <td>75.0</td>\n",
       "      <td>53.0</td>\n",
       "      <td>6.0</td>\n",
       "      <td>2765.0</td>\n",
       "      <td>686.0</td>\n",
       "      <td>133.0</td>\n",
       "      <td>369.0</td>\n",
       "      <td>384.0</td>\n",
       "      <td>321.0</td>\n",
       "      <td>315.0</td>\n",
       "      <td>10.0</td>\n",
       "      <td>6.0</td>\n",
       "      <td>0</td>\n",
       "      <td>1</td>\n",
       "      <td>0</td>\n",
       "    </tr>\n",
       "    <tr>\n",
       "      <th>102</th>\n",
       "      <td>233.0</td>\n",
       "      <td>49.0</td>\n",
       "      <td>2.0</td>\n",
       "      <td>41.0</td>\n",
       "      <td>23.0</td>\n",
       "      <td>18.0</td>\n",
       "      <td>8.0</td>\n",
       "      <td>1350.0</td>\n",
       "      <td>336.0</td>\n",
       "      <td>7.0</td>\n",
       "      <td>166.0</td>\n",
       "      <td>122.0</td>\n",
       "      <td>106.0</td>\n",
       "      <td>102.0</td>\n",
       "      <td>132.0</td>\n",
       "      <td>10.0</td>\n",
       "      <td>0</td>\n",
       "      <td>0</td>\n",
       "      <td>0</td>\n",
       "    </tr>\n",
       "    <tr>\n",
       "      <th>153</th>\n",
       "      <td>341.0</td>\n",
       "      <td>95.0</td>\n",
       "      <td>6.0</td>\n",
       "      <td>48.0</td>\n",
       "      <td>42.0</td>\n",
       "      <td>20.0</td>\n",
       "      <td>10.0</td>\n",
       "      <td>2964.0</td>\n",
       "      <td>808.0</td>\n",
       "      <td>81.0</td>\n",
       "      <td>379.0</td>\n",
       "      <td>428.0</td>\n",
       "      <td>221.0</td>\n",
       "      <td>158.0</td>\n",
       "      <td>4.0</td>\n",
       "      <td>5.0</td>\n",
       "      <td>1</td>\n",
       "      <td>1</td>\n",
       "      <td>1</td>\n",
       "    </tr>\n",
       "  </tbody>\n",
       "</table>\n",
       "</div>"
      ],
      "text/plain": [
       "     AtBat   Hits  HmRun  Runs   RBI  Walks  Years  CAtBat   CHits  CHmRun  \\\n",
       "183  328.0   91.0   12.0  51.0  43.0   33.0    2.0   342.0    94.0    12.0   \n",
       "229  514.0  144.0    0.0  67.0  54.0   79.0    9.0  4739.0  1169.0    13.0   \n",
       "286  593.0  152.0   23.0  69.0  75.0   53.0    6.0  2765.0   686.0   133.0   \n",
       "102  233.0   49.0    2.0  41.0  23.0   18.0    8.0  1350.0   336.0     7.0   \n",
       "153  341.0   95.0    6.0  48.0  42.0   20.0   10.0  2964.0   808.0    81.0   \n",
       "\n",
       "     CRuns   CRBI  CWalks  PutOuts  Assists  Errors  League_N  Division_W  \\\n",
       "183   51.0   44.0    33.0    145.0     59.0     8.0         1           0   \n",
       "229  583.0  374.0   528.0    229.0    453.0    15.0         1           0   \n",
       "286  369.0  384.0   321.0    315.0     10.0     6.0         0           1   \n",
       "102  166.0  122.0   106.0    102.0    132.0    10.0         0           0   \n",
       "153  379.0  428.0   221.0    158.0      4.0     5.0         1           1   \n",
       "\n",
       "     NewLeague_N  \n",
       "183            1  \n",
       "229            1  \n",
       "286            0  \n",
       "102            0  \n",
       "153            1  "
      ]
     },
     "execution_count": 5,
     "metadata": {},
     "output_type": "execute_result"
    }
   ],
   "source": [
    "X_train.head()"
   ]
  },
  {
   "cell_type": "markdown",
   "metadata": {},
   "source": [
    "## Model & Tahmin"
   ]
  },
  {
   "cell_type": "code",
   "execution_count": 6,
   "metadata": {},
   "outputs": [],
   "source": [
    "knn_model = KNeighborsRegressor().fit(X_train, y_train)"
   ]
  },
  {
   "cell_type": "code",
   "execution_count": 7,
   "metadata": {},
   "outputs": [
    {
     "data": {
      "text/plain": [
       "KNeighborsRegressor()"
      ]
     },
     "execution_count": 7,
     "metadata": {},
     "output_type": "execute_result"
    }
   ],
   "source": [
    "knn_model"
   ]
  },
  {
   "cell_type": "code",
   "execution_count": 8,
   "metadata": {},
   "outputs": [
    {
     "data": {
      "text/plain": [
       "5"
      ]
     },
     "execution_count": 8,
     "metadata": {},
     "output_type": "execute_result"
    }
   ],
   "source": [
    "knn_model.n_neighbors"
   ]
  },
  {
   "cell_type": "code",
   "execution_count": 9,
   "metadata": {},
   "outputs": [
    {
     "data": {
      "text/plain": [
       "'minkowski'"
      ]
     },
     "execution_count": 9,
     "metadata": {},
     "output_type": "execute_result"
    }
   ],
   "source": [
    "knn_model.metric"
   ]
  },
  {
   "cell_type": "code",
   "execution_count": 10,
   "metadata": {
    "jupyter": {
     "outputs_hidden": true
    }
   },
   "outputs": [
    {
     "data": {
      "text/plain": [
       "['__abstractmethods__',\n",
       " '__class__',\n",
       " '__delattr__',\n",
       " '__dict__',\n",
       " '__dir__',\n",
       " '__doc__',\n",
       " '__eq__',\n",
       " '__format__',\n",
       " '__ge__',\n",
       " '__getattribute__',\n",
       " '__getstate__',\n",
       " '__gt__',\n",
       " '__hash__',\n",
       " '__init__',\n",
       " '__init_subclass__',\n",
       " '__le__',\n",
       " '__lt__',\n",
       " '__module__',\n",
       " '__ne__',\n",
       " '__new__',\n",
       " '__reduce__',\n",
       " '__reduce_ex__',\n",
       " '__repr__',\n",
       " '__setattr__',\n",
       " '__setstate__',\n",
       " '__sizeof__',\n",
       " '__str__',\n",
       " '__subclasshook__',\n",
       " '__weakref__',\n",
       " '_abc_impl',\n",
       " '_check_algorithm_metric',\n",
       " '_check_n_features',\n",
       " '_estimator_type',\n",
       " '_fit',\n",
       " '_fit_X',\n",
       " '_fit_method',\n",
       " '_get_param_names',\n",
       " '_get_tags',\n",
       " '_kneighbors_reduce_func',\n",
       " '_more_tags',\n",
       " '_pairwise',\n",
       " '_repr_html_',\n",
       " '_repr_html_inner',\n",
       " '_repr_mimebundle_',\n",
       " '_tree',\n",
       " '_validate_data',\n",
       " '_y',\n",
       " 'algorithm',\n",
       " 'effective_metric_',\n",
       " 'effective_metric_params_',\n",
       " 'fit',\n",
       " 'get_params',\n",
       " 'kneighbors',\n",
       " 'kneighbors_graph',\n",
       " 'leaf_size',\n",
       " 'metric',\n",
       " 'metric_params',\n",
       " 'n_features_in_',\n",
       " 'n_jobs',\n",
       " 'n_neighbors',\n",
       " 'n_samples_fit_',\n",
       " 'p',\n",
       " 'predict',\n",
       " 'radius',\n",
       " 'score',\n",
       " 'set_params',\n",
       " 'weights']"
      ]
     },
     "execution_count": 10,
     "metadata": {},
     "output_type": "execute_result"
    }
   ],
   "source": [
    "dir(knn_model)"
   ]
  },
  {
   "cell_type": "code",
   "execution_count": 11,
   "metadata": {},
   "outputs": [
    {
     "data": {
      "text/plain": [
       "array([ 510.3334,  808.3334,  772.5   ,  125.5   , 1005.    ])"
      ]
     },
     "execution_count": 11,
     "metadata": {},
     "output_type": "execute_result"
    }
   ],
   "source": [
    "knn_model.predict(X_test)[0:5]"
   ]
  },
  {
   "cell_type": "code",
   "execution_count": 12,
   "metadata": {},
   "outputs": [],
   "source": [
    "y_pred = knn_model.predict(X_test)"
   ]
  },
  {
   "cell_type": "code",
   "execution_count": 13,
   "metadata": {},
   "outputs": [
    {
     "data": {
      "text/plain": [
       "426.6570764525201"
      ]
     },
     "execution_count": 13,
     "metadata": {},
     "output_type": "execute_result"
    }
   ],
   "source": [
    "np.sqrt(mean_squared_error(y_test, y_pred))"
   ]
  },
  {
   "cell_type": "code",
   "execution_count": 14,
   "metadata": {},
   "outputs": [
    {
     "data": {
      "text/plain": [
       "KNeighborsRegressor()"
      ]
     },
     "execution_count": 14,
     "metadata": {},
     "output_type": "execute_result"
    }
   ],
   "source": [
    "knn_model"
   ]
  },
  {
   "cell_type": "code",
   "execution_count": 15,
   "metadata": {},
   "outputs": [
    {
     "data": {
      "text/plain": [
       "range(0, 10)"
      ]
     },
     "execution_count": 15,
     "metadata": {},
     "output_type": "execute_result"
    }
   ],
   "source": [
    "range(10)"
   ]
  },
  {
   "cell_type": "code",
   "execution_count": 16,
   "metadata": {},
   "outputs": [
    {
     "name": "stdout",
     "output_type": "stream",
     "text": [
      "k= 1 için RMSE değeri: 455.03925390751965\n",
      "k= 2 için RMSE değeri: 415.99629571490965\n",
      "k= 3 için RMSE değeri: 420.6765370082348\n",
      "k= 4 için RMSE değeri: 428.8564674588792\n",
      "k= 5 için RMSE değeri: 426.6570764525201\n",
      "k= 6 için RMSE değeri: 423.5071669008732\n",
      "k= 7 için RMSE değeri: 414.9361222421057\n",
      "k= 8 için RMSE değeri: 413.7094731463598\n",
      "k= 9 için RMSE değeri: 417.84419990871265\n",
      "k= 10 için RMSE değeri: 421.6252180741266\n"
     ]
    }
   ],
   "source": [
    "RMSE = []\n",
    "\n",
    "for k in range(10):\n",
    "    k = k+1\n",
    "    knn_model = KNeighborsRegressor(n_neighbors = k).fit(X_train, y_train)\n",
    "    y_pred = knn_model.predict(X_test)\n",
    "    rmse = np.sqrt(mean_squared_error(y_test, y_pred))\n",
    "    RMSE.append(rmse)\n",
    "    print(\"k=\", k, \"için RMSE değeri:\", rmse)\n"
   ]
  },
  {
   "cell_type": "code",
   "execution_count": null,
   "metadata": {},
   "outputs": [],
   "source": [
    "#GridSearchCV"
   ]
  },
  {
   "cell_type": "code",
   "execution_count": 20,
   "metadata": {},
   "outputs": [],
   "source": [
    "knn_params = {\"n_neighbors\": np.arange(1,50,1)}"
   ]
  },
  {
   "cell_type": "code",
   "execution_count": 21,
   "metadata": {},
   "outputs": [],
   "source": [
    "knn = KNeighborsRegressor()"
   ]
  },
  {
   "cell_type": "code",
   "execution_count": 22,
   "metadata": {},
   "outputs": [],
   "source": [
    "knn_cv_model = GridSearchCV(knn, knn_params, cv = 10).fit(X_train, y_train)"
   ]
  },
  {
   "cell_type": "code",
   "execution_count": 23,
   "metadata": {},
   "outputs": [
    {
     "data": {
      "text/plain": [
       "{'n_neighbors': 8}"
      ]
     },
     "execution_count": 23,
     "metadata": {},
     "output_type": "execute_result"
    }
   ],
   "source": [
    "knn_cv_model.best_params_"
   ]
  },
  {
   "cell_type": "code",
   "execution_count": 24,
   "metadata": {},
   "outputs": [],
   "source": [
    "#final model\n",
    "knn_tuned = KNeighborsRegressor(n_neighbors = knn_cv_model.best_params_[\"n_neighbors\"]).fit(X_train, y_train)"
   ]
  },
  {
   "cell_type": "code",
   "execution_count": 25,
   "metadata": {},
   "outputs": [],
   "source": [
    "y_pred = knn_tuned.predict(X_test)"
   ]
  },
  {
   "cell_type": "code",
   "execution_count": 26,
   "metadata": {},
   "outputs": [
    {
     "data": {
      "text/plain": [
       "413.7094731463598"
      ]
     },
     "execution_count": 26,
     "metadata": {},
     "output_type": "execute_result"
    }
   ],
   "source": [
    "np.sqrt(mean_squared_error(y_test, y_pred))"
   ]
  },
  {
   "cell_type": "markdown",
   "metadata": {},
   "source": [
    "# Destek Vektör Regresyonu (Support Vector Regression)"
   ]
  },
  {
   "cell_type": "markdown",
   "metadata": {},
   "source": [
    "Güçlü ve esnek tekniklerinden birisidir. Robust regression tekniğidir. Aykırı gözlemlere karşı dayanıklıdır.\n",
    "\n",
    "Destek vektör regresyonu epsilon komşuluğu bırakır.\n",
    "ksi değerleri aykırı gözlemleri. C kontrol parametresi vardır.\n",
    "\n"
   ]
  },
  {
   "cell_type": "code",
   "execution_count": 27,
   "metadata": {},
   "outputs": [],
   "source": [
    "df = pd.read_csv(\"Hitters.csv\")\n",
    "df = df.dropna()\n",
    "dms = pd.get_dummies(df[['League', 'Division', 'NewLeague']])\n",
    "y = df[\"Salary\"]\n",
    "X_ = df.drop(['Salary', 'League', 'Division', 'NewLeague'], axis=1).astype('float64')\n",
    "X = pd.concat([X_, dms[['League_N', 'Division_W', 'NewLeague_N']]], axis=1)\n",
    "X_train, X_test, y_train, y_test = train_test_split(X, y, test_size=0.25, random_state=42)"
   ]
  },
  {
   "cell_type": "markdown",
   "metadata": {},
   "source": [
    "## Model & Tahmin"
   ]
  },
  {
   "cell_type": "code",
   "execution_count": 28,
   "metadata": {},
   "outputs": [],
   "source": [
    "svr_model = SVR(\"linear\").fit(X_train, y_train)"
   ]
  },
  {
   "cell_type": "code",
   "execution_count": 45,
   "metadata": {},
   "outputs": [
    {
     "data": {
      "text/plain": [
       "SVR(C=1.0, cache_size=200, coef0=0.0, degree=3, epsilon=0.1,\n",
       "    gamma='auto_deprecated', kernel='linear', max_iter=-1, shrinking=True,\n",
       "    tol=0.001, verbose=False)"
      ]
     },
     "execution_count": 45,
     "metadata": {},
     "output_type": "execute_result"
    }
   ],
   "source": [
    "svr_model"
   ]
  },
  {
   "cell_type": "code",
   "execution_count": 29,
   "metadata": {},
   "outputs": [
    {
     "data": {
      "text/plain": [
       "array([219.32622169, 702.4303869 , 623.2055964 , 153.77538476,\n",
       "       463.15190834])"
      ]
     },
     "execution_count": 29,
     "metadata": {},
     "output_type": "execute_result"
    }
   ],
   "source": [
    "svr_model.predict(X_train)[0:5]"
   ]
  },
  {
   "cell_type": "code",
   "execution_count": 30,
   "metadata": {},
   "outputs": [
    {
     "data": {
      "text/plain": [
       "array([679.14754685, 633.72883069, 925.68640849, 270.28463621,\n",
       "       530.26659184])"
      ]
     },
     "execution_count": 30,
     "metadata": {},
     "output_type": "execute_result"
    }
   ],
   "source": [
    "svr_model.predict(X_test)[0:5]"
   ]
  },
  {
   "cell_type": "code",
   "execution_count": 31,
   "metadata": {},
   "outputs": [
    {
     "data": {
      "text/plain": [
       "array([-80.15196151])"
      ]
     },
     "execution_count": 31,
     "metadata": {},
     "output_type": "execute_result"
    }
   ],
   "source": [
    "svr_model.intercept_"
   ]
  },
  {
   "cell_type": "code",
   "execution_count": 32,
   "metadata": {},
   "outputs": [
    {
     "data": {
      "text/plain": [
       "array([[ -1.21839037,   6.09602969,  -3.67574533,   0.14217075,\n",
       "          0.51435919,   1.28388986,  12.55922537,  -0.08693755,\n",
       "          0.46597184,   2.98259944,   0.52944523,  -0.79820799,\n",
       "         -0.16015534,   0.30872794,   0.28842348,  -1.79560067,\n",
       "          6.41868985, -10.74313783,   1.33374317]])"
      ]
     },
     "execution_count": 32,
     "metadata": {},
     "output_type": "execute_result"
    }
   ],
   "source": [
    "svr_model.coef_"
   ]
  },
  {
   "cell_type": "code",
   "execution_count": 33,
   "metadata": {},
   "outputs": [
    {
     "data": {
      "text/plain": [
       "370.04084185624924"
      ]
     },
     "execution_count": 33,
     "metadata": {},
     "output_type": "execute_result"
    }
   ],
   "source": [
    "#test\n",
    "y_pred = svr_model.predict(X_test)\n",
    "np.sqrt(mean_squared_error(y_test,y_pred))"
   ]
  },
  {
   "cell_type": "markdown",
   "metadata": {},
   "source": [
    "## Model Tuning"
   ]
  },
  {
   "cell_type": "code",
   "execution_count": 34,
   "metadata": {},
   "outputs": [],
   "source": [
    "svr_model = SVR(\"linear\") "
   ]
  },
  {
   "cell_type": "code",
   "execution_count": 85,
   "metadata": {},
   "outputs": [
    {
     "data": {
      "text/plain": [
       "SVR(C=1.0, cache_size=200, coef0=0.0, degree=3, epsilon=0.1,\n",
       "    gamma='auto_deprecated', kernel='linear', max_iter=-1, shrinking=True,\n",
       "    tol=0.001, verbose=False)"
      ]
     },
     "execution_count": 85,
     "metadata": {},
     "output_type": "execute_result"
    }
   ],
   "source": [
    "svr_model"
   ]
  },
  {
   "cell_type": "code",
   "execution_count": 35,
   "metadata": {},
   "outputs": [],
   "source": [
    "svr_params = {\"C\": [0.1,0.5,1,3]}"
   ]
  },
  {
   "cell_type": "code",
   "execution_count": 37,
   "metadata": {},
   "outputs": [],
   "source": [
    "svr_cv_model = GridSearchCV(svr_model, svr_params, cv = 5).fit(X_train, y_train)"
   ]
  },
  {
   "cell_type": "code",
   "execution_count": 38,
   "metadata": {},
   "outputs": [
    {
     "data": {
      "text/plain": [
       "{'C': 0.5}"
      ]
     },
     "execution_count": 38,
     "metadata": {},
     "output_type": "execute_result"
    }
   ],
   "source": [
    "svr_cv_model.best_params_"
   ]
  },
  {
   "cell_type": "code",
   "execution_count": 39,
   "metadata": {},
   "outputs": [
    {
     "name": "stdout",
     "output_type": "stream",
     "text": [
      "Fitting 5 folds for each of 4 candidates, totalling 20 fits\n"
     ]
    },
    {
     "name": "stderr",
     "output_type": "stream",
     "text": [
      "[Parallel(n_jobs=-1)]: Using backend LokyBackend with 4 concurrent workers.\n",
      "[Parallel(n_jobs=-1)]: Done  20 out of  20 | elapsed:  1.2min finished\n"
     ]
    }
   ],
   "source": [
    "svr_cv_model = GridSearchCV(svr_model, svr_params, cv = 5, verbose = 2, n_jobs = -1).fit(X_train, y_train)"
   ]
  },
  {
   "cell_type": "code",
   "execution_count": 40,
   "metadata": {},
   "outputs": [
    {
     "data": {
      "text/plain": [
       "{'C': 0.5}"
      ]
     },
     "execution_count": 40,
     "metadata": {},
     "output_type": "execute_result"
    }
   ],
   "source": [
    "svr_cv_model.best_params_"
   ]
  },
  {
   "cell_type": "code",
   "execution_count": 41,
   "metadata": {},
   "outputs": [],
   "source": [
    "svr_tuned = SVR(\"linear\", C = 0.5).fit(X_train, y_train)"
   ]
  },
  {
   "cell_type": "code",
   "execution_count": 42,
   "metadata": {},
   "outputs": [],
   "source": [
    "y_pred = svr_tuned.predict(X_test)"
   ]
  },
  {
   "cell_type": "code",
   "execution_count": 43,
   "metadata": {},
   "outputs": [
    {
     "data": {
      "text/plain": [
       "367.9874739022889"
      ]
     },
     "execution_count": 43,
     "metadata": {},
     "output_type": "execute_result"
    }
   ],
   "source": [
    "np.sqrt(mean_squared_error(y_test, y_pred))"
   ]
  },
  {
   "cell_type": "markdown",
   "metadata": {},
   "source": [
    "# Yapay Sinir Ağları"
   ]
  },
  {
   "cell_type": "code",
   "execution_count": 44,
   "metadata": {},
   "outputs": [],
   "source": [
    "df = pd.read_csv(\"Hitters.csv\")\n",
    "df = df.dropna()\n",
    "dms = pd.get_dummies(df[['League', 'Division', 'NewLeague']])\n",
    "y = df[\"Salary\"]\n",
    "X_ = df.drop(['Salary', 'League', 'Division', 'NewLeague'], axis=1).astype('float64')\n",
    "X = pd.concat([X_, dms[['League_N', 'Division_W', 'NewLeague_N']]], axis=1)\n",
    "X_train, X_test, y_train, y_test = train_test_split(X, y, test_size=0.25, random_state=42)"
   ]
  },
  {
   "cell_type": "markdown",
   "metadata": {},
   "source": [
    "## Model & Tahmin"
   ]
  },
  {
   "cell_type": "code",
   "execution_count": 45,
   "metadata": {},
   "outputs": [],
   "source": [
    "scaler = StandardScaler()"
   ]
  },
  {
   "cell_type": "code",
   "execution_count": 46,
   "metadata": {},
   "outputs": [],
   "source": [
    "scaler.fit(X_train)\n",
    "X_train_scaled = scaler.transform(X_train)"
   ]
  },
  {
   "cell_type": "code",
   "execution_count": 47,
   "metadata": {},
   "outputs": [],
   "source": [
    "scaler.fit(X_test)\n",
    "X_test_scaled = scaler.transform(X_test)"
   ]
  },
  {
   "cell_type": "code",
   "execution_count": 48,
   "metadata": {},
   "outputs": [],
   "source": [
    "mlp_model = MLPRegressor().fit(X_train_scaled, y_train)"
   ]
  },
  {
   "cell_type": "code",
   "execution_count": 194,
   "metadata": {},
   "outputs": [
    {
     "data": {
      "text/plain": [
       "MLPRegressor(activation='relu', alpha=0.0001, batch_size='auto', beta_1=0.9,\n",
       "             beta_2=0.999, early_stopping=False, epsilon=1e-08,\n",
       "             hidden_layer_sizes=(100,), learning_rate='constant',\n",
       "             learning_rate_init=0.001, max_iter=200, momentum=0.9,\n",
       "             n_iter_no_change=10, nesterovs_momentum=True, power_t=0.5,\n",
       "             random_state=None, shuffle=True, solver='adam', tol=0.0001,\n",
       "             validation_fraction=0.1, verbose=False, warm_start=False)"
      ]
     },
     "execution_count": 194,
     "metadata": {},
     "output_type": "execute_result"
    }
   ],
   "source": [
    "mlp_model"
   ]
  },
  {
   "cell_type": "code",
   "execution_count": 49,
   "metadata": {},
   "outputs": [
    {
     "data": {
      "text/plain": [
       "array([20.54501974, 36.46932929, 70.00799807, 17.45045836, 22.6196656 ])"
      ]
     },
     "execution_count": 49,
     "metadata": {},
     "output_type": "execute_result"
    }
   ],
   "source": [
    "mlp_model.predict(X_test_scaled)[0:5]"
   ]
  },
  {
   "cell_type": "code",
   "execution_count": 50,
   "metadata": {},
   "outputs": [
    {
     "data": {
      "text/plain": [
       "660.9394487604229"
      ]
     },
     "execution_count": 50,
     "metadata": {},
     "output_type": "execute_result"
    }
   ],
   "source": [
    "y_pred = mlp_model.predict(X_test_scaled)\n",
    "np.sqrt(mean_squared_error(y_test, y_pred))"
   ]
  },
  {
   "cell_type": "markdown",
   "metadata": {},
   "source": [
    "## Model Tuning"
   ]
  },
  {
   "cell_type": "code",
   "execution_count": 199,
   "metadata": {},
   "outputs": [
    {
     "data": {
      "text/plain": [
       "MLPRegressor(activation='relu', alpha=0.0001, batch_size='auto', beta_1=0.9,\n",
       "             beta_2=0.999, early_stopping=False, epsilon=1e-08,\n",
       "             hidden_layer_sizes=(100,), learning_rate='constant',\n",
       "             learning_rate_init=0.001, max_iter=200, momentum=0.9,\n",
       "             n_iter_no_change=10, nesterovs_momentum=True, power_t=0.5,\n",
       "             random_state=None, shuffle=True, solver='adam', tol=0.0001,\n",
       "             validation_fraction=0.1, verbose=False, warm_start=False)"
      ]
     },
     "execution_count": 199,
     "metadata": {},
     "output_type": "execute_result"
    }
   ],
   "source": [
    "mlp_model"
   ]
  },
  {
   "cell_type": "code",
   "execution_count": 51,
   "metadata": {},
   "outputs": [],
   "source": [
    "mlp_params = {\"alpha\": [0.1, 0.01, 0.02, 0.001, 0.0001], \n",
    "             \"hidden_layer_sizes\": [(10,20), (5,5), (100,100)]}\n",
    "#2 katman 10 nöron ve 20 nöron gibi"
   ]
  },
  {
   "cell_type": "code",
   "execution_count": 52,
   "metadata": {},
   "outputs": [
    {
     "name": "stdout",
     "output_type": "stream",
     "text": [
      "Fitting 10 folds for each of 15 candidates, totalling 150 fits\n"
     ]
    },
    {
     "name": "stderr",
     "output_type": "stream",
     "text": [
      "[Parallel(n_jobs=-1)]: Using backend LokyBackend with 4 concurrent workers.\n",
      "[Parallel(n_jobs=-1)]: Done  33 tasks      | elapsed:    6.0s\n",
      "[Parallel(n_jobs=-1)]: Done 150 out of 150 | elapsed:   21.8s finished\n"
     ]
    }
   ],
   "source": [
    "mlp_cv_model = GridSearchCV(mlp_model, mlp_params, cv = 10, verbose = 2, n_jobs = -1).fit(X_train_scaled, y_train)"
   ]
  },
  {
   "cell_type": "code",
   "execution_count": 53,
   "metadata": {},
   "outputs": [
    {
     "data": {
      "text/plain": [
       "{'alpha': 0.001, 'hidden_layer_sizes': (100, 100)}"
      ]
     },
     "execution_count": 53,
     "metadata": {},
     "output_type": "execute_result"
    }
   ],
   "source": [
    "mlp_cv_model.best_params_"
   ]
  },
  {
   "cell_type": "code",
   "execution_count": 54,
   "metadata": {},
   "outputs": [],
   "source": [
    "#final\n",
    "mlp_tuned = MLPRegressor(alpha = 0.001, hidden_layer_sizes = (100,100)).fit(X_train_scaled, y_train)"
   ]
  },
  {
   "cell_type": "code",
   "execution_count": 55,
   "metadata": {},
   "outputs": [],
   "source": [
    "y_pred = mlp_tuned.predict(X_test_scaled)"
   ]
  },
  {
   "cell_type": "code",
   "execution_count": 56,
   "metadata": {},
   "outputs": [
    {
     "data": {
      "text/plain": [
       "359.8267828549102"
      ]
     },
     "execution_count": 56,
     "metadata": {},
     "output_type": "execute_result"
    }
   ],
   "source": [
    "np.sqrt(mean_squared_error(y_test, y_pred))"
   ]
  },
  {
   "cell_type": "markdown",
   "metadata": {},
   "source": [
    "# CART (Classification and Regression Tree)"
   ]
  },
  {
   "cell_type": "code",
   "execution_count": 19,
   "metadata": {},
   "outputs": [],
   "source": [
    "#Veri içersiindeki karmaşık yapıları basit karar yapılarına dönüştürür.\n",
    "#Overfite eğilimli, büyük verisetlerinde güzel sonuç vermezler.\n",
    "#sonuç, alana karşılık gelen verilerin ortalamasıdır.\n",
    "#değişkenleri yukarıdan aşağı düşündüğümüzde önem sırasına göre sıralanır.\n",
    "#dallanma işlemleri saflık ölçüsü ile gerçekleşir."
   ]
  },
  {
   "cell_type": "code",
   "execution_count": 20,
   "metadata": {},
   "outputs": [],
   "source": [
    "df = pd.read_csv(\"Hitters.csv\")\n",
    "df = df.dropna()\n",
    "dms = pd.get_dummies(df[['League', 'Division', 'NewLeague']])\n",
    "y = df[\"Salary\"]\n",
    "X_ = df.drop(['Salary', 'League', 'Division', 'NewLeague'], axis=1).astype('float64')\n",
    "X = pd.concat([X_, dms[['League_N', 'Division_W', 'NewLeague_N']]], axis=1)\n",
    "X_train, X_test, y_train, y_test = train_test_split(X, \n",
    "                                                    y, \n",
    "                                                    test_size=0.25, \n",
    "                                                    random_state=42)"
   ]
  },
  {
   "cell_type": "code",
   "execution_count": 21,
   "metadata": {},
   "outputs": [],
   "source": [
    "X_train = pd.DataFrame(X_train[\"Hits\"])\n",
    "X_test = pd.DataFrame(X_test[\"Hits\"])"
   ]
  },
  {
   "cell_type": "markdown",
   "metadata": {},
   "source": [
    "## Model & Tahmin"
   ]
  },
  {
   "cell_type": "code",
   "execution_count": 22,
   "metadata": {},
   "outputs": [],
   "source": [
    "cart_model = DecisionTreeRegressor(max_leaf_nodes = 10)"
   ]
  },
  {
   "cell_type": "code",
   "execution_count": 23,
   "metadata": {},
   "outputs": [
    {
     "data": {
      "text/plain": [
       "DecisionTreeRegressor(max_leaf_nodes=10)"
      ]
     },
     "execution_count": 23,
     "metadata": {},
     "output_type": "execute_result"
    }
   ],
   "source": [
    "cart_model.fit(X_train, y_train)"
   ]
  },
  {
   "cell_type": "code",
   "execution_count": 24,
   "metadata": {},
   "outputs": [
    {
     "data": {
      "image/png": "[encoded data removed]",
      "text/plain": [
       "<Figure size 432x288 with 1 Axes>"
      ]
     },
     "metadata": {
      "needs_background": "light"
     },
     "output_type": "display_data"
    }
   ],
   "source": [
    "X_grid = np.arange(min(np.array(X_train)),max(np.array(X_train)), 0.01) \n",
    "X_grid = X_grid.reshape((len(X_grid), 1))  \n",
    "  \n",
    "plt.scatter(X_train, y_train, color = 'red') \n",
    "  \n",
    "plt.plot(X_grid, cart_model.predict(X_grid), color = 'blue')  \n",
    "\n",
    "plt.title('CART REGRESYON AĞACI')  \n",
    "plt.xlabel('Atış Sayısı(Hits)') \n",
    "plt.ylabel('Maaş (Salary)') ;"
   ]
  },
  {
   "cell_type": "code",
   "execution_count": 25,
   "metadata": {},
   "outputs": [],
   "source": [
    "#tek degiskenli tahmin"
   ]
  },
  {
   "cell_type": "code",
   "execution_count": 26,
   "metadata": {},
   "outputs": [
    {
     "data": {
      "text/plain": [
       "array([621.96792308, 958.61111111, 621.96792308, 345.20115517,\n",
       "       345.20115517])"
      ]
     },
     "execution_count": 26,
     "metadata": {},
     "output_type": "execute_result"
    }
   ],
   "source": [
    "cart_model.predict(X_test)[0:5]"
   ]
  },
  {
   "cell_type": "code",
   "execution_count": 27,
   "metadata": {},
   "outputs": [
    {
     "data": {
      "text/plain": [
       "486.34593105235456"
      ]
     },
     "execution_count": 27,
     "metadata": {},
     "output_type": "execute_result"
    }
   ],
   "source": [
    "y_pred = cart_model.predict(X_test)\n",
    "np.sqrt(mean_squared_error(y_test, y_pred))"
   ]
  },
  {
   "cell_type": "code",
   "execution_count": 28,
   "metadata": {},
   "outputs": [],
   "source": [
    "#tum degiskenler"
   ]
  },
  {
   "cell_type": "code",
   "execution_count": 29,
   "metadata": {},
   "outputs": [],
   "source": [
    "df = pd.read_csv(\"Hitters.csv\")\n",
    "df = df.dropna()\n",
    "dms = pd.get_dummies(df[['League', 'Division', 'NewLeague']])\n",
    "y = df[\"Salary\"]\n",
    "X_ = df.drop(['Salary', 'League', 'Division', 'NewLeague'], axis=1).astype('float64')\n",
    "X = pd.concat([X_, dms[['League_N', 'Division_W', 'NewLeague_N']]], axis=1)\n",
    "X_train, X_test, y_train, y_test = train_test_split(X, \n",
    "                                                    y, \n",
    "                                                    test_size=0.25, \n",
    "                                                    random_state=42)"
   ]
  },
  {
   "cell_type": "code",
   "execution_count": 30,
   "metadata": {},
   "outputs": [],
   "source": [
    "cart_model = DecisionTreeRegressor().fit(X_train, y_train)"
   ]
  },
  {
   "cell_type": "code",
   "execution_count": 31,
   "metadata": {},
   "outputs": [
    {
     "data": {
      "text/plain": [
       "479.9721740557025"
      ]
     },
     "execution_count": 31,
     "metadata": {},
     "output_type": "execute_result"
    }
   ],
   "source": [
    "y_pred = cart_model.predict(X_test)\n",
    "np.sqrt(mean_squared_error(y_test, y_pred))"
   ]
  },
  {
   "cell_type": "markdown",
   "metadata": {},
   "source": [
    "## Model Tuning"
   ]
  },
  {
   "cell_type": "code",
   "execution_count": 33,
   "metadata": {},
   "outputs": [],
   "source": [
    "?cart_model\n"
   ]
  },
  {
   "cell_type": "code",
   "execution_count": 38,
   "metadata": {},
   "outputs": [
    {
     "data": {
      "text/plain": [
       "417.00487927726425"
      ]
     },
     "execution_count": 38,
     "metadata": {},
     "output_type": "execute_result"
    }
   ],
   "source": [
    "cart_model = DecisionTreeRegressor(max_depth = 2).fit(X_train, y_train)\n",
    "y_pred = cart_model.predict(X_test)\n",
    "np.sqrt(mean_squared_error(y_test, y_pred))"
   ]
  },
  {
   "cell_type": "code",
   "execution_count": 40,
   "metadata": {
    "jupyter": {
     "outputs_hidden": true
    }
   },
   "outputs": [],
   "source": [
    "?cart_model"
   ]
  },
  {
   "cell_type": "code",
   "execution_count": 43,
   "metadata": {},
   "outputs": [],
   "source": [
    "#max depth \n",
    "#min samples split: bölümdeki veri "
   ]
  },
  {
   "cell_type": "code",
   "execution_count": 42,
   "metadata": {},
   "outputs": [],
   "source": [
    "cart_params = {\"max_depth\": [2,3,4,5,10,20],\n",
    "              \"min_samples_split\": [2,10,5,30,50,10]}"
   ]
  },
  {
   "cell_type": "code",
   "execution_count": 44,
   "metadata": {},
   "outputs": [],
   "source": [
    "cart_model = DecisionTreeRegressor()"
   ]
  },
  {
   "cell_type": "code",
   "execution_count": 45,
   "metadata": {},
   "outputs": [],
   "source": [
    "cart_cv_model = GridSearchCV(cart_model, cart_params, cv = 10).fit(X_train, y_train)"
   ]
  },
  {
   "cell_type": "code",
   "execution_count": 46,
   "metadata": {},
   "outputs": [
    {
     "data": {
      "text/plain": [
       "{'max_depth': 4, 'min_samples_split': 50}"
      ]
     },
     "execution_count": 46,
     "metadata": {},
     "output_type": "execute_result"
    }
   ],
   "source": [
    "cart_cv_model.best_params_"
   ]
  },
  {
   "cell_type": "code",
   "execution_count": 47,
   "metadata": {},
   "outputs": [],
   "source": [
    "#final model"
   ]
  },
  {
   "cell_type": "code",
   "execution_count": 48,
   "metadata": {},
   "outputs": [],
   "source": [
    "cart_tuned = DecisionTreeRegressor(max_depth = 10, min_samples_split = 50).fit(X_train, y_train)"
   ]
  },
  {
   "cell_type": "code",
   "execution_count": 49,
   "metadata": {},
   "outputs": [
    {
     "data": {
      "text/plain": [
       "361.0876906511434"
      ]
     },
     "execution_count": 49,
     "metadata": {},
     "output_type": "execute_result"
    }
   ],
   "source": [
    "y_pred = cart_tuned.predict(X_test)\n",
    "np.sqrt(mean_squared_error(y_test, y_pred))"
   ]
  },
  {
   "cell_type": "markdown",
   "metadata": {},
   "source": [
    "# Random Forests"
   ]
  },
  {
   "cell_type": "code",
   "execution_count": 2,
   "metadata": {},
   "outputs": [],
   "source": [
    "df = pd.read_csv(\"Hitters.csv\")\n",
    "df = df.dropna()\n",
    "dms = pd.get_dummies(df[['League', 'Division', 'NewLeague']])\n",
    "y = df[\"Salary\"]\n",
    "X_ = df.drop(['Salary', 'League', 'Division', 'NewLeague'], axis=1).astype('float64')\n",
    "X = pd.concat([X_, dms[['League_N', 'Division_W', 'NewLeague_N']]], axis=1)\n",
    "X_train, X_test, y_train, y_test = train_test_split(X, \n",
    "                                                    y, \n",
    "                                                    test_size=0.25, \n",
    "                                                    random_state=42)"
   ]
  },
  {
   "cell_type": "code",
   "execution_count": null,
   "metadata": {},
   "outputs": [],
   "source": [
    "#bagging yaklasımı\n",
    "#boostrap yöntemi ile oluşturulan karar ağacı\n",
    "#overfite karşı çözüm önerisi\n",
    "#rastgele örnekleme\n",
    "#tekrar tekrar örnek çekmek\n",
    "#Breiman 2001\n",
    "#random subspace: rastgele değişken seçmek\n",
    "#2/3 veri kullanılır. dışarıda kalanlarda performans ve değişken önemi belirlenmesi için kullanılır.\n"
   ]
  },
  {
   "cell_type": "markdown",
   "metadata": {},
   "source": [
    "## Model & Tahmin"
   ]
  },
  {
   "cell_type": "code",
   "execution_count": 5,
   "metadata": {},
   "outputs": [],
   "source": [
    "rf_model = RandomForestRegressor(random_state = 42).fit(X_train, y_train)"
   ]
  },
  {
   "cell_type": "code",
   "execution_count": 74,
   "metadata": {},
   "outputs": [
    {
     "data": {
      "text/plain": [
       "RandomForestRegressor(bootstrap=True, criterion='mse', max_depth=None,\n",
       "                      max_features='auto', max_leaf_nodes=None,\n",
       "                      min_impurity_decrease=0.0, min_impurity_split=None,\n",
       "                      min_samples_leaf=1, min_samples_split=2,\n",
       "                      min_weight_fraction_leaf=0.0, n_estimators=10,\n",
       "                      n_jobs=None, oob_score=False, random_state=42, verbose=0,\n",
       "                      warm_start=False)"
      ]
     },
     "execution_count": 74,
     "metadata": {},
     "output_type": "execute_result"
    }
   ],
   "source": [
    "rf_model"
   ]
  },
  {
   "cell_type": "code",
   "execution_count": 19,
   "metadata": {},
   "outputs": [
    {
     "data": {
      "text/plain": [
       "348.6776176416439"
      ]
     },
     "execution_count": 19,
     "metadata": {},
     "output_type": "execute_result"
    }
   ],
   "source": [
    "#ilkel test hatası\n",
    "y_pred = rf_model.predict(X_test)\n",
    "np.sqrt(mean_squared_error(y_test, y_pred))"
   ]
  },
  {
   "cell_type": "markdown",
   "metadata": {},
   "source": [
    "## Model Tuning"
   ]
  },
  {
   "cell_type": "code",
   "execution_count": 8,
   "metadata": {},
   "outputs": [
    {
     "data": {
      "text/plain": [
       "RandomForestRegressor(random_state=42)"
      ]
     },
     "execution_count": 8,
     "metadata": {},
     "output_type": "execute_result"
    }
   ],
   "source": [
    "rf_model = RandomForestRegressor(random_state = 42).fit(X_train, y_train)\n",
    "rf_model\n",
    "#nestimators\n",
    "#max feature en önemli iki parameter"
   ]
  },
  {
   "cell_type": "code",
   "execution_count": 9,
   "metadata": {},
   "outputs": [],
   "source": [
    "rf_params = {\"max_depth\": [5,8,10],\n",
    "            \"max_features\": [2,5,10],\n",
    "            \"n_estimators\": [200, 500, 1000, 2000],\n",
    "            \"min_samples_split\": [2,10,80,100]}\n",
    "\n",
    "#n estimator ağaç sayısı"
   ]
  },
  {
   "cell_type": "code",
   "execution_count": 10,
   "metadata": {},
   "outputs": [
    {
     "name": "stdout",
     "output_type": "stream",
     "text": [
      "Fitting 10 folds for each of 144 candidates, totalling 1440 fits\n"
     ]
    },
    {
     "name": "stderr",
     "output_type": "stream",
     "text": [
      "[Parallel(n_jobs=-1)]: Using backend LokyBackend with 4 concurrent workers.\n",
      "[Parallel(n_jobs=-1)]: Done  33 tasks      | elapsed:   16.6s\n",
      "[Parallel(n_jobs=-1)]: Done 154 tasks      | elapsed:  1.3min\n",
      "[Parallel(n_jobs=-1)]: Done 357 tasks      | elapsed:  3.3min\n",
      "[Parallel(n_jobs=-1)]: Done 640 tasks      | elapsed:  6.0min\n",
      "[Parallel(n_jobs=-1)]: Done 1005 tasks      | elapsed:  9.5min\n",
      "[Parallel(n_jobs=-1)]: Done 1440 out of 1440 | elapsed: 12.5min finished\n"
     ]
    }
   ],
   "source": [
    "rf_cv_model = GridSearchCV(rf_model, rf_params, cv = 10, n_jobs = -1, verbose = 2).fit(X_train, y_train)"
   ]
  },
  {
   "cell_type": "code",
   "execution_count": 11,
   "metadata": {},
   "outputs": [
    {
     "data": {
      "text/plain": [
       "{'max_depth': 8,\n",
       " 'max_features': 2,\n",
       " 'min_samples_split': 2,\n",
       " 'n_estimators': 200}"
      ]
     },
     "execution_count": 11,
     "metadata": {},
     "output_type": "execute_result"
    }
   ],
   "source": [
    "rf_cv_model.best_params_"
   ]
  },
  {
   "cell_type": "code",
   "execution_count": 12,
   "metadata": {},
   "outputs": [],
   "source": [
    "rf_model = RandomForestRegressor(random_state = 42, \n",
    "                                 max_depth = 8,\n",
    "                                max_features = 2,\n",
    "                                min_samples_split = 2,\n",
    "                                 n_estimators = 200)\n",
    "rf_tuned = rf_model.fit(X_train, y_train)"
   ]
  },
  {
   "cell_type": "code",
   "execution_count": 13,
   "metadata": {},
   "outputs": [
    {
     "data": {
      "text/plain": [
       "RandomForestRegressor(max_depth=8, max_features=2, n_estimators=200,\n",
       "                      random_state=42)"
      ]
     },
     "execution_count": 13,
     "metadata": {},
     "output_type": "execute_result"
    }
   ],
   "source": [
    "rf_tuned"
   ]
  },
  {
   "cell_type": "code",
   "execution_count": 14,
   "metadata": {},
   "outputs": [
    {
     "data": {
      "text/plain": [
       "348.6776176416439"
      ]
     },
     "execution_count": 14,
     "metadata": {},
     "output_type": "execute_result"
    }
   ],
   "source": [
    "y_pred = rf_tuned.predict(X_test)\n",
    "np.sqrt(mean_squared_error(y_test, y_pred))"
   ]
  },
  {
   "cell_type": "markdown",
   "metadata": {},
   "source": [
    "## Değişken Önem Düzeyi"
   ]
  },
  {
   "cell_type": "code",
   "execution_count": 17,
   "metadata": {},
   "outputs": [
    {
     "data": {
      "text/plain": [
       "array([5.83939512, 6.3008207 , 3.55409652, 4.19009209, 4.66682274,\n",
       "       4.98433247, 7.38060012, 9.73911031, 8.6905022 , 7.87635556,\n",
       "       8.72726849, 8.31591059, 9.70373415, 4.70960845, 2.05129065,\n",
       "       1.85358891, 0.3831876 , 0.55522635, 0.47805698])"
      ]
     },
     "execution_count": 17,
     "metadata": {},
     "output_type": "execute_result"
    }
   ],
   "source": [
    "rf_tuned.feature_importances_*100"
   ]
  },
  {
   "cell_type": "code",
   "execution_count": 20,
   "metadata": {},
   "outputs": [
    {
     "data": {
      "text/html": [
       "<div>\n",
       "<style scoped>\n",
       "    .dataframe tbody tr th:only-of-type {\n",
       "        vertical-align: middle;\n",
       "    }\n",
       "\n",
       "    .dataframe tbody tr th {\n",
       "        vertical-align: top;\n",
       "    }\n",
       "\n",
       "    .dataframe thead th {\n",
       "        text-align: right;\n",
       "    }\n",
       "</style>\n",
       "<table border=\"1\" class=\"dataframe\">\n",
       "  <thead>\n",
       "    <tr style=\"text-align: right;\">\n",
       "      <th></th>\n",
       "      <th>Importance</th>\n",
       "    </tr>\n",
       "  </thead>\n",
       "  <tbody>\n",
       "    <tr>\n",
       "      <th>AtBat</th>\n",
       "      <td>5.839395</td>\n",
       "    </tr>\n",
       "    <tr>\n",
       "      <th>Hits</th>\n",
       "      <td>6.300821</td>\n",
       "    </tr>\n",
       "    <tr>\n",
       "      <th>HmRun</th>\n",
       "      <td>3.554097</td>\n",
       "    </tr>\n",
       "    <tr>\n",
       "      <th>Runs</th>\n",
       "      <td>4.190092</td>\n",
       "    </tr>\n",
       "    <tr>\n",
       "      <th>RBI</th>\n",
       "      <td>4.666823</td>\n",
       "    </tr>\n",
       "    <tr>\n",
       "      <th>Walks</th>\n",
       "      <td>4.984332</td>\n",
       "    </tr>\n",
       "    <tr>\n",
       "      <th>Years</th>\n",
       "      <td>7.380600</td>\n",
       "    </tr>\n",
       "    <tr>\n",
       "      <th>CAtBat</th>\n",
       "      <td>9.739110</td>\n",
       "    </tr>\n",
       "    <tr>\n",
       "      <th>CHits</th>\n",
       "      <td>8.690502</td>\n",
       "    </tr>\n",
       "    <tr>\n",
       "      <th>CHmRun</th>\n",
       "      <td>7.876356</td>\n",
       "    </tr>\n",
       "    <tr>\n",
       "      <th>CRuns</th>\n",
       "      <td>8.727268</td>\n",
       "    </tr>\n",
       "    <tr>\n",
       "      <th>CRBI</th>\n",
       "      <td>8.315911</td>\n",
       "    </tr>\n",
       "    <tr>\n",
       "      <th>CWalks</th>\n",
       "      <td>9.703734</td>\n",
       "    </tr>\n",
       "    <tr>\n",
       "      <th>PutOuts</th>\n",
       "      <td>4.709608</td>\n",
       "    </tr>\n",
       "    <tr>\n",
       "      <th>Assists</th>\n",
       "      <td>2.051291</td>\n",
       "    </tr>\n",
       "    <tr>\n",
       "      <th>Errors</th>\n",
       "      <td>1.853589</td>\n",
       "    </tr>\n",
       "    <tr>\n",
       "      <th>League_N</th>\n",
       "      <td>0.383188</td>\n",
       "    </tr>\n",
       "    <tr>\n",
       "      <th>Division_W</th>\n",
       "      <td>0.555226</td>\n",
       "    </tr>\n",
       "    <tr>\n",
       "      <th>NewLeague_N</th>\n",
       "      <td>0.478057</td>\n",
       "    </tr>\n",
       "  </tbody>\n",
       "</table>\n",
       "</div>"
      ],
      "text/plain": [
       "             Importance\n",
       "AtBat          5.839395\n",
       "Hits           6.300821\n",
       "HmRun          3.554097\n",
       "Runs           4.190092\n",
       "RBI            4.666823\n",
       "Walks          4.984332\n",
       "Years          7.380600\n",
       "CAtBat         9.739110\n",
       "CHits          8.690502\n",
       "CHmRun         7.876356\n",
       "CRuns          8.727268\n",
       "CRBI           8.315911\n",
       "CWalks         9.703734\n",
       "PutOuts        4.709608\n",
       "Assists        2.051291\n",
       "Errors         1.853589\n",
       "League_N       0.383188\n",
       "Division_W     0.555226\n",
       "NewLeague_N    0.478057"
      ]
     },
     "execution_count": 20,
     "metadata": {},
     "output_type": "execute_result"
    }
   ],
   "source": [
    "Importance"
   ]
  },
  {
   "cell_type": "code",
   "execution_count": 18,
   "metadata": {},
   "outputs": [
    {
     "data": {
      "image/png": "[encoded data removed]",
      "text/plain": [
       "<Figure size 432x288 with 1 Axes>"
      ]
     },
     "metadata": {
      "needs_background": "light"
     },
     "output_type": "display_data"
    }
   ],
   "source": [
    "Importance = pd.DataFrame({'Importance':rf_tuned.feature_importances_*100}, \n",
    "                          index = X_train.columns)\n",
    "\n",
    "\n",
    "Importance.sort_values(by = 'Importance', \n",
    "                       axis = 0, \n",
    "                       ascending = True).plot(kind = 'barh', \n",
    "                                              color = 'r', )\n",
    "\n",
    "plt.xlabel('Variable Importance')\n",
    "plt.gca().legend_ = None"
   ]
  },
  {
   "cell_type": "markdown",
   "metadata": {},
   "source": [
    "# Gradient Boosting Machines"
   ]
  },
  {
   "cell_type": "code",
   "execution_count": 2,
   "metadata": {},
   "outputs": [],
   "source": [
    "df = pd.read_csv(\"Hitters.csv\")\n",
    "df = df.dropna()\n",
    "dms = pd.get_dummies(df[['League', 'Division', 'NewLeague']])\n",
    "y = df[\"Salary\"]\n",
    "X_ = df.drop(['Salary', 'League', 'Division', 'NewLeague'], axis=1).astype('float64')\n",
    "X = pd.concat([X_, dms[['League_N', 'Division_W', 'NewLeague_N']]], axis=1)\n",
    "X_train, X_test, y_train, y_test = train_test_split(X, \n",
    "                                                    y, \n",
    "                                                    test_size=0.25, \n",
    "                                                    random_state=42)"
   ]
  },
  {
   "cell_type": "code",
   "execution_count": 3,
   "metadata": {},
   "outputs": [],
   "source": [
    "#briman(random forest cart) and friedman\n",
    "\n",
    "#modeller serisi kuruldu.\n",
    "#boosting: zayıf öğrencilier bir araya gelip güçlü öğrenci ortaya çıkar mı?\n",
    "#adaboost: \n",
    "#adaboostun sınıflandırma ve regresyon problemlerine uyarlnama hali.\n",
    "\n",
    "#tahmin artıklarının üzerine kurulur.\n",
    "#gradient descent kullanılır.\n",
    "#boosting + gradient descent"
   ]
  },
  {
   "cell_type": "markdown",
   "metadata": {},
   "source": [
    "## Model & Tahmin"
   ]
  },
  {
   "cell_type": "code",
   "execution_count": 4,
   "metadata": {},
   "outputs": [],
   "source": [
    "gbm_model = GradientBoostingRegressor().fit(X_train, y_train)"
   ]
  },
  {
   "cell_type": "code",
   "execution_count": 91,
   "metadata": {},
   "outputs": [
    {
     "data": {
      "text/plain": [
       "GradientBoostingRegressor(alpha=0.9, criterion='friedman_mse', init=None,\n",
       "                          learning_rate=0.1, loss='ls', max_depth=3,\n",
       "                          max_features=None, max_leaf_nodes=None,\n",
       "                          min_impurity_decrease=0.0, min_impurity_split=None,\n",
       "                          min_samples_leaf=1, min_samples_split=2,\n",
       "                          min_weight_fraction_leaf=0.0, n_estimators=100,\n",
       "                          n_iter_no_change=None, presort='auto',\n",
       "                          random_state=None, subsample=1.0, tol=0.0001,\n",
       "                          validation_fraction=0.1, verbose=0, warm_start=False)"
      ]
     },
     "execution_count": 91,
     "metadata": {},
     "output_type": "execute_result"
    }
   ],
   "source": [
    "gbm_model"
   ]
  },
  {
   "cell_type": "code",
   "execution_count": 7,
   "metadata": {},
   "outputs": [],
   "source": [
    "y_pred = gbm_model.predict(X_test)"
   ]
  },
  {
   "cell_type": "code",
   "execution_count": 8,
   "metadata": {},
   "outputs": [
    {
     "data": {
      "text/plain": [
       "359.98255266949053"
      ]
     },
     "execution_count": 8,
     "metadata": {},
     "output_type": "execute_result"
    }
   ],
   "source": [
    "np.sqrt(mean_squared_error(y_test, y_pred))"
   ]
  },
  {
   "cell_type": "markdown",
   "metadata": {},
   "source": [
    "## Model Tuning"
   ]
  },
  {
   "cell_type": "code",
   "execution_count": 9,
   "metadata": {},
   "outputs": [
    {
     "data": {
      "text/plain": [
       "GradientBoostingRegressor()"
      ]
     },
     "execution_count": 9,
     "metadata": {},
     "output_type": "execute_result"
    }
   ],
   "source": [
    "gbm_model = GradientBoostingRegressor().fit(X_train, y_train)\n",
    "gbm_model"
   ]
  },
  {
   "cell_type": "code",
   "execution_count": 11,
   "metadata": {
    "jupyter": {
     "outputs_hidden": true
    }
   },
   "outputs": [],
   "source": [
    "?gbm_model\n",
    "#max_depth: ağaç derinliği\n",
    "#n_estimators: ağaç sayısı\n",
    "#subsample: oluşturulacak ağacın- oran"
   ]
  },
  {
   "cell_type": "code",
   "execution_count": 12,
   "metadata": {},
   "outputs": [],
   "source": [
    "gbm_params = {\"learning_rate\": [0.001,0.1,0.01],\n",
    "             \"max_depth\": [3,5,8],\n",
    "             \"n_estimators\": [100,200,500],\n",
    "             \"subsample\": [1,0.5,0.8],\n",
    "             \"loss\": [\"ls\",\"lad\",\"quantile\"]}"
   ]
  },
  {
   "cell_type": "code",
   "execution_count": 13,
   "metadata": {},
   "outputs": [],
   "source": [
    "gbm_model = GradientBoostingRegressor().fit(X_train, y_train)"
   ]
  },
  {
   "cell_type": "code",
   "execution_count": 14,
   "metadata": {},
   "outputs": [
    {
     "name": "stdout",
     "output_type": "stream",
     "text": [
      "Fitting 10 folds for each of 243 candidates, totalling 2430 fits\n"
     ]
    },
    {
     "name": "stderr",
     "output_type": "stream",
     "text": [
      "[Parallel(n_jobs=-1)]: Using backend LokyBackend with 4 concurrent workers.\n",
      "[Parallel(n_jobs=-1)]: Done  33 tasks      | elapsed:    2.9s\n",
      "[Parallel(n_jobs=-1)]: Done 154 tasks      | elapsed:   10.5s\n",
      "[Parallel(n_jobs=-1)]: Done 357 tasks      | elapsed:   35.2s\n",
      "[Parallel(n_jobs=-1)]: Done 640 tasks      | elapsed:  1.5min\n",
      "[Parallel(n_jobs=-1)]: Done 1005 tasks      | elapsed:  2.5min\n",
      "[Parallel(n_jobs=-1)]: Done 1450 tasks      | elapsed:  4.1min\n",
      "[Parallel(n_jobs=-1)]: Done 1977 tasks      | elapsed:  5.3min\n",
      "[Parallel(n_jobs=-1)]: Done 2430 out of 2430 | elapsed:  7.0min finished\n"
     ]
    }
   ],
   "source": [
    "gbm_cv_model = GridSearchCV(gbm_model, \n",
    "                            gbm_params, \n",
    "                            cv = 10, \n",
    "                            n_jobs=-1, \n",
    "                            verbose = 2).fit(X_train, y_train)"
   ]
  },
  {
   "cell_type": "code",
   "execution_count": 15,
   "metadata": {},
   "outputs": [
    {
     "data": {
      "text/plain": [
       "{'learning_rate': 0.1,\n",
       " 'loss': 'ls',\n",
       " 'max_depth': 3,\n",
       " 'n_estimators': 100,\n",
       " 'subsample': 0.5}"
      ]
     },
     "execution_count": 15,
     "metadata": {},
     "output_type": "execute_result"
    }
   ],
   "source": [
    "gbm_cv_model.best_params_"
   ]
  },
  {
   "cell_type": "code",
   "execution_count": 22,
   "metadata": {},
   "outputs": [],
   "source": [
    "gbm_tuned=GradientBoostingRegressor(learning_rate=0.1,\n",
    "                                   loss='lad' ,\n",
    "                                    max_depth=3,\n",
    "                                    n_estimators=100,\n",
    "                                    subsample=0.5).fit(X_train,y_train)"
   ]
  },
  {
   "cell_type": "code",
   "execution_count": 23,
   "metadata": {},
   "outputs": [],
   "source": [
    "y_pred = gbm_tuned.predict(X_test)"
   ]
  },
  {
   "cell_type": "code",
   "execution_count": 24,
   "metadata": {},
   "outputs": [
    {
     "data": {
      "text/plain": [
       "326.6357035223884"
      ]
     },
     "execution_count": 24,
     "metadata": {},
     "output_type": "execute_result"
    }
   ],
   "source": [
    "np.sqrt(mean_squared_error(y_test, y_pred))"
   ]
  },
  {
   "cell_type": "code",
   "execution_count": 21,
   "metadata": {},
   "outputs": [],
   "source": [
    "#degisken onem duzeyleri"
   ]
  },
  {
   "cell_type": "code",
   "execution_count": 26,
   "metadata": {},
   "outputs": [
    {
     "data": {
      "text/plain": [
       "array([ 7.10927175,  3.91255842,  3.95309461,  5.33141378,  4.23950576,\n",
       "        5.34055749,  6.23252273,  5.4020665 , 11.30713668,  6.51913867,\n",
       "       11.19203695,  7.30463108,  4.68459741,  6.85462728,  4.51600813,\n",
       "        3.20265043,  0.99650995,  0.9569214 ,  0.94475098])"
      ]
     },
     "execution_count": 26,
     "metadata": {},
     "output_type": "execute_result"
    }
   ],
   "source": [
    "gbm_tuned.feature_importances_*100"
   ]
  },
  {
   "cell_type": "code",
   "execution_count": 27,
   "metadata": {},
   "outputs": [
    {
     "data": {
      "image/png": "[encoded data removed]",
      "text/plain": [
       "<Figure size 432x288 with 1 Axes>"
      ]
     },
     "metadata": {
      "needs_background": "light"
     },
     "output_type": "display_data"
    }
   ],
   "source": [
    "Importance = pd.DataFrame({'Importance':gbm_tuned.feature_importances_*100}, \n",
    "                          index = X_train.columns)\n",
    "\n",
    "\n",
    "Importance.sort_values(by = 'Importance', \n",
    "                       axis = 0, \n",
    "                       ascending = True).plot(kind = 'barh', \n",
    "                                              color = 'r', )\n",
    "\n",
    "plt.xlabel('Variable Importance')\n",
    "plt.gca().legend_ = None"
   ]
  },
  {
   "cell_type": "markdown",
   "metadata": {},
   "source": [
    "# XGBoost"
   ]
  },
  {
   "cell_type": "code",
   "execution_count": 29,
   "metadata": {},
   "outputs": [],
   "source": [
    "df = pd.read_csv(\"Hitters.csv\")\n",
    "df = df.dropna()\n",
    "dms = pd.get_dummies(df[['League', 'Division', 'NewLeague']])\n",
    "y = df[\"Salary\"]\n",
    "X_ = df.drop(['Salary', 'League', 'Division', 'NewLeague'], axis=1).astype('float64')\n",
    "X = pd.concat([X_, dms[['League_N', 'Division_W', 'NewLeague_N']]], axis=1)\n",
    "X_train, X_test, y_train, y_test = train_test_split(X, \n",
    "                                                    y, \n",
    "                                                    test_size=0.25, \n",
    "                                                    random_state=42)"
   ]
  },
  {
   "cell_type": "markdown",
   "metadata": {},
   "source": [
    "## Model & Tahmin"
   ]
  },
  {
   "cell_type": "code",
   "execution_count": 30,
   "metadata": {
    "jupyter": {
     "outputs_hidden": true
    }
   },
   "outputs": [
    {
     "name": "stdout",
     "output_type": "stream",
     "text": [
      "Requirement already satisfied: xgboost in d:\\programs\\anaconda\\envs\\deeplearning\\lib\\site-packages (1.3.0.post0)\n",
      "Requirement already satisfied: numpy in d:\\programs\\anaconda\\envs\\deeplearning\\lib\\site-packages (from xgboost) (1.19.1)\n",
      "Requirement already satisfied: scipy in d:\\programs\\anaconda\\envs\\deeplearning\\lib\\site-packages (from xgboost) (1.5.2)\n"
     ]
    }
   ],
   "source": [
    "!pip install xgboost"
   ]
  },
  {
   "cell_type": "code",
   "execution_count": 31,
   "metadata": {},
   "outputs": [],
   "source": [
    "import xgboost"
   ]
  },
  {
   "cell_type": "code",
   "execution_count": 32,
   "metadata": {},
   "outputs": [],
   "source": [
    "#gbm in hız ve tahmin performansını artırmak için optimize edilmişt\n",
    "#ölçeklenbilir, hızlı, kaggle\n",
    "#gbmden farkı hız ve tahmin performansı daha iyidir."
   ]
  },
  {
   "cell_type": "code",
   "execution_count": 33,
   "metadata": {},
   "outputs": [],
   "source": [
    "from xgboost import XGBRegressor"
   ]
  },
  {
   "cell_type": "code",
   "execution_count": 34,
   "metadata": {},
   "outputs": [],
   "source": [
    "xgb_model=XGBRegressor().fit(X_train,y_train)"
   ]
  },
  {
   "cell_type": "code",
   "execution_count": 132,
   "metadata": {},
   "outputs": [
    {
     "data": {
      "text/plain": [
       "XGBRegressor(base_score=0.5, booster='gbtree', colsample_bylevel=1,\n",
       "             colsample_bynode=1, colsample_bytree=1, gamma=0,\n",
       "             importance_type='gain', learning_rate=0.1, max_delta_step=0,\n",
       "             max_depth=3, min_child_weight=1, missing=None, n_estimators=100,\n",
       "             n_jobs=1, nthread=None, objective='reg:linear', random_state=0,\n",
       "             reg_alpha=0, reg_lambda=1, scale_pos_weight=1, seed=None,\n",
       "             silent=None, subsample=1, verbosity=1)"
      ]
     },
     "execution_count": 132,
     "metadata": {},
     "output_type": "execute_result"
    }
   ],
   "source": [
    "xgb"
   ]
  },
  {
   "cell_type": "code",
   "execution_count": 36,
   "metadata": {},
   "outputs": [],
   "source": [
    "y_pred=xgb_model.predict(X_test)"
   ]
  },
  {
   "cell_type": "code",
   "execution_count": 37,
   "metadata": {},
   "outputs": [
    {
     "data": {
      "text/plain": [
       "355.46515176059927"
      ]
     },
     "execution_count": 37,
     "metadata": {},
     "output_type": "execute_result"
    }
   ],
   "source": [
    "np.sqrt(mean_squared_error(y_test, y_pred))"
   ]
  },
  {
   "cell_type": "markdown",
   "metadata": {},
   "source": [
    "## Model Tuning"
   ]
  },
  {
   "cell_type": "code",
   "execution_count": 43,
   "metadata": {},
   "outputs": [],
   "source": [
    "#colsample bytree : oluşturulacak oluşan ağacın değişkenlerden alınacak olan alt küme oranını ifade ediyo"
   ]
  },
  {
   "cell_type": "code",
   "execution_count": 40,
   "metadata": {},
   "outputs": [
    {
     "data": {
      "text/plain": [
       "XGBRegressor(base_score=None, booster=None, colsample_bylevel=None,\n",
       "             colsample_bynode=None, colsample_bytree=None, gamma=None,\n",
       "             gpu_id=None, importance_type='gain', interaction_constraints=None,\n",
       "             learning_rate=None, max_delta_step=None, max_depth=None,\n",
       "             min_child_weight=None, missing=nan, monotone_constraints=None,\n",
       "             n_estimators=100, n_jobs=None, num_parallel_tree=None,\n",
       "             random_state=None, reg_alpha=None, reg_lambda=None,\n",
       "             scale_pos_weight=None, subsample=None, tree_method=None,\n",
       "             validate_parameters=None, verbosity=None)"
      ]
     },
     "execution_count": 40,
     "metadata": {},
     "output_type": "execute_result"
    }
   ],
   "source": [
    "xgb = XGBRegressor()\n",
    "xgb"
   ]
  },
  {
   "cell_type": "code",
   "execution_count": 41,
   "metadata": {},
   "outputs": [],
   "source": [
    "xgb_params = {\"learning_rate\": [0.1,0.01,0.5],\n",
    "             \"max_depth\": [2,3,4,5,8],\n",
    "             \"n_estimators\": [100,200,500,1000],\n",
    "             \"colsample_bytree\": [0.4,0.7,1]}"
   ]
  },
  {
   "cell_type": "code",
   "execution_count": 42,
   "metadata": {},
   "outputs": [
    {
     "name": "stdout",
     "output_type": "stream",
     "text": [
      "Fitting 10 folds for each of 180 candidates, totalling 1800 fits\n"
     ]
    },
    {
     "name": "stderr",
     "output_type": "stream",
     "text": [
      "[Parallel(n_jobs=-1)]: Using backend LokyBackend with 4 concurrent workers.\n",
      "[Parallel(n_jobs=-1)]: Done  33 tasks      | elapsed:    4.5s\n",
      "[Parallel(n_jobs=-1)]: Done 154 tasks      | elapsed:   17.6s\n",
      "[Parallel(n_jobs=-1)]: Done 357 tasks      | elapsed:   39.7s\n",
      "[Parallel(n_jobs=-1)]: Done 640 tasks      | elapsed:  1.1min\n",
      "[Parallel(n_jobs=-1)]: Done 1005 tasks      | elapsed:  2.0min\n",
      "[Parallel(n_jobs=-1)]: Done 1450 tasks      | elapsed:  2.8min\n",
      "[Parallel(n_jobs=-1)]: Done 1800 out of 1800 | elapsed:  3.6min finished\n"
     ]
    }
   ],
   "source": [
    "xgb_cv_model  = GridSearchCV(xgb,xgb_params, cv = 10, n_jobs = -1, verbose = 2).fit(X_train, y_train)"
   ]
  },
  {
   "cell_type": "code",
   "execution_count": 44,
   "metadata": {},
   "outputs": [
    {
     "data": {
      "text/plain": [
       "{'colsample_bytree': 0.4,\n",
       " 'learning_rate': 0.1,\n",
       " 'max_depth': 2,\n",
       " 'n_estimators': 1000}"
      ]
     },
     "execution_count": 44,
     "metadata": {},
     "output_type": "execute_result"
    }
   ],
   "source": [
    "xgb_cv_model.best_params_"
   ]
  },
  {
   "cell_type": "code",
   "execution_count": 72,
   "metadata": {},
   "outputs": [],
   "source": [
    "xgb_tuned=XGBRegressor(colsample_bytree=0.4,\n",
    "                      learning_rate=0.1,\n",
    "                      max_depth=2,n_estimators=1000).fit(X_train,y_train)"
   ]
  },
  {
   "cell_type": "code",
   "execution_count": 73,
   "metadata": {},
   "outputs": [],
   "source": [
    "y_pred = xgb_tuned.predict(X_test)"
   ]
  },
  {
   "cell_type": "code",
   "execution_count": 74,
   "metadata": {},
   "outputs": [
    {
     "data": {
      "text/plain": [
       "367.8515299923177"
      ]
     },
     "execution_count": 74,
     "metadata": {},
     "output_type": "execute_result"
    }
   ],
   "source": [
    "np.sqrt(mean_squared_error(y_test, y_pred))"
   ]
  },
  {
   "cell_type": "code",
   "execution_count": 75,
   "metadata": {},
   "outputs": [],
   "source": [
    "#Değişken önem düzeyi"
   ]
  },
  {
   "cell_type": "code",
   "execution_count": 76,
   "metadata": {},
   "outputs": [
    {
     "data": {
      "image/png": "[encoded data removed]",
      "text/plain": [
       "<Figure size 432x288 with 1 Axes>"
      ]
     },
     "metadata": {
      "needs_background": "light"
     },
     "output_type": "display_data"
    }
   ],
   "source": [
    "Importance = pd.DataFrame({'Importance':xgb_tuned.feature_importances_*100}, \n",
    "                          index = X_train.columns)\n",
    "\n",
    "\n",
    "Importance.sort_values(by = 'Importance', \n",
    "                       axis = 0, \n",
    "                       ascending = True).plot(kind = 'barh', \n",
    "                                              color = 'r', )\n",
    "\n",
    "plt.xlabel('Variable Importance')\n",
    "plt.gca().legend_ = None"
   ]
  },
  {
   "cell_type": "markdown",
   "metadata": {},
   "source": [
    "# LightGBM"
   ]
  },
  {
   "cell_type": "code",
   "execution_count": 77,
   "metadata": {},
   "outputs": [],
   "source": [
    "df = pd.read_csv(\"Hitters.csv\")\n",
    "df = df.dropna()\n",
    "dms = pd.get_dummies(df[['League', 'Division', 'NewLeague']])\n",
    "y = df[\"Salary\"]\n",
    "X_ = df.drop(['Salary', 'League', 'Division', 'NewLeague'], axis=1).astype('float64')\n",
    "X = pd.concat([X_, dms[['League_N', 'Division_W', 'NewLeague_N']]], axis=1)\n",
    "X_train, X_test, y_train, y_test = train_test_split(X, \n",
    "                                                    y, \n",
    "                                                    test_size=0.25, \n",
    "                                                    random_state=42)"
   ]
  },
  {
   "cell_type": "code",
   "execution_count": 84,
   "metadata": {},
   "outputs": [],
   "source": [
    "#xgb eğitim süresi performansını arttırmaya yönelik geliştirdiği gbm türüdür.\n",
    "#farklı strateyi split işleminde\n",
    "#level wise(ağaç) büyüme yerine leaf (split)wise büyüme stratejisi kullanır.\n",
    "#BFS DFS"
   ]
  },
  {
   "cell_type": "code",
   "execution_count": 78,
   "metadata": {
    "jupyter": {
     "outputs_hidden": true
    }
   },
   "outputs": [
    {
     "name": "stdout",
     "output_type": "stream",
     "text": [
      "Collecting lightgbm\n",
      "  Downloading lightgbm-3.1.1-py2.py3-none-win_amd64.whl (754 kB)\n",
      "Requirement already satisfied: scipy in d:\\programs\\anaconda\\envs\\deeplearning\\lib\\site-packages (from lightgbm) (1.5.2)\n",
      "Requirement already satisfied: numpy in d:\\programs\\anaconda\\envs\\deeplearning\\lib\\site-packages (from lightgbm) (1.19.1)\n",
      "Requirement already satisfied: wheel in d:\\programs\\anaconda\\envs\\deeplearning\\lib\\site-packages (from lightgbm) (0.35.1)\n",
      "Requirement already satisfied: scikit-learn!=0.22.0 in d:\\programs\\anaconda\\envs\\deeplearning\\lib\\site-packages (from lightgbm) (0.23.2)\n",
      "Requirement already satisfied: threadpoolctl>=2.0.0 in d:\\programs\\anaconda\\envs\\deeplearning\\lib\\site-packages (from scikit-learn!=0.22.0->lightgbm) (2.1.0)\n",
      "Requirement already satisfied: joblib>=0.11 in d:\\programs\\anaconda\\envs\\deeplearning\\lib\\site-packages (from scikit-learn!=0.22.0->lightgbm) (0.16.0)\n",
      "Installing collected packages: lightgbm\n",
      "Successfully installed lightgbm-3.1.1\n"
     ]
    }
   ],
   "source": [
    "!pip install lightgbm"
   ]
  },
  {
   "cell_type": "code",
   "execution_count": 79,
   "metadata": {
    "jupyter": {
     "outputs_hidden": true
    }
   },
   "outputs": [
    {
     "name": "stdout",
     "output_type": "stream",
     "text": [
      "\n",
      "Note: you may need to restart the kernel to use updated packages.\n"
     ]
    },
    {
     "name": "stderr",
     "output_type": "stream",
     "text": [
      "Traceback (most recent call last):\n",
      "  File \"D:\\Programs\\Anaconda\\Scripts\\conda-script.py\", line 11, in <module>\n",
      "    from conda.cli import main\n",
      "ModuleNotFoundError: No module named 'conda'\n"
     ]
    }
   ],
   "source": [
    "conda install -c conda-forge lightgbm"
   ]
  },
  {
   "cell_type": "code",
   "execution_count": 80,
   "metadata": {},
   "outputs": [],
   "source": [
    "from lightgbm import LGBMRegressor"
   ]
  },
  {
   "cell_type": "markdown",
   "metadata": {},
   "source": [
    "## Model & Tahmin"
   ]
  },
  {
   "cell_type": "code",
   "execution_count": 85,
   "metadata": {},
   "outputs": [],
   "source": [
    "lgb_model=LGBMRegressor().fit(X_train,y_train)"
   ]
  },
  {
   "cell_type": "code",
   "execution_count": 86,
   "metadata": {},
   "outputs": [
    {
     "data": {
      "text/plain": [
       "LGBMRegressor()"
      ]
     },
     "execution_count": 86,
     "metadata": {},
     "output_type": "execute_result"
    }
   ],
   "source": [
    "lgb_model"
   ]
  },
  {
   "cell_type": "code",
   "execution_count": 89,
   "metadata": {},
   "outputs": [],
   "source": [
    "y_pred = lgb_model.predict(X_test)"
   ]
  },
  {
   "cell_type": "code",
   "execution_count": 90,
   "metadata": {},
   "outputs": [
    {
     "data": {
      "text/plain": [
       "363.8712087611089"
      ]
     },
     "execution_count": 90,
     "metadata": {},
     "output_type": "execute_result"
    }
   ],
   "source": [
    "np.sqrt(mean_squared_error(y_test, y_pred))"
   ]
  },
  {
   "cell_type": "markdown",
   "metadata": {},
   "source": [
    "## Model Tuning"
   ]
  },
  {
   "cell_type": "code",
   "execution_count": 92,
   "metadata": {},
   "outputs": [
    {
     "data": {
      "text/plain": [
       "LGBMRegressor()"
      ]
     },
     "execution_count": 92,
     "metadata": {},
     "output_type": "execute_result"
    }
   ],
   "source": [
    "lgb_model = LGBMRegressor()\n",
    "lgb_model"
   ]
  },
  {
   "cell_type": "code",
   "execution_count": 93,
   "metadata": {},
   "outputs": [],
   "source": [
    "lgbm_params = {\"learning_rate\": [0.01, 0.1, 0.5, 1],\n",
    "              \"n_estimators\": [20,40,100,200,500,1000],\n",
    "              \"max_depth\": [1,2,3,4,5,6,7,8,9,10]}"
   ]
  },
  {
   "cell_type": "code",
   "execution_count": 94,
   "metadata": {},
   "outputs": [
    {
     "name": "stdout",
     "output_type": "stream",
     "text": [
      "Fitting 10 folds for each of 240 candidates, totalling 2400 fits\n"
     ]
    },
    {
     "name": "stderr",
     "output_type": "stream",
     "text": [
      "[Parallel(n_jobs=-1)]: Using backend LokyBackend with 4 concurrent workers.\n",
      "[Parallel(n_jobs=-1)]: Done  38 tasks      | elapsed:    2.2s\n",
      "[Parallel(n_jobs=-1)]: Done 516 tasks      | elapsed:   11.9s\n",
      "[Parallel(n_jobs=-1)]: Done 1328 tasks      | elapsed:   29.6s\n",
      "[Parallel(n_jobs=-1)]: Done 2393 out of 2400 | elapsed:   50.6s remaining:    0.0s\n",
      "[Parallel(n_jobs=-1)]: Done 2400 out of 2400 | elapsed:   50.7s finished\n"
     ]
    },
    {
     "name": "stdout",
     "output_type": "stream",
     "text": [
      "[LightGBM] [Warning] Accuracy may be bad since you didn't explicitly set num_leaves OR 2^max_depth > num_leaves. (num_leaves=31).\n"
     ]
    }
   ],
   "source": [
    "lgbm_cv_model = GridSearchCV(lgb_model, \n",
    "                             lgbm_params, \n",
    "                             cv = 10, \n",
    "                             n_jobs = -1, \n",
    "                             verbose =2).fit(X_train, y_train)"
   ]
  },
  {
   "cell_type": "code",
   "execution_count": 95,
   "metadata": {},
   "outputs": [
    {
     "data": {
      "text/plain": [
       "{'learning_rate': 0.1, 'max_depth': 6, 'n_estimators': 20}"
      ]
     },
     "execution_count": 95,
     "metadata": {},
     "output_type": "execute_result"
    }
   ],
   "source": [
    "lgbm_cv_model.best_params_"
   ]
  },
  {
   "cell_type": "code",
   "execution_count": 96,
   "metadata": {},
   "outputs": [],
   "source": [
    "lgbm_tuned=LGBMRegressor(learning_rate=0.1,max_depth=6,n_estimators=20).fit(X_train,y_train)"
   ]
  },
  {
   "cell_type": "code",
   "execution_count": 97,
   "metadata": {},
   "outputs": [],
   "source": [
    "y_pred = lgbm_tuned.predict(X_test)"
   ]
  },
  {
   "cell_type": "code",
   "execution_count": 98,
   "metadata": {},
   "outputs": [
    {
     "data": {
      "text/plain": [
       "371.5044868943621"
      ]
     },
     "execution_count": 98,
     "metadata": {},
     "output_type": "execute_result"
    }
   ],
   "source": [
    "np.sqrt(mean_squared_error(y_test, y_pred))"
   ]
  },
  {
   "cell_type": "code",
   "execution_count": 102,
   "metadata": {},
   "outputs": [
    {
     "data": {
      "image/png": "[encoded data removed]",
      "text/plain": [
       "<Figure size 432x288 with 1 Axes>"
      ]
     },
     "metadata": {
      "needs_background": "light"
     },
     "output_type": "display_data"
    }
   ],
   "source": [
    "#Önem sırası\n",
    "\n",
    "Importance = pd.DataFrame({'Importance':lgbm_tuned.feature_importances_*100}, \n",
    "                          index = X_train.columns)\n",
    "\n",
    "\n",
    "Importance.sort_values(by = 'Importance', \n",
    "                       axis = 0, \n",
    "                       ascending = True).plot(kind = 'barh', \n",
    "                                              color = 'r', )\n",
    "\n",
    "plt.xlabel('Variable Importance')\n",
    "plt.gca().legend_ = None"
   ]
  },
  {
   "cell_type": "markdown",
   "metadata": {},
   "source": [
    "# CatBoost"
   ]
  },
  {
   "cell_type": "code",
   "execution_count": 105,
   "metadata": {},
   "outputs": [],
   "source": [
    "#kategorik değişkenler ile otomatik olarak mücadele edebilen hızlı başarılı gbm türevidir.\n",
    "#gpu desteği\n",
    "#daha başarılı tahmin\n",
    "#rusyanın ilk açık kaynak kodlu ml çalışması"
   ]
  },
  {
   "cell_type": "code",
   "execution_count": 103,
   "metadata": {},
   "outputs": [],
   "source": [
    "df = pd.read_csv(\"Hitters.csv\")\n",
    "df = df.dropna()\n",
    "dms = pd.get_dummies(df[['League', 'Division', 'NewLeague']])\n",
    "\n",
    "y = df[\"Salary\"]\n",
    "X_ = df.drop(['Salary', 'League', 'Division', 'NewLeague'], axis=1).astype('float64')\n",
    "X = pd.concat([X_, dms[['League_N', 'Division_W', 'NewLeague_N']]], axis=1)\n",
    "X_train, X_test, y_train, y_test = train_test_split(X, \n",
    "                                                    y, \n",
    "                                                    test_size=0.25, \n",
    "                                                    random_state=42)"
   ]
  },
  {
   "cell_type": "code",
   "execution_count": 99,
   "metadata": {
    "collapsed": true,
    "jupyter": {
     "outputs_hidden": true
    }
   },
   "outputs": [
    {
     "name": "stdout",
     "output_type": "stream",
     "text": [
      "Collecting catboost\n",
      "  Downloading catboost-0.24.3-cp37-none-win_amd64.whl (65.4 MB)\n",
      "Requirement already satisfied: scipy in d:\\programs\\anaconda\\envs\\deeplearning\\lib\\site-packages (from catboost) (1.5.2)\n",
      "Requirement already satisfied: matplotlib in d:\\programs\\anaconda\\envs\\deeplearning\\lib\\site-packages (from catboost) (3.3.1)\n",
      "Collecting plotly\n",
      "  Downloading plotly-4.14.1-py2.py3-none-any.whl (13.2 MB)\n",
      "Requirement already satisfied: six in d:\\programs\\anaconda\\envs\\deeplearning\\lib\\site-packages (from catboost) (1.15.0)\n",
      "Requirement already satisfied: pandas>=0.24.0 in d:\\programs\\anaconda\\envs\\deeplearning\\lib\\site-packages (from catboost) (1.1.2)\n",
      "Requirement already satisfied: numpy>=1.16.0 in d:\\programs\\anaconda\\envs\\deeplearning\\lib\\site-packages (from catboost) (1.19.1)\n",
      "Collecting graphviz\n",
      "  Downloading graphviz-0.15-py2.py3-none-any.whl (18 kB)\n",
      "Requirement already satisfied: pyparsing!=2.0.4,!=2.1.2,!=2.1.6,>=2.0.3 in d:\\programs\\anaconda\\envs\\deeplearning\\lib\\site-packages (from matplotlib->catboost) (2.4.7)\n",
      "Requirement already satisfied: kiwisolver>=1.0.1 in d:\\programs\\anaconda\\envs\\deeplearning\\lib\\site-packages (from matplotlib->catboost) (1.2.0)\n",
      "Requirement already satisfied: certifi>=2020.06.20 in d:\\programs\\anaconda\\envs\\deeplearning\\lib\\site-packages (from matplotlib->catboost) (2020.6.20)\n",
      "Requirement already satisfied: python-dateutil>=2.1 in d:\\programs\\anaconda\\envs\\deeplearning\\lib\\site-packages (from matplotlib->catboost) (2.8.1)\n",
      "Requirement already satisfied: pillow>=6.2.0 in d:\\programs\\anaconda\\envs\\deeplearning\\lib\\site-packages (from matplotlib->catboost) (7.2.0)\n",
      "Requirement already satisfied: cycler>=0.10 in d:\\programs\\anaconda\\envs\\deeplearning\\lib\\site-packages (from matplotlib->catboost) (0.10.0)\n",
      "Collecting retrying>=1.3.3\n",
      "  Downloading retrying-1.3.3.tar.gz (10 kB)\n",
      "Requirement already satisfied: pytz>=2017.2 in d:\\programs\\anaconda\\envs\\deeplearning\\lib\\site-packages (from pandas>=0.24.0->catboost) (2020.1)\n",
      "Building wheels for collected packages: retrying\n",
      "  Building wheel for retrying (setup.py): started\n",
      "  Building wheel for retrying (setup.py): finished with status 'done'\n",
      "  Created wheel for retrying: filename=retrying-1.3.3-py3-none-any.whl size=11434 sha256=b4702ae6eb18630a3e09f4a48f87bb128fd0a64fd0e1614df8b057b25a461c79\n",
      "  Stored in directory: c:\\users\\asus\\appdata\\local\\pip\\cache\\wheels\\f9\\8d\\8d\\f6af3f7f9eea3553bc2fe6d53e4b287dad18b06a861ac56ddf\n",
      "Successfully built retrying\n",
      "Installing collected packages: retrying, plotly, graphviz, catboost\n",
      "Successfully installed catboost-0.24.3 graphviz-0.15 plotly-4.14.1 retrying-1.3.3\n"
     ]
    }
   ],
   "source": [
    "!pip install catboost"
   ]
  },
  {
   "cell_type": "markdown",
   "metadata": {},
   "source": [
    "## Model & Tahmin"
   ]
  },
  {
   "cell_type": "code",
   "execution_count": 101,
   "metadata": {},
   "outputs": [],
   "source": [
    "from catboost import CatBoostRegressor"
   ]
  },
  {
   "cell_type": "code",
   "execution_count": 106,
   "metadata": {
    "jupyter": {
     "outputs_hidden": true
    }
   },
   "outputs": [
    {
     "name": "stdout",
     "output_type": "stream",
     "text": [
      "Learning rate set to 0.029229\n",
      "0:\tlearn: 438.1974206\ttotal: 6.71ms\tremaining: 6.7s\n",
      "1:\tlearn: 432.4168868\ttotal: 14.4ms\tremaining: 7.19s\n",
      "2:\tlearn: 426.3836690\ttotal: 17.3ms\tremaining: 5.73s\n",
      "3:\tlearn: 420.2261014\ttotal: 20.3ms\tremaining: 5.06s\n",
      "4:\tlearn: 414.9976675\ttotal: 22.7ms\tremaining: 4.51s\n",
      "5:\tlearn: 409.6125323\ttotal: 26.3ms\tremaining: 4.36s\n",
      "6:\tlearn: 403.9277911\ttotal: 28.7ms\tremaining: 4.07s\n",
      "7:\tlearn: 398.4395285\ttotal: 30.9ms\tremaining: 3.83s\n",
      "8:\tlearn: 392.4517081\ttotal: 33.2ms\tremaining: 3.65s\n",
      "9:\tlearn: 387.4871123\ttotal: 35.4ms\tremaining: 3.5s\n",
      "10:\tlearn: 382.6230510\ttotal: 37.7ms\tremaining: 3.39s\n",
      "11:\tlearn: 378.1012454\ttotal: 40.5ms\tremaining: 3.33s\n",
      "12:\tlearn: 372.6002306\ttotal: 42.7ms\tremaining: 3.24s\n",
      "13:\tlearn: 368.4682192\ttotal: 44.6ms\tremaining: 3.14s\n",
      "14:\tlearn: 364.0565766\ttotal: 46.4ms\tremaining: 3.05s\n",
      "15:\tlearn: 359.5683249\ttotal: 48.1ms\tremaining: 2.96s\n",
      "16:\tlearn: 355.1782794\ttotal: 49.7ms\tremaining: 2.87s\n",
      "17:\tlearn: 350.4689946\ttotal: 51.3ms\tremaining: 2.8s\n",
      "18:\tlearn: 346.2553348\ttotal: 52.9ms\tremaining: 2.73s\n",
      "19:\tlearn: 341.7051884\ttotal: 54.7ms\tremaining: 2.68s\n",
      "20:\tlearn: 337.8343606\ttotal: 56.3ms\tremaining: 2.63s\n",
      "21:\tlearn: 333.7956702\ttotal: 58ms\tremaining: 2.58s\n",
      "22:\tlearn: 329.8867930\ttotal: 59.6ms\tremaining: 2.53s\n",
      "23:\tlearn: 326.1844372\ttotal: 61.1ms\tremaining: 2.48s\n",
      "24:\tlearn: 323.1315580\ttotal: 62.6ms\tremaining: 2.44s\n",
      "25:\tlearn: 319.3322885\ttotal: 64.2ms\tremaining: 2.41s\n",
      "26:\tlearn: 316.2039164\ttotal: 65.8ms\tremaining: 2.37s\n",
      "27:\tlearn: 313.2598806\ttotal: 67.4ms\tremaining: 2.34s\n",
      "28:\tlearn: 310.1086898\ttotal: 68.9ms\tremaining: 2.31s\n",
      "29:\tlearn: 307.0508553\ttotal: 70.5ms\tremaining: 2.28s\n",
      "30:\tlearn: 304.5843401\ttotal: 72ms\tremaining: 2.25s\n",
      "31:\tlearn: 301.6708432\ttotal: 73.7ms\tremaining: 2.23s\n",
      "32:\tlearn: 298.9175443\ttotal: 75.3ms\tremaining: 2.21s\n",
      "33:\tlearn: 296.1231309\ttotal: 76.8ms\tremaining: 2.18s\n",
      "34:\tlearn: 293.2359275\ttotal: 78.2ms\tremaining: 2.16s\n",
      "35:\tlearn: 290.3999850\ttotal: 79.7ms\tremaining: 2.13s\n",
      "36:\tlearn: 287.8958674\ttotal: 81.1ms\tremaining: 2.11s\n",
      "37:\tlearn: 285.6692571\ttotal: 82.6ms\tremaining: 2.09s\n",
      "38:\tlearn: 282.9812904\ttotal: 84ms\tremaining: 2.07s\n",
      "39:\tlearn: 280.6302291\ttotal: 85.4ms\tremaining: 2.05s\n",
      "40:\tlearn: 278.2767119\ttotal: 86.8ms\tremaining: 2.03s\n",
      "41:\tlearn: 276.0589541\ttotal: 88.2ms\tremaining: 2.01s\n",
      "42:\tlearn: 273.6619286\ttotal: 89.6ms\tremaining: 2s\n",
      "43:\tlearn: 271.1128163\ttotal: 91.3ms\tremaining: 1.98s\n",
      "44:\tlearn: 268.9091716\ttotal: 92.7ms\tremaining: 1.97s\n",
      "45:\tlearn: 266.3675542\ttotal: 94.1ms\tremaining: 1.95s\n",
      "46:\tlearn: 263.7815611\ttotal: 95.5ms\tremaining: 1.94s\n",
      "47:\tlearn: 261.8160223\ttotal: 96.9ms\tremaining: 1.92s\n",
      "48:\tlearn: 259.7109561\ttotal: 98.3ms\tremaining: 1.91s\n",
      "49:\tlearn: 257.7200276\ttotal: 99.9ms\tremaining: 1.9s\n",
      "50:\tlearn: 255.7835524\ttotal: 101ms\tremaining: 1.88s\n",
      "51:\tlearn: 253.8406902\ttotal: 103ms\tremaining: 1.87s\n",
      "52:\tlearn: 251.6896611\ttotal: 104ms\tremaining: 1.86s\n",
      "53:\tlearn: 250.0830915\ttotal: 105ms\tremaining: 1.85s\n",
      "54:\tlearn: 248.3689069\ttotal: 107ms\tremaining: 1.83s\n",
      "55:\tlearn: 246.2718937\ttotal: 108ms\tremaining: 1.82s\n",
      "56:\tlearn: 244.3923224\ttotal: 110ms\tremaining: 1.81s\n",
      "57:\tlearn: 242.3040669\ttotal: 111ms\tremaining: 1.8s\n",
      "58:\tlearn: 240.5357981\ttotal: 112ms\tremaining: 1.79s\n",
      "59:\tlearn: 238.7009594\ttotal: 114ms\tremaining: 1.78s\n",
      "60:\tlearn: 237.2676945\ttotal: 115ms\tremaining: 1.77s\n",
      "61:\tlearn: 235.7252656\ttotal: 117ms\tremaining: 1.76s\n",
      "62:\tlearn: 234.1007596\ttotal: 118ms\tremaining: 1.75s\n",
      "63:\tlearn: 232.4179971\ttotal: 119ms\tremaining: 1.75s\n",
      "64:\tlearn: 231.1643497\ttotal: 121ms\tremaining: 1.74s\n",
      "65:\tlearn: 229.6810852\ttotal: 122ms\tremaining: 1.73s\n",
      "66:\tlearn: 228.1714231\ttotal: 124ms\tremaining: 1.72s\n",
      "67:\tlearn: 226.9338286\ttotal: 125ms\tremaining: 1.71s\n",
      "68:\tlearn: 226.0780127\ttotal: 126ms\tremaining: 1.7s\n",
      "69:\tlearn: 224.6598569\ttotal: 128ms\tremaining: 1.7s\n",
      "70:\tlearn: 223.1110463\ttotal: 129ms\tremaining: 1.69s\n",
      "71:\tlearn: 221.6545694\ttotal: 130ms\tremaining: 1.68s\n",
      "72:\tlearn: 220.2670639\ttotal: 132ms\tremaining: 1.67s\n",
      "73:\tlearn: 218.9738032\ttotal: 133ms\tremaining: 1.67s\n",
      "74:\tlearn: 217.9247112\ttotal: 135ms\tremaining: 1.66s\n",
      "75:\tlearn: 216.9202490\ttotal: 136ms\tremaining: 1.65s\n",
      "76:\tlearn: 215.5989131\ttotal: 137ms\tremaining: 1.65s\n",
      "77:\tlearn: 214.3540917\ttotal: 139ms\tremaining: 1.64s\n",
      "78:\tlearn: 213.4575339\ttotal: 140ms\tremaining: 1.63s\n",
      "79:\tlearn: 212.1036261\ttotal: 141ms\tremaining: 1.63s\n",
      "80:\tlearn: 210.8030392\ttotal: 143ms\tremaining: 1.62s\n",
      "81:\tlearn: 209.5290460\ttotal: 144ms\tremaining: 1.62s\n",
      "82:\tlearn: 208.0255508\ttotal: 146ms\tremaining: 1.61s\n",
      "83:\tlearn: 206.9124270\ttotal: 147ms\tremaining: 1.6s\n",
      "84:\tlearn: 205.5903017\ttotal: 148ms\tremaining: 1.6s\n",
      "85:\tlearn: 204.6057051\ttotal: 151ms\tremaining: 1.6s\n",
      "86:\tlearn: 203.7128429\ttotal: 153ms\tremaining: 1.6s\n",
      "87:\tlearn: 202.7663836\ttotal: 155ms\tremaining: 1.6s\n",
      "88:\tlearn: 201.9026542\ttotal: 157ms\tremaining: 1.6s\n",
      "89:\tlearn: 200.7729520\ttotal: 159ms\tremaining: 1.6s\n",
      "90:\tlearn: 199.6909954\ttotal: 161ms\tremaining: 1.6s\n",
      "91:\tlearn: 198.6341430\ttotal: 163ms\tremaining: 1.61s\n",
      "92:\tlearn: 197.6117675\ttotal: 165ms\tremaining: 1.61s\n",
      "93:\tlearn: 196.5198483\ttotal: 169ms\tremaining: 1.63s\n",
      "94:\tlearn: 195.5443940\ttotal: 174ms\tremaining: 1.66s\n",
      "95:\tlearn: 194.4203970\ttotal: 178ms\tremaining: 1.68s\n",
      "96:\tlearn: 193.2677508\ttotal: 181ms\tremaining: 1.68s\n",
      "97:\tlearn: 192.1768427\ttotal: 183ms\tremaining: 1.69s\n",
      "98:\tlearn: 191.2356955\ttotal: 187ms\tremaining: 1.71s\n",
      "99:\tlearn: 189.9934546\ttotal: 190ms\tremaining: 1.71s\n",
      "100:\tlearn: 189.2719006\ttotal: 192ms\tremaining: 1.71s\n",
      "101:\tlearn: 188.1079321\ttotal: 194ms\tremaining: 1.71s\n",
      "102:\tlearn: 187.1211517\ttotal: 196ms\tremaining: 1.7s\n",
      "103:\tlearn: 185.9059118\ttotal: 197ms\tremaining: 1.7s\n",
      "104:\tlearn: 185.2620919\ttotal: 198ms\tremaining: 1.69s\n",
      "105:\tlearn: 184.4349037\ttotal: 200ms\tremaining: 1.68s\n",
      "106:\tlearn: 183.1846237\ttotal: 201ms\tremaining: 1.68s\n",
      "107:\tlearn: 182.1448077\ttotal: 203ms\tremaining: 1.67s\n",
      "108:\tlearn: 181.4787170\ttotal: 204ms\tremaining: 1.67s\n",
      "109:\tlearn: 180.6789032\ttotal: 206ms\tremaining: 1.66s\n",
      "110:\tlearn: 179.9122461\ttotal: 207ms\tremaining: 1.66s\n",
      "111:\tlearn: 178.9952892\ttotal: 209ms\tremaining: 1.65s\n",
      "112:\tlearn: 178.6013107\ttotal: 210ms\tremaining: 1.65s\n",
      "113:\tlearn: 177.7090692\ttotal: 212ms\tremaining: 1.64s\n",
      "114:\tlearn: 176.7404828\ttotal: 213ms\tremaining: 1.64s\n",
      "115:\tlearn: 176.0415402\ttotal: 215ms\tremaining: 1.64s\n",
      "116:\tlearn: 175.5315148\ttotal: 216ms\tremaining: 1.63s\n",
      "117:\tlearn: 174.8976738\ttotal: 218ms\tremaining: 1.63s\n",
      "118:\tlearn: 174.0530870\ttotal: 219ms\tremaining: 1.62s\n",
      "119:\tlearn: 173.0700181\ttotal: 221ms\tremaining: 1.62s\n",
      "120:\tlearn: 172.2832739\ttotal: 222ms\tremaining: 1.61s\n",
      "121:\tlearn: 171.4960220\ttotal: 223ms\tremaining: 1.61s\n",
      "122:\tlearn: 171.0402978\ttotal: 225ms\tremaining: 1.6s\n",
      "123:\tlearn: 170.7119169\ttotal: 226ms\tremaining: 1.6s\n",
      "124:\tlearn: 169.6907823\ttotal: 227ms\tremaining: 1.59s\n",
      "125:\tlearn: 169.2063700\ttotal: 229ms\tremaining: 1.59s\n",
      "126:\tlearn: 168.1597529\ttotal: 230ms\tremaining: 1.58s\n",
      "127:\tlearn: 167.3156403\ttotal: 232ms\tremaining: 1.58s\n",
      "128:\tlearn: 166.3187281\ttotal: 233ms\tremaining: 1.57s\n",
      "129:\tlearn: 166.1101656\ttotal: 235ms\tremaining: 1.57s\n",
      "130:\tlearn: 165.5420012\ttotal: 236ms\tremaining: 1.56s\n",
      "131:\tlearn: 164.6237022\ttotal: 237ms\tremaining: 1.56s\n",
      "132:\tlearn: 163.7646814\ttotal: 239ms\tremaining: 1.55s\n",
      "133:\tlearn: 163.3971858\ttotal: 240ms\tremaining: 1.55s\n",
      "134:\tlearn: 162.8775666\ttotal: 241ms\tremaining: 1.55s\n",
      "135:\tlearn: 162.3591190\ttotal: 243ms\tremaining: 1.54s\n",
      "136:\tlearn: 161.8515150\ttotal: 244ms\tremaining: 1.54s\n",
      "137:\tlearn: 161.2542226\ttotal: 246ms\tremaining: 1.53s\n",
      "138:\tlearn: 160.5899334\ttotal: 248ms\tremaining: 1.53s\n",
      "139:\tlearn: 159.6307999\ttotal: 249ms\tremaining: 1.53s\n",
      "140:\tlearn: 159.0055431\ttotal: 251ms\tremaining: 1.53s\n",
      "141:\tlearn: 158.2566894\ttotal: 253ms\tremaining: 1.52s\n",
      "142:\tlearn: 157.6496356\ttotal: 254ms\tremaining: 1.52s\n",
      "143:\tlearn: 157.1590393\ttotal: 255ms\tremaining: 1.52s\n",
      "144:\tlearn: 156.5730455\ttotal: 257ms\tremaining: 1.51s\n",
      "145:\tlearn: 155.8450985\ttotal: 258ms\tremaining: 1.51s\n",
      "146:\tlearn: 155.2439210\ttotal: 260ms\tremaining: 1.51s\n",
      "147:\tlearn: 154.9417796\ttotal: 261ms\tremaining: 1.5s\n",
      "148:\tlearn: 154.3763613\ttotal: 262ms\tremaining: 1.5s\n",
      "149:\tlearn: 153.9438757\ttotal: 264ms\tremaining: 1.49s\n",
      "150:\tlearn: 153.1854046\ttotal: 265ms\tremaining: 1.49s\n",
      "151:\tlearn: 152.8631442\ttotal: 267ms\tremaining: 1.49s\n",
      "152:\tlearn: 152.3115428\ttotal: 269ms\tremaining: 1.49s\n",
      "153:\tlearn: 151.8957029\ttotal: 270ms\tremaining: 1.48s\n",
      "154:\tlearn: 151.1871329\ttotal: 271ms\tremaining: 1.48s\n",
      "155:\tlearn: 150.6828564\ttotal: 273ms\tremaining: 1.48s\n",
      "156:\tlearn: 150.2509622\ttotal: 275ms\tremaining: 1.47s\n",
      "157:\tlearn: 149.6497659\ttotal: 276ms\tremaining: 1.47s\n",
      "158:\tlearn: 148.9332067\ttotal: 277ms\tremaining: 1.47s\n",
      "159:\tlearn: 148.7156418\ttotal: 279ms\tremaining: 1.47s\n",
      "160:\tlearn: 148.2737189\ttotal: 281ms\tremaining: 1.46s\n",
      "161:\tlearn: 147.9625721\ttotal: 282ms\tremaining: 1.46s\n",
      "162:\tlearn: 147.4564915\ttotal: 284ms\tremaining: 1.46s\n",
      "163:\tlearn: 146.8606991\ttotal: 285ms\tremaining: 1.45s\n",
      "164:\tlearn: 146.2386459\ttotal: 287ms\tremaining: 1.45s\n",
      "165:\tlearn: 145.7642228\ttotal: 288ms\tremaining: 1.45s\n",
      "166:\tlearn: 145.3792204\ttotal: 290ms\tremaining: 1.45s\n",
      "167:\tlearn: 145.0935465\ttotal: 291ms\tremaining: 1.44s\n",
      "168:\tlearn: 144.6976165\ttotal: 293ms\tremaining: 1.44s\n",
      "169:\tlearn: 143.9724403\ttotal: 294ms\tremaining: 1.44s\n",
      "170:\tlearn: 143.6449839\ttotal: 296ms\tremaining: 1.43s\n",
      "171:\tlearn: 143.1999180\ttotal: 297ms\tremaining: 1.43s\n",
      "172:\tlearn: 142.9381183\ttotal: 298ms\tremaining: 1.43s\n",
      "173:\tlearn: 142.3304601\ttotal: 300ms\tremaining: 1.42s\n",
      "174:\tlearn: 141.9229624\ttotal: 301ms\tremaining: 1.42s\n",
      "175:\tlearn: 141.4043903\ttotal: 303ms\tremaining: 1.42s\n",
      "176:\tlearn: 141.0209642\ttotal: 305ms\tremaining: 1.42s\n",
      "177:\tlearn: 140.4510865\ttotal: 306ms\tremaining: 1.41s\n",
      "178:\tlearn: 140.3441522\ttotal: 307ms\tremaining: 1.41s\n",
      "179:\tlearn: 139.8478562\ttotal: 308ms\tremaining: 1.4s\n",
      "180:\tlearn: 139.7464932\ttotal: 309ms\tremaining: 1.4s\n",
      "181:\tlearn: 139.2514614\ttotal: 310ms\tremaining: 1.39s\n"
     ]
    },
    {
     "name": "stdout",
     "output_type": "stream",
     "text": [
      "182:\tlearn: 139.0274540\ttotal: 312ms\tremaining: 1.39s\n",
      "183:\tlearn: 138.4584181\ttotal: 314ms\tremaining: 1.39s\n",
      "184:\tlearn: 138.2093063\ttotal: 316ms\tremaining: 1.39s\n",
      "185:\tlearn: 137.8406250\ttotal: 318ms\tremaining: 1.39s\n",
      "186:\tlearn: 137.7280816\ttotal: 319ms\tremaining: 1.39s\n",
      "187:\tlearn: 137.2465993\ttotal: 321ms\tremaining: 1.39s\n",
      "188:\tlearn: 136.7894765\ttotal: 324ms\tremaining: 1.39s\n",
      "189:\tlearn: 136.4857311\ttotal: 325ms\tremaining: 1.39s\n",
      "190:\tlearn: 136.0043713\ttotal: 327ms\tremaining: 1.39s\n",
      "191:\tlearn: 135.7523177\ttotal: 329ms\tremaining: 1.39s\n",
      "192:\tlearn: 135.3372675\ttotal: 331ms\tremaining: 1.39s\n",
      "193:\tlearn: 135.0202084\ttotal: 334ms\tremaining: 1.39s\n",
      "194:\tlearn: 134.7757422\ttotal: 335ms\tremaining: 1.38s\n",
      "195:\tlearn: 134.3546545\ttotal: 337ms\tremaining: 1.38s\n",
      "196:\tlearn: 133.9623627\ttotal: 339ms\tremaining: 1.38s\n",
      "197:\tlearn: 133.2648869\ttotal: 340ms\tremaining: 1.38s\n",
      "198:\tlearn: 132.9318972\ttotal: 342ms\tremaining: 1.38s\n",
      "199:\tlearn: 132.5119098\ttotal: 343ms\tremaining: 1.37s\n",
      "200:\tlearn: 131.8954412\ttotal: 345ms\tremaining: 1.37s\n",
      "201:\tlearn: 131.6115557\ttotal: 346ms\tremaining: 1.37s\n",
      "202:\tlearn: 131.2095441\ttotal: 348ms\tremaining: 1.36s\n",
      "203:\tlearn: 130.6658729\ttotal: 349ms\tremaining: 1.36s\n",
      "204:\tlearn: 130.3457517\ttotal: 350ms\tremaining: 1.36s\n",
      "205:\tlearn: 130.0833818\ttotal: 352ms\tremaining: 1.36s\n",
      "206:\tlearn: 129.7238048\ttotal: 353ms\tremaining: 1.35s\n",
      "207:\tlearn: 129.0671906\ttotal: 355ms\tremaining: 1.35s\n",
      "208:\tlearn: 128.7683402\ttotal: 356ms\tremaining: 1.35s\n",
      "209:\tlearn: 128.5832593\ttotal: 357ms\tremaining: 1.34s\n",
      "210:\tlearn: 128.3749444\ttotal: 359ms\tremaining: 1.34s\n",
      "211:\tlearn: 128.1143221\ttotal: 361ms\tremaining: 1.34s\n",
      "212:\tlearn: 127.9897497\ttotal: 362ms\tremaining: 1.34s\n",
      "213:\tlearn: 127.6815659\ttotal: 364ms\tremaining: 1.33s\n",
      "214:\tlearn: 127.2006697\ttotal: 365ms\tremaining: 1.33s\n",
      "215:\tlearn: 127.0352179\ttotal: 367ms\tremaining: 1.33s\n",
      "216:\tlearn: 126.9617234\ttotal: 369ms\tremaining: 1.33s\n",
      "217:\tlearn: 126.7776328\ttotal: 370ms\tremaining: 1.33s\n",
      "218:\tlearn: 126.3802524\ttotal: 372ms\tremaining: 1.32s\n",
      "219:\tlearn: 126.1995377\ttotal: 373ms\tremaining: 1.32s\n",
      "220:\tlearn: 126.1155383\ttotal: 375ms\tremaining: 1.32s\n",
      "221:\tlearn: 125.9832799\ttotal: 377ms\tremaining: 1.32s\n",
      "222:\tlearn: 125.7495770\ttotal: 378ms\tremaining: 1.32s\n",
      "223:\tlearn: 125.2409845\ttotal: 379ms\tremaining: 1.31s\n",
      "224:\tlearn: 124.9538099\ttotal: 381ms\tremaining: 1.31s\n",
      "225:\tlearn: 124.7089151\ttotal: 382ms\tremaining: 1.31s\n",
      "226:\tlearn: 124.3984858\ttotal: 384ms\tremaining: 1.31s\n",
      "227:\tlearn: 124.0014588\ttotal: 385ms\tremaining: 1.3s\n",
      "228:\tlearn: 123.7139174\ttotal: 387ms\tremaining: 1.3s\n",
      "229:\tlearn: 123.6555034\ttotal: 387ms\tremaining: 1.29s\n",
      "230:\tlearn: 123.3398368\ttotal: 388ms\tremaining: 1.29s\n",
      "231:\tlearn: 122.7561150\ttotal: 390ms\tremaining: 1.29s\n",
      "232:\tlearn: 122.5676806\ttotal: 391ms\tremaining: 1.29s\n",
      "233:\tlearn: 122.1759040\ttotal: 393ms\tremaining: 1.28s\n",
      "234:\tlearn: 121.5761316\ttotal: 394ms\tremaining: 1.28s\n",
      "235:\tlearn: 121.3308579\ttotal: 396ms\tremaining: 1.28s\n",
      "236:\tlearn: 120.6316918\ttotal: 398ms\tremaining: 1.28s\n",
      "237:\tlearn: 120.0241441\ttotal: 401ms\tremaining: 1.28s\n",
      "238:\tlearn: 119.6974692\ttotal: 403ms\tremaining: 1.28s\n",
      "239:\tlearn: 119.5295579\ttotal: 404ms\tremaining: 1.28s\n",
      "240:\tlearn: 118.8105516\ttotal: 405ms\tremaining: 1.28s\n",
      "241:\tlearn: 118.5001438\ttotal: 407ms\tremaining: 1.27s\n",
      "242:\tlearn: 118.1525333\ttotal: 408ms\tremaining: 1.27s\n",
      "243:\tlearn: 117.8294708\ttotal: 410ms\tremaining: 1.27s\n",
      "244:\tlearn: 117.4650856\ttotal: 411ms\tremaining: 1.27s\n",
      "245:\tlearn: 117.2329146\ttotal: 412ms\tremaining: 1.26s\n",
      "246:\tlearn: 116.6281150\ttotal: 414ms\tremaining: 1.26s\n",
      "247:\tlearn: 116.4382173\ttotal: 416ms\tremaining: 1.26s\n",
      "248:\tlearn: 115.7804838\ttotal: 417ms\tremaining: 1.26s\n",
      "249:\tlearn: 115.4468389\ttotal: 419ms\tremaining: 1.25s\n",
      "250:\tlearn: 115.2535858\ttotal: 420ms\tremaining: 1.25s\n",
      "251:\tlearn: 115.0959725\ttotal: 421ms\tremaining: 1.25s\n",
      "252:\tlearn: 114.5054098\ttotal: 423ms\tremaining: 1.25s\n",
      "253:\tlearn: 114.2196805\ttotal: 424ms\tremaining: 1.25s\n",
      "254:\tlearn: 113.9389493\ttotal: 425ms\tremaining: 1.24s\n",
      "255:\tlearn: 113.8318782\ttotal: 427ms\tremaining: 1.24s\n",
      "256:\tlearn: 113.7010766\ttotal: 428ms\tremaining: 1.24s\n",
      "257:\tlearn: 113.5349213\ttotal: 430ms\tremaining: 1.24s\n",
      "258:\tlearn: 113.2939692\ttotal: 431ms\tremaining: 1.23s\n",
      "259:\tlearn: 112.8734855\ttotal: 432ms\tremaining: 1.23s\n",
      "260:\tlearn: 112.2073904\ttotal: 434ms\tremaining: 1.23s\n",
      "261:\tlearn: 111.7098455\ttotal: 436ms\tremaining: 1.23s\n",
      "262:\tlearn: 111.4861643\ttotal: 437ms\tremaining: 1.23s\n",
      "263:\tlearn: 111.4065123\ttotal: 439ms\tremaining: 1.22s\n",
      "264:\tlearn: 110.9193214\ttotal: 440ms\tremaining: 1.22s\n",
      "265:\tlearn: 110.2486713\ttotal: 442ms\tremaining: 1.22s\n",
      "266:\tlearn: 110.1718829\ttotal: 443ms\tremaining: 1.22s\n",
      "267:\tlearn: 109.8233102\ttotal: 444ms\tremaining: 1.21s\n",
      "268:\tlearn: 109.2576068\ttotal: 446ms\tremaining: 1.21s\n",
      "269:\tlearn: 109.1038965\ttotal: 447ms\tremaining: 1.21s\n",
      "270:\tlearn: 108.5183523\ttotal: 449ms\tremaining: 1.21s\n",
      "271:\tlearn: 108.4470954\ttotal: 450ms\tremaining: 1.2s\n",
      "272:\tlearn: 108.0259628\ttotal: 452ms\tremaining: 1.2s\n",
      "273:\tlearn: 107.5793316\ttotal: 453ms\tremaining: 1.2s\n",
      "274:\tlearn: 107.4747562\ttotal: 455ms\tremaining: 1.2s\n",
      "275:\tlearn: 107.4015080\ttotal: 456ms\tremaining: 1.2s\n",
      "276:\tlearn: 106.7954512\ttotal: 457ms\tremaining: 1.19s\n",
      "277:\tlearn: 106.3607188\ttotal: 459ms\tremaining: 1.19s\n",
      "278:\tlearn: 106.2892222\ttotal: 461ms\tremaining: 1.19s\n",
      "279:\tlearn: 106.1701389\ttotal: 462ms\tremaining: 1.19s\n",
      "280:\tlearn: 106.0889424\ttotal: 464ms\tremaining: 1.19s\n",
      "281:\tlearn: 105.8903610\ttotal: 465ms\tremaining: 1.18s\n",
      "282:\tlearn: 105.6531794\ttotal: 467ms\tremaining: 1.18s\n",
      "283:\tlearn: 105.3489666\ttotal: 469ms\tremaining: 1.18s\n",
      "284:\tlearn: 105.2156952\ttotal: 470ms\tremaining: 1.18s\n",
      "285:\tlearn: 104.7489850\ttotal: 472ms\tremaining: 1.18s\n",
      "286:\tlearn: 104.4701409\ttotal: 475ms\tremaining: 1.18s\n",
      "287:\tlearn: 104.3778769\ttotal: 477ms\tremaining: 1.18s\n",
      "288:\tlearn: 103.8224679\ttotal: 479ms\tremaining: 1.18s\n",
      "289:\tlearn: 103.2728523\ttotal: 481ms\tremaining: 1.18s\n",
      "290:\tlearn: 102.7341369\ttotal: 483ms\tremaining: 1.18s\n",
      "291:\tlearn: 102.5732242\ttotal: 485ms\tremaining: 1.18s\n",
      "292:\tlearn: 102.4869595\ttotal: 487ms\tremaining: 1.17s\n",
      "293:\tlearn: 101.9743362\ttotal: 489ms\tremaining: 1.17s\n",
      "294:\tlearn: 101.8782948\ttotal: 491ms\tremaining: 1.17s\n",
      "295:\tlearn: 101.3571512\ttotal: 493ms\tremaining: 1.17s\n",
      "296:\tlearn: 100.8372462\ttotal: 494ms\tremaining: 1.17s\n",
      "297:\tlearn: 100.6707783\ttotal: 495ms\tremaining: 1.17s\n",
      "298:\tlearn: 100.3215940\ttotal: 497ms\tremaining: 1.16s\n",
      "299:\tlearn: 99.8162460\ttotal: 498ms\tremaining: 1.16s\n",
      "300:\tlearn: 99.7024172\ttotal: 501ms\tremaining: 1.16s\n",
      "301:\tlearn: 99.2308832\ttotal: 502ms\tremaining: 1.16s\n",
      "302:\tlearn: 98.7981083\ttotal: 504ms\tremaining: 1.16s\n",
      "303:\tlearn: 98.6418362\ttotal: 505ms\tremaining: 1.16s\n",
      "304:\tlearn: 98.1248564\ttotal: 506ms\tremaining: 1.15s\n",
      "305:\tlearn: 97.9442581\ttotal: 508ms\tremaining: 1.15s\n",
      "306:\tlearn: 97.5091297\ttotal: 509ms\tremaining: 1.15s\n",
      "307:\tlearn: 97.0381695\ttotal: 511ms\tremaining: 1.15s\n",
      "308:\tlearn: 96.5858904\ttotal: 512ms\tremaining: 1.14s\n",
      "309:\tlearn: 96.4466124\ttotal: 514ms\tremaining: 1.14s\n",
      "310:\tlearn: 95.9786304\ttotal: 515ms\tremaining: 1.14s\n",
      "311:\tlearn: 95.5390501\ttotal: 516ms\tremaining: 1.14s\n",
      "312:\tlearn: 95.3241323\ttotal: 518ms\tremaining: 1.14s\n",
      "313:\tlearn: 95.1166839\ttotal: 519ms\tremaining: 1.13s\n",
      "314:\tlearn: 94.6729021\ttotal: 521ms\tremaining: 1.13s\n",
      "315:\tlearn: 94.2571678\ttotal: 522ms\tremaining: 1.13s\n",
      "316:\tlearn: 93.9414786\ttotal: 523ms\tremaining: 1.13s\n",
      "317:\tlearn: 93.7804159\ttotal: 525ms\tremaining: 1.13s\n",
      "318:\tlearn: 93.5413306\ttotal: 526ms\tremaining: 1.12s\n",
      "319:\tlearn: 93.4280107\ttotal: 527ms\tremaining: 1.12s\n",
      "320:\tlearn: 92.9986302\ttotal: 529ms\tremaining: 1.12s\n",
      "321:\tlearn: 92.9421610\ttotal: 530ms\tremaining: 1.12s\n",
      "322:\tlearn: 92.4662692\ttotal: 532ms\tremaining: 1.11s\n",
      "323:\tlearn: 92.0455485\ttotal: 533ms\tremaining: 1.11s\n",
      "324:\tlearn: 91.6664667\ttotal: 534ms\tremaining: 1.11s\n",
      "325:\tlearn: 91.5600717\ttotal: 536ms\tremaining: 1.11s\n",
      "326:\tlearn: 91.5004974\ttotal: 537ms\tremaining: 1.1s\n",
      "327:\tlearn: 91.0716355\ttotal: 538ms\tremaining: 1.1s\n",
      "328:\tlearn: 90.6376777\ttotal: 540ms\tremaining: 1.1s\n",
      "329:\tlearn: 90.2132341\ttotal: 541ms\tremaining: 1.1s\n",
      "330:\tlearn: 90.1525801\ttotal: 542ms\tremaining: 1.1s\n",
      "331:\tlearn: 89.7879501\ttotal: 544ms\tremaining: 1.09s\n",
      "332:\tlearn: 89.3626218\ttotal: 545ms\tremaining: 1.09s\n",
      "333:\tlearn: 89.1274526\ttotal: 547ms\tremaining: 1.09s\n",
      "334:\tlearn: 88.7222011\ttotal: 548ms\tremaining: 1.09s\n",
      "335:\tlearn: 88.5311901\ttotal: 549ms\tremaining: 1.08s\n",
      "336:\tlearn: 88.0699983\ttotal: 551ms\tremaining: 1.08s\n",
      "337:\tlearn: 87.6737037\ttotal: 552ms\tremaining: 1.08s\n",
      "338:\tlearn: 87.3069085\ttotal: 553ms\tremaining: 1.08s\n",
      "339:\tlearn: 86.8639700\ttotal: 555ms\tremaining: 1.08s\n",
      "340:\tlearn: 86.7339532\ttotal: 556ms\tremaining: 1.07s\n",
      "341:\tlearn: 86.5677333\ttotal: 557ms\tremaining: 1.07s\n",
      "342:\tlearn: 86.4361752\ttotal: 559ms\tremaining: 1.07s\n",
      "343:\tlearn: 86.2469458\ttotal: 560ms\tremaining: 1.07s\n",
      "344:\tlearn: 86.1967306\ttotal: 561ms\tremaining: 1.06s\n",
      "345:\tlearn: 86.0709863\ttotal: 563ms\tremaining: 1.06s\n",
      "346:\tlearn: 85.6398833\ttotal: 564ms\tremaining: 1.06s\n",
      "347:\tlearn: 85.5979263\ttotal: 566ms\tremaining: 1.06s\n",
      "348:\tlearn: 85.4437261\ttotal: 567ms\tremaining: 1.06s\n",
      "349:\tlearn: 85.0669752\ttotal: 568ms\tremaining: 1.05s\n",
      "350:\tlearn: 85.0164116\ttotal: 570ms\tremaining: 1.05s\n",
      "351:\tlearn: 84.6350071\ttotal: 571ms\tremaining: 1.05s\n",
      "352:\tlearn: 84.1473245\ttotal: 572ms\tremaining: 1.05s\n",
      "353:\tlearn: 83.8115391\ttotal: 574ms\tremaining: 1.05s\n",
      "354:\tlearn: 83.4823620\ttotal: 575ms\tremaining: 1.04s\n",
      "355:\tlearn: 83.1595406\ttotal: 576ms\tremaining: 1.04s\n",
      "356:\tlearn: 82.7280745\ttotal: 578ms\tremaining: 1.04s\n",
      "357:\tlearn: 82.6210086\ttotal: 579ms\tremaining: 1.04s\n",
      "358:\tlearn: 82.3077194\ttotal: 581ms\tremaining: 1.04s\n",
      "359:\tlearn: 81.9112073\ttotal: 583ms\tremaining: 1.03s\n",
      "360:\tlearn: 81.5518193\ttotal: 584ms\tremaining: 1.03s\n",
      "361:\tlearn: 81.4267033\ttotal: 585ms\tremaining: 1.03s\n",
      "362:\tlearn: 81.0255982\ttotal: 587ms\tremaining: 1.03s\n",
      "363:\tlearn: 80.6891175\ttotal: 588ms\tremaining: 1.03s\n",
      "364:\tlearn: 80.4390711\ttotal: 590ms\tremaining: 1.03s\n",
      "365:\tlearn: 80.1232319\ttotal: 591ms\tremaining: 1.02s\n",
      "366:\tlearn: 80.0808756\ttotal: 593ms\tremaining: 1.02s\n",
      "367:\tlearn: 79.7090424\ttotal: 594ms\tremaining: 1.02s\n",
      "368:\tlearn: 79.3969152\ttotal: 595ms\tremaining: 1.02s\n",
      "369:\tlearn: 79.0731259\ttotal: 597ms\tremaining: 1.01s\n",
      "370:\tlearn: 78.9862934\ttotal: 598ms\tremaining: 1.01s\n",
      "371:\tlearn: 78.7730476\ttotal: 599ms\tremaining: 1.01s\n",
      "372:\tlearn: 78.6302158\ttotal: 601ms\tremaining: 1.01s\n",
      "373:\tlearn: 78.5184111\ttotal: 603ms\tremaining: 1.01s\n",
      "374:\tlearn: 78.3814955\ttotal: 605ms\tremaining: 1.01s\n",
      "375:\tlearn: 77.9622261\ttotal: 607ms\tremaining: 1.01s\n",
      "376:\tlearn: 77.8601787\ttotal: 609ms\tremaining: 1s\n",
      "377:\tlearn: 77.7650898\ttotal: 610ms\tremaining: 1s\n",
      "378:\tlearn: 77.3945927\ttotal: 613ms\tremaining: 1s\n",
      "379:\tlearn: 77.3348237\ttotal: 615ms\tremaining: 1s\n",
      "380:\tlearn: 77.2431856\ttotal: 618ms\tremaining: 1s\n",
      "381:\tlearn: 76.9192891\ttotal: 620ms\tremaining: 1s\n",
      "382:\tlearn: 76.7949544\ttotal: 622ms\tremaining: 1s\n",
      "383:\tlearn: 76.5217530\ttotal: 624ms\tremaining: 1s\n",
      "384:\tlearn: 76.1648512\ttotal: 626ms\tremaining: 1000ms\n",
      "385:\tlearn: 75.9867656\ttotal: 628ms\tremaining: 999ms\n",
      "386:\tlearn: 75.7293435\ttotal: 630ms\tremaining: 998ms\n",
      "387:\tlearn: 75.6419805\ttotal: 633ms\tremaining: 998ms\n"
     ]
    },
    {
     "name": "stdout",
     "output_type": "stream",
     "text": [
      "388:\tlearn: 75.3138222\ttotal: 636ms\tremaining: 998ms\n",
      "389:\tlearn: 75.0125736\ttotal: 637ms\tremaining: 996ms\n",
      "390:\tlearn: 74.9803725\ttotal: 638ms\tremaining: 994ms\n",
      "391:\tlearn: 74.6113970\ttotal: 640ms\tremaining: 992ms\n",
      "392:\tlearn: 74.3668766\ttotal: 641ms\tremaining: 991ms\n",
      "393:\tlearn: 74.2752147\ttotal: 644ms\tremaining: 990ms\n",
      "394:\tlearn: 74.2172412\ttotal: 645ms\tremaining: 988ms\n",
      "395:\tlearn: 73.8652110\ttotal: 646ms\tremaining: 986ms\n",
      "396:\tlearn: 73.6963645\ttotal: 649ms\tremaining: 986ms\n",
      "397:\tlearn: 73.4075086\ttotal: 651ms\tremaining: 985ms\n",
      "398:\tlearn: 73.0346771\ttotal: 653ms\tremaining: 984ms\n",
      "399:\tlearn: 72.9971586\ttotal: 655ms\tremaining: 983ms\n",
      "400:\tlearn: 72.6755493\ttotal: 657ms\tremaining: 982ms\n",
      "401:\tlearn: 72.5972282\ttotal: 659ms\tremaining: 980ms\n",
      "402:\tlearn: 72.4345974\ttotal: 660ms\tremaining: 978ms\n",
      "403:\tlearn: 72.2185716\ttotal: 662ms\tremaining: 976ms\n",
      "404:\tlearn: 71.9251032\ttotal: 663ms\tremaining: 974ms\n",
      "405:\tlearn: 71.8901544\ttotal: 664ms\tremaining: 972ms\n",
      "406:\tlearn: 71.5338422\ttotal: 666ms\tremaining: 970ms\n",
      "407:\tlearn: 71.4477827\ttotal: 667ms\tremaining: 968ms\n",
      "408:\tlearn: 71.4127550\ttotal: 668ms\tremaining: 966ms\n",
      "409:\tlearn: 71.3322454\ttotal: 670ms\tremaining: 964ms\n",
      "410:\tlearn: 71.2981804\ttotal: 672ms\tremaining: 962ms\n",
      "411:\tlearn: 71.0089173\ttotal: 673ms\tremaining: 961ms\n",
      "412:\tlearn: 70.7854493\ttotal: 675ms\tremaining: 959ms\n",
      "413:\tlearn: 70.4930103\ttotal: 677ms\tremaining: 958ms\n",
      "414:\tlearn: 70.1976578\ttotal: 678ms\tremaining: 956ms\n",
      "415:\tlearn: 69.9565552\ttotal: 679ms\tremaining: 954ms\n",
      "416:\tlearn: 69.8912103\ttotal: 681ms\tremaining: 952ms\n",
      "417:\tlearn: 69.7356706\ttotal: 683ms\tremaining: 950ms\n",
      "418:\tlearn: 69.6634412\ttotal: 684ms\tremaining: 949ms\n",
      "419:\tlearn: 69.2943609\ttotal: 686ms\tremaining: 947ms\n",
      "420:\tlearn: 69.0269983\ttotal: 687ms\tremaining: 945ms\n",
      "421:\tlearn: 68.8653561\ttotal: 689ms\tremaining: 943ms\n",
      "422:\tlearn: 68.6555281\ttotal: 690ms\tremaining: 941ms\n",
      "423:\tlearn: 68.2338294\ttotal: 691ms\tremaining: 939ms\n",
      "424:\tlearn: 68.0909898\ttotal: 693ms\tremaining: 937ms\n",
      "425:\tlearn: 67.7905722\ttotal: 696ms\tremaining: 938ms\n",
      "426:\tlearn: 67.5586853\ttotal: 699ms\tremaining: 939ms\n",
      "427:\tlearn: 67.3518839\ttotal: 702ms\tremaining: 939ms\n",
      "428:\tlearn: 67.2029794\ttotal: 704ms\tremaining: 937ms\n",
      "429:\tlearn: 66.9467892\ttotal: 706ms\tremaining: 935ms\n",
      "430:\tlearn: 66.7821891\ttotal: 707ms\tremaining: 933ms\n",
      "431:\tlearn: 66.4955741\ttotal: 709ms\tremaining: 932ms\n",
      "432:\tlearn: 66.2240359\ttotal: 711ms\tremaining: 931ms\n",
      "433:\tlearn: 65.9832136\ttotal: 714ms\tremaining: 931ms\n",
      "434:\tlearn: 65.7761577\ttotal: 715ms\tremaining: 929ms\n",
      "435:\tlearn: 65.4845025\ttotal: 717ms\tremaining: 927ms\n",
      "436:\tlearn: 65.4215937\ttotal: 719ms\tremaining: 926ms\n",
      "437:\tlearn: 65.1768197\ttotal: 720ms\tremaining: 924ms\n",
      "438:\tlearn: 65.1071642\ttotal: 722ms\tremaining: 922ms\n",
      "439:\tlearn: 65.0705857\ttotal: 723ms\tremaining: 921ms\n",
      "440:\tlearn: 64.7782864\ttotal: 725ms\tremaining: 919ms\n",
      "441:\tlearn: 64.5284944\ttotal: 727ms\tremaining: 918ms\n",
      "442:\tlearn: 64.3504433\ttotal: 728ms\tremaining: 916ms\n",
      "443:\tlearn: 64.3001112\ttotal: 730ms\tremaining: 914ms\n",
      "444:\tlearn: 63.9063758\ttotal: 731ms\tremaining: 912ms\n",
      "445:\tlearn: 63.8746707\ttotal: 733ms\tremaining: 910ms\n",
      "446:\tlearn: 63.5487944\ttotal: 734ms\tremaining: 908ms\n",
      "447:\tlearn: 63.3406893\ttotal: 735ms\tremaining: 906ms\n",
      "448:\tlearn: 63.0992921\ttotal: 737ms\tremaining: 904ms\n",
      "449:\tlearn: 62.8676535\ttotal: 738ms\tremaining: 902ms\n",
      "450:\tlearn: 62.6978975\ttotal: 740ms\tremaining: 901ms\n",
      "451:\tlearn: 62.4888356\ttotal: 741ms\tremaining: 899ms\n",
      "452:\tlearn: 62.4591033\ttotal: 743ms\tremaining: 897ms\n",
      "453:\tlearn: 62.3981355\ttotal: 744ms\tremaining: 895ms\n",
      "454:\tlearn: 62.2755114\ttotal: 746ms\tremaining: 893ms\n",
      "455:\tlearn: 62.0286915\ttotal: 747ms\tremaining: 891ms\n",
      "456:\tlearn: 61.8101493\ttotal: 748ms\tremaining: 889ms\n",
      "457:\tlearn: 61.7125436\ttotal: 750ms\tremaining: 887ms\n",
      "458:\tlearn: 61.3464743\ttotal: 751ms\tremaining: 885ms\n",
      "459:\tlearn: 61.0777407\ttotal: 753ms\tremaining: 883ms\n",
      "460:\tlearn: 60.7354015\ttotal: 754ms\tremaining: 882ms\n",
      "461:\tlearn: 60.7070785\ttotal: 755ms\tremaining: 880ms\n",
      "462:\tlearn: 60.4380726\ttotal: 757ms\tremaining: 878ms\n",
      "463:\tlearn: 60.3794644\ttotal: 758ms\tremaining: 876ms\n",
      "464:\tlearn: 60.3096146\ttotal: 760ms\tremaining: 874ms\n",
      "465:\tlearn: 60.2803998\ttotal: 761ms\tremaining: 872ms\n",
      "466:\tlearn: 60.2489158\ttotal: 763ms\tremaining: 870ms\n",
      "467:\tlearn: 60.2187601\ttotal: 764ms\tremaining: 868ms\n",
      "468:\tlearn: 59.9901529\ttotal: 765ms\tremaining: 867ms\n",
      "469:\tlearn: 59.7821357\ttotal: 769ms\tremaining: 867ms\n",
      "470:\tlearn: 59.7334527\ttotal: 771ms\tremaining: 866ms\n",
      "471:\tlearn: 59.4989600\ttotal: 773ms\tremaining: 865ms\n",
      "472:\tlearn: 59.1865219\ttotal: 775ms\tremaining: 864ms\n",
      "473:\tlearn: 58.9478658\ttotal: 777ms\tremaining: 863ms\n",
      "474:\tlearn: 58.6836425\ttotal: 779ms\tremaining: 861ms\n",
      "475:\tlearn: 58.6522637\ttotal: 780ms\tremaining: 859ms\n",
      "476:\tlearn: 58.5963542\ttotal: 781ms\tremaining: 857ms\n",
      "477:\tlearn: 58.3648296\ttotal: 784ms\tremaining: 856ms\n",
      "478:\tlearn: 58.3188915\ttotal: 787ms\tremaining: 856ms\n",
      "479:\tlearn: 58.1813689\ttotal: 789ms\tremaining: 855ms\n",
      "480:\tlearn: 57.9437076\ttotal: 793ms\tremaining: 855ms\n",
      "481:\tlearn: 57.7694232\ttotal: 795ms\tremaining: 854ms\n",
      "482:\tlearn: 57.7437082\ttotal: 797ms\tremaining: 853ms\n",
      "483:\tlearn: 57.5081532\ttotal: 800ms\tremaining: 853ms\n",
      "484:\tlearn: 57.2134650\ttotal: 802ms\tremaining: 851ms\n",
      "485:\tlearn: 56.9733344\ttotal: 804ms\tremaining: 850ms\n",
      "486:\tlearn: 56.9412760\ttotal: 806ms\tremaining: 849ms\n",
      "487:\tlearn: 56.8640335\ttotal: 807ms\tremaining: 847ms\n",
      "488:\tlearn: 56.5624625\ttotal: 809ms\tremaining: 846ms\n",
      "489:\tlearn: 56.4986179\ttotal: 812ms\tremaining: 845ms\n",
      "490:\tlearn: 56.3527490\ttotal: 814ms\tremaining: 844ms\n",
      "491:\tlearn: 56.0961642\ttotal: 816ms\tremaining: 842ms\n",
      "492:\tlearn: 55.8256120\ttotal: 818ms\tremaining: 841ms\n",
      "493:\tlearn: 55.6150160\ttotal: 820ms\tremaining: 839ms\n",
      "494:\tlearn: 55.5631279\ttotal: 822ms\tremaining: 839ms\n",
      "495:\tlearn: 55.3736400\ttotal: 826ms\tremaining: 839ms\n",
      "496:\tlearn: 55.3441677\ttotal: 831ms\tremaining: 841ms\n",
      "497:\tlearn: 55.1995384\ttotal: 833ms\tremaining: 839ms\n",
      "498:\tlearn: 54.8980322\ttotal: 834ms\tremaining: 837ms\n",
      "499:\tlearn: 54.7119603\ttotal: 835ms\tremaining: 835ms\n",
      "500:\tlearn: 54.6236591\ttotal: 837ms\tremaining: 834ms\n",
      "501:\tlearn: 54.4131558\ttotal: 839ms\tremaining: 832ms\n",
      "502:\tlearn: 54.3901230\ttotal: 841ms\tremaining: 831ms\n",
      "503:\tlearn: 54.3662021\ttotal: 842ms\tremaining: 829ms\n",
      "504:\tlearn: 54.2068745\ttotal: 844ms\tremaining: 828ms\n",
      "505:\tlearn: 54.1800600\ttotal: 847ms\tremaining: 826ms\n",
      "506:\tlearn: 54.1376632\ttotal: 848ms\tremaining: 825ms\n",
      "507:\tlearn: 53.9788342\ttotal: 850ms\tremaining: 823ms\n",
      "508:\tlearn: 53.9294324\ttotal: 852ms\tremaining: 822ms\n",
      "509:\tlearn: 53.6786369\ttotal: 855ms\tremaining: 822ms\n",
      "510:\tlearn: 53.4578789\ttotal: 857ms\tremaining: 820ms\n",
      "511:\tlearn: 53.3261204\ttotal: 859ms\tremaining: 819ms\n",
      "512:\tlearn: 53.1331329\ttotal: 862ms\tremaining: 818ms\n",
      "513:\tlearn: 52.9261288\ttotal: 864ms\tremaining: 817ms\n",
      "514:\tlearn: 52.7447311\ttotal: 866ms\tremaining: 815ms\n",
      "515:\tlearn: 52.5966869\ttotal: 868ms\tremaining: 814ms\n",
      "516:\tlearn: 52.4130565\ttotal: 870ms\tremaining: 813ms\n",
      "517:\tlearn: 52.1948654\ttotal: 872ms\tremaining: 811ms\n",
      "518:\tlearn: 51.9463802\ttotal: 876ms\tremaining: 812ms\n",
      "519:\tlearn: 51.9178306\ttotal: 880ms\tremaining: 813ms\n",
      "520:\tlearn: 51.7246141\ttotal: 883ms\tremaining: 812ms\n",
      "521:\tlearn: 51.5669648\ttotal: 885ms\tremaining: 811ms\n",
      "522:\tlearn: 51.5221972\ttotal: 887ms\tremaining: 809ms\n",
      "523:\tlearn: 51.3293697\ttotal: 889ms\tremaining: 807ms\n",
      "524:\tlearn: 51.1767477\ttotal: 890ms\tremaining: 805ms\n",
      "525:\tlearn: 51.0961343\ttotal: 892ms\tremaining: 804ms\n",
      "526:\tlearn: 50.9995340\ttotal: 893ms\tremaining: 802ms\n",
      "527:\tlearn: 50.8846082\ttotal: 895ms\tremaining: 800ms\n",
      "528:\tlearn: 50.7478794\ttotal: 896ms\tremaining: 798ms\n",
      "529:\tlearn: 50.5116322\ttotal: 898ms\tremaining: 796ms\n",
      "530:\tlearn: 50.2760468\ttotal: 899ms\tremaining: 794ms\n",
      "531:\tlearn: 50.1040144\ttotal: 901ms\tremaining: 792ms\n",
      "532:\tlearn: 49.8827812\ttotal: 902ms\tremaining: 791ms\n",
      "533:\tlearn: 49.8255711\ttotal: 904ms\tremaining: 789ms\n",
      "534:\tlearn: 49.7890438\ttotal: 905ms\tremaining: 787ms\n",
      "535:\tlearn: 49.6290340\ttotal: 907ms\tremaining: 785ms\n",
      "536:\tlearn: 49.3965889\ttotal: 908ms\tremaining: 783ms\n",
      "537:\tlearn: 49.1641285\ttotal: 911ms\tremaining: 782ms\n",
      "538:\tlearn: 48.9654180\ttotal: 913ms\tremaining: 781ms\n",
      "539:\tlearn: 48.9278341\ttotal: 914ms\tremaining: 779ms\n",
      "540:\tlearn: 48.8457405\ttotal: 916ms\tremaining: 777ms\n",
      "541:\tlearn: 48.8041804\ttotal: 917ms\tremaining: 775ms\n",
      "542:\tlearn: 48.7179291\ttotal: 918ms\tremaining: 773ms\n",
      "543:\tlearn: 48.6759771\ttotal: 920ms\tremaining: 772ms\n",
      "544:\tlearn: 48.4792967\ttotal: 922ms\tremaining: 770ms\n",
      "545:\tlearn: 48.3843114\ttotal: 923ms\tremaining: 768ms\n",
      "546:\tlearn: 48.2453957\ttotal: 925ms\tremaining: 766ms\n",
      "547:\tlearn: 48.0231685\ttotal: 926ms\tremaining: 764ms\n",
      "548:\tlearn: 47.8612203\ttotal: 928ms\tremaining: 762ms\n",
      "549:\tlearn: 47.7590091\ttotal: 929ms\tremaining: 760ms\n",
      "550:\tlearn: 47.6561968\ttotal: 931ms\tremaining: 758ms\n",
      "551:\tlearn: 47.4106594\ttotal: 932ms\tremaining: 757ms\n",
      "552:\tlearn: 47.2194456\ttotal: 934ms\tremaining: 755ms\n",
      "553:\tlearn: 47.0783850\ttotal: 935ms\tremaining: 753ms\n",
      "554:\tlearn: 46.8215038\ttotal: 936ms\tremaining: 751ms\n",
      "555:\tlearn: 46.6674572\ttotal: 938ms\tremaining: 749ms\n",
      "556:\tlearn: 46.6418726\ttotal: 945ms\tremaining: 752ms\n",
      "557:\tlearn: 46.5248666\ttotal: 948ms\tremaining: 751ms\n"
     ]
    },
    {
     "name": "stdout",
     "output_type": "stream",
     "text": [
      "558:\tlearn: 46.5061320\ttotal: 950ms\tremaining: 750ms\n",
      "559:\tlearn: 46.4397708\ttotal: 953ms\tremaining: 749ms\n",
      "560:\tlearn: 46.3904442\ttotal: 956ms\tremaining: 748ms\n",
      "561:\tlearn: 46.2576989\ttotal: 958ms\tremaining: 747ms\n",
      "562:\tlearn: 45.9568721\ttotal: 961ms\tremaining: 746ms\n",
      "563:\tlearn: 45.8482033\ttotal: 963ms\tremaining: 744ms\n",
      "564:\tlearn: 45.6689466\ttotal: 964ms\tremaining: 742ms\n",
      "565:\tlearn: 45.4222796\ttotal: 966ms\tremaining: 741ms\n",
      "566:\tlearn: 45.2404146\ttotal: 967ms\tremaining: 739ms\n",
      "567:\tlearn: 45.0903054\ttotal: 969ms\tremaining: 737ms\n",
      "568:\tlearn: 44.7991969\ttotal: 971ms\tremaining: 735ms\n",
      "569:\tlearn: 44.6413756\ttotal: 972ms\tremaining: 733ms\n",
      "570:\tlearn: 44.5799550\ttotal: 973ms\tremaining: 731ms\n",
      "571:\tlearn: 44.5651506\ttotal: 975ms\tremaining: 730ms\n",
      "572:\tlearn: 44.4233165\ttotal: 978ms\tremaining: 729ms\n",
      "573:\tlearn: 44.2369747\ttotal: 980ms\tremaining: 727ms\n",
      "574:\tlearn: 44.0545664\ttotal: 981ms\tremaining: 725ms\n",
      "575:\tlearn: 43.9004385\ttotal: 983ms\tremaining: 723ms\n",
      "576:\tlearn: 43.7138119\ttotal: 984ms\tremaining: 721ms\n",
      "577:\tlearn: 43.5755556\ttotal: 986ms\tremaining: 720ms\n",
      "578:\tlearn: 43.4934072\ttotal: 987ms\tremaining: 718ms\n",
      "579:\tlearn: 43.4629843\ttotal: 989ms\tremaining: 716ms\n",
      "580:\tlearn: 43.3825129\ttotal: 990ms\tremaining: 714ms\n",
      "581:\tlearn: 43.2549166\ttotal: 992ms\tremaining: 712ms\n",
      "582:\tlearn: 43.1514800\ttotal: 993ms\tremaining: 711ms\n",
      "583:\tlearn: 42.9846414\ttotal: 995ms\tremaining: 709ms\n",
      "584:\tlearn: 42.8538804\ttotal: 996ms\tremaining: 707ms\n",
      "585:\tlearn: 42.7710806\ttotal: 998ms\tremaining: 705ms\n",
      "586:\tlearn: 42.5351412\ttotal: 999ms\tremaining: 703ms\n",
      "587:\tlearn: 42.4784055\ttotal: 1s\tremaining: 701ms\n",
      "588:\tlearn: 42.3174788\ttotal: 1s\tremaining: 699ms\n",
      "589:\tlearn: 42.1761529\ttotal: 1s\tremaining: 698ms\n",
      "590:\tlearn: 42.0486059\ttotal: 1.01s\tremaining: 696ms\n",
      "591:\tlearn: 41.8689529\ttotal: 1.01s\tremaining: 694ms\n",
      "592:\tlearn: 41.8306286\ttotal: 1.01s\tremaining: 693ms\n",
      "593:\tlearn: 41.6966124\ttotal: 1.01s\tremaining: 692ms\n",
      "594:\tlearn: 41.6647082\ttotal: 1.01s\tremaining: 690ms\n",
      "595:\tlearn: 41.5609917\ttotal: 1.02s\tremaining: 689ms\n",
      "596:\tlearn: 41.4632566\ttotal: 1.02s\tremaining: 687ms\n",
      "597:\tlearn: 41.3899602\ttotal: 1.02s\tremaining: 685ms\n",
      "598:\tlearn: 41.2152047\ttotal: 1.02s\tremaining: 684ms\n",
      "599:\tlearn: 41.0959753\ttotal: 1.02s\tremaining: 682ms\n",
      "600:\tlearn: 40.9815009\ttotal: 1.02s\tremaining: 680ms\n",
      "601:\tlearn: 40.8912971\ttotal: 1.02s\tremaining: 678ms\n",
      "602:\tlearn: 40.7881395\ttotal: 1.03s\tremaining: 676ms\n",
      "603:\tlearn: 40.6325570\ttotal: 1.03s\tremaining: 674ms\n",
      "604:\tlearn: 40.4083902\ttotal: 1.03s\tremaining: 673ms\n",
      "605:\tlearn: 40.3292737\ttotal: 1.03s\tremaining: 671ms\n",
      "606:\tlearn: 40.2629492\ttotal: 1.03s\tremaining: 670ms\n",
      "607:\tlearn: 40.2448471\ttotal: 1.04s\tremaining: 668ms\n",
      "608:\tlearn: 40.2293673\ttotal: 1.04s\tremaining: 667ms\n",
      "609:\tlearn: 40.0978829\ttotal: 1.04s\tremaining: 665ms\n",
      "610:\tlearn: 40.0512268\ttotal: 1.04s\tremaining: 664ms\n",
      "611:\tlearn: 39.8920221\ttotal: 1.04s\tremaining: 662ms\n",
      "612:\tlearn: 39.8591122\ttotal: 1.04s\tremaining: 660ms\n",
      "613:\tlearn: 39.7261911\ttotal: 1.05s\tremaining: 659ms\n",
      "614:\tlearn: 39.6986628\ttotal: 1.05s\tremaining: 658ms\n",
      "615:\tlearn: 39.5659851\ttotal: 1.05s\tremaining: 656ms\n",
      "616:\tlearn: 39.4815274\ttotal: 1.05s\tremaining: 655ms\n",
      "617:\tlearn: 39.3682607\ttotal: 1.06s\tremaining: 653ms\n",
      "618:\tlearn: 39.2643803\ttotal: 1.06s\tremaining: 652ms\n",
      "619:\tlearn: 39.1307437\ttotal: 1.06s\tremaining: 650ms\n",
      "620:\tlearn: 38.9596117\ttotal: 1.06s\tremaining: 648ms\n",
      "621:\tlearn: 38.8456302\ttotal: 1.06s\tremaining: 646ms\n",
      "622:\tlearn: 38.7810676\ttotal: 1.06s\tremaining: 644ms\n",
      "623:\tlearn: 38.7450983\ttotal: 1.07s\tremaining: 643ms\n",
      "624:\tlearn: 38.6788090\ttotal: 1.07s\tremaining: 641ms\n",
      "625:\tlearn: 38.5788475\ttotal: 1.07s\tremaining: 639ms\n",
      "626:\tlearn: 38.4675366\ttotal: 1.07s\tremaining: 637ms\n",
      "627:\tlearn: 38.2350724\ttotal: 1.07s\tremaining: 635ms\n",
      "628:\tlearn: 38.2074221\ttotal: 1.07s\tremaining: 633ms\n",
      "629:\tlearn: 38.0622880\ttotal: 1.07s\tremaining: 632ms\n",
      "630:\tlearn: 37.8520281\ttotal: 1.08s\tremaining: 630ms\n",
      "631:\tlearn: 37.6631204\ttotal: 1.08s\tremaining: 628ms\n",
      "632:\tlearn: 37.5153877\ttotal: 1.08s\tremaining: 626ms\n",
      "633:\tlearn: 37.3834892\ttotal: 1.08s\tremaining: 624ms\n",
      "634:\tlearn: 37.2552166\ttotal: 1.08s\tremaining: 623ms\n",
      "635:\tlearn: 37.0779047\ttotal: 1.08s\tremaining: 621ms\n",
      "636:\tlearn: 37.0329263\ttotal: 1.09s\tremaining: 619ms\n",
      "637:\tlearn: 36.8927982\ttotal: 1.09s\tremaining: 617ms\n",
      "638:\tlearn: 36.8105498\ttotal: 1.09s\tremaining: 615ms\n",
      "639:\tlearn: 36.7512624\ttotal: 1.09s\tremaining: 614ms\n",
      "640:\tlearn: 36.5891302\ttotal: 1.09s\tremaining: 612ms\n",
      "641:\tlearn: 36.4551656\ttotal: 1.09s\tremaining: 610ms\n",
      "642:\tlearn: 36.4318588\ttotal: 1.09s\tremaining: 608ms\n",
      "643:\tlearn: 36.4074785\ttotal: 1.1s\tremaining: 606ms\n",
      "644:\tlearn: 36.2579510\ttotal: 1.1s\tremaining: 605ms\n",
      "645:\tlearn: 36.1413504\ttotal: 1.1s\tremaining: 603ms\n",
      "646:\tlearn: 36.0078406\ttotal: 1.1s\tremaining: 601ms\n",
      "647:\tlearn: 35.8909828\ttotal: 1.1s\tremaining: 599ms\n",
      "648:\tlearn: 35.7426906\ttotal: 1.1s\tremaining: 598ms\n",
      "649:\tlearn: 35.5963108\ttotal: 1.11s\tremaining: 596ms\n",
      "650:\tlearn: 35.4623805\ttotal: 1.11s\tremaining: 594ms\n",
      "651:\tlearn: 35.4428004\ttotal: 1.11s\tremaining: 593ms\n",
      "652:\tlearn: 35.3007158\ttotal: 1.11s\tremaining: 591ms\n",
      "653:\tlearn: 35.1510309\ttotal: 1.11s\tremaining: 589ms\n",
      "654:\tlearn: 35.1258328\ttotal: 1.11s\tremaining: 587ms\n",
      "655:\tlearn: 35.0183795\ttotal: 1.12s\tremaining: 585ms\n",
      "656:\tlearn: 34.9003271\ttotal: 1.12s\tremaining: 584ms\n",
      "657:\tlearn: 34.7887445\ttotal: 1.12s\tremaining: 582ms\n",
      "658:\tlearn: 34.6253676\ttotal: 1.12s\tremaining: 581ms\n",
      "659:\tlearn: 34.5506116\ttotal: 1.12s\tremaining: 579ms\n",
      "660:\tlearn: 34.4197699\ttotal: 1.13s\tremaining: 577ms\n",
      "661:\tlearn: 34.3097495\ttotal: 1.13s\tremaining: 575ms\n",
      "662:\tlearn: 34.1572027\ttotal: 1.13s\tremaining: 574ms\n",
      "663:\tlearn: 34.1441284\ttotal: 1.13s\tremaining: 572ms\n",
      "664:\tlearn: 34.0600732\ttotal: 1.13s\tremaining: 570ms\n",
      "665:\tlearn: 34.0500587\ttotal: 1.13s\tremaining: 568ms\n",
      "666:\tlearn: 33.9193340\ttotal: 1.13s\tremaining: 566ms\n",
      "667:\tlearn: 33.7564013\ttotal: 1.14s\tremaining: 565ms\n",
      "668:\tlearn: 33.6528749\ttotal: 1.14s\tremaining: 563ms\n",
      "669:\tlearn: 33.5681199\ttotal: 1.14s\tremaining: 561ms\n",
      "670:\tlearn: 33.4451433\ttotal: 1.14s\tremaining: 559ms\n",
      "671:\tlearn: 33.3468901\ttotal: 1.14s\tremaining: 558ms\n",
      "672:\tlearn: 33.2486282\ttotal: 1.14s\tremaining: 556ms\n",
      "673:\tlearn: 33.2302888\ttotal: 1.15s\tremaining: 554ms\n",
      "674:\tlearn: 33.0558859\ttotal: 1.15s\tremaining: 553ms\n",
      "675:\tlearn: 32.9700344\ttotal: 1.15s\tremaining: 551ms\n",
      "676:\tlearn: 32.8501642\ttotal: 1.15s\tremaining: 549ms\n",
      "677:\tlearn: 32.7340426\ttotal: 1.15s\tremaining: 548ms\n",
      "678:\tlearn: 32.7121017\ttotal: 1.15s\tremaining: 546ms\n",
      "679:\tlearn: 32.6200569\ttotal: 1.16s\tremaining: 544ms\n",
      "680:\tlearn: 32.5052371\ttotal: 1.16s\tremaining: 542ms\n",
      "681:\tlearn: 32.3916969\ttotal: 1.16s\tremaining: 541ms\n",
      "682:\tlearn: 32.2925704\ttotal: 1.16s\tremaining: 539ms\n",
      "683:\tlearn: 32.1901836\ttotal: 1.16s\tremaining: 538ms\n",
      "684:\tlearn: 32.1810795\ttotal: 1.17s\tremaining: 536ms\n",
      "685:\tlearn: 32.0538798\ttotal: 1.17s\tremaining: 534ms\n",
      "686:\tlearn: 31.9695880\ttotal: 1.17s\tremaining: 532ms\n",
      "687:\tlearn: 31.8186240\ttotal: 1.17s\tremaining: 531ms\n",
      "688:\tlearn: 31.7717776\ttotal: 1.17s\tremaining: 529ms\n",
      "689:\tlearn: 31.6271069\ttotal: 1.17s\tremaining: 528ms\n",
      "690:\tlearn: 31.4257754\ttotal: 1.18s\tremaining: 526ms\n",
      "691:\tlearn: 31.3158018\ttotal: 1.18s\tremaining: 524ms\n",
      "692:\tlearn: 31.2062456\ttotal: 1.18s\tremaining: 522ms\n",
      "693:\tlearn: 31.1002943\ttotal: 1.18s\tremaining: 520ms\n",
      "694:\tlearn: 31.0204694\ttotal: 1.18s\tremaining: 518ms\n",
      "695:\tlearn: 30.8638326\ttotal: 1.18s\tremaining: 517ms\n",
      "696:\tlearn: 30.8558418\ttotal: 1.18s\tremaining: 515ms\n",
      "697:\tlearn: 30.7168233\ttotal: 1.19s\tremaining: 513ms\n",
      "698:\tlearn: 30.6741149\ttotal: 1.19s\tremaining: 511ms\n",
      "699:\tlearn: 30.5633505\ttotal: 1.19s\tremaining: 510ms\n",
      "700:\tlearn: 30.3980151\ttotal: 1.19s\tremaining: 508ms\n",
      "701:\tlearn: 30.3868882\ttotal: 1.19s\tremaining: 506ms\n",
      "702:\tlearn: 30.3095110\ttotal: 1.19s\tremaining: 504ms\n",
      "703:\tlearn: 30.2001626\ttotal: 1.2s\tremaining: 502ms\n",
      "704:\tlearn: 30.1086639\ttotal: 1.2s\tremaining: 501ms\n",
      "705:\tlearn: 30.0062050\ttotal: 1.2s\tremaining: 499ms\n",
      "706:\tlearn: 29.9366332\ttotal: 1.2s\tremaining: 497ms\n",
      "707:\tlearn: 29.8514157\ttotal: 1.2s\tremaining: 495ms\n",
      "708:\tlearn: 29.8410197\ttotal: 1.2s\tremaining: 494ms\n",
      "709:\tlearn: 29.7691296\ttotal: 1.2s\tremaining: 492ms\n",
      "710:\tlearn: 29.6347315\ttotal: 1.21s\tremaining: 490ms\n",
      "711:\tlearn: 29.5690771\ttotal: 1.21s\tremaining: 488ms\n",
      "712:\tlearn: 29.4717613\ttotal: 1.21s\tremaining: 487ms\n",
      "713:\tlearn: 29.3453955\ttotal: 1.21s\tremaining: 485ms\n",
      "714:\tlearn: 29.3183996\ttotal: 1.21s\tremaining: 483ms\n",
      "715:\tlearn: 29.2357029\ttotal: 1.21s\tremaining: 482ms\n",
      "716:\tlearn: 29.1493484\ttotal: 1.22s\tremaining: 480ms\n",
      "717:\tlearn: 29.1412750\ttotal: 1.22s\tremaining: 478ms\n",
      "718:\tlearn: 29.0633640\ttotal: 1.22s\tremaining: 477ms\n",
      "719:\tlearn: 29.0063752\ttotal: 1.22s\tremaining: 475ms\n",
      "720:\tlearn: 28.8895697\ttotal: 1.22s\tremaining: 473ms\n",
      "721:\tlearn: 28.8127439\ttotal: 1.22s\tremaining: 471ms\n",
      "722:\tlearn: 28.7979935\ttotal: 1.22s\tremaining: 469ms\n",
      "723:\tlearn: 28.7730564\ttotal: 1.23s\tremaining: 468ms\n",
      "724:\tlearn: 28.6841951\ttotal: 1.23s\tremaining: 466ms\n",
      "725:\tlearn: 28.6192690\ttotal: 1.23s\tremaining: 464ms\n",
      "726:\tlearn: 28.5382100\ttotal: 1.23s\tremaining: 462ms\n",
      "727:\tlearn: 28.4124604\ttotal: 1.23s\tremaining: 461ms\n",
      "728:\tlearn: 28.3992354\ttotal: 1.23s\tremaining: 459ms\n",
      "729:\tlearn: 28.2458739\ttotal: 1.24s\tremaining: 457ms\n",
      "730:\tlearn: 28.1698858\ttotal: 1.24s\tremaining: 455ms\n",
      "731:\tlearn: 28.0857240\ttotal: 1.24s\tremaining: 453ms\n",
      "732:\tlearn: 28.0631865\ttotal: 1.24s\tremaining: 452ms\n",
      "733:\tlearn: 27.9617138\ttotal: 1.24s\tremaining: 450ms\n",
      "734:\tlearn: 27.9296040\ttotal: 1.24s\tremaining: 448ms\n",
      "735:\tlearn: 27.8714544\ttotal: 1.24s\tremaining: 446ms\n",
      "736:\tlearn: 27.8468105\ttotal: 1.24s\tremaining: 444ms\n",
      "737:\tlearn: 27.7605180\ttotal: 1.25s\tremaining: 443ms\n",
      "738:\tlearn: 27.6731250\ttotal: 1.25s\tremaining: 441ms\n",
      "739:\tlearn: 27.6662586\ttotal: 1.25s\tremaining: 439ms\n",
      "740:\tlearn: 27.6319100\ttotal: 1.25s\tremaining: 437ms\n",
      "741:\tlearn: 27.5465757\ttotal: 1.25s\tremaining: 435ms\n",
      "742:\tlearn: 27.4710735\ttotal: 1.25s\tremaining: 433ms\n",
      "743:\tlearn: 27.4510659\ttotal: 1.25s\tremaining: 432ms\n",
      "744:\tlearn: 27.3748617\ttotal: 1.25s\tremaining: 430ms\n",
      "745:\tlearn: 27.3633452\ttotal: 1.26s\tremaining: 428ms\n",
      "746:\tlearn: 27.2959571\ttotal: 1.26s\tremaining: 426ms\n",
      "747:\tlearn: 27.1315947\ttotal: 1.26s\tremaining: 424ms\n",
      "748:\tlearn: 27.0550248\ttotal: 1.26s\tremaining: 423ms\n",
      "749:\tlearn: 27.0373435\ttotal: 1.26s\tremaining: 421ms\n"
     ]
    },
    {
     "name": "stdout",
     "output_type": "stream",
     "text": [
      "750:\tlearn: 26.9726665\ttotal: 1.26s\tremaining: 419ms\n",
      "751:\tlearn: 26.9145554\ttotal: 1.27s\tremaining: 418ms\n",
      "752:\tlearn: 26.8976495\ttotal: 1.27s\tremaining: 416ms\n",
      "753:\tlearn: 26.8013163\ttotal: 1.27s\tremaining: 414ms\n",
      "754:\tlearn: 26.7203712\ttotal: 1.27s\tremaining: 413ms\n",
      "755:\tlearn: 26.5829005\ttotal: 1.27s\tremaining: 411ms\n",
      "756:\tlearn: 26.4324310\ttotal: 1.27s\tremaining: 409ms\n",
      "757:\tlearn: 26.2890218\ttotal: 1.28s\tremaining: 408ms\n",
      "758:\tlearn: 26.1965245\ttotal: 1.28s\tremaining: 406ms\n",
      "759:\tlearn: 26.1810870\ttotal: 1.28s\tremaining: 405ms\n",
      "760:\tlearn: 26.1187072\ttotal: 1.28s\tremaining: 403ms\n",
      "761:\tlearn: 26.0637705\ttotal: 1.28s\tremaining: 401ms\n",
      "762:\tlearn: 25.9562461\ttotal: 1.29s\tremaining: 399ms\n",
      "763:\tlearn: 25.8386943\ttotal: 1.29s\tremaining: 398ms\n",
      "764:\tlearn: 25.7790725\ttotal: 1.29s\tremaining: 396ms\n",
      "765:\tlearn: 25.6701106\ttotal: 1.29s\tremaining: 394ms\n",
      "766:\tlearn: 25.6362119\ttotal: 1.29s\tremaining: 393ms\n",
      "767:\tlearn: 25.6252040\ttotal: 1.29s\tremaining: 391ms\n",
      "768:\tlearn: 25.5249470\ttotal: 1.29s\tremaining: 389ms\n",
      "769:\tlearn: 25.4610308\ttotal: 1.3s\tremaining: 387ms\n",
      "770:\tlearn: 25.3338917\ttotal: 1.3s\tremaining: 385ms\n",
      "771:\tlearn: 25.2081591\ttotal: 1.3s\tremaining: 384ms\n",
      "772:\tlearn: 25.1976317\ttotal: 1.3s\tremaining: 382ms\n",
      "773:\tlearn: 25.1309682\ttotal: 1.3s\tremaining: 380ms\n",
      "774:\tlearn: 25.0198547\ttotal: 1.3s\tremaining: 378ms\n",
      "775:\tlearn: 24.9490229\ttotal: 1.3s\tremaining: 377ms\n",
      "776:\tlearn: 24.9028200\ttotal: 1.31s\tremaining: 375ms\n",
      "777:\tlearn: 24.8337886\ttotal: 1.31s\tremaining: 373ms\n",
      "778:\tlearn: 24.7433955\ttotal: 1.31s\tremaining: 371ms\n",
      "779:\tlearn: 24.6167855\ttotal: 1.31s\tremaining: 370ms\n",
      "780:\tlearn: 24.5516424\ttotal: 1.31s\tremaining: 368ms\n",
      "781:\tlearn: 24.3925316\ttotal: 1.31s\tremaining: 366ms\n",
      "782:\tlearn: 24.3473598\ttotal: 1.31s\tremaining: 364ms\n",
      "783:\tlearn: 24.2382596\ttotal: 1.32s\tremaining: 363ms\n",
      "784:\tlearn: 24.1741117\ttotal: 1.32s\tremaining: 361ms\n",
      "785:\tlearn: 24.1282632\ttotal: 1.32s\tremaining: 359ms\n",
      "786:\tlearn: 24.1150038\ttotal: 1.32s\tremaining: 357ms\n",
      "787:\tlearn: 24.0552315\ttotal: 1.32s\tremaining: 356ms\n",
      "788:\tlearn: 24.0020307\ttotal: 1.32s\tremaining: 354ms\n",
      "789:\tlearn: 23.9582172\ttotal: 1.32s\tremaining: 352ms\n",
      "790:\tlearn: 23.9466945\ttotal: 1.33s\tremaining: 350ms\n",
      "791:\tlearn: 23.9012494\ttotal: 1.33s\tremaining: 349ms\n",
      "792:\tlearn: 23.8902062\ttotal: 1.33s\tremaining: 347ms\n",
      "793:\tlearn: 23.8375677\ttotal: 1.33s\tremaining: 345ms\n",
      "794:\tlearn: 23.8275049\ttotal: 1.33s\tremaining: 343ms\n",
      "795:\tlearn: 23.7639978\ttotal: 1.33s\tremaining: 342ms\n",
      "796:\tlearn: 23.7210385\ttotal: 1.33s\tremaining: 340ms\n",
      "797:\tlearn: 23.7118867\ttotal: 1.34s\tremaining: 338ms\n",
      "798:\tlearn: 23.6210770\ttotal: 1.34s\tremaining: 336ms\n",
      "799:\tlearn: 23.5667973\ttotal: 1.34s\tremaining: 335ms\n",
      "800:\tlearn: 23.5093551\ttotal: 1.34s\tremaining: 333ms\n",
      "801:\tlearn: 23.4248240\ttotal: 1.34s\tremaining: 331ms\n",
      "802:\tlearn: 23.3851975\ttotal: 1.34s\tremaining: 330ms\n",
      "803:\tlearn: 23.2576151\ttotal: 1.34s\tremaining: 328ms\n",
      "804:\tlearn: 23.1403284\ttotal: 1.35s\tremaining: 326ms\n",
      "805:\tlearn: 23.0861220\ttotal: 1.35s\tremaining: 325ms\n",
      "806:\tlearn: 23.0179965\ttotal: 1.35s\tremaining: 323ms\n",
      "807:\tlearn: 22.9499510\ttotal: 1.35s\tremaining: 321ms\n",
      "808:\tlearn: 22.9093322\ttotal: 1.35s\tremaining: 320ms\n",
      "809:\tlearn: 22.8749288\ttotal: 1.35s\tremaining: 318ms\n",
      "810:\tlearn: 22.8082947\ttotal: 1.36s\tremaining: 316ms\n",
      "811:\tlearn: 22.7734708\ttotal: 1.36s\tremaining: 314ms\n",
      "812:\tlearn: 22.6526692\ttotal: 1.36s\tremaining: 313ms\n",
      "813:\tlearn: 22.5530242\ttotal: 1.36s\tremaining: 311ms\n",
      "814:\tlearn: 22.4717488\ttotal: 1.36s\tremaining: 310ms\n",
      "815:\tlearn: 22.4620780\ttotal: 1.37s\tremaining: 308ms\n",
      "816:\tlearn: 22.4023061\ttotal: 1.37s\tremaining: 306ms\n",
      "817:\tlearn: 22.3578971\ttotal: 1.37s\tremaining: 305ms\n",
      "818:\tlearn: 22.3087689\ttotal: 1.37s\tremaining: 303ms\n",
      "819:\tlearn: 22.3046658\ttotal: 1.37s\tremaining: 301ms\n",
      "820:\tlearn: 22.2330663\ttotal: 1.37s\tremaining: 299ms\n",
      "821:\tlearn: 22.1591095\ttotal: 1.38s\tremaining: 298ms\n",
      "822:\tlearn: 22.1550239\ttotal: 1.38s\tremaining: 296ms\n",
      "823:\tlearn: 22.1463899\ttotal: 1.38s\tremaining: 294ms\n",
      "824:\tlearn: 22.1315815\ttotal: 1.38s\tremaining: 292ms\n",
      "825:\tlearn: 22.0652590\ttotal: 1.38s\tremaining: 291ms\n",
      "826:\tlearn: 22.0221121\ttotal: 1.38s\tremaining: 289ms\n",
      "827:\tlearn: 21.9774501\ttotal: 1.38s\tremaining: 287ms\n",
      "828:\tlearn: 21.9395292\ttotal: 1.38s\tremaining: 285ms\n",
      "829:\tlearn: 21.8508549\ttotal: 1.39s\tremaining: 284ms\n",
      "830:\tlearn: 21.8190935\ttotal: 1.39s\tremaining: 282ms\n",
      "831:\tlearn: 21.8109670\ttotal: 1.39s\tremaining: 280ms\n",
      "832:\tlearn: 21.7578310\ttotal: 1.39s\tremaining: 279ms\n",
      "833:\tlearn: 21.6862934\ttotal: 1.39s\tremaining: 277ms\n",
      "834:\tlearn: 21.6036840\ttotal: 1.39s\tremaining: 275ms\n",
      "835:\tlearn: 21.5099448\ttotal: 1.4s\tremaining: 274ms\n",
      "836:\tlearn: 21.4677400\ttotal: 1.4s\tremaining: 272ms\n",
      "837:\tlearn: 21.4091690\ttotal: 1.4s\tremaining: 271ms\n",
      "838:\tlearn: 21.3466938\ttotal: 1.4s\tremaining: 269ms\n",
      "839:\tlearn: 21.2298144\ttotal: 1.41s\tremaining: 268ms\n",
      "840:\tlearn: 21.1270373\ttotal: 1.41s\tremaining: 266ms\n",
      "841:\tlearn: 21.0373314\ttotal: 1.41s\tremaining: 265ms\n",
      "842:\tlearn: 20.9835159\ttotal: 1.41s\tremaining: 263ms\n",
      "843:\tlearn: 20.8484600\ttotal: 1.41s\tremaining: 261ms\n",
      "844:\tlearn: 20.7891557\ttotal: 1.41s\tremaining: 259ms\n",
      "845:\tlearn: 20.7291399\ttotal: 1.42s\tremaining: 258ms\n",
      "846:\tlearn: 20.6849494\ttotal: 1.42s\tremaining: 256ms\n",
      "847:\tlearn: 20.6154963\ttotal: 1.42s\tremaining: 255ms\n",
      "848:\tlearn: 20.5405276\ttotal: 1.42s\tremaining: 253ms\n",
      "849:\tlearn: 20.5016669\ttotal: 1.43s\tremaining: 252ms\n",
      "850:\tlearn: 20.4700003\ttotal: 1.43s\tremaining: 250ms\n",
      "851:\tlearn: 20.4163286\ttotal: 1.43s\tremaining: 248ms\n",
      "852:\tlearn: 20.3832418\ttotal: 1.43s\tremaining: 247ms\n",
      "853:\tlearn: 20.3012184\ttotal: 1.43s\tremaining: 245ms\n",
      "854:\tlearn: 20.2920333\ttotal: 1.44s\tremaining: 243ms\n",
      "855:\tlearn: 20.2053869\ttotal: 1.44s\tremaining: 242ms\n",
      "856:\tlearn: 20.1658977\ttotal: 1.44s\tremaining: 240ms\n",
      "857:\tlearn: 20.1100216\ttotal: 1.44s\tremaining: 238ms\n",
      "858:\tlearn: 20.0083729\ttotal: 1.44s\tremaining: 237ms\n",
      "859:\tlearn: 19.9455311\ttotal: 1.44s\tremaining: 235ms\n",
      "860:\tlearn: 19.8796059\ttotal: 1.44s\tremaining: 233ms\n",
      "861:\tlearn: 19.8565398\ttotal: 1.45s\tremaining: 231ms\n",
      "862:\tlearn: 19.7320152\ttotal: 1.45s\tremaining: 230ms\n",
      "863:\tlearn: 19.6553629\ttotal: 1.45s\tremaining: 228ms\n",
      "864:\tlearn: 19.5653904\ttotal: 1.45s\tremaining: 226ms\n",
      "865:\tlearn: 19.5044019\ttotal: 1.45s\tremaining: 225ms\n",
      "866:\tlearn: 19.4952821\ttotal: 1.45s\tremaining: 223ms\n",
      "867:\tlearn: 19.4417196\ttotal: 1.45s\tremaining: 221ms\n",
      "868:\tlearn: 19.3928280\ttotal: 1.46s\tremaining: 219ms\n",
      "869:\tlearn: 19.3310543\ttotal: 1.46s\tremaining: 218ms\n",
      "870:\tlearn: 19.2860856\ttotal: 1.46s\tremaining: 216ms\n",
      "871:\tlearn: 19.1689820\ttotal: 1.46s\tremaining: 214ms\n",
      "872:\tlearn: 19.0656586\ttotal: 1.46s\tremaining: 213ms\n",
      "873:\tlearn: 19.0585347\ttotal: 1.46s\tremaining: 211ms\n",
      "874:\tlearn: 19.0124418\ttotal: 1.46s\tremaining: 209ms\n",
      "875:\tlearn: 18.9798186\ttotal: 1.47s\tremaining: 207ms\n",
      "876:\tlearn: 18.8896499\ttotal: 1.47s\tremaining: 206ms\n",
      "877:\tlearn: 18.8379639\ttotal: 1.47s\tremaining: 204ms\n",
      "878:\tlearn: 18.8312106\ttotal: 1.47s\tremaining: 202ms\n",
      "879:\tlearn: 18.7718969\ttotal: 1.47s\tremaining: 201ms\n",
      "880:\tlearn: 18.7453473\ttotal: 1.47s\tremaining: 199ms\n",
      "881:\tlearn: 18.6851317\ttotal: 1.47s\tremaining: 197ms\n",
      "882:\tlearn: 18.5988650\ttotal: 1.48s\tremaining: 196ms\n",
      "883:\tlearn: 18.5525116\ttotal: 1.48s\tremaining: 194ms\n",
      "884:\tlearn: 18.4964362\ttotal: 1.48s\tremaining: 192ms\n",
      "885:\tlearn: 18.4542378\ttotal: 1.48s\tremaining: 190ms\n",
      "886:\tlearn: 18.4053368\ttotal: 1.48s\tremaining: 189ms\n",
      "887:\tlearn: 18.3676513\ttotal: 1.48s\tremaining: 187ms\n",
      "888:\tlearn: 18.3048839\ttotal: 1.49s\tremaining: 186ms\n",
      "889:\tlearn: 18.2501678\ttotal: 1.49s\tremaining: 184ms\n",
      "890:\tlearn: 18.2421410\ttotal: 1.49s\tremaining: 183ms\n",
      "891:\tlearn: 18.1820355\ttotal: 1.49s\tremaining: 181ms\n",
      "892:\tlearn: 18.1045997\ttotal: 1.5s\tremaining: 179ms\n",
      "893:\tlearn: 18.0516539\ttotal: 1.5s\tremaining: 177ms\n",
      "894:\tlearn: 17.9507407\ttotal: 1.5s\tremaining: 176ms\n",
      "895:\tlearn: 17.8656394\ttotal: 1.5s\tremaining: 174ms\n",
      "896:\tlearn: 17.8130004\ttotal: 1.5s\tremaining: 173ms\n",
      "897:\tlearn: 17.8056685\ttotal: 1.5s\tremaining: 171ms\n",
      "898:\tlearn: 17.7479301\ttotal: 1.5s\tremaining: 169ms\n",
      "899:\tlearn: 17.6628775\ttotal: 1.51s\tremaining: 167ms\n",
      "900:\tlearn: 17.6036263\ttotal: 1.51s\tremaining: 166ms\n",
      "901:\tlearn: 17.5548725\ttotal: 1.51s\tremaining: 164ms\n",
      "902:\tlearn: 17.5112982\ttotal: 1.51s\tremaining: 163ms\n",
      "903:\tlearn: 17.4337097\ttotal: 1.51s\tremaining: 161ms\n",
      "904:\tlearn: 17.3438812\ttotal: 1.52s\tremaining: 159ms\n",
      "905:\tlearn: 17.2978952\ttotal: 1.52s\tremaining: 158ms\n",
      "906:\tlearn: 17.2705120\ttotal: 1.52s\tremaining: 156ms\n",
      "907:\tlearn: 17.2197843\ttotal: 1.52s\tremaining: 154ms\n",
      "908:\tlearn: 17.1672918\ttotal: 1.52s\tremaining: 153ms\n",
      "909:\tlearn: 17.0962813\ttotal: 1.52s\tremaining: 151ms\n",
      "910:\tlearn: 17.0367884\ttotal: 1.53s\tremaining: 149ms\n",
      "911:\tlearn: 16.9995434\ttotal: 1.53s\tremaining: 148ms\n",
      "912:\tlearn: 16.9503108\ttotal: 1.53s\tremaining: 146ms\n",
      "913:\tlearn: 16.8634821\ttotal: 1.53s\tremaining: 144ms\n",
      "914:\tlearn: 16.8562342\ttotal: 1.53s\tremaining: 143ms\n",
      "915:\tlearn: 16.8266675\ttotal: 1.54s\tremaining: 141ms\n",
      "916:\tlearn: 16.8202756\ttotal: 1.54s\tremaining: 139ms\n",
      "917:\tlearn: 16.8140117\ttotal: 1.54s\tremaining: 138ms\n",
      "918:\tlearn: 16.7657793\ttotal: 1.54s\tremaining: 136ms\n",
      "919:\tlearn: 16.7455489\ttotal: 1.54s\tremaining: 134ms\n",
      "920:\tlearn: 16.7350234\ttotal: 1.54s\tremaining: 133ms\n",
      "921:\tlearn: 16.6764784\ttotal: 1.55s\tremaining: 131ms\n",
      "922:\tlearn: 16.6413683\ttotal: 1.55s\tremaining: 129ms\n",
      "923:\tlearn: 16.6313216\ttotal: 1.55s\tremaining: 127ms\n",
      "924:\tlearn: 16.5737890\ttotal: 1.55s\tremaining: 126ms\n",
      "925:\tlearn: 16.5612564\ttotal: 1.55s\tremaining: 124ms\n",
      "926:\tlearn: 16.5194103\ttotal: 1.55s\tremaining: 122ms\n",
      "927:\tlearn: 16.4774875\ttotal: 1.56s\tremaining: 121ms\n",
      "928:\tlearn: 16.4716862\ttotal: 1.56s\tremaining: 119ms\n",
      "929:\tlearn: 16.4373752\ttotal: 1.56s\tremaining: 117ms\n",
      "930:\tlearn: 16.4285377\ttotal: 1.56s\tremaining: 116ms\n",
      "931:\tlearn: 16.3673869\ttotal: 1.56s\tremaining: 114ms\n",
      "932:\tlearn: 16.3185470\ttotal: 1.56s\tremaining: 112ms\n",
      "933:\tlearn: 16.2631467\ttotal: 1.56s\tremaining: 111ms\n",
      "934:\tlearn: 16.1934975\ttotal: 1.56s\tremaining: 109ms\n",
      "935:\tlearn: 16.1884481\ttotal: 1.57s\tremaining: 107ms\n",
      "936:\tlearn: 16.1500024\ttotal: 1.57s\tremaining: 105ms\n",
      "937:\tlearn: 16.1409804\ttotal: 1.57s\tremaining: 104ms\n",
      "938:\tlearn: 16.0683587\ttotal: 1.57s\tremaining: 102ms\n",
      "939:\tlearn: 15.9809030\ttotal: 1.57s\tremaining: 100ms\n",
      "940:\tlearn: 15.8978202\ttotal: 1.57s\tremaining: 98.7ms\n",
      "941:\tlearn: 15.8709900\ttotal: 1.58s\tremaining: 97.1ms\n",
      "942:\tlearn: 15.8344018\ttotal: 1.58s\tremaining: 95.4ms\n",
      "943:\tlearn: 15.8295482\ttotal: 1.58s\tremaining: 93.7ms\n",
      "944:\tlearn: 15.7744973\ttotal: 1.58s\tremaining: 92ms\n"
     ]
    },
    {
     "name": "stdout",
     "output_type": "stream",
     "text": [
      "945:\tlearn: 15.7305450\ttotal: 1.58s\tremaining: 90.3ms\n",
      "946:\tlearn: 15.6857434\ttotal: 1.58s\tremaining: 88.7ms\n",
      "947:\tlearn: 15.6591016\ttotal: 1.59s\tremaining: 87ms\n",
      "948:\tlearn: 15.6314256\ttotal: 1.59s\tremaining: 85.3ms\n",
      "949:\tlearn: 15.5788777\ttotal: 1.59s\tremaining: 83.7ms\n",
      "950:\tlearn: 15.5325554\ttotal: 1.59s\tremaining: 82ms\n",
      "951:\tlearn: 15.4890930\ttotal: 1.59s\tremaining: 80.4ms\n",
      "952:\tlearn: 15.4263779\ttotal: 1.59s\tremaining: 78.7ms\n",
      "953:\tlearn: 15.3892307\ttotal: 1.6s\tremaining: 77ms\n",
      "954:\tlearn: 15.3531641\ttotal: 1.6s\tremaining: 75.3ms\n",
      "955:\tlearn: 15.3172544\ttotal: 1.6s\tremaining: 73.6ms\n",
      "956:\tlearn: 15.2722481\ttotal: 1.6s\tremaining: 72ms\n",
      "957:\tlearn: 15.2509946\ttotal: 1.6s\tremaining: 70.3ms\n",
      "958:\tlearn: 15.2106080\ttotal: 1.6s\tremaining: 68.6ms\n",
      "959:\tlearn: 15.1550705\ttotal: 1.61s\tremaining: 66.9ms\n",
      "960:\tlearn: 15.1198927\ttotal: 1.61s\tremaining: 65.3ms\n",
      "961:\tlearn: 15.0521121\ttotal: 1.61s\tremaining: 63.6ms\n",
      "962:\tlearn: 15.0138282\ttotal: 1.61s\tremaining: 62ms\n",
      "963:\tlearn: 14.9511473\ttotal: 1.61s\tremaining: 60.3ms\n",
      "964:\tlearn: 14.9013556\ttotal: 1.61s\tremaining: 58.6ms\n",
      "965:\tlearn: 14.8491591\ttotal: 1.62s\tremaining: 56.9ms\n",
      "966:\tlearn: 14.7846364\ttotal: 1.62s\tremaining: 55.2ms\n",
      "967:\tlearn: 14.7378076\ttotal: 1.62s\tremaining: 53.6ms\n",
      "968:\tlearn: 14.6963646\ttotal: 1.62s\tremaining: 51.9ms\n",
      "969:\tlearn: 14.6368320\ttotal: 1.62s\tremaining: 50.2ms\n",
      "970:\tlearn: 14.5641432\ttotal: 1.62s\tremaining: 48.5ms\n",
      "971:\tlearn: 14.5009366\ttotal: 1.63s\tremaining: 46.8ms\n",
      "972:\tlearn: 14.4934257\ttotal: 1.63s\tremaining: 45.2ms\n",
      "973:\tlearn: 14.4521224\ttotal: 1.63s\tremaining: 43.5ms\n",
      "974:\tlearn: 14.4111253\ttotal: 1.63s\tremaining: 41.8ms\n",
      "975:\tlearn: 14.3698632\ttotal: 1.63s\tremaining: 40.2ms\n",
      "976:\tlearn: 14.3591191\ttotal: 1.64s\tremaining: 38.5ms\n",
      "977:\tlearn: 14.3269189\ttotal: 1.64s\tremaining: 36.9ms\n",
      "978:\tlearn: 14.2789397\ttotal: 1.64s\tremaining: 35.2ms\n",
      "979:\tlearn: 14.2216384\ttotal: 1.64s\tremaining: 33.5ms\n",
      "980:\tlearn: 14.1751644\ttotal: 1.64s\tremaining: 31.9ms\n",
      "981:\tlearn: 14.1256092\ttotal: 1.65s\tremaining: 30.2ms\n",
      "982:\tlearn: 14.0731502\ttotal: 1.65s\tremaining: 28.5ms\n",
      "983:\tlearn: 14.0117995\ttotal: 1.65s\tremaining: 26.8ms\n",
      "984:\tlearn: 13.9841830\ttotal: 1.65s\tremaining: 25.2ms\n",
      "985:\tlearn: 13.9230955\ttotal: 1.65s\tremaining: 23.5ms\n",
      "986:\tlearn: 13.8746811\ttotal: 1.66s\tremaining: 21.8ms\n",
      "987:\tlearn: 13.8092980\ttotal: 1.66s\tremaining: 20.1ms\n",
      "988:\tlearn: 13.7921958\ttotal: 1.66s\tremaining: 18.5ms\n",
      "989:\tlearn: 13.7424480\ttotal: 1.66s\tremaining: 16.8ms\n",
      "990:\tlearn: 13.6967360\ttotal: 1.66s\tremaining: 15.1ms\n",
      "991:\tlearn: 13.6709582\ttotal: 1.67s\tremaining: 13.4ms\n",
      "992:\tlearn: 13.6094706\ttotal: 1.67s\tremaining: 11.8ms\n",
      "993:\tlearn: 13.5641205\ttotal: 1.67s\tremaining: 10.1ms\n",
      "994:\tlearn: 13.5192775\ttotal: 1.67s\tremaining: 8.4ms\n",
      "995:\tlearn: 13.4902451\ttotal: 1.67s\tremaining: 6.72ms\n",
      "996:\tlearn: 13.4806052\ttotal: 1.68s\tremaining: 5.04ms\n",
      "997:\tlearn: 13.4282445\ttotal: 1.68s\tremaining: 3.36ms\n",
      "998:\tlearn: 13.4020177\ttotal: 1.68s\tremaining: 1.68ms\n",
      "999:\tlearn: 13.3781902\ttotal: 1.68s\tremaining: 0us\n"
     ]
    }
   ],
   "source": [
    "catb_model = CatBoostRegressor().fit(X_train, y_train) "
   ]
  },
  {
   "cell_type": "code",
   "execution_count": 290,
   "metadata": {
    "collapsed": true,
    "jupyter": {
     "outputs_hidden": true
    }
   },
   "outputs": [
    {
     "data": {
      "text/plain": [
       "['__class__',\n",
       " '__copy__',\n",
       " '__deepcopy__',\n",
       " '__delattr__',\n",
       " '__dict__',\n",
       " '__dir__',\n",
       " '__doc__',\n",
       " '__eq__',\n",
       " '__format__',\n",
       " '__ge__',\n",
       " '__getattribute__',\n",
       " '__getstate__',\n",
       " '__gt__',\n",
       " '__hash__',\n",
       " '__init__',\n",
       " '__init_subclass__',\n",
       " '__le__',\n",
       " '__lt__',\n",
       " '__module__',\n",
       " '__ne__',\n",
       " '__neq__',\n",
       " '__new__',\n",
       " '__reduce__',\n",
       " '__reduce_ex__',\n",
       " '__repr__',\n",
       " '__setattr__',\n",
       " '__setstate__',\n",
       " '__sizeof__',\n",
       " '__str__',\n",
       " '__subclasshook__',\n",
       " '__weakref__',\n",
       " '_base_calc_leaf_indexes',\n",
       " '_base_drop_unused_features',\n",
       " '_base_eval_metrics',\n",
       " '_base_predict',\n",
       " '_base_shrink',\n",
       " '_calc_fstr',\n",
       " '_calc_leaf_indexes',\n",
       " '_calc_ostr',\n",
       " '_check_is_regressor_loss',\n",
       " '_convert_to_asymmetric_representation',\n",
       " '_deserialize_model',\n",
       " '_estimator_type',\n",
       " '_eval_metrics',\n",
       " '_fit',\n",
       " '_get_borders',\n",
       " '_get_cat_feature_indices',\n",
       " '_get_float_feature_indices',\n",
       " '_get_params',\n",
       " '_get_tree_leaf_values',\n",
       " '_get_tree_splits',\n",
       " '_init_params',\n",
       " '_is_classification_objective',\n",
       " '_is_comparable_to',\n",
       " '_is_regression_objective',\n",
       " '_iterate_leaf_indexes',\n",
       " '_leaf_indexes_iterator',\n",
       " '_load_model',\n",
       " '_object',\n",
       " '_predict',\n",
       " '_prepare_train_params',\n",
       " '_process_predict_input_data',\n",
       " '_save_borders',\n",
       " '_save_model',\n",
       " '_serialize_model',\n",
       " '_set_test_evals',\n",
       " '_set_trained_model_attributes',\n",
       " '_staged_predict',\n",
       " '_staged_predict_iterator',\n",
       " '_sum_models',\n",
       " '_train',\n",
       " '_tune_hyperparams',\n",
       " '_validate_prediction_type',\n",
       " 'best_iteration_',\n",
       " 'best_score_',\n",
       " 'calc_feature_statistics',\n",
       " 'calc_leaf_indexes',\n",
       " 'classes_',\n",
       " 'compare',\n",
       " 'copy',\n",
       " 'create_metric_calcer',\n",
       " 'drop_unused_features',\n",
       " 'eval_metrics',\n",
       " 'evals_result_',\n",
       " 'feature_importances_',\n",
       " 'feature_names_',\n",
       " 'fit',\n",
       " 'get_all_params',\n",
       " 'get_best_iteration',\n",
       " 'get_best_score',\n",
       " 'get_borders',\n",
       " 'get_cat_feature_indices',\n",
       " 'get_evals_result',\n",
       " 'get_feature_importance',\n",
       " 'get_leaf_values',\n",
       " 'get_leaf_weights',\n",
       " 'get_metadata',\n",
       " 'get_object_importance',\n",
       " 'get_param',\n",
       " 'get_params',\n",
       " 'get_test_eval',\n",
       " 'get_test_evals',\n",
       " 'get_tree_leaf_counts',\n",
       " 'grid_search',\n",
       " 'is_fitted',\n",
       " 'iterate_leaf_indexes',\n",
       " 'learning_rate_',\n",
       " 'load_model',\n",
       " 'plot_predictions',\n",
       " 'plot_tree',\n",
       " 'predict',\n",
       " 'random_seed_',\n",
       " 'randomized_search',\n",
       " 'save_borders',\n",
       " 'save_model',\n",
       " 'score',\n",
       " 'set_feature_names',\n",
       " 'set_leaf_values',\n",
       " 'set_params',\n",
       " 'shrink',\n",
       " 'staged_predict',\n",
       " 'tree_count_']"
      ]
     },
     "execution_count": 290,
     "metadata": {},
     "output_type": "execute_result"
    }
   ],
   "source": [
    "dir(catb_model)"
   ]
  },
  {
   "cell_type": "code",
   "execution_count": 107,
   "metadata": {},
   "outputs": [],
   "source": [
    "y_pred = catb_model.predict(X_test)"
   ]
  },
  {
   "cell_type": "code",
   "execution_count": 108,
   "metadata": {},
   "outputs": [
    {
     "data": {
      "text/plain": [
       "350.2683163098795"
      ]
     },
     "execution_count": 108,
     "metadata": {},
     "output_type": "execute_result"
    }
   ],
   "source": [
    "np.sqrt(mean_squared_error(y_test, y_pred))"
   ]
  },
  {
   "cell_type": "markdown",
   "metadata": {},
   "source": [
    "## Model Tuning"
   ]
  },
  {
   "cell_type": "code",
   "execution_count": 111,
   "metadata": {},
   "outputs": [],
   "source": [
    "catb_params = {\"iterations\": [200,500,100],\n",
    "              \"learning_rate\": [0.01,0.1],\n",
    "              \"depth\": [3,6,8]}"
   ]
  },
  {
   "cell_type": "code",
   "execution_count": 112,
   "metadata": {},
   "outputs": [],
   "source": [
    "catb_model = CatBoostRegressor()"
   ]
  },
  {
   "cell_type": "code",
   "execution_count": 113,
   "metadata": {
    "collapsed": true,
    "jupyter": {
     "outputs_hidden": true
    }
   },
   "outputs": [
    {
     "name": "stdout",
     "output_type": "stream",
     "text": [
      "Fitting 5 folds for each of 18 candidates, totalling 90 fits\n"
     ]
    },
    {
     "name": "stderr",
     "output_type": "stream",
     "text": [
      "[Parallel(n_jobs=-1)]: Using backend LokyBackend with 4 concurrent workers.\n",
      "[Parallel(n_jobs=-1)]: Done  33 tasks      | elapsed:   13.4s\n",
      "[Parallel(n_jobs=-1)]: Done  90 out of  90 | elapsed:  1.5min finished\n"
     ]
    },
    {
     "name": "stdout",
     "output_type": "stream",
     "text": [
      "0:\tlearn: 425.7900818\ttotal: 923us\tremaining: 184ms\n",
      "1:\tlearn: 404.8723520\ttotal: 1.77ms\tremaining: 176ms\n",
      "2:\tlearn: 387.4057666\ttotal: 2.5ms\tremaining: 164ms\n",
      "3:\tlearn: 372.2801584\ttotal: 3.17ms\tremaining: 155ms\n",
      "4:\tlearn: 358.9204229\ttotal: 4.08ms\tremaining: 159ms\n",
      "5:\tlearn: 347.0083933\ttotal: 4.91ms\tremaining: 159ms\n",
      "6:\tlearn: 336.0130818\ttotal: 5.56ms\tremaining: 153ms\n",
      "7:\tlearn: 324.3923300\ttotal: 6.31ms\tremaining: 152ms\n",
      "8:\tlearn: 314.8690957\ttotal: 8.92ms\tremaining: 189ms\n",
      "9:\tlearn: 308.5075563\ttotal: 9.85ms\tremaining: 187ms\n",
      "10:\tlearn: 298.8587285\ttotal: 10.6ms\tremaining: 183ms\n",
      "11:\tlearn: 294.7655438\ttotal: 11.4ms\tremaining: 178ms\n",
      "12:\tlearn: 288.0697862\ttotal: 12.1ms\tremaining: 175ms\n",
      "13:\tlearn: 282.6697154\ttotal: 13.2ms\tremaining: 175ms\n",
      "14:\tlearn: 277.6121667\ttotal: 13.8ms\tremaining: 171ms\n",
      "15:\tlearn: 273.4383979\ttotal: 14.4ms\tremaining: 166ms\n",
      "16:\tlearn: 269.1556201\ttotal: 15.1ms\tremaining: 162ms\n",
      "17:\tlearn: 264.8098704\ttotal: 15.7ms\tremaining: 158ms\n",
      "18:\tlearn: 261.6700768\ttotal: 16.2ms\tremaining: 155ms\n",
      "19:\tlearn: 257.3961290\ttotal: 16.8ms\tremaining: 151ms\n",
      "20:\tlearn: 252.2691509\ttotal: 17.4ms\tremaining: 148ms\n",
      "21:\tlearn: 249.0686482\ttotal: 18ms\tremaining: 146ms\n",
      "22:\tlearn: 244.1881041\ttotal: 48.1ms\tremaining: 370ms\n",
      "23:\tlearn: 242.1696687\ttotal: 49.9ms\tremaining: 366ms\n",
      "24:\tlearn: 239.2131476\ttotal: 50.5ms\tremaining: 354ms\n",
      "25:\tlearn: 236.6883901\ttotal: 51.8ms\tremaining: 346ms\n",
      "26:\tlearn: 234.5295613\ttotal: 53.2ms\tremaining: 341ms\n",
      "27:\tlearn: 231.7788834\ttotal: 54.4ms\tremaining: 334ms\n",
      "28:\tlearn: 228.8020330\ttotal: 55ms\tremaining: 325ms\n",
      "29:\tlearn: 226.8420565\ttotal: 55.7ms\tremaining: 315ms\n",
      "30:\tlearn: 224.0686558\ttotal: 56.3ms\tremaining: 307ms\n",
      "31:\tlearn: 222.6644699\ttotal: 56.9ms\tremaining: 299ms\n",
      "32:\tlearn: 221.6889573\ttotal: 57.6ms\tremaining: 291ms\n",
      "33:\tlearn: 220.5171653\ttotal: 58.2ms\tremaining: 284ms\n",
      "34:\tlearn: 217.7686033\ttotal: 58.9ms\tremaining: 278ms\n",
      "35:\tlearn: 214.8462789\ttotal: 59.6ms\tremaining: 272ms\n",
      "36:\tlearn: 214.4799251\ttotal: 60.4ms\tremaining: 266ms\n",
      "37:\tlearn: 212.3480429\ttotal: 61.2ms\tremaining: 261ms\n",
      "38:\tlearn: 210.0040644\ttotal: 62.6ms\tremaining: 258ms\n",
      "39:\tlearn: 208.3086913\ttotal: 63.4ms\tremaining: 254ms\n",
      "40:\tlearn: 207.5469119\ttotal: 64.1ms\tremaining: 249ms\n",
      "41:\tlearn: 205.9351113\ttotal: 65ms\tremaining: 245ms\n",
      "42:\tlearn: 205.3580824\ttotal: 65.9ms\tremaining: 241ms\n",
      "43:\tlearn: 204.6204266\ttotal: 66.7ms\tremaining: 237ms\n",
      "44:\tlearn: 202.5023220\ttotal: 67.5ms\tremaining: 232ms\n",
      "45:\tlearn: 201.4347853\ttotal: 68.2ms\tremaining: 228ms\n",
      "46:\tlearn: 200.8752553\ttotal: 69ms\tremaining: 224ms\n",
      "47:\tlearn: 200.4047344\ttotal: 69.8ms\tremaining: 221ms\n",
      "48:\tlearn: 197.5433004\ttotal: 70.5ms\tremaining: 217ms\n",
      "49:\tlearn: 194.6943292\ttotal: 71.1ms\tremaining: 213ms\n",
      "50:\tlearn: 194.3011982\ttotal: 71.7ms\tremaining: 209ms\n",
      "51:\tlearn: 193.4011843\ttotal: 72.2ms\tremaining: 206ms\n",
      "52:\tlearn: 193.0109753\ttotal: 72.8ms\tremaining: 202ms\n",
      "53:\tlearn: 192.6071142\ttotal: 73.4ms\tremaining: 198ms\n",
      "54:\tlearn: 191.9666153\ttotal: 73.9ms\tremaining: 195ms\n",
      "55:\tlearn: 191.5789727\ttotal: 74.5ms\tremaining: 192ms\n",
      "56:\tlearn: 190.7186284\ttotal: 75.1ms\tremaining: 188ms\n",
      "57:\tlearn: 190.4543087\ttotal: 77.9ms\tremaining: 191ms\n",
      "58:\tlearn: 190.1336317\ttotal: 86.2ms\tremaining: 206ms\n",
      "59:\tlearn: 188.2286484\ttotal: 87ms\tremaining: 203ms\n",
      "60:\tlearn: 187.7652417\ttotal: 87.7ms\tremaining: 200ms\n",
      "61:\tlearn: 187.4227950\ttotal: 89.7ms\tremaining: 200ms\n",
      "62:\tlearn: 186.9289182\ttotal: 92ms\tremaining: 200ms\n",
      "63:\tlearn: 185.2993487\ttotal: 92.8ms\tremaining: 197ms\n",
      "64:\tlearn: 185.0349598\ttotal: 93.6ms\tremaining: 194ms\n",
      "65:\tlearn: 183.9773430\ttotal: 94.3ms\tremaining: 192ms\n",
      "66:\tlearn: 183.4463166\ttotal: 95ms\tremaining: 189ms\n",
      "67:\tlearn: 181.6627740\ttotal: 95.7ms\tremaining: 186ms\n",
      "68:\tlearn: 179.8785055\ttotal: 96.5ms\tremaining: 183ms\n",
      "69:\tlearn: 179.6737527\ttotal: 97.7ms\tremaining: 181ms\n",
      "70:\tlearn: 177.0830981\ttotal: 98.8ms\tremaining: 180ms\n",
      "71:\tlearn: 176.5917790\ttotal: 101ms\tremaining: 179ms\n",
      "72:\tlearn: 176.1240502\ttotal: 103ms\tremaining: 179ms\n",
      "73:\tlearn: 174.4828953\ttotal: 104ms\tremaining: 177ms\n",
      "74:\tlearn: 173.4220482\ttotal: 105ms\tremaining: 174ms\n",
      "75:\tlearn: 171.9903405\ttotal: 105ms\tremaining: 172ms\n",
      "76:\tlearn: 171.5803116\ttotal: 106ms\tremaining: 170ms\n",
      "77:\tlearn: 170.1411594\ttotal: 107ms\tremaining: 167ms\n",
      "78:\tlearn: 167.9868133\ttotal: 108ms\tremaining: 165ms\n",
      "79:\tlearn: 166.5304475\ttotal: 111ms\tremaining: 167ms\n",
      "80:\tlearn: 166.1741622\ttotal: 114ms\tremaining: 167ms\n",
      "81:\tlearn: 165.8411762\ttotal: 124ms\tremaining: 178ms\n",
      "82:\tlearn: 165.1041583\ttotal: 126ms\tremaining: 178ms\n",
      "83:\tlearn: 163.5641543\ttotal: 127ms\tremaining: 176ms\n",
      "84:\tlearn: 163.2003311\ttotal: 128ms\tremaining: 173ms\n",
      "85:\tlearn: 161.1781702\ttotal: 129ms\tremaining: 171ms\n",
      "86:\tlearn: 160.8727658\ttotal: 141ms\tremaining: 183ms\n",
      "87:\tlearn: 159.7954077\ttotal: 143ms\tremaining: 181ms\n",
      "88:\tlearn: 158.8759132\ttotal: 144ms\tremaining: 180ms\n",
      "89:\tlearn: 158.4831323\ttotal: 145ms\tremaining: 178ms\n",
      "90:\tlearn: 157.4808127\ttotal: 147ms\tremaining: 176ms\n",
      "91:\tlearn: 157.1703230\ttotal: 148ms\tremaining: 173ms\n",
      "92:\tlearn: 155.3184755\ttotal: 149ms\tremaining: 171ms\n",
      "93:\tlearn: 154.3988879\ttotal: 150ms\tremaining: 169ms\n",
      "94:\tlearn: 153.4591935\ttotal: 151ms\tremaining: 167ms\n",
      "95:\tlearn: 153.1206893\ttotal: 152ms\tremaining: 164ms\n",
      "96:\tlearn: 152.7897351\ttotal: 153ms\tremaining: 162ms\n",
      "97:\tlearn: 150.9293164\ttotal: 153ms\tremaining: 160ms\n",
      "98:\tlearn: 149.7127171\ttotal: 154ms\tremaining: 157ms\n",
      "99:\tlearn: 149.5089324\ttotal: 155ms\tremaining: 155ms\n",
      "100:\tlearn: 149.3156312\ttotal: 155ms\tremaining: 152ms\n",
      "101:\tlearn: 147.7226718\ttotal: 156ms\tremaining: 150ms\n",
      "102:\tlearn: 146.7692282\ttotal: 157ms\tremaining: 147ms\n",
      "103:\tlearn: 145.9084983\ttotal: 157ms\tremaining: 145ms\n",
      "104:\tlearn: 144.8780979\ttotal: 158ms\tremaining: 143ms\n",
      "105:\tlearn: 143.8090268\ttotal: 158ms\tremaining: 141ms\n",
      "106:\tlearn: 143.1272551\ttotal: 159ms\tremaining: 138ms\n",
      "107:\tlearn: 142.4863018\ttotal: 160ms\tremaining: 136ms\n",
      "108:\tlearn: 141.4861279\ttotal: 160ms\tremaining: 134ms\n",
      "109:\tlearn: 140.8689530\ttotal: 161ms\tremaining: 132ms\n",
      "110:\tlearn: 140.4009570\ttotal: 162ms\tremaining: 130ms\n",
      "111:\tlearn: 140.0344439\ttotal: 162ms\tremaining: 128ms\n",
      "112:\tlearn: 139.4290096\ttotal: 163ms\tremaining: 126ms\n",
      "113:\tlearn: 139.2008874\ttotal: 164ms\tremaining: 124ms\n",
      "114:\tlearn: 138.6000188\ttotal: 164ms\tremaining: 122ms\n",
      "115:\tlearn: 138.3962706\ttotal: 165ms\tremaining: 120ms\n",
      "116:\tlearn: 138.1737256\ttotal: 166ms\tremaining: 118ms\n",
      "117:\tlearn: 137.6342361\ttotal: 166ms\tremaining: 116ms\n",
      "118:\tlearn: 136.7119826\ttotal: 167ms\tremaining: 114ms\n",
      "119:\tlearn: 135.3057402\ttotal: 168ms\tremaining: 112ms\n",
      "120:\tlearn: 134.4797815\ttotal: 169ms\tremaining: 110ms\n",
      "121:\tlearn: 133.0774331\ttotal: 170ms\tremaining: 108ms\n",
      "122:\tlearn: 131.8739238\ttotal: 170ms\tremaining: 107ms\n",
      "123:\tlearn: 131.3203837\ttotal: 171ms\tremaining: 105ms\n",
      "124:\tlearn: 130.8294604\ttotal: 172ms\tremaining: 103ms\n",
      "125:\tlearn: 130.6107905\ttotal: 173ms\tremaining: 102ms\n",
      "126:\tlearn: 130.1614924\ttotal: 177ms\tremaining: 101ms\n",
      "127:\tlearn: 129.3166972\ttotal: 177ms\tremaining: 99.7ms\n",
      "128:\tlearn: 129.1038672\ttotal: 178ms\tremaining: 98ms\n",
      "129:\tlearn: 128.9594874\ttotal: 179ms\tremaining: 96.2ms\n",
      "130:\tlearn: 128.1849638\ttotal: 179ms\tremaining: 94.4ms\n",
      "131:\tlearn: 128.0307033\ttotal: 180ms\tremaining: 92.7ms\n",
      "132:\tlearn: 127.3373882\ttotal: 181ms\tremaining: 91ms\n",
      "133:\tlearn: 126.2856989\ttotal: 181ms\tremaining: 89.4ms\n",
      "134:\tlearn: 126.1379832\ttotal: 182ms\tremaining: 87.7ms\n",
      "135:\tlearn: 126.0180019\ttotal: 184ms\tremaining: 86.4ms\n",
      "136:\tlearn: 125.8843963\ttotal: 184ms\tremaining: 84.7ms\n",
      "137:\tlearn: 125.7576333\ttotal: 185ms\tremaining: 83.1ms\n",
      "138:\tlearn: 125.4794581\ttotal: 186ms\tremaining: 81.5ms\n",
      "139:\tlearn: 124.7920270\ttotal: 187ms\tremaining: 80.3ms\n",
      "140:\tlearn: 124.6530278\ttotal: 189ms\tremaining: 79.1ms\n",
      "141:\tlearn: 123.4539010\ttotal: 189ms\tremaining: 77.4ms\n",
      "142:\tlearn: 122.8980001\ttotal: 190ms\tremaining: 75.8ms\n",
      "143:\tlearn: 122.0911177\ttotal: 191ms\tremaining: 74.2ms\n",
      "144:\tlearn: 121.1209154\ttotal: 191ms\tremaining: 72.5ms\n",
      "145:\tlearn: 120.1613553\ttotal: 192ms\tremaining: 71ms\n",
      "146:\tlearn: 119.1894727\ttotal: 192ms\tremaining: 69.4ms\n",
      "147:\tlearn: 118.0325732\ttotal: 193ms\tremaining: 67.8ms\n",
      "148:\tlearn: 117.9138240\ttotal: 194ms\tremaining: 66.3ms\n",
      "149:\tlearn: 117.3831462\ttotal: 194ms\tremaining: 64.7ms\n",
      "150:\tlearn: 116.8475244\ttotal: 195ms\tremaining: 63.2ms\n",
      "151:\tlearn: 116.3821954\ttotal: 196ms\tremaining: 61.7ms\n",
      "152:\tlearn: 115.5293176\ttotal: 197ms\tremaining: 60.4ms\n",
      "153:\tlearn: 115.0975175\ttotal: 197ms\tremaining: 58.9ms\n",
      "154:\tlearn: 114.0649594\ttotal: 199ms\tremaining: 57.7ms\n",
      "155:\tlearn: 113.2562326\ttotal: 200ms\tremaining: 56.4ms\n",
      "156:\tlearn: 112.7557871\ttotal: 201ms\tremaining: 55ms\n",
      "157:\tlearn: 112.5657565\ttotal: 201ms\tremaining: 53.5ms\n",
      "158:\tlearn: 112.3541525\ttotal: 202ms\tremaining: 52.1ms\n",
      "159:\tlearn: 111.8527982\ttotal: 203ms\tremaining: 50.6ms\n",
      "160:\tlearn: 111.1619644\ttotal: 203ms\tremaining: 49.2ms\n",
      "161:\tlearn: 110.3588257\ttotal: 204ms\tremaining: 47.9ms\n",
      "162:\tlearn: 109.6664293\ttotal: 205ms\tremaining: 46.5ms\n",
      "163:\tlearn: 109.5577303\ttotal: 205ms\tremaining: 45.1ms\n",
      "164:\tlearn: 109.0570285\ttotal: 206ms\tremaining: 43.7ms\n",
      "165:\tlearn: 108.7601467\ttotal: 207ms\tremaining: 42.3ms\n",
      "166:\tlearn: 108.0448620\ttotal: 207ms\tremaining: 41ms\n",
      "167:\tlearn: 107.5593372\ttotal: 208ms\tremaining: 39.7ms\n",
      "168:\tlearn: 106.3862999\ttotal: 209ms\tremaining: 38.3ms\n",
      "169:\tlearn: 106.2180807\ttotal: 209ms\tremaining: 36.9ms\n",
      "170:\tlearn: 106.0695603\ttotal: 210ms\tremaining: 35.6ms\n",
      "171:\tlearn: 105.6940213\ttotal: 210ms\tremaining: 34.3ms\n",
      "172:\tlearn: 104.7598987\ttotal: 211ms\tremaining: 32.9ms\n",
      "173:\tlearn: 104.6589992\ttotal: 212ms\tremaining: 31.6ms\n",
      "174:\tlearn: 103.7203657\ttotal: 212ms\tremaining: 30.3ms\n",
      "175:\tlearn: 103.2660987\ttotal: 213ms\tremaining: 29ms\n",
      "176:\tlearn: 103.0926213\ttotal: 213ms\tremaining: 27.7ms\n",
      "177:\tlearn: 102.6925209\ttotal: 214ms\tremaining: 26.4ms\n",
      "178:\tlearn: 102.1655154\ttotal: 214ms\tremaining: 25.2ms\n",
      "179:\tlearn: 101.8273108\ttotal: 215ms\tremaining: 23.9ms\n",
      "180:\tlearn: 101.7264515\ttotal: 216ms\tremaining: 22.6ms\n",
      "181:\tlearn: 101.1102333\ttotal: 216ms\tremaining: 21.4ms\n",
      "182:\tlearn: 100.7880364\ttotal: 217ms\tremaining: 20.1ms\n",
      "183:\tlearn: 100.6673014\ttotal: 217ms\tremaining: 18.9ms\n",
      "184:\tlearn: 100.0153055\ttotal: 218ms\tremaining: 17.7ms\n",
      "185:\tlearn: 99.7667281\ttotal: 218ms\tremaining: 16.4ms\n",
      "186:\tlearn: 99.1860593\ttotal: 219ms\tremaining: 15.2ms\n",
      "187:\tlearn: 99.0408133\ttotal: 219ms\tremaining: 14ms\n",
      "188:\tlearn: 98.9030718\ttotal: 220ms\tremaining: 12.8ms\n",
      "189:\tlearn: 97.4513860\ttotal: 220ms\tremaining: 11.6ms\n",
      "190:\tlearn: 97.3322959\ttotal: 221ms\tremaining: 10.4ms\n",
      "191:\tlearn: 97.1950848\ttotal: 221ms\tremaining: 9.23ms\n",
      "192:\tlearn: 96.6789532\ttotal: 222ms\tremaining: 8.05ms\n",
      "193:\tlearn: 96.5506179\ttotal: 223ms\tremaining: 6.88ms\n",
      "194:\tlearn: 95.6635039\ttotal: 223ms\tremaining: 5.72ms\n",
      "195:\tlearn: 94.8850777\ttotal: 224ms\tremaining: 4.56ms\n",
      "196:\tlearn: 94.1624589\ttotal: 224ms\tremaining: 3.41ms\n",
      "197:\tlearn: 93.8220662\ttotal: 225ms\tremaining: 2.27ms\n",
      "198:\tlearn: 93.7300351\ttotal: 225ms\tremaining: 1.13ms\n",
      "199:\tlearn: 93.3339522\ttotal: 226ms\tremaining: 0us\n"
     ]
    }
   ],
   "source": [
    "catb_cv_model = GridSearchCV(catb_model, \n",
    "                           catb_params, \n",
    "                           cv = 5, \n",
    "                           n_jobs = -1, \n",
    "                           verbose = 2).fit(X_train, y_train)"
   ]
  },
  {
   "cell_type": "code",
   "execution_count": 115,
   "metadata": {},
   "outputs": [
    {
     "data": {
      "text/plain": [
       "{'depth': 3, 'iterations': 200, 'learning_rate': 0.1}"
      ]
     },
     "execution_count": 115,
     "metadata": {},
     "output_type": "execute_result"
    }
   ],
   "source": [
    "catb_cv_model.best_params_"
   ]
  },
  {
   "cell_type": "code",
   "execution_count": 116,
   "metadata": {
    "collapsed": true,
    "jupyter": {
     "outputs_hidden": true
    }
   },
   "outputs": [
    {
     "name": "stdout",
     "output_type": "stream",
     "text": [
      "0:\tlearn: 425.7900818\ttotal: 691us\tremaining: 138ms\n",
      "1:\tlearn: 404.8723520\ttotal: 1.44ms\tremaining: 143ms\n",
      "2:\tlearn: 387.4057666\ttotal: 2.01ms\tremaining: 132ms\n",
      "3:\tlearn: 372.2801584\ttotal: 2.55ms\tremaining: 125ms\n",
      "4:\tlearn: 358.9204229\ttotal: 3.08ms\tremaining: 120ms\n",
      "5:\tlearn: 347.0083933\ttotal: 3.75ms\tremaining: 121ms\n",
      "6:\tlearn: 336.0130818\ttotal: 4.41ms\tremaining: 122ms\n",
      "7:\tlearn: 324.3923300\ttotal: 5.1ms\tremaining: 122ms\n",
      "8:\tlearn: 314.8690957\ttotal: 5.79ms\tremaining: 123ms\n",
      "9:\tlearn: 308.5075563\ttotal: 6.46ms\tremaining: 123ms\n",
      "10:\tlearn: 298.8587285\ttotal: 7.14ms\tremaining: 123ms\n",
      "11:\tlearn: 294.7655438\ttotal: 7.8ms\tremaining: 122ms\n",
      "12:\tlearn: 288.0697862\ttotal: 8.49ms\tremaining: 122ms\n",
      "13:\tlearn: 282.6697154\ttotal: 9.13ms\tremaining: 121ms\n",
      "14:\tlearn: 277.6121667\ttotal: 9.78ms\tremaining: 121ms\n",
      "15:\tlearn: 273.4383979\ttotal: 10.4ms\tremaining: 120ms\n",
      "16:\tlearn: 269.1556201\ttotal: 11.1ms\tremaining: 119ms\n",
      "17:\tlearn: 264.8098704\ttotal: 11.7ms\tremaining: 118ms\n",
      "18:\tlearn: 261.6700768\ttotal: 12.3ms\tremaining: 117ms\n",
      "19:\tlearn: 257.3961290\ttotal: 13ms\tremaining: 117ms\n",
      "20:\tlearn: 252.2691509\ttotal: 13.6ms\tremaining: 116ms\n",
      "21:\tlearn: 249.0686482\ttotal: 14.2ms\tremaining: 115ms\n",
      "22:\tlearn: 244.1881041\ttotal: 15ms\tremaining: 115ms\n",
      "23:\tlearn: 242.1696687\ttotal: 15.7ms\tremaining: 115ms\n",
      "24:\tlearn: 239.2131476\ttotal: 16.2ms\tremaining: 113ms\n",
      "25:\tlearn: 236.6883901\ttotal: 16.6ms\tremaining: 111ms\n",
      "26:\tlearn: 234.5295613\ttotal: 17ms\tremaining: 109ms\n",
      "27:\tlearn: 231.7788834\ttotal: 17.6ms\tremaining: 108ms\n",
      "28:\tlearn: 228.8020330\ttotal: 18.2ms\tremaining: 107ms\n",
      "29:\tlearn: 226.8420565\ttotal: 18.7ms\tremaining: 106ms\n",
      "30:\tlearn: 224.0686558\ttotal: 19.3ms\tremaining: 105ms\n",
      "31:\tlearn: 222.6644699\ttotal: 19.8ms\tremaining: 104ms\n",
      "32:\tlearn: 221.6889573\ttotal: 20.7ms\tremaining: 105ms\n",
      "33:\tlearn: 220.5171653\ttotal: 21.2ms\tremaining: 103ms\n",
      "34:\tlearn: 217.7686033\ttotal: 21.8ms\tremaining: 103ms\n",
      "35:\tlearn: 214.8462789\ttotal: 22.3ms\tremaining: 102ms\n",
      "36:\tlearn: 214.4799251\ttotal: 22.9ms\tremaining: 101ms\n",
      "37:\tlearn: 212.3480429\ttotal: 23.4ms\tremaining: 99.6ms\n",
      "38:\tlearn: 210.0040644\ttotal: 24ms\tremaining: 99ms\n",
      "39:\tlearn: 208.3086913\ttotal: 24.6ms\tremaining: 98.6ms\n",
      "40:\tlearn: 207.5469119\ttotal: 25.3ms\tremaining: 98ms\n",
      "41:\tlearn: 205.9351113\ttotal: 25.9ms\tremaining: 97.4ms\n",
      "42:\tlearn: 205.3580824\ttotal: 26.3ms\tremaining: 96.2ms\n",
      "43:\tlearn: 204.6204266\ttotal: 26.8ms\tremaining: 95ms\n",
      "44:\tlearn: 202.5023220\ttotal: 27.4ms\tremaining: 94.5ms\n",
      "45:\tlearn: 201.4347853\ttotal: 28.1ms\tremaining: 93.9ms\n",
      "46:\tlearn: 200.8752553\ttotal: 28.7ms\tremaining: 93.4ms\n",
      "47:\tlearn: 200.4047344\ttotal: 29.2ms\tremaining: 92.5ms\n",
      "48:\tlearn: 197.5433004\ttotal: 29.7ms\tremaining: 91.6ms\n",
      "49:\tlearn: 194.6943292\ttotal: 30.2ms\tremaining: 90.7ms\n",
      "50:\tlearn: 194.3011982\ttotal: 30.8ms\tremaining: 89.9ms\n",
      "51:\tlearn: 193.4011843\ttotal: 31.5ms\tremaining: 89.6ms\n",
      "52:\tlearn: 193.0109753\ttotal: 32.2ms\tremaining: 89.4ms\n",
      "53:\tlearn: 192.6071142\ttotal: 33ms\tremaining: 89.2ms\n",
      "54:\tlearn: 191.9666153\ttotal: 33.7ms\tremaining: 88.9ms\n",
      "55:\tlearn: 191.5789727\ttotal: 34.4ms\tremaining: 88.6ms\n",
      "56:\tlearn: 190.7186284\ttotal: 35.2ms\tremaining: 88.3ms\n",
      "57:\tlearn: 190.4543087\ttotal: 35.9ms\tremaining: 88ms\n",
      "58:\tlearn: 190.1336317\ttotal: 36.7ms\tremaining: 87.7ms\n",
      "59:\tlearn: 188.2286484\ttotal: 37.4ms\tremaining: 87.3ms\n",
      "60:\tlearn: 187.7652417\ttotal: 38.2ms\tremaining: 87ms\n",
      "61:\tlearn: 187.4227950\ttotal: 38.7ms\tremaining: 86.2ms\n",
      "62:\tlearn: 186.9289182\ttotal: 39.5ms\tremaining: 85.9ms\n",
      "63:\tlearn: 185.2993487\ttotal: 40.2ms\tremaining: 85.5ms\n",
      "64:\tlearn: 185.0349598\ttotal: 40.8ms\tremaining: 84.8ms\n",
      "65:\tlearn: 183.9773430\ttotal: 41.6ms\tremaining: 84.5ms\n",
      "66:\tlearn: 183.4463166\ttotal: 42.4ms\tremaining: 84.2ms\n",
      "67:\tlearn: 181.6627740\ttotal: 43.2ms\tremaining: 83.8ms\n",
      "68:\tlearn: 179.8785055\ttotal: 43.9ms\tremaining: 83.3ms\n",
      "69:\tlearn: 179.6737527\ttotal: 44.4ms\tremaining: 82.5ms\n",
      "70:\tlearn: 177.0830981\ttotal: 44.9ms\tremaining: 81.6ms\n",
      "71:\tlearn: 176.5917790\ttotal: 45.5ms\tremaining: 80.8ms\n",
      "72:\tlearn: 176.1240502\ttotal: 46.3ms\tremaining: 80.6ms\n",
      "73:\tlearn: 174.4828953\ttotal: 47ms\tremaining: 80.1ms\n",
      "74:\tlearn: 173.4220482\ttotal: 47.8ms\tremaining: 79.6ms\n",
      "75:\tlearn: 171.9903405\ttotal: 48.2ms\tremaining: 78.7ms\n",
      "76:\tlearn: 171.5803116\ttotal: 49.2ms\tremaining: 78.6ms\n",
      "77:\tlearn: 170.1411594\ttotal: 49.7ms\tremaining: 77.8ms\n",
      "78:\tlearn: 167.9868133\ttotal: 50.4ms\tremaining: 77.2ms\n",
      "79:\tlearn: 166.5304475\ttotal: 51.1ms\tremaining: 76.6ms\n",
      "80:\tlearn: 166.1741622\ttotal: 51.5ms\tremaining: 75.7ms\n",
      "81:\tlearn: 165.8411762\ttotal: 52ms\tremaining: 74.8ms\n",
      "82:\tlearn: 165.1041583\ttotal: 52.6ms\tremaining: 74.2ms\n",
      "83:\tlearn: 163.5641543\ttotal: 53.3ms\tremaining: 73.6ms\n",
      "84:\tlearn: 163.2003311\ttotal: 53.9ms\tremaining: 73ms\n",
      "85:\tlearn: 161.1781702\ttotal: 54.7ms\tremaining: 72.4ms\n",
      "86:\tlearn: 160.8727658\ttotal: 55.3ms\tremaining: 71.8ms\n",
      "87:\tlearn: 159.7954077\ttotal: 55.9ms\tremaining: 71.2ms\n",
      "88:\tlearn: 158.8759132\ttotal: 56.4ms\tremaining: 70.3ms\n",
      "89:\tlearn: 158.4831323\ttotal: 56.8ms\tremaining: 69.4ms\n",
      "90:\tlearn: 157.4808127\ttotal: 57.3ms\tremaining: 68.6ms\n",
      "91:\tlearn: 157.1703230\ttotal: 57.7ms\tremaining: 67.7ms\n",
      "92:\tlearn: 155.3184755\ttotal: 58.2ms\tremaining: 66.9ms\n",
      "93:\tlearn: 154.3988879\ttotal: 58.8ms\tremaining: 66.3ms\n",
      "94:\tlearn: 153.4591935\ttotal: 59.2ms\tremaining: 65.4ms\n",
      "95:\tlearn: 153.1206893\ttotal: 59.7ms\tremaining: 64.7ms\n",
      "96:\tlearn: 152.7897351\ttotal: 60.7ms\tremaining: 64.4ms\n",
      "97:\tlearn: 150.9293164\ttotal: 61.4ms\tremaining: 63.9ms\n",
      "98:\tlearn: 149.7127171\ttotal: 62ms\tremaining: 63.3ms\n",
      "99:\tlearn: 149.5089324\ttotal: 62.5ms\tremaining: 62.5ms\n",
      "100:\tlearn: 149.3156312\ttotal: 63.1ms\tremaining: 61.8ms\n",
      "101:\tlearn: 147.7226718\ttotal: 63.8ms\tremaining: 61.3ms\n",
      "102:\tlearn: 146.7692282\ttotal: 64.5ms\tremaining: 60.7ms\n",
      "103:\tlearn: 145.9084983\ttotal: 65.1ms\tremaining: 60.1ms\n",
      "104:\tlearn: 144.8780979\ttotal: 65.6ms\tremaining: 59.3ms\n",
      "105:\tlearn: 143.8090268\ttotal: 66.2ms\tremaining: 58.7ms\n",
      "106:\tlearn: 143.1272551\ttotal: 66.7ms\tremaining: 57.9ms\n",
      "107:\tlearn: 142.4863018\ttotal: 67.1ms\tremaining: 57.2ms\n",
      "108:\tlearn: 141.4861279\ttotal: 67.6ms\tremaining: 56.4ms\n",
      "109:\tlearn: 140.8689530\ttotal: 68.2ms\tremaining: 55.8ms\n",
      "110:\tlearn: 140.4009570\ttotal: 68.7ms\tremaining: 55.1ms\n",
      "111:\tlearn: 140.0344439\ttotal: 69.3ms\tremaining: 54.5ms\n",
      "112:\tlearn: 139.4290096\ttotal: 69.9ms\tremaining: 53.8ms\n",
      "113:\tlearn: 139.2008874\ttotal: 70.4ms\tremaining: 53.1ms\n",
      "114:\tlearn: 138.6000188\ttotal: 71ms\tremaining: 52.5ms\n",
      "115:\tlearn: 138.3962706\ttotal: 71.4ms\tremaining: 51.7ms\n",
      "116:\tlearn: 138.1737256\ttotal: 71.9ms\tremaining: 51ms\n",
      "117:\tlearn: 137.6342361\ttotal: 72.3ms\tremaining: 50.2ms\n",
      "118:\tlearn: 136.7119826\ttotal: 72.7ms\tremaining: 49.5ms\n",
      "119:\tlearn: 135.3057402\ttotal: 73.2ms\tremaining: 48.8ms\n",
      "120:\tlearn: 134.4797815\ttotal: 73.6ms\tremaining: 48ms\n",
      "121:\tlearn: 133.0774331\ttotal: 74.1ms\tremaining: 47.4ms\n",
      "122:\tlearn: 131.8739238\ttotal: 74.6ms\tremaining: 46.7ms\n",
      "123:\tlearn: 131.3203837\ttotal: 75ms\tremaining: 46ms\n",
      "124:\tlearn: 130.8294604\ttotal: 75.5ms\tremaining: 45.3ms\n",
      "125:\tlearn: 130.6107905\ttotal: 75.9ms\tremaining: 44.6ms\n",
      "126:\tlearn: 130.1614924\ttotal: 76.3ms\tremaining: 43.9ms\n",
      "127:\tlearn: 129.3166972\ttotal: 76.8ms\tremaining: 43.2ms\n",
      "128:\tlearn: 129.1038672\ttotal: 77.2ms\tremaining: 42.5ms\n",
      "129:\tlearn: 128.9594874\ttotal: 77.6ms\tremaining: 41.8ms\n",
      "130:\tlearn: 128.1849638\ttotal: 78.1ms\tremaining: 41.1ms\n",
      "131:\tlearn: 128.0307033\ttotal: 78.5ms\tremaining: 40.4ms\n",
      "132:\tlearn: 127.3373882\ttotal: 78.9ms\tremaining: 39.8ms\n",
      "133:\tlearn: 126.2856989\ttotal: 79.4ms\tremaining: 39.1ms\n",
      "134:\tlearn: 126.1379832\ttotal: 79.8ms\tremaining: 38.4ms\n",
      "135:\tlearn: 126.0180019\ttotal: 80.2ms\tremaining: 37.7ms\n",
      "136:\tlearn: 125.8843963\ttotal: 80.6ms\tremaining: 37.1ms\n",
      "137:\tlearn: 125.7576333\ttotal: 81.1ms\tremaining: 36.4ms\n",
      "138:\tlearn: 125.4794581\ttotal: 81.5ms\tremaining: 35.8ms\n",
      "139:\tlearn: 124.7920270\ttotal: 81.9ms\tremaining: 35.1ms\n",
      "140:\tlearn: 124.6530278\ttotal: 82.3ms\tremaining: 34.5ms\n",
      "141:\tlearn: 123.4539010\ttotal: 82.8ms\tremaining: 33.8ms\n",
      "142:\tlearn: 122.8980001\ttotal: 83.3ms\tremaining: 33.2ms\n",
      "143:\tlearn: 122.0911177\ttotal: 83.8ms\tremaining: 32.6ms\n",
      "144:\tlearn: 121.1209154\ttotal: 84.2ms\tremaining: 31.9ms\n",
      "145:\tlearn: 120.1613553\ttotal: 84.7ms\tremaining: 31.3ms\n",
      "146:\tlearn: 119.1894727\ttotal: 85.1ms\tremaining: 30.7ms\n",
      "147:\tlearn: 118.0325732\ttotal: 85.5ms\tremaining: 30ms\n",
      "148:\tlearn: 117.9138240\ttotal: 85.9ms\tremaining: 29.4ms\n",
      "149:\tlearn: 117.3831462\ttotal: 86.4ms\tremaining: 28.8ms\n",
      "150:\tlearn: 116.8475244\ttotal: 86.8ms\tremaining: 28.2ms\n",
      "151:\tlearn: 116.3821954\ttotal: 87.3ms\tremaining: 27.6ms\n",
      "152:\tlearn: 115.5293176\ttotal: 87.7ms\tremaining: 26.9ms\n",
      "153:\tlearn: 115.0975175\ttotal: 88.2ms\tremaining: 26.3ms\n",
      "154:\tlearn: 114.0649594\ttotal: 88.6ms\tremaining: 25.7ms\n",
      "155:\tlearn: 113.2562326\ttotal: 89ms\tremaining: 25.1ms\n",
      "156:\tlearn: 112.7557871\ttotal: 89.5ms\tremaining: 24.5ms\n",
      "157:\tlearn: 112.5657565\ttotal: 89.9ms\tremaining: 23.9ms\n",
      "158:\tlearn: 112.3541525\ttotal: 90.3ms\tremaining: 23.3ms\n",
      "159:\tlearn: 111.8527982\ttotal: 90.8ms\tremaining: 22.7ms\n",
      "160:\tlearn: 111.1619644\ttotal: 91.2ms\tremaining: 22.1ms\n",
      "161:\tlearn: 110.3588257\ttotal: 91.6ms\tremaining: 21.5ms\n",
      "162:\tlearn: 109.6664293\ttotal: 92.1ms\tremaining: 20.9ms\n",
      "163:\tlearn: 109.5577303\ttotal: 92.5ms\tremaining: 20.3ms\n",
      "164:\tlearn: 109.0570285\ttotal: 92.9ms\tremaining: 19.7ms\n",
      "165:\tlearn: 108.7601467\ttotal: 93.4ms\tremaining: 19.1ms\n",
      "166:\tlearn: 108.0448620\ttotal: 94ms\tremaining: 18.6ms\n",
      "167:\tlearn: 107.5593372\ttotal: 95.5ms\tremaining: 18.2ms\n",
      "168:\tlearn: 106.3862999\ttotal: 96.7ms\tremaining: 17.7ms\n",
      "169:\tlearn: 106.2180807\ttotal: 97.3ms\tremaining: 17.2ms\n",
      "170:\tlearn: 106.0695603\ttotal: 98ms\tremaining: 16.6ms\n",
      "171:\tlearn: 105.6940213\ttotal: 98.6ms\tremaining: 16.1ms\n",
      "172:\tlearn: 104.7598987\ttotal: 99.1ms\tremaining: 15.5ms\n",
      "173:\tlearn: 104.6589992\ttotal: 99.7ms\tremaining: 14.9ms\n",
      "174:\tlearn: 103.7203657\ttotal: 101ms\tremaining: 14.4ms\n",
      "175:\tlearn: 103.2660987\ttotal: 101ms\tremaining: 13.8ms\n",
      "176:\tlearn: 103.0926213\ttotal: 102ms\tremaining: 13.2ms\n",
      "177:\tlearn: 102.6925209\ttotal: 102ms\tremaining: 12.6ms\n",
      "178:\tlearn: 102.1655154\ttotal: 103ms\tremaining: 12ms\n",
      "179:\tlearn: 101.8273108\ttotal: 103ms\tremaining: 11.5ms\n",
      "180:\tlearn: 101.7264515\ttotal: 104ms\tremaining: 10.9ms\n",
      "181:\tlearn: 101.1102333\ttotal: 104ms\tremaining: 10.3ms\n",
      "182:\tlearn: 100.7880364\ttotal: 104ms\tremaining: 9.7ms\n",
      "183:\tlearn: 100.6673014\ttotal: 105ms\tremaining: 9.12ms\n",
      "184:\tlearn: 100.0153055\ttotal: 105ms\tremaining: 8.53ms\n",
      "185:\tlearn: 99.7667281\ttotal: 106ms\tremaining: 7.96ms\n",
      "186:\tlearn: 99.1860593\ttotal: 106ms\tremaining: 7.38ms\n",
      "187:\tlearn: 99.0408133\ttotal: 107ms\tremaining: 6.82ms\n",
      "188:\tlearn: 98.9030718\ttotal: 107ms\tremaining: 6.25ms\n",
      "189:\tlearn: 97.4513860\ttotal: 108ms\tremaining: 5.68ms\n",
      "190:\tlearn: 97.3322959\ttotal: 108ms\tremaining: 5.11ms\n",
      "191:\tlearn: 97.1950848\ttotal: 109ms\tremaining: 4.53ms\n",
      "192:\tlearn: 96.6789532\ttotal: 109ms\tremaining: 3.96ms\n",
      "193:\tlearn: 96.5506179\ttotal: 110ms\tremaining: 3.39ms\n",
      "194:\tlearn: 95.6635039\ttotal: 110ms\tremaining: 2.82ms\n",
      "195:\tlearn: 94.8850777\ttotal: 111ms\tremaining: 2.26ms\n",
      "196:\tlearn: 94.1624589\ttotal: 111ms\tremaining: 1.69ms\n",
      "197:\tlearn: 93.8220662\ttotal: 111ms\tremaining: 1.13ms\n",
      "198:\tlearn: 93.7300351\ttotal: 112ms\tremaining: 562us\n",
      "199:\tlearn: 93.3339522\ttotal: 112ms\tremaining: 0us\n"
     ]
    }
   ],
   "source": [
    "catb_tuned=CatBoostRegressor(depth=3,iterations=200,learning_rate=0.1).fit(X_train,y_train)"
   ]
  },
  {
   "cell_type": "code",
   "execution_count": 117,
   "metadata": {},
   "outputs": [],
   "source": [
    "y_pred = catb_tuned.predict(X_test)"
   ]
  },
  {
   "cell_type": "code",
   "execution_count": 118,
   "metadata": {},
   "outputs": [
    {
     "data": {
      "text/plain": [
       "344.3125832615482"
      ]
     },
     "execution_count": 118,
     "metadata": {},
     "output_type": "execute_result"
    }
   ],
   "source": [
    "np.sqrt(mean_squared_error(y_test, y_pred))"
   ]
  },
  {
   "cell_type": "markdown",
   "metadata": {},
   "source": [
    "# MAKINE OGRENMESI GOREVLERININ OTOMATIKLESTIRILMESI"
   ]
  },
  {
   "cell_type": "code",
   "execution_count": 119,
   "metadata": {},
   "outputs": [],
   "source": [
    "df = pd.read_csv(\"Hitters.csv\")\n",
    "df = df.dropna()\n",
    "dms = pd.get_dummies(df[['League', 'Division', 'NewLeague']])"
   ]
  },
  {
   "cell_type": "code",
   "execution_count": 122,
   "metadata": {},
   "outputs": [],
   "source": [
    "def compML(df, y, alg):\n",
    "    #train-test ayrimi\n",
    "    y = df[y]\n",
    "    X_ = df.drop(['Salary', 'League', 'Division', 'NewLeague'], axis=1).astype('float64')\n",
    "    X = pd.concat([X_, dms[['League_N', 'Division_W', 'NewLeague_N']]], axis=1)\n",
    "    X_train, X_test, y_train, y_test = train_test_split(X,y,test_size=0.25,random_state=42)\n",
    "    #modelleme\n",
    "    model = alg().fit(X_train, y_train)\n",
    "    y_pred = model.predict(X_test)\n",
    "    RMSE = np.sqrt(mean_squared_error(y_test, y_pred))\n",
    "    model_ismi = alg.__name__\n",
    "    print(model_ismi, \"Modeli Test Hatası:\",RMSE)"
   ]
  },
  {
   "cell_type": "code",
   "execution_count": 123,
   "metadata": {},
   "outputs": [
    {
     "name": "stdout",
     "output_type": "stream",
     "text": [
      "SVR Modeli Test Hatası: 460.0032657244849\n"
     ]
    }
   ],
   "source": [
    "compML(df, \"Salary\", SVR)"
   ]
  },
  {
   "cell_type": "code",
   "execution_count": 124,
   "metadata": {},
   "outputs": [],
   "source": [
    "models = [LGBMRegressor, \n",
    "          XGBRegressor, \n",
    "          GradientBoostingRegressor, \n",
    "          RandomForestRegressor, \n",
    "          DecisionTreeRegressor,\n",
    "          MLPRegressor,\n",
    "          KNeighborsRegressor, \n",
    "          SVR]"
   ]
  },
  {
   "cell_type": "code",
   "execution_count": 125,
   "metadata": {
    "scrolled": true
   },
   "outputs": [
    {
     "name": "stdout",
     "output_type": "stream",
     "text": [
      "LGBMRegressor Modeli Test Hatası: 363.8712087611089\n",
      "XGBRegressor Modeli Test Hatası: 355.46515176059927\n",
      "GradientBoostingRegressor Modeli Test Hatası: 360.373012953624\n",
      "RandomForestRegressor Modeli Test Hatası: 353.68374432737573\n",
      "DecisionTreeRegressor Modeli Test Hatası: 522.6458975830808\n",
      "MLPRegressor Modeli Test Hatası: 428.2329527043291\n",
      "KNeighborsRegressor Modeli Test Hatası: 426.6570764525201\n",
      "SVR Modeli Test Hatası: 460.0032657244849\n"
     ]
    }
   ],
   "source": [
    "for i in models:\n",
    "    compML(df, \"Salary\", i)\n",
    "    "
   ]
  },
  {
   "cell_type": "code",
   "execution_count": null,
   "metadata": {},
   "outputs": [],
   "source": []
  }
 ],
 "metadata": {
  "kernelspec": {
   "display_name": "Python 3",
   "language": "python",
   "name": "python3"
  },
  "language_info": {
   "codemirror_mode": {
    "name": "ipython",
    "version": 3
   },
   "file_extension": ".py",
   "mimetype": "text/x-python",
   "name": "python",
   "nbconvert_exporter": "python",
   "pygments_lexer": "ipython3",
   "version": "3.7.1"
  }
 },
 "nbformat": 4,
 "nbformat_minor": 4
}
