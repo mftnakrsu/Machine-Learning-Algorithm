{
 "cells": [
  {
   "cell_type": "markdown",
   "metadata": {},
   "source": [
    "# Sınıflandırma Modelleri"
   ]
  },
  {
   "cell_type": "markdown",
   "metadata": {},
   "source": [
    "# Gerekli Kütüphane ve Fonksiyonlar"
   ]
  },
  {
   "cell_type": "code",
   "execution_count": 1,
   "metadata": {},
   "outputs": [],
   "source": [
    "import numpy as np\n",
    "import pandas as pd \n",
    "import statsmodels.api as sm\n",
    "import seaborn as sns\n",
    "import matplotlib.pyplot as plt\n",
    "from sklearn.preprocessing import scale, StandardScaler\n",
    "from sklearn.model_selection import train_test_split, GridSearchCV, cross_val_score\n",
    "from sklearn.metrics import confusion_matrix, accuracy_score, mean_squared_error, r2_score, roc_auc_score, roc_curve, classification_report\n",
    "from sklearn.linear_model import LogisticRegression\n",
    "from sklearn.neighbors import KNeighborsClassifier\n",
    "from sklearn.svm import SVC\n",
    "from sklearn.neural_network import MLPClassifier\n",
    "from sklearn.tree import DecisionTreeClassifier\n",
    "from sklearn.ensemble import RandomForestClassifier\n",
    "from sklearn.ensemble import GradientBoostingClassifier"
   ]
  },
  {
   "cell_type": "code",
   "execution_count": 2,
   "metadata": {},
   "outputs": [],
   "source": [
    "import warnings\n",
    "warnings.filterwarnings(\"ignore\", category=DeprecationWarning) \n",
    "warnings.filterwarnings(\"ignore\", category=FutureWarning) "
   ]
  },
  {
   "cell_type": "markdown",
   "metadata": {},
   "source": [
    "# Veri Seti Hikayesi ve Problem: Şeker Hastalığı Tahmini"
   ]
  },
  {
   "cell_type": "code",
   "execution_count": 3,
   "metadata": {},
   "outputs": [],
   "source": [
    "df = pd.read_csv(\"./diabetes.csv\")"
   ]
  },
  {
   "cell_type": "code",
   "execution_count": 4,
   "metadata": {},
   "outputs": [
    {
     "data": {
      "text/html": [
       "<div>\n",
       "<style scoped>\n",
       "    .dataframe tbody tr th:only-of-type {\n",
       "        vertical-align: middle;\n",
       "    }\n",
       "\n",
       "    .dataframe tbody tr th {\n",
       "        vertical-align: top;\n",
       "    }\n",
       "\n",
       "    .dataframe thead th {\n",
       "        text-align: right;\n",
       "    }\n",
       "</style>\n",
       "<table border=\"1\" class=\"dataframe\">\n",
       "  <thead>\n",
       "    <tr style=\"text-align: right;\">\n",
       "      <th></th>\n",
       "      <th>Pregnancies</th>\n",
       "      <th>Glucose</th>\n",
       "      <th>BloodPressure</th>\n",
       "      <th>SkinThickness</th>\n",
       "      <th>Insulin</th>\n",
       "      <th>BMI</th>\n",
       "      <th>DiabetesPedigreeFunction</th>\n",
       "      <th>Age</th>\n",
       "      <th>Outcome</th>\n",
       "    </tr>\n",
       "  </thead>\n",
       "  <tbody>\n",
       "    <tr>\n",
       "      <th>0</th>\n",
       "      <td>6</td>\n",
       "      <td>148</td>\n",
       "      <td>72</td>\n",
       "      <td>35</td>\n",
       "      <td>0</td>\n",
       "      <td>33.6</td>\n",
       "      <td>0.627</td>\n",
       "      <td>50</td>\n",
       "      <td>1</td>\n",
       "    </tr>\n",
       "    <tr>\n",
       "      <th>1</th>\n",
       "      <td>1</td>\n",
       "      <td>85</td>\n",
       "      <td>66</td>\n",
       "      <td>29</td>\n",
       "      <td>0</td>\n",
       "      <td>26.6</td>\n",
       "      <td>0.351</td>\n",
       "      <td>31</td>\n",
       "      <td>0</td>\n",
       "    </tr>\n",
       "    <tr>\n",
       "      <th>2</th>\n",
       "      <td>8</td>\n",
       "      <td>183</td>\n",
       "      <td>64</td>\n",
       "      <td>0</td>\n",
       "      <td>0</td>\n",
       "      <td>23.3</td>\n",
       "      <td>0.672</td>\n",
       "      <td>32</td>\n",
       "      <td>1</td>\n",
       "    </tr>\n",
       "    <tr>\n",
       "      <th>3</th>\n",
       "      <td>1</td>\n",
       "      <td>89</td>\n",
       "      <td>66</td>\n",
       "      <td>23</td>\n",
       "      <td>94</td>\n",
       "      <td>28.1</td>\n",
       "      <td>0.167</td>\n",
       "      <td>21</td>\n",
       "      <td>0</td>\n",
       "    </tr>\n",
       "    <tr>\n",
       "      <th>4</th>\n",
       "      <td>0</td>\n",
       "      <td>137</td>\n",
       "      <td>40</td>\n",
       "      <td>35</td>\n",
       "      <td>168</td>\n",
       "      <td>43.1</td>\n",
       "      <td>2.288</td>\n",
       "      <td>33</td>\n",
       "      <td>1</td>\n",
       "    </tr>\n",
       "  </tbody>\n",
       "</table>\n",
       "</div>"
      ],
      "text/plain": [
       "   Pregnancies  Glucose  BloodPressure  SkinThickness  Insulin   BMI  \\\n",
       "0            6      148             72             35        0  33.6   \n",
       "1            1       85             66             29        0  26.6   \n",
       "2            8      183             64              0        0  23.3   \n",
       "3            1       89             66             23       94  28.1   \n",
       "4            0      137             40             35      168  43.1   \n",
       "\n",
       "   DiabetesPedigreeFunction  Age  Outcome  \n",
       "0                     0.627   50        1  \n",
       "1                     0.351   31        0  \n",
       "2                     0.672   32        1  \n",
       "3                     0.167   21        0  \n",
       "4                     2.288   33        1  "
      ]
     },
     "execution_count": 4,
     "metadata": {},
     "output_type": "execute_result"
    }
   ],
   "source": [
    "df.head()"
   ]
  },
  {
   "cell_type": "markdown",
   "metadata": {},
   "source": [
    "# Lojistik Regresyon (Logistic Regression)"
   ]
  },
  {
   "cell_type": "markdown",
   "metadata": {},
   "source": [
    "# Model & Tahmin"
   ]
  },
  {
   "cell_type": "code",
   "execution_count": 5,
   "metadata": {},
   "outputs": [
    {
     "data": {
      "text/plain": [
       "0    500\n",
       "1    268\n",
       "Name: Outcome, dtype: int64"
      ]
     },
     "execution_count": 5,
     "metadata": {},
     "output_type": "execute_result"
    }
   ],
   "source": [
    "df[\"Outcome\"].value_counts()"
   ]
  },
  {
   "cell_type": "code",
   "execution_count": 6,
   "metadata": {},
   "outputs": [
    {
     "data": {
      "text/html": [
       "<div>\n",
       "<style scoped>\n",
       "    .dataframe tbody tr th:only-of-type {\n",
       "        vertical-align: middle;\n",
       "    }\n",
       "\n",
       "    .dataframe tbody tr th {\n",
       "        vertical-align: top;\n",
       "    }\n",
       "\n",
       "    .dataframe thead th {\n",
       "        text-align: right;\n",
       "    }\n",
       "</style>\n",
       "<table border=\"1\" class=\"dataframe\">\n",
       "  <thead>\n",
       "    <tr style=\"text-align: right;\">\n",
       "      <th></th>\n",
       "      <th>count</th>\n",
       "      <th>mean</th>\n",
       "      <th>std</th>\n",
       "      <th>min</th>\n",
       "      <th>25%</th>\n",
       "      <th>50%</th>\n",
       "      <th>75%</th>\n",
       "      <th>max</th>\n",
       "    </tr>\n",
       "  </thead>\n",
       "  <tbody>\n",
       "    <tr>\n",
       "      <th>Pregnancies</th>\n",
       "      <td>768.0</td>\n",
       "      <td>3.845052</td>\n",
       "      <td>3.369578</td>\n",
       "      <td>0.000</td>\n",
       "      <td>1.00000</td>\n",
       "      <td>3.0000</td>\n",
       "      <td>6.00000</td>\n",
       "      <td>17.00</td>\n",
       "    </tr>\n",
       "    <tr>\n",
       "      <th>Glucose</th>\n",
       "      <td>768.0</td>\n",
       "      <td>120.894531</td>\n",
       "      <td>31.972618</td>\n",
       "      <td>0.000</td>\n",
       "      <td>99.00000</td>\n",
       "      <td>117.0000</td>\n",
       "      <td>140.25000</td>\n",
       "      <td>199.00</td>\n",
       "    </tr>\n",
       "    <tr>\n",
       "      <th>BloodPressure</th>\n",
       "      <td>768.0</td>\n",
       "      <td>69.105469</td>\n",
       "      <td>19.355807</td>\n",
       "      <td>0.000</td>\n",
       "      <td>62.00000</td>\n",
       "      <td>72.0000</td>\n",
       "      <td>80.00000</td>\n",
       "      <td>122.00</td>\n",
       "    </tr>\n",
       "    <tr>\n",
       "      <th>SkinThickness</th>\n",
       "      <td>768.0</td>\n",
       "      <td>20.536458</td>\n",
       "      <td>15.952218</td>\n",
       "      <td>0.000</td>\n",
       "      <td>0.00000</td>\n",
       "      <td>23.0000</td>\n",
       "      <td>32.00000</td>\n",
       "      <td>99.00</td>\n",
       "    </tr>\n",
       "    <tr>\n",
       "      <th>Insulin</th>\n",
       "      <td>768.0</td>\n",
       "      <td>79.799479</td>\n",
       "      <td>115.244002</td>\n",
       "      <td>0.000</td>\n",
       "      <td>0.00000</td>\n",
       "      <td>30.5000</td>\n",
       "      <td>127.25000</td>\n",
       "      <td>846.00</td>\n",
       "    </tr>\n",
       "    <tr>\n",
       "      <th>BMI</th>\n",
       "      <td>768.0</td>\n",
       "      <td>31.992578</td>\n",
       "      <td>7.884160</td>\n",
       "      <td>0.000</td>\n",
       "      <td>27.30000</td>\n",
       "      <td>32.0000</td>\n",
       "      <td>36.60000</td>\n",
       "      <td>67.10</td>\n",
       "    </tr>\n",
       "    <tr>\n",
       "      <th>DiabetesPedigreeFunction</th>\n",
       "      <td>768.0</td>\n",
       "      <td>0.471876</td>\n",
       "      <td>0.331329</td>\n",
       "      <td>0.078</td>\n",
       "      <td>0.24375</td>\n",
       "      <td>0.3725</td>\n",
       "      <td>0.62625</td>\n",
       "      <td>2.42</td>\n",
       "    </tr>\n",
       "    <tr>\n",
       "      <th>Age</th>\n",
       "      <td>768.0</td>\n",
       "      <td>33.240885</td>\n",
       "      <td>11.760232</td>\n",
       "      <td>21.000</td>\n",
       "      <td>24.00000</td>\n",
       "      <td>29.0000</td>\n",
       "      <td>41.00000</td>\n",
       "      <td>81.00</td>\n",
       "    </tr>\n",
       "    <tr>\n",
       "      <th>Outcome</th>\n",
       "      <td>768.0</td>\n",
       "      <td>0.348958</td>\n",
       "      <td>0.476951</td>\n",
       "      <td>0.000</td>\n",
       "      <td>0.00000</td>\n",
       "      <td>0.0000</td>\n",
       "      <td>1.00000</td>\n",
       "      <td>1.00</td>\n",
       "    </tr>\n",
       "  </tbody>\n",
       "</table>\n",
       "</div>"
      ],
      "text/plain": [
       "                          count        mean         std     min       25%  \\\n",
       "Pregnancies               768.0    3.845052    3.369578   0.000   1.00000   \n",
       "Glucose                   768.0  120.894531   31.972618   0.000  99.00000   \n",
       "BloodPressure             768.0   69.105469   19.355807   0.000  62.00000   \n",
       "SkinThickness             768.0   20.536458   15.952218   0.000   0.00000   \n",
       "Insulin                   768.0   79.799479  115.244002   0.000   0.00000   \n",
       "BMI                       768.0   31.992578    7.884160   0.000  27.30000   \n",
       "DiabetesPedigreeFunction  768.0    0.471876    0.331329   0.078   0.24375   \n",
       "Age                       768.0   33.240885   11.760232  21.000  24.00000   \n",
       "Outcome                   768.0    0.348958    0.476951   0.000   0.00000   \n",
       "\n",
       "                               50%        75%     max  \n",
       "Pregnancies                 3.0000    6.00000   17.00  \n",
       "Glucose                   117.0000  140.25000  199.00  \n",
       "BloodPressure              72.0000   80.00000  122.00  \n",
       "SkinThickness              23.0000   32.00000   99.00  \n",
       "Insulin                    30.5000  127.25000  846.00  \n",
       "BMI                        32.0000   36.60000   67.10  \n",
       "DiabetesPedigreeFunction    0.3725    0.62625    2.42  \n",
       "Age                        29.0000   41.00000   81.00  \n",
       "Outcome                     0.0000    1.00000    1.00  "
      ]
     },
     "execution_count": 6,
     "metadata": {},
     "output_type": "execute_result"
    }
   ],
   "source": [
    "df.describe().T"
   ]
  },
  {
   "cell_type": "code",
   "execution_count": 6,
   "metadata": {},
   "outputs": [],
   "source": [
    "y = df[\"Outcome\"]\n",
    "X = df.drop([\"Outcome\"], axis = 1)"
   ]
  },
  {
   "cell_type": "code",
   "execution_count": 8,
   "metadata": {},
   "outputs": [
    {
     "data": {
      "text/plain": [
       "0    1\n",
       "1    0\n",
       "2    1\n",
       "3    0\n",
       "4    1\n",
       "Name: Outcome, dtype: int64"
      ]
     },
     "execution_count": 8,
     "metadata": {},
     "output_type": "execute_result"
    }
   ],
   "source": [
    "y.head()"
   ]
  },
  {
   "cell_type": "code",
   "execution_count": 9,
   "metadata": {},
   "outputs": [
    {
     "data": {
      "text/html": [
       "<div>\n",
       "<style scoped>\n",
       "    .dataframe tbody tr th:only-of-type {\n",
       "        vertical-align: middle;\n",
       "    }\n",
       "\n",
       "    .dataframe tbody tr th {\n",
       "        vertical-align: top;\n",
       "    }\n",
       "\n",
       "    .dataframe thead th {\n",
       "        text-align: right;\n",
       "    }\n",
       "</style>\n",
       "<table border=\"1\" class=\"dataframe\">\n",
       "  <thead>\n",
       "    <tr style=\"text-align: right;\">\n",
       "      <th></th>\n",
       "      <th>Pregnancies</th>\n",
       "      <th>Glucose</th>\n",
       "      <th>BloodPressure</th>\n",
       "      <th>SkinThickness</th>\n",
       "      <th>Insulin</th>\n",
       "      <th>BMI</th>\n",
       "      <th>DiabetesPedigreeFunction</th>\n",
       "      <th>Age</th>\n",
       "    </tr>\n",
       "  </thead>\n",
       "  <tbody>\n",
       "    <tr>\n",
       "      <th>0</th>\n",
       "      <td>6</td>\n",
       "      <td>148</td>\n",
       "      <td>72</td>\n",
       "      <td>35</td>\n",
       "      <td>0</td>\n",
       "      <td>33.6</td>\n",
       "      <td>0.627</td>\n",
       "      <td>50</td>\n",
       "    </tr>\n",
       "    <tr>\n",
       "      <th>1</th>\n",
       "      <td>1</td>\n",
       "      <td>85</td>\n",
       "      <td>66</td>\n",
       "      <td>29</td>\n",
       "      <td>0</td>\n",
       "      <td>26.6</td>\n",
       "      <td>0.351</td>\n",
       "      <td>31</td>\n",
       "    </tr>\n",
       "    <tr>\n",
       "      <th>2</th>\n",
       "      <td>8</td>\n",
       "      <td>183</td>\n",
       "      <td>64</td>\n",
       "      <td>0</td>\n",
       "      <td>0</td>\n",
       "      <td>23.3</td>\n",
       "      <td>0.672</td>\n",
       "      <td>32</td>\n",
       "    </tr>\n",
       "    <tr>\n",
       "      <th>3</th>\n",
       "      <td>1</td>\n",
       "      <td>89</td>\n",
       "      <td>66</td>\n",
       "      <td>23</td>\n",
       "      <td>94</td>\n",
       "      <td>28.1</td>\n",
       "      <td>0.167</td>\n",
       "      <td>21</td>\n",
       "    </tr>\n",
       "    <tr>\n",
       "      <th>4</th>\n",
       "      <td>0</td>\n",
       "      <td>137</td>\n",
       "      <td>40</td>\n",
       "      <td>35</td>\n",
       "      <td>168</td>\n",
       "      <td>43.1</td>\n",
       "      <td>2.288</td>\n",
       "      <td>33</td>\n",
       "    </tr>\n",
       "  </tbody>\n",
       "</table>\n",
       "</div>"
      ],
      "text/plain": [
       "   Pregnancies  Glucose  BloodPressure  SkinThickness  Insulin   BMI  \\\n",
       "0            6      148             72             35        0  33.6   \n",
       "1            1       85             66             29        0  26.6   \n",
       "2            8      183             64              0        0  23.3   \n",
       "3            1       89             66             23       94  28.1   \n",
       "4            0      137             40             35      168  43.1   \n",
       "\n",
       "   DiabetesPedigreeFunction  Age  \n",
       "0                     0.627   50  \n",
       "1                     0.351   31  \n",
       "2                     0.672   32  \n",
       "3                     0.167   21  \n",
       "4                     2.288   33  "
      ]
     },
     "execution_count": 9,
     "metadata": {},
     "output_type": "execute_result"
    }
   ],
   "source": [
    "X.head()"
   ]
  },
  {
   "cell_type": "code",
   "execution_count": 14,
   "metadata": {},
   "outputs": [],
   "source": [
    "loj_model = LogisticRegression(solver = \"liblinear\").fit(X,y)"
   ]
  },
  {
   "cell_type": "code",
   "execution_count": 16,
   "metadata": {},
   "outputs": [
    {
     "data": {
      "text/plain": [
       "array([-5.88848445])"
      ]
     },
     "execution_count": 16,
     "metadata": {},
     "output_type": "execute_result"
    }
   ],
   "source": [
    "loj_model.intercept_"
   ]
  },
  {
   "cell_type": "code",
   "execution_count": 17,
   "metadata": {},
   "outputs": [
    {
     "data": {
      "text/plain": [
       "array([[ 1.17086830e-01,  2.83748521e-02, -1.68971977e-02,\n",
       "         7.45588118e-04, -6.42652274e-04,  5.97050348e-02,\n",
       "         6.81461374e-01,  7.21476320e-03]])"
      ]
     },
     "execution_count": 17,
     "metadata": {},
     "output_type": "execute_result"
    }
   ],
   "source": [
    "loj_model.coef_"
   ]
  },
  {
   "cell_type": "code",
   "execution_count": 18,
   "metadata": {},
   "outputs": [
    {
     "data": {
      "text/plain": [
       "array([1, 0, 1, 0, 1, 0, 0, 1, 1, 0])"
      ]
     },
     "execution_count": 18,
     "metadata": {},
     "output_type": "execute_result"
    }
   ],
   "source": [
    "loj_model.predict(X)[0:10]"
   ]
  },
  {
   "cell_type": "code",
   "execution_count": 19,
   "metadata": {},
   "outputs": [
    {
     "data": {
      "text/plain": [
       "0    1\n",
       "1    0\n",
       "2    1\n",
       "3    0\n",
       "4    1\n",
       "5    0\n",
       "6    1\n",
       "7    0\n",
       "8    1\n",
       "9    1\n",
       "Name: Outcome, dtype: int64"
      ]
     },
     "execution_count": 19,
     "metadata": {},
     "output_type": "execute_result"
    }
   ],
   "source": [
    "y[0:10]"
   ]
  },
  {
   "cell_type": "code",
   "execution_count": 20,
   "metadata": {},
   "outputs": [],
   "source": [
    "y_pred = loj_model.predict(X)"
   ]
  },
  {
   "cell_type": "code",
   "execution_count": 21,
   "metadata": {},
   "outputs": [
    {
     "data": {
      "text/plain": [
       "array([[448,  52],\n",
       "       [120, 148]])"
      ]
     },
     "execution_count": 21,
     "metadata": {},
     "output_type": "execute_result"
    }
   ],
   "source": [
    "confusion_matrix(y, y_pred)"
   ]
  },
  {
   "cell_type": "code",
   "execution_count": 22,
   "metadata": {},
   "outputs": [
    {
     "data": {
      "text/plain": [
       "0.7760416666666666"
      ]
     },
     "execution_count": 22,
     "metadata": {},
     "output_type": "execute_result"
    }
   ],
   "source": [
    "accuracy_score(y, y_pred)"
   ]
  },
  {
   "cell_type": "code",
   "execution_count": 26,
   "metadata": {},
   "outputs": [
    {
     "name": "stdout",
     "output_type": "stream",
     "text": [
      "              precision    recall  f1-score   support\n",
      "\n",
      "           0       0.79      0.90      0.84       500\n",
      "           1       0.74      0.55      0.63       268\n",
      "\n",
      "    accuracy                           0.78       768\n",
      "   macro avg       0.76      0.72      0.74       768\n",
      "weighted avg       0.77      0.78      0.77       768\n",
      "\n"
     ]
    }
   ],
   "source": [
    "print(classification_report(y, y_pred))"
   ]
  },
  {
   "cell_type": "code",
   "execution_count": 27,
   "metadata": {},
   "outputs": [
    {
     "data": {
      "text/plain": [
       "array([[0.35043775, 0.64956225],\n",
       "       [0.9169891 , 0.0830109 ],\n",
       "       [0.22455276, 0.77544724],\n",
       "       [0.92139736, 0.07860264],\n",
       "       [0.16635686, 0.83364314],\n",
       "       [0.79900619, 0.20099381],\n",
       "       [0.88017597, 0.11982403],\n",
       "       [0.27815669, 0.72184331],\n",
       "       [0.32117452, 0.67882548],\n",
       "       [0.92268273, 0.07731727]])"
      ]
     },
     "execution_count": 27,
     "metadata": {},
     "output_type": "execute_result"
    }
   ],
   "source": [
    "loj_model.predict_proba(X)[0:10]"
   ]
  },
  {
   "cell_type": "code",
   "execution_count": 32,
   "metadata": {},
   "outputs": [
    {
     "data": {
      "image/png": "[encoded data removed]",
      "text/plain": [
       "<Figure size 432x288 with 1 Axes>"
      ]
     },
     "metadata": {
      "needs_background": "light"
     },
     "output_type": "display_data"
    }
   ],
   "source": [
    "logit_roc_auc = roc_auc_score(y, loj_model.predict(X))\n",
    "fpr, tpr, thresholds = roc_curve(y, loj_model.predict_proba(X)[:,1])\n",
    "plt.figure()\n",
    "plt.plot(fpr, tpr, label='AUC (area = %0.2f)' % logit_roc_auc)\n",
    "plt.plot([0, 1], [0, 1],'r--')\n",
    "plt.xlim([0.0, 1.0])\n",
    "plt.ylim([0.0, 1.05])\n",
    "plt.xlabel('False Positive Rate')\n",
    "plt.ylabel('True Positive Rate')\n",
    "plt.title('Receiver operating characteristic')\n",
    "plt.legend(loc=\"lower right\")\n",
    "plt.savefig('Log_ROC')\n",
    "plt.show()"
   ]
  },
  {
   "cell_type": "markdown",
   "metadata": {},
   "source": [
    "# Model Tuning (Model Doğrulama)"
   ]
  },
  {
   "cell_type": "code",
   "execution_count": 33,
   "metadata": {},
   "outputs": [],
   "source": [
    "X_train, X_test, y_train, y_test = train_test_split(X, \n",
    "                                                    y, \n",
    "                                                    test_size=0.30, \n",
    "                                                    random_state=42)"
   ]
  },
  {
   "cell_type": "code",
   "execution_count": 139,
   "metadata": {},
   "outputs": [],
   "source": [
    "loj_model = LogisticRegression(solver = \"liblinear\").fit(X_train,y_train)"
   ]
  },
  {
   "cell_type": "code",
   "execution_count": 35,
   "metadata": {},
   "outputs": [],
   "source": [
    "y_pred = loj_model.predict(X_test)"
   ]
  },
  {
   "cell_type": "code",
   "execution_count": 36,
   "metadata": {},
   "outputs": [
    {
     "name": "stdout",
     "output_type": "stream",
     "text": [
      "0.7575757575757576\n"
     ]
    }
   ],
   "source": [
    "print(accuracy_score(y_test, y_pred))"
   ]
  },
  {
   "cell_type": "code",
   "execution_count": 42,
   "metadata": {},
   "outputs": [
    {
     "data": {
      "text/plain": [
       "0.7661231884057971"
      ]
     },
     "execution_count": 42,
     "metadata": {},
     "output_type": "execute_result"
    }
   ],
   "source": [
    "cross_val_score(loj_model, X_test, y_test, cv = 10).mean()"
   ]
  },
  {
   "cell_type": "markdown",
   "metadata": {},
   "source": [
    "# K-En Yakın Komşu (KNN)"
   ]
  },
  {
   "cell_type": "code",
   "execution_count": 43,
   "metadata": {},
   "outputs": [
    {
     "data": {
      "text/html": [
       "<div>\n",
       "<style scoped>\n",
       "    .dataframe tbody tr th:only-of-type {\n",
       "        vertical-align: middle;\n",
       "    }\n",
       "\n",
       "    .dataframe tbody tr th {\n",
       "        vertical-align: top;\n",
       "    }\n",
       "\n",
       "    .dataframe thead th {\n",
       "        text-align: right;\n",
       "    }\n",
       "</style>\n",
       "<table border=\"1\" class=\"dataframe\">\n",
       "  <thead>\n",
       "    <tr style=\"text-align: right;\">\n",
       "      <th></th>\n",
       "      <th>Pregnancies</th>\n",
       "      <th>Glucose</th>\n",
       "      <th>BloodPressure</th>\n",
       "      <th>SkinThickness</th>\n",
       "      <th>Insulin</th>\n",
       "      <th>BMI</th>\n",
       "      <th>DiabetesPedigreeFunction</th>\n",
       "      <th>Age</th>\n",
       "      <th>Outcome</th>\n",
       "    </tr>\n",
       "  </thead>\n",
       "  <tbody>\n",
       "    <tr>\n",
       "      <th>0</th>\n",
       "      <td>6</td>\n",
       "      <td>148</td>\n",
       "      <td>72</td>\n",
       "      <td>35</td>\n",
       "      <td>0</td>\n",
       "      <td>33.6</td>\n",
       "      <td>0.627</td>\n",
       "      <td>50</td>\n",
       "      <td>1</td>\n",
       "    </tr>\n",
       "    <tr>\n",
       "      <th>1</th>\n",
       "      <td>1</td>\n",
       "      <td>85</td>\n",
       "      <td>66</td>\n",
       "      <td>29</td>\n",
       "      <td>0</td>\n",
       "      <td>26.6</td>\n",
       "      <td>0.351</td>\n",
       "      <td>31</td>\n",
       "      <td>0</td>\n",
       "    </tr>\n",
       "    <tr>\n",
       "      <th>2</th>\n",
       "      <td>8</td>\n",
       "      <td>183</td>\n",
       "      <td>64</td>\n",
       "      <td>0</td>\n",
       "      <td>0</td>\n",
       "      <td>23.3</td>\n",
       "      <td>0.672</td>\n",
       "      <td>32</td>\n",
       "      <td>1</td>\n",
       "    </tr>\n",
       "    <tr>\n",
       "      <th>3</th>\n",
       "      <td>1</td>\n",
       "      <td>89</td>\n",
       "      <td>66</td>\n",
       "      <td>23</td>\n",
       "      <td>94</td>\n",
       "      <td>28.1</td>\n",
       "      <td>0.167</td>\n",
       "      <td>21</td>\n",
       "      <td>0</td>\n",
       "    </tr>\n",
       "    <tr>\n",
       "      <th>4</th>\n",
       "      <td>0</td>\n",
       "      <td>137</td>\n",
       "      <td>40</td>\n",
       "      <td>35</td>\n",
       "      <td>168</td>\n",
       "      <td>43.1</td>\n",
       "      <td>2.288</td>\n",
       "      <td>33</td>\n",
       "      <td>1</td>\n",
       "    </tr>\n",
       "  </tbody>\n",
       "</table>\n",
       "</div>"
      ],
      "text/plain": [
       "   Pregnancies  Glucose  BloodPressure  SkinThickness  Insulin   BMI  \\\n",
       "0            6      148             72             35        0  33.6   \n",
       "1            1       85             66             29        0  26.6   \n",
       "2            8      183             64              0        0  23.3   \n",
       "3            1       89             66             23       94  28.1   \n",
       "4            0      137             40             35      168  43.1   \n",
       "\n",
       "   DiabetesPedigreeFunction  Age  Outcome  \n",
       "0                     0.627   50        1  \n",
       "1                     0.351   31        0  \n",
       "2                     0.672   32        1  \n",
       "3                     0.167   21        0  \n",
       "4                     2.288   33        1  "
      ]
     },
     "execution_count": 43,
     "metadata": {},
     "output_type": "execute_result"
    }
   ],
   "source": [
    "df.head()"
   ]
  },
  {
   "cell_type": "code",
   "execution_count": 44,
   "metadata": {},
   "outputs": [],
   "source": [
    "y = df[\"Outcome\"]\n",
    "X = df.drop(['Outcome'], axis=1)\n",
    "X_train, X_test, y_train, y_test = train_test_split(X, y, \n",
    "                                                    test_size=0.30, \n",
    "                                                    random_state=42)"
   ]
  },
  {
   "cell_type": "markdown",
   "metadata": {},
   "source": [
    "# Model & Tahmin"
   ]
  },
  {
   "cell_type": "code",
   "execution_count": 46,
   "metadata": {},
   "outputs": [],
   "source": [
    "knn_model = KNeighborsClassifier().fit(X_train, y_train)"
   ]
  },
  {
   "cell_type": "code",
   "execution_count": 47,
   "metadata": {},
   "outputs": [
    {
     "data": {
      "text/plain": [
       "KNeighborsClassifier(algorithm='auto', leaf_size=30, metric='minkowski',\n",
       "                     metric_params=None, n_jobs=None, n_neighbors=5, p=2,\n",
       "                     weights='uniform')"
      ]
     },
     "execution_count": 47,
     "metadata": {},
     "output_type": "execute_result"
    }
   ],
   "source": [
    "knn_model"
   ]
  },
  {
   "cell_type": "code",
   "execution_count": 48,
   "metadata": {},
   "outputs": [],
   "source": [
    "y_pred = knn_model.predict(X_test)"
   ]
  },
  {
   "cell_type": "code",
   "execution_count": 49,
   "metadata": {},
   "outputs": [
    {
     "data": {
      "text/plain": [
       "0.6883116883116883"
      ]
     },
     "execution_count": 49,
     "metadata": {},
     "output_type": "execute_result"
    }
   ],
   "source": [
    "accuracy_score(y_test, y_pred)"
   ]
  },
  {
   "cell_type": "code",
   "execution_count": 50,
   "metadata": {},
   "outputs": [
    {
     "name": "stdout",
     "output_type": "stream",
     "text": [
      "              precision    recall  f1-score   support\n",
      "\n",
      "           0       0.77      0.75      0.76       151\n",
      "           1       0.55      0.56      0.56        80\n",
      "\n",
      "    accuracy                           0.69       231\n",
      "   macro avg       0.66      0.66      0.66       231\n",
      "weighted avg       0.69      0.69      0.69       231\n",
      "\n"
     ]
    }
   ],
   "source": [
    "print(classification_report(y_test, y_pred))"
   ]
  },
  {
   "cell_type": "markdown",
   "metadata": {},
   "source": [
    "# Model Tuning"
   ]
  },
  {
   "cell_type": "code",
   "execution_count": 52,
   "metadata": {},
   "outputs": [],
   "source": [
    "knn = KNeighborsClassifier()"
   ]
  },
  {
   "cell_type": "code",
   "execution_count": 54,
   "metadata": {},
   "outputs": [
    {
     "data": {
      "text/plain": [
       "array([ 1,  2,  3,  4,  5,  6,  7,  8,  9, 10, 11, 12, 13, 14, 15, 16, 17,\n",
       "       18, 19, 20, 21, 22, 23, 24, 25, 26, 27, 28, 29, 30, 31, 32, 33, 34,\n",
       "       35, 36, 37, 38, 39, 40, 41, 42, 43, 44, 45, 46, 47, 48, 49])"
      ]
     },
     "execution_count": 54,
     "metadata": {},
     "output_type": "execute_result"
    }
   ],
   "source": [
    "np.arange(1,50)"
   ]
  },
  {
   "cell_type": "code",
   "execution_count": 53,
   "metadata": {},
   "outputs": [],
   "source": [
    "knn_params = {\"n_neighbors\": np.arange(1,50)}"
   ]
  },
  {
   "cell_type": "code",
   "execution_count": 55,
   "metadata": {},
   "outputs": [],
   "source": [
    "knn_cv_model = GridSearchCV(knn, knn_params, cv = 10).fit(X_train, y_train)"
   ]
  },
  {
   "cell_type": "code",
   "execution_count": 56,
   "metadata": {},
   "outputs": [
    {
     "data": {
      "text/plain": [
       "0.7486033519553073"
      ]
     },
     "execution_count": 56,
     "metadata": {},
     "output_type": "execute_result"
    }
   ],
   "source": [
    "knn_cv_model.best_score_"
   ]
  },
  {
   "cell_type": "code",
   "execution_count": 57,
   "metadata": {},
   "outputs": [
    {
     "data": {
      "text/plain": [
       "{'n_neighbors': 11}"
      ]
     },
     "execution_count": 57,
     "metadata": {},
     "output_type": "execute_result"
    }
   ],
   "source": [
    "knn_cv_model.best_params_"
   ]
  },
  {
   "cell_type": "code",
   "execution_count": null,
   "metadata": {},
   "outputs": [],
   "source": [
    "#final model"
   ]
  },
  {
   "cell_type": "code",
   "execution_count": 140,
   "metadata": {},
   "outputs": [],
   "source": [
    "knn_tuned = KNeighborsClassifier(n_neighbors = 11).fit(X_train, y_train)"
   ]
  },
  {
   "cell_type": "code",
   "execution_count": 59,
   "metadata": {},
   "outputs": [],
   "source": [
    "y_pred = knn_tuned.predict(X_test)"
   ]
  },
  {
   "cell_type": "code",
   "execution_count": 60,
   "metadata": {},
   "outputs": [
    {
     "data": {
      "text/plain": [
       "0.7316017316017316"
      ]
     },
     "execution_count": 60,
     "metadata": {},
     "output_type": "execute_result"
    }
   ],
   "source": [
    "accuracy_score(y_test, y_pred)"
   ]
  },
  {
   "cell_type": "code",
   "execution_count": 61,
   "metadata": {},
   "outputs": [
    {
     "data": {
      "text/plain": [
       "0.7316017316017316"
      ]
     },
     "execution_count": 61,
     "metadata": {},
     "output_type": "execute_result"
    }
   ],
   "source": [
    "knn_tuned.score(X_test, y_test)"
   ]
  },
  {
   "cell_type": "markdown",
   "metadata": {},
   "source": [
    "# Destek Vektör Makineleri (SVM)"
   ]
  },
  {
   "cell_type": "code",
   "execution_count": 63,
   "metadata": {},
   "outputs": [
    {
     "data": {
      "text/html": [
       "<div>\n",
       "<style scoped>\n",
       "    .dataframe tbody tr th:only-of-type {\n",
       "        vertical-align: middle;\n",
       "    }\n",
       "\n",
       "    .dataframe tbody tr th {\n",
       "        vertical-align: top;\n",
       "    }\n",
       "\n",
       "    .dataframe thead th {\n",
       "        text-align: right;\n",
       "    }\n",
       "</style>\n",
       "<table border=\"1\" class=\"dataframe\">\n",
       "  <thead>\n",
       "    <tr style=\"text-align: right;\">\n",
       "      <th></th>\n",
       "      <th>Pregnancies</th>\n",
       "      <th>Glucose</th>\n",
       "      <th>BloodPressure</th>\n",
       "      <th>SkinThickness</th>\n",
       "      <th>Insulin</th>\n",
       "      <th>BMI</th>\n",
       "      <th>DiabetesPedigreeFunction</th>\n",
       "      <th>Age</th>\n",
       "      <th>Outcome</th>\n",
       "    </tr>\n",
       "  </thead>\n",
       "  <tbody>\n",
       "    <tr>\n",
       "      <th>0</th>\n",
       "      <td>6</td>\n",
       "      <td>148</td>\n",
       "      <td>72</td>\n",
       "      <td>35</td>\n",
       "      <td>0</td>\n",
       "      <td>33.6</td>\n",
       "      <td>0.627</td>\n",
       "      <td>50</td>\n",
       "      <td>1</td>\n",
       "    </tr>\n",
       "    <tr>\n",
       "      <th>1</th>\n",
       "      <td>1</td>\n",
       "      <td>85</td>\n",
       "      <td>66</td>\n",
       "      <td>29</td>\n",
       "      <td>0</td>\n",
       "      <td>26.6</td>\n",
       "      <td>0.351</td>\n",
       "      <td>31</td>\n",
       "      <td>0</td>\n",
       "    </tr>\n",
       "    <tr>\n",
       "      <th>2</th>\n",
       "      <td>8</td>\n",
       "      <td>183</td>\n",
       "      <td>64</td>\n",
       "      <td>0</td>\n",
       "      <td>0</td>\n",
       "      <td>23.3</td>\n",
       "      <td>0.672</td>\n",
       "      <td>32</td>\n",
       "      <td>1</td>\n",
       "    </tr>\n",
       "    <tr>\n",
       "      <th>3</th>\n",
       "      <td>1</td>\n",
       "      <td>89</td>\n",
       "      <td>66</td>\n",
       "      <td>23</td>\n",
       "      <td>94</td>\n",
       "      <td>28.1</td>\n",
       "      <td>0.167</td>\n",
       "      <td>21</td>\n",
       "      <td>0</td>\n",
       "    </tr>\n",
       "    <tr>\n",
       "      <th>4</th>\n",
       "      <td>0</td>\n",
       "      <td>137</td>\n",
       "      <td>40</td>\n",
       "      <td>35</td>\n",
       "      <td>168</td>\n",
       "      <td>43.1</td>\n",
       "      <td>2.288</td>\n",
       "      <td>33</td>\n",
       "      <td>1</td>\n",
       "    </tr>\n",
       "  </tbody>\n",
       "</table>\n",
       "</div>"
      ],
      "text/plain": [
       "   Pregnancies  Glucose  BloodPressure  SkinThickness  Insulin   BMI  \\\n",
       "0            6      148             72             35        0  33.6   \n",
       "1            1       85             66             29        0  26.6   \n",
       "2            8      183             64              0        0  23.3   \n",
       "3            1       89             66             23       94  28.1   \n",
       "4            0      137             40             35      168  43.1   \n",
       "\n",
       "   DiabetesPedigreeFunction  Age  Outcome  \n",
       "0                     0.627   50        1  \n",
       "1                     0.351   31        0  \n",
       "2                     0.672   32        1  \n",
       "3                     0.167   21        0  \n",
       "4                     2.288   33        1  "
      ]
     },
     "execution_count": 63,
     "metadata": {},
     "output_type": "execute_result"
    }
   ],
   "source": [
    "df.head()"
   ]
  },
  {
   "cell_type": "code",
   "execution_count": 64,
   "metadata": {},
   "outputs": [],
   "source": [
    "X_train, X_test, y_train, y_test = train_test_split(X, y, \n",
    "                                                    test_size=0.30, \n",
    "                                                    random_state=42)"
   ]
  },
  {
   "cell_type": "markdown",
   "metadata": {},
   "source": [
    "# Model & Tahmin"
   ]
  },
  {
   "cell_type": "code",
   "execution_count": 67,
   "metadata": {},
   "outputs": [],
   "source": [
    "svm_model = SVC(kernel = \"linear\").fit(X_train, y_train)"
   ]
  },
  {
   "cell_type": "code",
   "execution_count": 68,
   "metadata": {},
   "outputs": [
    {
     "data": {
      "text/plain": [
       "SVC(C=1.0, cache_size=200, class_weight=None, coef0=0.0,\n",
       "    decision_function_shape='ovr', degree=3, gamma='auto_deprecated',\n",
       "    kernel='linear', max_iter=-1, probability=False, random_state=None,\n",
       "    shrinking=True, tol=0.001, verbose=False)"
      ]
     },
     "execution_count": 68,
     "metadata": {},
     "output_type": "execute_result"
    }
   ],
   "source": [
    "svm_model"
   ]
  },
  {
   "cell_type": "code",
   "execution_count": 69,
   "metadata": {},
   "outputs": [],
   "source": [
    "y_pred = svm_model.predict(X_test)"
   ]
  },
  {
   "cell_type": "code",
   "execution_count": 70,
   "metadata": {},
   "outputs": [
    {
     "data": {
      "text/plain": [
       "0.7445887445887446"
      ]
     },
     "execution_count": 70,
     "metadata": {},
     "output_type": "execute_result"
    }
   ],
   "source": [
    "accuracy_score(y_test, y_pred)"
   ]
  },
  {
   "cell_type": "markdown",
   "metadata": {},
   "source": [
    "# Model Tuning"
   ]
  },
  {
   "cell_type": "code",
   "execution_count": 72,
   "metadata": {},
   "outputs": [],
   "source": [
    "svm = SVC()"
   ]
  },
  {
   "cell_type": "code",
   "execution_count": 71,
   "metadata": {},
   "outputs": [],
   "source": [
    "svm_params = {\"C\": np.arange(1,10), \"kernel\": [\"linear\",\"rbf\"]}"
   ]
  },
  {
   "cell_type": "code",
   "execution_count": 73,
   "metadata": {},
   "outputs": [
    {
     "name": "stdout",
     "output_type": "stream",
     "text": [
      "Fitting 5 folds for each of 18 candidates, totalling 90 fits\n"
     ]
    },
    {
     "name": "stderr",
     "output_type": "stream",
     "text": [
      "[Parallel(n_jobs=-1)]: Using backend LokyBackend with 12 concurrent workers.\n",
      "[Parallel(n_jobs=-1)]: Done  17 tasks      | elapsed:    8.1s\n",
      "[Parallel(n_jobs=-1)]: Done  90 out of  90 | elapsed:  1.9min finished\n"
     ]
    }
   ],
   "source": [
    "svm_cv_model = GridSearchCV(svm, svm_params, cv = 5, n_jobs = -1, verbose = 2).fit(X_train, y_train)"
   ]
  },
  {
   "cell_type": "code",
   "execution_count": 74,
   "metadata": {},
   "outputs": [
    {
     "data": {
      "text/plain": [
       "0.7821229050279329"
      ]
     },
     "execution_count": 74,
     "metadata": {},
     "output_type": "execute_result"
    }
   ],
   "source": [
    "svm_cv_model.best_score_"
   ]
  },
  {
   "cell_type": "code",
   "execution_count": 75,
   "metadata": {},
   "outputs": [
    {
     "data": {
      "text/plain": [
       "{'C': 2, 'kernel': 'linear'}"
      ]
     },
     "execution_count": 75,
     "metadata": {},
     "output_type": "execute_result"
    }
   ],
   "source": [
    "svm_cv_model.best_params_"
   ]
  },
  {
   "cell_type": "code",
   "execution_count": null,
   "metadata": {},
   "outputs": [],
   "source": [
    "#final model"
   ]
  },
  {
   "cell_type": "code",
   "execution_count": 141,
   "metadata": {},
   "outputs": [],
   "source": [
    "svm_tuned = SVC(C = 2, kernel = \"linear\").fit(X_train, y_train)"
   ]
  },
  {
   "cell_type": "code",
   "execution_count": 83,
   "metadata": {},
   "outputs": [],
   "source": [
    "y_pred = svm_tuned.predict(X_test)"
   ]
  },
  {
   "cell_type": "code",
   "execution_count": 84,
   "metadata": {},
   "outputs": [
    {
     "data": {
      "text/plain": [
       "0.7445887445887446"
      ]
     },
     "execution_count": 84,
     "metadata": {},
     "output_type": "execute_result"
    }
   ],
   "source": [
    "accuracy_score(y_test, y_pred)"
   ]
  },
  {
   "cell_type": "markdown",
   "metadata": {},
   "source": [
    "# Yapay Sinir Ağları (Çok Katmanlı Algılayıcılar)"
   ]
  },
  {
   "cell_type": "code",
   "execution_count": 85,
   "metadata": {},
   "outputs": [
    {
     "data": {
      "text/html": [
       "<div>\n",
       "<style scoped>\n",
       "    .dataframe tbody tr th:only-of-type {\n",
       "        vertical-align: middle;\n",
       "    }\n",
       "\n",
       "    .dataframe tbody tr th {\n",
       "        vertical-align: top;\n",
       "    }\n",
       "\n",
       "    .dataframe thead th {\n",
       "        text-align: right;\n",
       "    }\n",
       "</style>\n",
       "<table border=\"1\" class=\"dataframe\">\n",
       "  <thead>\n",
       "    <tr style=\"text-align: right;\">\n",
       "      <th></th>\n",
       "      <th>Pregnancies</th>\n",
       "      <th>Glucose</th>\n",
       "      <th>BloodPressure</th>\n",
       "      <th>SkinThickness</th>\n",
       "      <th>Insulin</th>\n",
       "      <th>BMI</th>\n",
       "      <th>DiabetesPedigreeFunction</th>\n",
       "      <th>Age</th>\n",
       "      <th>Outcome</th>\n",
       "    </tr>\n",
       "  </thead>\n",
       "  <tbody>\n",
       "    <tr>\n",
       "      <th>0</th>\n",
       "      <td>6</td>\n",
       "      <td>148</td>\n",
       "      <td>72</td>\n",
       "      <td>35</td>\n",
       "      <td>0</td>\n",
       "      <td>33.6</td>\n",
       "      <td>0.627</td>\n",
       "      <td>50</td>\n",
       "      <td>1</td>\n",
       "    </tr>\n",
       "    <tr>\n",
       "      <th>1</th>\n",
       "      <td>1</td>\n",
       "      <td>85</td>\n",
       "      <td>66</td>\n",
       "      <td>29</td>\n",
       "      <td>0</td>\n",
       "      <td>26.6</td>\n",
       "      <td>0.351</td>\n",
       "      <td>31</td>\n",
       "      <td>0</td>\n",
       "    </tr>\n",
       "    <tr>\n",
       "      <th>2</th>\n",
       "      <td>8</td>\n",
       "      <td>183</td>\n",
       "      <td>64</td>\n",
       "      <td>0</td>\n",
       "      <td>0</td>\n",
       "      <td>23.3</td>\n",
       "      <td>0.672</td>\n",
       "      <td>32</td>\n",
       "      <td>1</td>\n",
       "    </tr>\n",
       "    <tr>\n",
       "      <th>3</th>\n",
       "      <td>1</td>\n",
       "      <td>89</td>\n",
       "      <td>66</td>\n",
       "      <td>23</td>\n",
       "      <td>94</td>\n",
       "      <td>28.1</td>\n",
       "      <td>0.167</td>\n",
       "      <td>21</td>\n",
       "      <td>0</td>\n",
       "    </tr>\n",
       "    <tr>\n",
       "      <th>4</th>\n",
       "      <td>0</td>\n",
       "      <td>137</td>\n",
       "      <td>40</td>\n",
       "      <td>35</td>\n",
       "      <td>168</td>\n",
       "      <td>43.1</td>\n",
       "      <td>2.288</td>\n",
       "      <td>33</td>\n",
       "      <td>1</td>\n",
       "    </tr>\n",
       "  </tbody>\n",
       "</table>\n",
       "</div>"
      ],
      "text/plain": [
       "   Pregnancies  Glucose  BloodPressure  SkinThickness  Insulin   BMI  \\\n",
       "0            6      148             72             35        0  33.6   \n",
       "1            1       85             66             29        0  26.6   \n",
       "2            8      183             64              0        0  23.3   \n",
       "3            1       89             66             23       94  28.1   \n",
       "4            0      137             40             35      168  43.1   \n",
       "\n",
       "   DiabetesPedigreeFunction  Age  Outcome  \n",
       "0                     0.627   50        1  \n",
       "1                     0.351   31        0  \n",
       "2                     0.672   32        1  \n",
       "3                     0.167   21        0  \n",
       "4                     2.288   33        1  "
      ]
     },
     "execution_count": 85,
     "metadata": {},
     "output_type": "execute_result"
    }
   ],
   "source": [
    "df.head()"
   ]
  },
  {
   "cell_type": "code",
   "execution_count": 86,
   "metadata": {},
   "outputs": [],
   "source": [
    "X_train, X_test, y_train, y_test = train_test_split(X, y, \n",
    "                                                    test_size=0.30, \n",
    "                                                    random_state=42)\n",
    "\n",
    "\n"
   ]
  },
  {
   "cell_type": "code",
   "execution_count": 112,
   "metadata": {},
   "outputs": [],
   "source": [
    "scaler = StandardScaler()"
   ]
  },
  {
   "cell_type": "code",
   "execution_count": 113,
   "metadata": {},
   "outputs": [],
   "source": [
    "scaler.fit(X_train)\n",
    "X_train = scaler.transform(X_train)"
   ]
  },
  {
   "cell_type": "code",
   "execution_count": 114,
   "metadata": {},
   "outputs": [],
   "source": [
    "scaler.fit(X_test)\n",
    "X_test = scaler.transform(X_test)"
   ]
  },
  {
   "cell_type": "markdown",
   "metadata": {},
   "source": [
    "# Model & Tahmin"
   ]
  },
  {
   "cell_type": "code",
   "execution_count": 91,
   "metadata": {},
   "outputs": [],
   "source": [
    "mlpc_model = MLPClassifier().fit(X_train, y_train)"
   ]
  },
  {
   "cell_type": "code",
   "execution_count": 92,
   "metadata": {
    "collapsed": true,
    "jupyter": {
     "outputs_hidden": true
    }
   },
   "outputs": [
    {
     "data": {
      "text/plain": [
       "[array([[ 1.83311219e-01,  2.26748952e-03,  1.44329265e-01,\n",
       "          5.46850063e-02, -2.25935115e-01,  1.42777961e-01,\n",
       "          2.93164947e-01,  2.10456815e-01,  1.02790721e-02,\n",
       "         -1.58944223e-02,  4.33342884e-03, -3.72462155e-02,\n",
       "         -6.27380259e-02, -9.98289998e-02,  9.02117782e-02,\n",
       "         -1.62920187e-01,  1.92118168e-01, -2.20809289e-02,\n",
       "          2.36837207e-01,  1.72696999e-02, -1.19696893e-01,\n",
       "          3.16860624e-01,  2.17093027e-02,  7.65409184e-02,\n",
       "          1.05763050e-07,  1.48786861e-01, -1.46346629e-03,\n",
       "          2.17204906e-01, -1.45277485e-02, -4.75849145e-02,\n",
       "          1.65885917e-02,  1.88804967e-01,  4.94087843e-02,\n",
       "         -1.44456570e-01,  1.87021478e-01, -1.30017533e-01,\n",
       "          1.94837493e-01,  2.82725021e-01,  1.09400804e-01,\n",
       "          1.01561618e-01, -2.05394339e-01, -3.13156561e-02,\n",
       "         -1.56363326e-01,  7.11361625e-05, -1.54822200e-01,\n",
       "          1.31907501e-01, -6.46852454e-02, -1.71455105e-01,\n",
       "         -2.17249305e-01,  5.24953381e-02,  2.61253245e-02,\n",
       "         -1.63407114e-01,  1.65899124e-01, -5.62544476e-02,\n",
       "         -2.11438173e-01,  2.01869595e-01,  1.38894055e-02,\n",
       "          1.49522923e-02,  4.39951971e-02, -9.85717263e-02,\n",
       "          7.81566130e-04,  8.40766617e-02, -1.34141922e-01,\n",
       "         -1.93078629e-01,  1.60552125e-01,  2.03252056e-01,\n",
       "          2.14105341e-01,  3.41928144e-02,  6.16445369e-02,\n",
       "          1.54073182e-03,  2.00008434e-01,  1.52081836e-01,\n",
       "          4.82046503e-03, -7.84533148e-02, -1.47401426e-01,\n",
       "         -1.44703914e-01, -2.16586707e-01,  1.83951209e-02,\n",
       "          6.48752753e-02,  1.22681854e-01, -2.02757349e-01,\n",
       "         -6.00931741e-06, -8.82504678e-02,  7.56531559e-03,\n",
       "         -1.07751988e-05, -1.02790683e-02,  1.61342993e-03,\n",
       "         -1.83099976e-01, -1.90099415e-01,  9.20497155e-02,\n",
       "         -2.33865395e-02, -2.98879585e-05, -3.70108745e-01,\n",
       "          2.70063232e-01, -2.97698669e-02, -1.26534555e-01,\n",
       "         -1.50718182e-01, -7.32533071e-02, -9.80581319e-02,\n",
       "          1.45188350e-01],\n",
       "        [-1.54745535e-01,  2.02171945e-01,  2.25051638e-02,\n",
       "         -1.46574649e-01,  1.04946500e-01,  1.87076338e-01,\n",
       "         -1.49415089e-01, -1.03996719e-02, -2.06785583e-02,\n",
       "          1.29192361e-01, -4.73095193e-02,  2.21184917e-01,\n",
       "          1.85266038e-01, -8.64472813e-02,  1.73849829e-01,\n",
       "          1.95639083e-01, -4.68933996e-02, -5.23761022e-02,\n",
       "         -8.68380976e-03, -1.98773587e-02,  8.09824707e-02,\n",
       "         -2.58163772e-01, -2.60902258e-02,  1.37501635e-01,\n",
       "         -3.65005462e-02,  5.20990177e-02,  2.29226325e-01,\n",
       "          4.94862925e-02,  1.98728193e-01,  6.19675728e-03,\n",
       "          2.02742004e-01,  1.20686824e-01,  9.88541485e-02,\n",
       "          1.21414229e-01, -1.59526906e-01,  1.88315277e-01,\n",
       "          1.81752267e-01,  1.23363169e-02, -1.23952500e-01,\n",
       "          2.27144765e-01, -1.00489616e-01, -2.11218876e-01,\n",
       "          1.07976937e-01,  1.26285787e-09,  1.36123158e-01,\n",
       "          5.26637548e-03,  9.26978809e-02, -6.06578245e-02,\n",
       "         -1.49952639e-02,  2.10805416e-01, -1.87075692e-02,\n",
       "          3.76935592e-02,  7.54830580e-02, -1.93317840e-01,\n",
       "          1.12466162e-01,  1.53853703e-01, -3.49127884e-02,\n",
       "          1.06924366e-01,  1.75014853e-01,  5.91079328e-02,\n",
       "          1.17104234e-01,  2.19111434e-01, -1.47742445e-02,\n",
       "          8.10131118e-02,  9.09143780e-03,  2.16027116e-01,\n",
       "          1.37154580e-01,  6.73069229e-02,  1.79423066e-01,\n",
       "         -1.02350867e-02,  2.10214596e-01, -1.41260022e-02,\n",
       "         -5.29289122e-03,  1.90164011e-01,  8.03774071e-02,\n",
       "         -2.74846116e-02,  1.86996813e-01, -2.10192134e-01,\n",
       "          2.34312922e-01, -2.24936067e-01,  1.98199072e-01,\n",
       "         -1.83710993e-02,  4.13497662e-03,  1.98409955e-01,\n",
       "         -8.42663532e-08, -1.52188493e-02,  2.09497293e-01,\n",
       "          2.40751356e-02,  2.85926455e-02, -2.21425169e-01,\n",
       "          1.35731067e-01, -2.40736893e-02, -7.44993803e-02,\n",
       "          1.46864899e-01,  6.08808444e-02,  4.52901032e-02,\n",
       "          9.25626182e-02, -1.01959943e-01, -1.33579734e-02,\n",
       "          2.16901897e-01],\n",
       "        [-1.02245995e-02,  2.03230220e-01, -2.96982303e-02,\n",
       "         -2.02961004e-01,  1.72493069e-01,  1.65429899e-02,\n",
       "         -7.08203926e-02, -1.91588223e-01, -2.80308117e-04,\n",
       "         -7.61429534e-02, -4.44406414e-02,  1.49583034e-01,\n",
       "         -1.04692257e-01, -5.17052843e-03,  3.71042958e-02,\n",
       "         -2.06158107e-01,  2.16307942e-01, -1.73516606e-01,\n",
       "         -1.29266298e-01, -2.39962474e-01, -2.83084536e-02,\n",
       "          1.11490302e-01, -4.25151230e-05, -2.10318235e-01,\n",
       "         -9.29856817e-03, -1.01627005e-01,  1.38455707e-01,\n",
       "          7.44679454e-02, -3.56079332e-02, -1.83015861e-01,\n",
       "         -4.73139892e-02, -5.01923354e-02, -1.90271089e-01,\n",
       "         -1.16507971e-01, -4.62995406e-02, -1.61558617e-01,\n",
       "          9.65115976e-02,  2.54594615e-01,  1.96931193e-02,\n",
       "         -1.62430765e-01,  7.66476945e-02, -1.24120203e-01,\n",
       "          8.59549429e-02, -2.47329030e-04,  2.07216780e-01,\n",
       "          2.09465647e-01, -4.94080612e-03,  5.86784540e-02,\n",
       "          2.12542485e-01, -8.79241626e-03,  4.85420229e-02,\n",
       "          1.77064821e-01, -1.63145795e-01,  1.56048512e-01,\n",
       "          2.07322429e-01,  1.91686584e-01, -2.63811648e-02,\n",
       "          1.75612789e-01,  2.10969313e-01, -1.05926892e-01,\n",
       "          4.07884150e-02,  1.35321430e-02, -1.06515758e-01,\n",
       "          1.01669144e-01, -1.99890511e-01, -1.48032141e-01,\n",
       "         -5.34065988e-02, -1.03152615e-01, -8.51269661e-02,\n",
       "         -9.79569179e-04,  1.24804951e-02, -1.40754575e-01,\n",
       "         -1.05153771e-04, -4.20656318e-02,  4.76364940e-02,\n",
       "          1.90860315e-01,  1.81605389e-01,  1.18336317e-01,\n",
       "          6.48795632e-02, -1.25711069e-01,  2.46973293e-02,\n",
       "         -1.41860756e-03, -1.38863145e-01, -1.64445580e-01,\n",
       "          3.93946306e-06, -7.32560767e-02,  9.27643157e-02,\n",
       "         -7.78843786e-02,  5.20197263e-02, -1.50902789e-01,\n",
       "          6.23545495e-03, -1.19651508e-03,  9.29510328e-02,\n",
       "         -4.22141389e-02,  1.46488671e-01, -3.41221978e-02,\n",
       "         -1.21210969e-01, -8.80364327e-02,  5.72034301e-02,\n",
       "         -8.08473009e-02],\n",
       "        [-1.27313288e-01, -1.02598757e-01, -1.99844288e-01,\n",
       "          1.19758097e-01,  1.33437222e-01,  1.70380786e-01,\n",
       "          3.50183804e-02, -8.14904524e-03, -1.19984661e-02,\n",
       "          4.08605592e-02, -6.13200099e-02,  6.70008998e-02,\n",
       "         -1.66733019e-01, -2.01635600e-01,  1.87419170e-01,\n",
       "         -1.36904205e-01, -8.73931122e-02, -2.04426885e-01,\n",
       "         -3.37658596e-02, -1.53703699e-01,  1.86074588e-01,\n",
       "         -1.81228474e-01,  1.49532242e-02,  2.25035821e-02,\n",
       "         -9.22476082e-04, -2.15941610e-01,  1.95888897e-01,\n",
       "          7.52316050e-02, -5.14222427e-02, -6.19252488e-02,\n",
       "         -9.43647489e-02, -1.63655112e-01,  2.68755640e-01,\n",
       "         -2.35500271e-02,  2.78022032e-02,  1.97046683e-02,\n",
       "          1.76832711e-01, -1.28773509e-01,  1.71847119e-01,\n",
       "         -2.46747953e-01, -1.99580589e-01, -9.91561816e-02,\n",
       "         -1.51411719e-01, -2.10936802e-04,  2.90316925e-02,\n",
       "         -1.29344241e-01, -3.66616861e-03,  2.94378400e-02,\n",
       "          1.90254592e-02, -1.26243303e-01,  3.63989514e-02,\n",
       "          2.12256666e-01,  1.57560828e-01, -2.39998288e-03,\n",
       "          1.46618517e-01,  1.56444272e-01, -1.57901953e-06,\n",
       "          1.69325755e-01, -2.15639968e-01, -4.37766883e-02,\n",
       "          3.75497015e-02,  5.25239808e-03, -1.14732583e-01,\n",
       "          1.84770446e-02,  2.03730501e-02, -1.45687778e-01,\n",
       "         -1.12662672e-01,  9.82932171e-02, -1.93166671e-02,\n",
       "          5.49791963e-05,  2.00089892e-01, -1.20917505e-01,\n",
       "         -1.17289948e-09, -1.74657354e-01,  8.74316120e-02,\n",
       "          6.69222835e-02, -6.42722567e-02, -4.78590372e-04,\n",
       "         -1.49144200e-01, -7.74045595e-02,  1.19404543e-01,\n",
       "         -6.14016512e-03,  2.02890986e-01, -1.56562382e-01,\n",
       "         -3.72495284e-02, -1.87730232e-01,  4.21254813e-04,\n",
       "         -1.76164331e-01, -2.06452079e-01, -1.82152330e-01,\n",
       "         -1.02507316e-01, -9.78149577e-03,  3.33834414e-02,\n",
       "          1.92162754e-01, -1.41619574e-01, -2.68109285e-01,\n",
       "          5.39103742e-02, -1.11129601e-01,  2.13783062e-01,\n",
       "         -2.03551456e-01],\n",
       "        [ 4.38382195e-02, -3.83746607e-02, -2.40504882e-02,\n",
       "          2.14127577e-01, -1.53447973e-01, -1.46022700e-01,\n",
       "          9.21713598e-02,  1.97907563e-02, -1.83868445e-04,\n",
       "         -1.29801595e-01, -1.42184987e-02,  1.78555233e-01,\n",
       "          8.16857044e-02,  2.11249304e-01,  6.98577894e-02,\n",
       "          4.67978330e-02,  5.90588313e-02,  1.52954972e-01,\n",
       "          9.89083360e-02,  1.57319326e-01,  1.32655737e-01,\n",
       "         -2.19370109e-01, -3.12638381e-07, -9.84945022e-02,\n",
       "         -4.37478450e-04, -5.31532533e-03, -1.39616801e-01,\n",
       "          8.78697454e-02, -8.24611441e-02,  5.75627883e-02,\n",
       "          4.81904475e-02, -3.75498739e-02, -7.28915546e-02,\n",
       "         -3.30871707e-02, -1.72331011e-01, -2.53326231e-01,\n",
       "          1.84424030e-01, -2.30417224e-01, -2.23644492e-01,\n",
       "          1.90148456e-02,  2.27924316e-01,  5.77715719e-02,\n",
       "         -3.74057350e-02, -2.16850909e-02, -2.06151098e-01,\n",
       "         -1.96329717e-01,  1.80561923e-01,  1.00031957e-01,\n",
       "         -1.78403495e-01,  1.87630872e-01, -2.52108576e-01,\n",
       "         -5.03742967e-02,  1.76778979e-01,  1.10900437e-01,\n",
       "         -9.65577932e-02, -1.53375480e-01,  1.27564219e-04,\n",
       "         -8.41804005e-02,  8.03194126e-02, -1.76495369e-01,\n",
       "         -1.25708179e-01, -9.85905119e-02,  7.75482550e-02,\n",
       "          2.21701890e-01, -5.84041587e-03, -3.67357108e-01,\n",
       "         -2.31254482e-02,  1.11910794e-02,  4.72480266e-02,\n",
       "          1.95383592e-08,  6.84037374e-03, -7.22248961e-03,\n",
       "         -2.42602803e-03,  1.31196447e-01, -1.77442145e-01,\n",
       "          2.25062459e-01, -1.95087974e-02,  7.52974590e-02,\n",
       "          1.91829151e-01,  9.87534363e-02,  2.13691172e-01,\n",
       "         -3.47110348e-03, -3.08411255e-02, -2.05550871e-01,\n",
       "         -5.56173232e-05,  9.24071077e-02, -1.71536347e-01,\n",
       "          2.75667752e-02,  2.97592566e-02,  2.21698810e-01,\n",
       "         -6.34671443e-02, -2.71174000e-02, -4.89306337e-02,\n",
       "         -2.38126418e-01,  6.01613143e-02, -5.76735582e-02,\n",
       "         -4.02314406e-02,  1.43892326e-01, -1.99473010e-01,\n",
       "          9.68816896e-03],\n",
       "        [-8.69775870e-02,  1.51303919e-01, -8.67966521e-02,\n",
       "          8.16240887e-02,  1.27567220e-01,  1.31085099e-01,\n",
       "         -2.80780844e-02,  9.72158287e-02, -2.98188353e-02,\n",
       "          1.33422381e-01,  1.56861372e-01, -1.98293185e-01,\n",
       "         -2.34496504e-01,  1.78331332e-01,  1.78023680e-01,\n",
       "          1.34878203e-01,  1.49053587e-01, -5.77152977e-02,\n",
       "          2.02891064e-01, -1.20848906e-01,  1.99104149e-01,\n",
       "          2.18778691e-02, -3.58281185e-02, -1.30224705e-02,\n",
       "          1.79760406e-02,  5.73465048e-02, -3.95410251e-03,\n",
       "          3.09441850e-03, -5.20637208e-03, -2.14394710e-01,\n",
       "          3.34088470e-02, -2.27741820e-01,  1.20585577e-01,\n",
       "          1.24195747e-01,  1.45019090e-01, -2.39993066e-02,\n",
       "         -1.89956317e-01,  1.83152013e-01,  1.20111155e-01,\n",
       "         -2.20880972e-01, -6.50351920e-02,  7.40561844e-02,\n",
       "         -1.74381974e-01,  9.58344816e-06, -2.43802966e-01,\n",
       "          1.63191302e-01,  1.47910956e-01, -3.76610028e-02,\n",
       "         -3.10352460e-02,  2.53322205e-02, -3.97356703e-02,\n",
       "          6.90365001e-02,  1.85907711e-01,  8.61256431e-02,\n",
       "         -2.32135151e-01, -1.70320599e-01,  6.97193781e-04,\n",
       "         -1.66377362e-01,  2.40569607e-01, -5.89833611e-02,\n",
       "         -2.08470422e-01,  4.76250240e-02,  2.08735130e-01,\n",
       "         -2.15040063e-01, -8.48334241e-02,  1.07343131e-01,\n",
       "          2.60135634e-01,  8.66302195e-02, -1.50220991e-01,\n",
       "         -2.41091111e-02,  1.82677603e-01,  3.78642810e-02,\n",
       "         -2.46891353e-02, -4.32124390e-02,  2.11938480e-01,\n",
       "         -1.90431785e-01,  1.62161271e-03, -1.40029774e-01,\n",
       "         -1.09519120e-01,  2.21583978e-01, -6.83536513e-02,\n",
       "         -3.56831027e-02, -7.28119231e-02,  2.18705084e-01,\n",
       "         -3.92736890e-09, -1.73511678e-01, -5.41733581e-02,\n",
       "          9.84129494e-02, -1.40594453e-01, -1.41535027e-01,\n",
       "          4.08440621e-03,  2.82684659e-03,  1.16441315e-01,\n",
       "         -1.02317161e-01,  2.82718626e-02, -1.60376407e-01,\n",
       "          2.04746143e-01, -7.97053086e-02, -1.86228805e-01,\n",
       "         -1.93837001e-01],\n",
       "        [ 2.00984431e-01,  9.40749353e-02,  3.76132809e-02,\n",
       "         -2.17294943e-02, -1.82008206e-01, -8.26783375e-03,\n",
       "         -1.95344317e-01,  4.01820094e-02, -2.36927683e-01,\n",
       "         -2.10772558e-01,  1.27970408e-02,  1.50195732e-01,\n",
       "          3.39587995e-02, -9.60529661e-03, -6.09012616e-03,\n",
       "         -1.72661721e-01, -4.56506706e-02, -1.98519292e-01,\n",
       "          2.48724447e-01, -1.97985822e-01,  3.66155377e-02,\n",
       "          8.50935647e-02,  1.87234705e-02,  5.10443012e-02,\n",
       "          5.00990863e-07, -2.61340955e-03, -2.03043194e-02,\n",
       "         -1.05443822e-04, -1.02949209e-01, -6.50156067e-04,\n",
       "         -5.88177307e-02,  1.85940509e-01,  3.65211628e-02,\n",
       "          4.22079414e-02,  7.03399329e-02,  1.64695850e-01,\n",
       "          2.52004682e-02,  1.53514486e-01,  2.57141572e-01,\n",
       "          8.43206070e-02, -1.96324341e-01, -1.00750771e-01,\n",
       "         -1.68560926e-01,  3.49548887e-02,  1.70342326e-01,\n",
       "          7.29225569e-02, -1.96910530e-02, -2.21933200e-01,\n",
       "         -1.50074869e-01, -2.23733045e-01,  9.52174731e-02,\n",
       "         -8.04648597e-02,  1.25020400e-01, -6.20521419e-02,\n",
       "         -1.19085555e-02,  1.29641129e-01, -1.55915229e-04,\n",
       "          4.15611597e-02,  1.44483978e-01, -2.21676299e-01,\n",
       "         -1.73117227e-01, -1.53802744e-02,  1.39014962e-01,\n",
       "         -6.99555522e-02, -7.68490734e-02,  1.05246203e-01,\n",
       "          1.73445111e-01,  4.59941584e-02,  8.85351152e-02,\n",
       "         -6.92583814e-03,  6.97555061e-02, -1.13627981e-02,\n",
       "         -4.27962043e-03,  2.25528986e-01, -1.05761069e-01,\n",
       "         -9.35192562e-02, -1.96682129e-01,  1.69928604e-01,\n",
       "         -2.18759170e-01,  1.19042081e-01, -1.24069818e-02,\n",
       "          9.98825220e-04, -1.96702379e-01,  1.29245930e-01,\n",
       "         -4.85156370e-05,  2.99009308e-03, -3.81535578e-02,\n",
       "         -2.52505126e-02,  2.46329676e-02,  2.29495099e-01,\n",
       "         -4.03905349e-02, -7.22445956e-03, -2.20721553e-02,\n",
       "         -7.86129812e-02,  1.37716639e-01, -2.69935411e-01,\n",
       "         -1.45762844e-01, -9.61685508e-02, -1.73446735e-01,\n",
       "         -1.80501280e-01],\n",
       "        [-1.27589948e-01, -2.38584893e-01,  1.50851891e-01,\n",
       "         -1.03019104e-01, -2.11552485e-01,  7.52734586e-02,\n",
       "          2.10682550e-01, -1.74381727e-01,  2.76498140e-02,\n",
       "         -6.47669955e-02, -8.77074166e-02, -9.08088216e-02,\n",
       "          1.95500298e-01, -1.64178713e-01, -1.55717092e-01,\n",
       "         -2.70608356e-01,  9.77762228e-02,  1.53358822e-01,\n",
       "          1.93200011e-01, -1.71963061e-01, -1.96105905e-01,\n",
       "          6.59216915e-02, -1.44906165e-02,  4.84455743e-02,\n",
       "          1.68126165e-04,  2.23193177e-01, -1.25697408e-01,\n",
       "          2.31004324e-01, -1.30019881e-01, -1.39113197e-01,\n",
       "          1.12961058e-01, -1.12467580e-01,  1.45448651e-01,\n",
       "          2.32394546e-02,  1.32344957e-01, -1.61540350e-01,\n",
       "         -1.12369260e-01, -2.56707447e-02, -1.54401185e-01,\n",
       "         -1.22688676e-01,  2.22761051e-01, -1.21038170e-01,\n",
       "         -7.80062869e-02, -1.45598867e-02,  5.31351669e-02,\n",
       "         -2.30017648e-01, -1.09150864e-01,  3.00383703e-03,\n",
       "         -2.52345748e-01, -1.37778055e-01,  2.12520863e-01,\n",
       "          1.51964931e-01,  2.99232377e-02,  1.80786134e-01,\n",
       "          1.76295155e-01, -2.49039729e-01,  1.24691053e-03,\n",
       "         -1.86446730e-01,  1.23898179e-01,  1.68035461e-01,\n",
       "         -2.03235209e-01,  1.30821901e-03, -1.56889620e-01,\n",
       "          6.10911519e-03,  3.08541873e-01, -1.68403242e-01,\n",
       "         -1.09008309e-01,  1.87280648e-01, -8.12118772e-02,\n",
       "          1.15590134e-03,  1.16199671e-01,  1.97249448e-01,\n",
       "          1.51266501e-09,  5.71204424e-02, -1.08384892e-01,\n",
       "         -1.16056962e-01,  5.66741363e-02, -1.92990832e-01,\n",
       "          1.93377446e-01, -7.85362678e-02,  1.75623574e-01,\n",
       "         -6.67616812e-03,  7.64132444e-02, -1.82989331e-01,\n",
       "         -7.20248673e-03,  1.59098989e-01,  1.61285865e-01,\n",
       "         -7.77762827e-02,  8.93632946e-02, -1.62285277e-01,\n",
       "          1.93447631e-01,  1.38286361e-04, -1.83101471e-01,\n",
       "          6.05844003e-02, -1.91183326e-03,  1.59513556e-01,\n",
       "         -6.82998682e-02, -7.63087097e-02, -5.73034171e-02,\n",
       "         -1.00473118e-01]]), array([[-3.40842628e-02],\n",
       "        [ 1.56883308e-01],\n",
       "        [-2.11830738e-01],\n",
       "        [ 5.03000930e-02],\n",
       "        [-2.44849569e-01],\n",
       "        [ 2.17558742e-03],\n",
       "        [ 2.06805724e-01],\n",
       "        [ 1.62441706e-01],\n",
       "        [ 5.80646965e-02],\n",
       "        [-2.11229806e-01],\n",
       "        [ 6.51998444e-03],\n",
       "        [-2.05455643e-01],\n",
       "        [ 1.75394071e-01],\n",
       "        [ 6.57484252e-02],\n",
       "        [ 1.81365971e-02],\n",
       "        [-1.11599646e-01],\n",
       "        [-2.02213931e-02],\n",
       "        [-5.75887415e-02],\n",
       "        [ 2.17642471e-01],\n",
       "        [ 1.08394450e-01],\n",
       "        [ 2.32554882e-01],\n",
       "        [ 2.44841416e-01],\n",
       "        [-3.14754045e-02],\n",
       "        [-1.38106381e-01],\n",
       "        [-1.76351227e-02],\n",
       "        [ 7.81647733e-02],\n",
       "        [ 7.34997106e-03],\n",
       "        [-4.31520657e-02],\n",
       "        [ 1.39804970e-01],\n",
       "        [-2.26553235e-01],\n",
       "        [-1.17719911e-01],\n",
       "        [-2.35871744e-01],\n",
       "        [-1.50234695e-01],\n",
       "        [-8.72668918e-02],\n",
       "        [ 1.24222784e-01],\n",
       "        [ 2.31718881e-01],\n",
       "        [-3.70864380e-02],\n",
       "        [-4.15274523e-02],\n",
       "        [ 6.68478141e-02],\n",
       "        [ 1.62107475e-01],\n",
       "        [ 1.18531654e-01],\n",
       "        [-2.26523192e-03],\n",
       "        [-1.12186956e-01],\n",
       "        [ 2.73806635e-02],\n",
       "        [-1.89314609e-03],\n",
       "        [ 7.78436057e-02],\n",
       "        [ 2.43480080e-01],\n",
       "        [ 3.97827338e-02],\n",
       "        [-6.97657094e-02],\n",
       "        [-1.17681122e-01],\n",
       "        [ 1.05403105e-01],\n",
       "        [ 7.40096519e-02],\n",
       "        [ 1.04889222e-01],\n",
       "        [-2.56578133e-02],\n",
       "        [ 1.76207312e-01],\n",
       "        [ 2.27046624e-01],\n",
       "        [ 5.76069812e-06],\n",
       "        [-7.00919153e-03],\n",
       "        [-6.68033819e-02],\n",
       "        [ 6.17361164e-02],\n",
       "        [-2.52484925e-01],\n",
       "        [ 2.33925919e-01],\n",
       "        [-1.27981579e-01],\n",
       "        [ 1.17324950e-01],\n",
       "        [-2.66133058e-01],\n",
       "        [ 1.51169050e-01],\n",
       "        [-2.55609678e-02],\n",
       "        [-9.09594219e-02],\n",
       "        [-1.48255449e-01],\n",
       "        [ 3.29222530e-04],\n",
       "        [-2.02426955e-01],\n",
       "        [-3.33101693e-01],\n",
       "        [-9.71040484e-05],\n",
       "        [-7.65213377e-02],\n",
       "        [ 1.06685774e-01],\n",
       "        [-1.31233932e-01],\n",
       "        [-2.11779572e-01],\n",
       "        [-7.38639197e-02],\n",
       "        [ 4.81684370e-02],\n",
       "        [-1.55154985e-01],\n",
       "        [ 4.70360343e-02],\n",
       "        [ 3.70868382e-02],\n",
       "        [-3.34219580e-01],\n",
       "        [-1.23191905e-01],\n",
       "        [-3.94634636e-02],\n",
       "        [-6.19767207e-02],\n",
       "        [ 8.80233004e-02],\n",
       "        [ 6.92474826e-02],\n",
       "        [-1.71658688e-01],\n",
       "        [-1.72823492e-01],\n",
       "        [ 1.74162596e-01],\n",
       "        [ 9.27841723e-05],\n",
       "        [-1.30109640e-01],\n",
       "        [-1.87050876e-02],\n",
       "        [-1.39052445e-01],\n",
       "        [ 1.71141244e-01],\n",
       "        [ 1.88078166e-01],\n",
       "        [-1.56801636e-01],\n",
       "        [-2.42312204e-01],\n",
       "        [ 1.27528363e-01]])]"
      ]
     },
     "execution_count": 92,
     "metadata": {},
     "output_type": "execute_result"
    }
   ],
   "source": [
    "mlpc_model.coefs_"
   ]
  },
  {
   "cell_type": "code",
   "execution_count": 93,
   "metadata": {
    "collapsed": true,
    "jupyter": {
     "outputs_hidden": true
    }
   },
   "outputs": [
    {
     "data": {
      "text/plain": [
       "\u001b[0;31mType:\u001b[0m        MLPClassifier\n",
       "\u001b[0;31mString form:\u001b[0m\n",
       "MLPClassifier(activation='relu', alpha=0.0001, batch_size='auto', beta_1=0.9,\n",
       "           beta_ <...> olver='adam', tol=0.0001,\n",
       "           validation_fraction=0.1, verbose=False, warm_start=False)\n",
       "\u001b[0;31mFile:\u001b[0m        ~/anaconda3/lib/python3.7/site-packages/sklearn/neural_network/multilayer_perceptron.py\n",
       "\u001b[0;31mDocstring:\u001b[0m  \n",
       "Multi-layer Perceptron classifier.\n",
       "\n",
       "This model optimizes the log-loss function using LBFGS or stochastic\n",
       "gradient descent.\n",
       "\n",
       ".. versionadded:: 0.18\n",
       "\n",
       "Parameters\n",
       "----------\n",
       "hidden_layer_sizes : tuple, length = n_layers - 2, default (100,)\n",
       "    The ith element represents the number of neurons in the ith\n",
       "    hidden layer.\n",
       "\n",
       "activation : {'identity', 'logistic', 'tanh', 'relu'}, default 'relu'\n",
       "    Activation function for the hidden layer.\n",
       "\n",
       "    - 'identity', no-op activation, useful to implement linear bottleneck,\n",
       "      returns f(x) = x\n",
       "\n",
       "    - 'logistic', the logistic sigmoid function,\n",
       "      returns f(x) = 1 / (1 + exp(-x)).\n",
       "\n",
       "    - 'tanh', the hyperbolic tan function,\n",
       "      returns f(x) = tanh(x).\n",
       "\n",
       "    - 'relu', the rectified linear unit function,\n",
       "      returns f(x) = max(0, x)\n",
       "\n",
       "solver : {'lbfgs', 'sgd', 'adam'}, default 'adam'\n",
       "    The solver for weight optimization.\n",
       "\n",
       "    - 'lbfgs' is an optimizer in the family of quasi-Newton methods.\n",
       "\n",
       "    - 'sgd' refers to stochastic gradient descent.\n",
       "\n",
       "    - 'adam' refers to a stochastic gradient-based optimizer proposed\n",
       "      by Kingma, Diederik, and Jimmy Ba\n",
       "\n",
       "    Note: The default solver 'adam' works pretty well on relatively\n",
       "    large datasets (with thousands of training samples or more) in terms of\n",
       "    both training time and validation score.\n",
       "    For small datasets, however, 'lbfgs' can converge faster and perform\n",
       "    better.\n",
       "\n",
       "alpha : float, optional, default 0.0001\n",
       "    L2 penalty (regularization term) parameter.\n",
       "\n",
       "batch_size : int, optional, default 'auto'\n",
       "    Size of minibatches for stochastic optimizers.\n",
       "    If the solver is 'lbfgs', the classifier will not use minibatch.\n",
       "    When set to \"auto\", `batch_size=min(200, n_samples)`\n",
       "\n",
       "learning_rate : {'constant', 'invscaling', 'adaptive'}, default 'constant'\n",
       "    Learning rate schedule for weight updates.\n",
       "\n",
       "    - 'constant' is a constant learning rate given by\n",
       "      'learning_rate_init'.\n",
       "\n",
       "    - 'invscaling' gradually decreases the learning rate at each\n",
       "      time step 't' using an inverse scaling exponent of 'power_t'.\n",
       "      effective_learning_rate = learning_rate_init / pow(t, power_t)\n",
       "\n",
       "    - 'adaptive' keeps the learning rate constant to\n",
       "      'learning_rate_init' as long as training loss keeps decreasing.\n",
       "      Each time two consecutive epochs fail to decrease training loss by at\n",
       "      least tol, or fail to increase validation score by at least tol if\n",
       "      'early_stopping' is on, the current learning rate is divided by 5.\n",
       "\n",
       "    Only used when ``solver='sgd'``.\n",
       "\n",
       "learning_rate_init : double, optional, default 0.001\n",
       "    The initial learning rate used. It controls the step-size\n",
       "    in updating the weights. Only used when solver='sgd' or 'adam'.\n",
       "\n",
       "power_t : double, optional, default 0.5\n",
       "    The exponent for inverse scaling learning rate.\n",
       "    It is used in updating effective learning rate when the learning_rate\n",
       "    is set to 'invscaling'. Only used when solver='sgd'.\n",
       "\n",
       "max_iter : int, optional, default 200\n",
       "    Maximum number of iterations. The solver iterates until convergence\n",
       "    (determined by 'tol') or this number of iterations. For stochastic\n",
       "    solvers ('sgd', 'adam'), note that this determines the number of epochs\n",
       "    (how many times each data point will be used), not the number of\n",
       "    gradient steps.\n",
       "\n",
       "shuffle : bool, optional, default True\n",
       "    Whether to shuffle samples in each iteration. Only used when\n",
       "    solver='sgd' or 'adam'.\n",
       "\n",
       "random_state : int, RandomState instance or None, optional, default None\n",
       "    If int, random_state is the seed used by the random number generator;\n",
       "    If RandomState instance, random_state is the random number generator;\n",
       "    If None, the random number generator is the RandomState instance used\n",
       "    by `np.random`.\n",
       "\n",
       "tol : float, optional, default 1e-4\n",
       "    Tolerance for the optimization. When the loss or score is not improving\n",
       "    by at least ``tol`` for ``n_iter_no_change`` consecutive iterations,\n",
       "    unless ``learning_rate`` is set to 'adaptive', convergence is\n",
       "    considered to be reached and training stops.\n",
       "\n",
       "verbose : bool, optional, default False\n",
       "    Whether to print progress messages to stdout.\n",
       "\n",
       "warm_start : bool, optional, default False\n",
       "    When set to True, reuse the solution of the previous\n",
       "    call to fit as initialization, otherwise, just erase the\n",
       "    previous solution. See :term:`the Glossary <warm_start>`.\n",
       "\n",
       "momentum : float, default 0.9\n",
       "    Momentum for gradient descent update. Should be between 0 and 1. Only\n",
       "    used when solver='sgd'.\n",
       "\n",
       "nesterovs_momentum : boolean, default True\n",
       "    Whether to use Nesterov's momentum. Only used when solver='sgd' and\n",
       "    momentum > 0.\n",
       "\n",
       "early_stopping : bool, default False\n",
       "    Whether to use early stopping to terminate training when validation\n",
       "    score is not improving. If set to true, it will automatically set\n",
       "    aside 10% of training data as validation and terminate training when\n",
       "    validation score is not improving by at least tol for\n",
       "    ``n_iter_no_change`` consecutive epochs. The split is stratified,\n",
       "    except in a multilabel setting.\n",
       "    Only effective when solver='sgd' or 'adam'\n",
       "\n",
       "validation_fraction : float, optional, default 0.1\n",
       "    The proportion of training data to set aside as validation set for\n",
       "    early stopping. Must be between 0 and 1.\n",
       "    Only used if early_stopping is True\n",
       "\n",
       "beta_1 : float, optional, default 0.9\n",
       "    Exponential decay rate for estimates of first moment vector in adam,\n",
       "    should be in [0, 1). Only used when solver='adam'\n",
       "\n",
       "beta_2 : float, optional, default 0.999\n",
       "    Exponential decay rate for estimates of second moment vector in adam,\n",
       "    should be in [0, 1). Only used when solver='adam'\n",
       "\n",
       "epsilon : float, optional, default 1e-8\n",
       "    Value for numerical stability in adam. Only used when solver='adam'\n",
       "\n",
       "n_iter_no_change : int, optional, default 10\n",
       "    Maximum number of epochs to not meet ``tol`` improvement.\n",
       "    Only effective when solver='sgd' or 'adam'\n",
       "\n",
       "    .. versionadded:: 0.20\n",
       "\n",
       "Attributes\n",
       "----------\n",
       "classes_ : array or list of array of shape (n_classes,)\n",
       "    Class labels for each output.\n",
       "\n",
       "loss_ : float\n",
       "    The current loss computed with the loss function.\n",
       "\n",
       "coefs_ : list, length n_layers - 1\n",
       "    The ith element in the list represents the weight matrix corresponding\n",
       "    to layer i.\n",
       "\n",
       "intercepts_ : list, length n_layers - 1\n",
       "    The ith element in the list represents the bias vector corresponding to\n",
       "    layer i + 1.\n",
       "\n",
       "n_iter_ : int,\n",
       "    The number of iterations the solver has ran.\n",
       "\n",
       "n_layers_ : int\n",
       "    Number of layers.\n",
       "\n",
       "n_outputs_ : int\n",
       "    Number of outputs.\n",
       "\n",
       "out_activation_ : string\n",
       "    Name of the output activation function.\n",
       "\n",
       "Notes\n",
       "-----\n",
       "MLPClassifier trains iteratively since at each time step\n",
       "the partial derivatives of the loss function with respect to the model\n",
       "parameters are computed to update the parameters.\n",
       "\n",
       "It can also have a regularization term added to the loss function\n",
       "that shrinks model parameters to prevent overfitting.\n",
       "\n",
       "This implementation works with data represented as dense numpy arrays or\n",
       "sparse scipy arrays of floating point values.\n",
       "\n",
       "References\n",
       "----------\n",
       "Hinton, Geoffrey E.\n",
       "    \"Connectionist learning procedures.\" Artificial intelligence 40.1\n",
       "    (1989): 185-234.\n",
       "\n",
       "Glorot, Xavier, and Yoshua Bengio. \"Understanding the difficulty of\n",
       "    training deep feedforward neural networks.\" International Conference\n",
       "    on Artificial Intelligence and Statistics. 2010.\n",
       "\n",
       "He, Kaiming, et al. \"Delving deep into rectifiers: Surpassing human-level\n",
       "    performance on imagenet classification.\" arXiv preprint\n",
       "    arXiv:1502.01852 (2015).\n",
       "\n",
       "Kingma, Diederik, and Jimmy Ba. \"Adam: A method for stochastic\n",
       "    optimization.\" arXiv preprint arXiv:1412.6980 (2014).\n"
      ]
     },
     "metadata": {},
     "output_type": "display_data"
    }
   ],
   "source": [
    "?mlpc_model"
   ]
  },
  {
   "cell_type": "code",
   "execution_count": 94,
   "metadata": {},
   "outputs": [],
   "source": [
    "y_pred = mlpc_model.predict(X_test)"
   ]
  },
  {
   "cell_type": "code",
   "execution_count": 95,
   "metadata": {},
   "outputs": [
    {
     "data": {
      "text/plain": [
       "0.7186147186147186"
      ]
     },
     "execution_count": 95,
     "metadata": {},
     "output_type": "execute_result"
    }
   ],
   "source": [
    "accuracy_score(y_test, y_pred)"
   ]
  },
  {
   "cell_type": "markdown",
   "metadata": {},
   "source": [
    "# Model Tuning"
   ]
  },
  {
   "cell_type": "code",
   "execution_count": 115,
   "metadata": {},
   "outputs": [],
   "source": [
    "mlpc_params = {\"alpha\":[1,5, 0.1,0.01, 0.03, 0.005, 0.0001],\n",
    "              \"hidden_layer_sizes\": [(10,10), (100,100,100), (100,100), (3,5)]}"
   ]
  },
  {
   "cell_type": "code",
   "execution_count": 116,
   "metadata": {},
   "outputs": [],
   "source": [
    "mlpc = MLPClassifier(solver = \"lbfgs\", activation = \"logistic\")"
   ]
  },
  {
   "cell_type": "code",
   "execution_count": 117,
   "metadata": {},
   "outputs": [
    {
     "name": "stdout",
     "output_type": "stream",
     "text": [
      "Fitting 10 folds for each of 28 candidates, totalling 280 fits\n"
     ]
    },
    {
     "name": "stderr",
     "output_type": "stream",
     "text": [
      "[Parallel(n_jobs=-1)]: Using backend LokyBackend with 12 concurrent workers.\n",
      "[Parallel(n_jobs=-1)]: Done  17 tasks      | elapsed:    2.7s\n",
      "[Parallel(n_jobs=-1)]: Done 138 tasks      | elapsed:   13.5s\n",
      "[Parallel(n_jobs=-1)]: Done 280 out of 280 | elapsed:   29.0s finished\n"
     ]
    }
   ],
   "source": [
    "mlpc_cv_model = GridSearchCV(mlpc, mlpc_params, cv = 10, n_jobs = -1, verbose = 2).fit(X_train, y_train)"
   ]
  },
  {
   "cell_type": "code",
   "execution_count": 118,
   "metadata": {},
   "outputs": [
    {
     "data": {
      "text/plain": [
       "GridSearchCV(cv=10, error_score='raise-deprecating',\n",
       "             estimator=MLPClassifier(activation='logistic', alpha=0.0001,\n",
       "                                     batch_size='auto', beta_1=0.9,\n",
       "                                     beta_2=0.999, early_stopping=False,\n",
       "                                     epsilon=1e-08, hidden_layer_sizes=(100,),\n",
       "                                     learning_rate='constant',\n",
       "                                     learning_rate_init=0.001, max_iter=200,\n",
       "                                     momentum=0.9, n_iter_no_change=10,\n",
       "                                     nesterovs_momentum=True, power_t=0.5,\n",
       "                                     random_state=None, shuffle=True,\n",
       "                                     solver='lbfgs', tol=0.0001,\n",
       "                                     validation_fraction=0.1, verbose=False,\n",
       "                                     warm_start=False),\n",
       "             iid='warn', n_jobs=-1,\n",
       "             param_grid={'alpha': [1, 5, 0.1, 0.01, 0.03, 0.005, 0.0001],\n",
       "                         'hidden_layer_sizes': [(10, 10), (100, 100, 100),\n",
       "                                                (100, 100), (3, 5)]},\n",
       "             pre_dispatch='2*n_jobs', refit=True, return_train_score=False,\n",
       "             scoring=None, verbose=2)"
      ]
     },
     "execution_count": 118,
     "metadata": {},
     "output_type": "execute_result"
    }
   ],
   "source": [
    "mlpc_cv_model"
   ]
  },
  {
   "cell_type": "code",
   "execution_count": 119,
   "metadata": {},
   "outputs": [
    {
     "data": {
      "text/plain": [
       "{'alpha': 1, 'hidden_layer_sizes': (3, 5)}"
      ]
     },
     "execution_count": 119,
     "metadata": {},
     "output_type": "execute_result"
    }
   ],
   "source": [
    "mlpc_cv_model.best_params_"
   ]
  },
  {
   "cell_type": "code",
   "execution_count": null,
   "metadata": {},
   "outputs": [],
   "source": [
    "#finalmodel"
   ]
  },
  {
   "cell_type": "code",
   "execution_count": 142,
   "metadata": {},
   "outputs": [],
   "source": [
    "mlpc_tuned = MLPClassifier(solver = \"lbfgs\",activation='logistic', alpha = 1, hidden_layer_sizes = (3,5)).fit(X_train, y_train)"
   ]
  },
  {
   "cell_type": "code",
   "execution_count": 121,
   "metadata": {},
   "outputs": [],
   "source": [
    "y_pred = mlpc_tuned.predict(X_test)"
   ]
  },
  {
   "cell_type": "code",
   "execution_count": 122,
   "metadata": {},
   "outputs": [
    {
     "data": {
      "text/plain": [
       "0.7575757575757576"
      ]
     },
     "execution_count": 122,
     "metadata": {},
     "output_type": "execute_result"
    }
   ],
   "source": [
    "accuracy_score(y_test, y_pred)"
   ]
  },
  {
   "cell_type": "markdown",
   "metadata": {},
   "source": [
    "# CART (Classification and Regression Tree)"
   ]
  },
  {
   "cell_type": "code",
   "execution_count": 4,
   "metadata": {},
   "outputs": [
    {
     "data": {
      "text/html": [
       "<div>\n",
       "<style scoped>\n",
       "    .dataframe tbody tr th:only-of-type {\n",
       "        vertical-align: middle;\n",
       "    }\n",
       "\n",
       "    .dataframe tbody tr th {\n",
       "        vertical-align: top;\n",
       "    }\n",
       "\n",
       "    .dataframe thead th {\n",
       "        text-align: right;\n",
       "    }\n",
       "</style>\n",
       "<table border=\"1\" class=\"dataframe\">\n",
       "  <thead>\n",
       "    <tr style=\"text-align: right;\">\n",
       "      <th></th>\n",
       "      <th>Pregnancies</th>\n",
       "      <th>Glucose</th>\n",
       "      <th>BloodPressure</th>\n",
       "      <th>SkinThickness</th>\n",
       "      <th>Insulin</th>\n",
       "      <th>BMI</th>\n",
       "      <th>DiabetesPedigreeFunction</th>\n",
       "      <th>Age</th>\n",
       "      <th>Outcome</th>\n",
       "    </tr>\n",
       "  </thead>\n",
       "  <tbody>\n",
       "    <tr>\n",
       "      <th>0</th>\n",
       "      <td>6</td>\n",
       "      <td>148</td>\n",
       "      <td>72</td>\n",
       "      <td>35</td>\n",
       "      <td>0</td>\n",
       "      <td>33.6</td>\n",
       "      <td>0.627</td>\n",
       "      <td>50</td>\n",
       "      <td>1</td>\n",
       "    </tr>\n",
       "    <tr>\n",
       "      <th>1</th>\n",
       "      <td>1</td>\n",
       "      <td>85</td>\n",
       "      <td>66</td>\n",
       "      <td>29</td>\n",
       "      <td>0</td>\n",
       "      <td>26.6</td>\n",
       "      <td>0.351</td>\n",
       "      <td>31</td>\n",
       "      <td>0</td>\n",
       "    </tr>\n",
       "    <tr>\n",
       "      <th>2</th>\n",
       "      <td>8</td>\n",
       "      <td>183</td>\n",
       "      <td>64</td>\n",
       "      <td>0</td>\n",
       "      <td>0</td>\n",
       "      <td>23.3</td>\n",
       "      <td>0.672</td>\n",
       "      <td>32</td>\n",
       "      <td>1</td>\n",
       "    </tr>\n",
       "    <tr>\n",
       "      <th>3</th>\n",
       "      <td>1</td>\n",
       "      <td>89</td>\n",
       "      <td>66</td>\n",
       "      <td>23</td>\n",
       "      <td>94</td>\n",
       "      <td>28.1</td>\n",
       "      <td>0.167</td>\n",
       "      <td>21</td>\n",
       "      <td>0</td>\n",
       "    </tr>\n",
       "    <tr>\n",
       "      <th>4</th>\n",
       "      <td>0</td>\n",
       "      <td>137</td>\n",
       "      <td>40</td>\n",
       "      <td>35</td>\n",
       "      <td>168</td>\n",
       "      <td>43.1</td>\n",
       "      <td>2.288</td>\n",
       "      <td>33</td>\n",
       "      <td>1</td>\n",
       "    </tr>\n",
       "  </tbody>\n",
       "</table>\n",
       "</div>"
      ],
      "text/plain": [
       "   Pregnancies  Glucose  BloodPressure  SkinThickness  Insulin   BMI  \\\n",
       "0            6      148             72             35        0  33.6   \n",
       "1            1       85             66             29        0  26.6   \n",
       "2            8      183             64              0        0  23.3   \n",
       "3            1       89             66             23       94  28.1   \n",
       "4            0      137             40             35      168  43.1   \n",
       "\n",
       "   DiabetesPedigreeFunction  Age  Outcome  \n",
       "0                     0.627   50        1  \n",
       "1                     0.351   31        0  \n",
       "2                     0.672   32        1  \n",
       "3                     0.167   21        0  \n",
       "4                     2.288   33        1  "
      ]
     },
     "execution_count": 4,
     "metadata": {},
     "output_type": "execute_result"
    }
   ],
   "source": [
    "df.head()"
   ]
  },
  {
   "cell_type": "code",
   "execution_count": 7,
   "metadata": {},
   "outputs": [],
   "source": [
    "X_train, X_test, y_train, y_test = train_test_split(X, y, \n",
    "                                                    test_size=0.30, \n",
    "                                                    random_state=42)"
   ]
  },
  {
   "cell_type": "markdown",
   "metadata": {},
   "source": [
    "# Model & Tahmin"
   ]
  },
  {
   "cell_type": "code",
   "execution_count": 8,
   "metadata": {},
   "outputs": [],
   "source": [
    "cart_model = DecisionTreeClassifier().fit(X_train, y_train)"
   ]
  },
  {
   "cell_type": "code",
   "execution_count": 9,
   "metadata": {},
   "outputs": [
    {
     "data": {
      "text/plain": [
       "DecisionTreeClassifier(class_weight=None, criterion='gini', max_depth=None,\n",
       "                       max_features=None, max_leaf_nodes=None,\n",
       "                       min_impurity_decrease=0.0, min_impurity_split=None,\n",
       "                       min_samples_leaf=1, min_samples_split=2,\n",
       "                       min_weight_fraction_leaf=0.0, presort=False,\n",
       "                       random_state=None, splitter='best')"
      ]
     },
     "execution_count": 9,
     "metadata": {},
     "output_type": "execute_result"
    }
   ],
   "source": [
    "cart_model"
   ]
  },
  {
   "cell_type": "code",
   "execution_count": 10,
   "metadata": {},
   "outputs": [],
   "source": [
    "y_pred = cart_model.predict(X_test)"
   ]
  },
  {
   "cell_type": "code",
   "execution_count": 11,
   "metadata": {},
   "outputs": [
    {
     "data": {
      "text/plain": [
       "0.7142857142857143"
      ]
     },
     "execution_count": 11,
     "metadata": {},
     "output_type": "execute_result"
    }
   ],
   "source": [
    "accuracy_score(y_test, y_pred)"
   ]
  },
  {
   "cell_type": "markdown",
   "metadata": {},
   "source": [
    "# Model Tuning"
   ]
  },
  {
   "cell_type": "code",
   "execution_count": 16,
   "metadata": {},
   "outputs": [],
   "source": [
    "cart = DecisionTreeClassifier()"
   ]
  },
  {
   "cell_type": "code",
   "execution_count": 22,
   "metadata": {},
   "outputs": [],
   "source": [
    "cart_params = {\"max_depth\": [1,3,5,8,10],\n",
    "              \"min_samples_split\": [2,3,5,10,20,50]}"
   ]
  },
  {
   "cell_type": "code",
   "execution_count": 23,
   "metadata": {},
   "outputs": [
    {
     "name": "stdout",
     "output_type": "stream",
     "text": [
      "Fitting 10 folds for each of 30 candidates, totalling 300 fits\n"
     ]
    },
    {
     "name": "stderr",
     "output_type": "stream",
     "text": [
      "[Parallel(n_jobs=-1)]: Using backend LokyBackend with 12 concurrent workers.\n",
      "[Parallel(n_jobs=-1)]: Done  17 tasks      | elapsed:    2.8s\n",
      "[Parallel(n_jobs=-1)]: Done 300 out of 300 | elapsed:    3.3s finished\n"
     ]
    }
   ],
   "source": [
    "cart_cv_model = GridSearchCV(cart, cart_params, cv = 10, n_jobs = -1, verbose =2).fit(X_train, y_train)"
   ]
  },
  {
   "cell_type": "code",
   "execution_count": 25,
   "metadata": {},
   "outputs": [
    {
     "data": {
      "text/plain": [
       "{'max_depth': 5, 'min_samples_split': 20}"
      ]
     },
     "execution_count": 25,
     "metadata": {},
     "output_type": "execute_result"
    }
   ],
   "source": [
    "cart_cv_model.best_params_"
   ]
  },
  {
   "cell_type": "code",
   "execution_count": null,
   "metadata": {},
   "outputs": [],
   "source": [
    "#final model"
   ]
  },
  {
   "cell_type": "code",
   "execution_count": 143,
   "metadata": {},
   "outputs": [],
   "source": [
    "cart_tuned = DecisionTreeClassifier(max_depth = 5, min_samples_split = 20).fit(X_train, y_train)"
   ]
  },
  {
   "cell_type": "code",
   "execution_count": 27,
   "metadata": {},
   "outputs": [],
   "source": [
    "y_pred = cart_tuned.predict(X_test)"
   ]
  },
  {
   "cell_type": "code",
   "execution_count": 28,
   "metadata": {},
   "outputs": [
    {
     "data": {
      "text/plain": [
       "0.7532467532467533"
      ]
     },
     "execution_count": 28,
     "metadata": {},
     "output_type": "execute_result"
    }
   ],
   "source": [
    "accuracy_score(y_test, y_pred)"
   ]
  },
  {
   "cell_type": "markdown",
   "metadata": {},
   "source": [
    "# Random Forests"
   ]
  },
  {
   "cell_type": "code",
   "execution_count": 4,
   "metadata": {},
   "outputs": [
    {
     "data": {
      "text/html": [
       "<div>\n",
       "<style scoped>\n",
       "    .dataframe tbody tr th:only-of-type {\n",
       "        vertical-align: middle;\n",
       "    }\n",
       "\n",
       "    .dataframe tbody tr th {\n",
       "        vertical-align: top;\n",
       "    }\n",
       "\n",
       "    .dataframe thead th {\n",
       "        text-align: right;\n",
       "    }\n",
       "</style>\n",
       "<table border=\"1\" class=\"dataframe\">\n",
       "  <thead>\n",
       "    <tr style=\"text-align: right;\">\n",
       "      <th></th>\n",
       "      <th>Pregnancies</th>\n",
       "      <th>Glucose</th>\n",
       "      <th>BloodPressure</th>\n",
       "      <th>SkinThickness</th>\n",
       "      <th>Insulin</th>\n",
       "      <th>BMI</th>\n",
       "      <th>DiabetesPedigreeFunction</th>\n",
       "      <th>Age</th>\n",
       "      <th>Outcome</th>\n",
       "    </tr>\n",
       "  </thead>\n",
       "  <tbody>\n",
       "    <tr>\n",
       "      <th>0</th>\n",
       "      <td>6</td>\n",
       "      <td>148</td>\n",
       "      <td>72</td>\n",
       "      <td>35</td>\n",
       "      <td>0</td>\n",
       "      <td>33.6</td>\n",
       "      <td>0.627</td>\n",
       "      <td>50</td>\n",
       "      <td>1</td>\n",
       "    </tr>\n",
       "    <tr>\n",
       "      <th>1</th>\n",
       "      <td>1</td>\n",
       "      <td>85</td>\n",
       "      <td>66</td>\n",
       "      <td>29</td>\n",
       "      <td>0</td>\n",
       "      <td>26.6</td>\n",
       "      <td>0.351</td>\n",
       "      <td>31</td>\n",
       "      <td>0</td>\n",
       "    </tr>\n",
       "    <tr>\n",
       "      <th>2</th>\n",
       "      <td>8</td>\n",
       "      <td>183</td>\n",
       "      <td>64</td>\n",
       "      <td>0</td>\n",
       "      <td>0</td>\n",
       "      <td>23.3</td>\n",
       "      <td>0.672</td>\n",
       "      <td>32</td>\n",
       "      <td>1</td>\n",
       "    </tr>\n",
       "    <tr>\n",
       "      <th>3</th>\n",
       "      <td>1</td>\n",
       "      <td>89</td>\n",
       "      <td>66</td>\n",
       "      <td>23</td>\n",
       "      <td>94</td>\n",
       "      <td>28.1</td>\n",
       "      <td>0.167</td>\n",
       "      <td>21</td>\n",
       "      <td>0</td>\n",
       "    </tr>\n",
       "    <tr>\n",
       "      <th>4</th>\n",
       "      <td>0</td>\n",
       "      <td>137</td>\n",
       "      <td>40</td>\n",
       "      <td>35</td>\n",
       "      <td>168</td>\n",
       "      <td>43.1</td>\n",
       "      <td>2.288</td>\n",
       "      <td>33</td>\n",
       "      <td>1</td>\n",
       "    </tr>\n",
       "  </tbody>\n",
       "</table>\n",
       "</div>"
      ],
      "text/plain": [
       "   Pregnancies  Glucose  BloodPressure  SkinThickness  Insulin   BMI  \\\n",
       "0            6      148             72             35        0  33.6   \n",
       "1            1       85             66             29        0  26.6   \n",
       "2            8      183             64              0        0  23.3   \n",
       "3            1       89             66             23       94  28.1   \n",
       "4            0      137             40             35      168  43.1   \n",
       "\n",
       "   DiabetesPedigreeFunction  Age  Outcome  \n",
       "0                     0.627   50        1  \n",
       "1                     0.351   31        0  \n",
       "2                     0.672   32        1  \n",
       "3                     0.167   21        0  \n",
       "4                     2.288   33        1  "
      ]
     },
     "execution_count": 4,
     "metadata": {},
     "output_type": "execute_result"
    }
   ],
   "source": [
    "df.head()"
   ]
  },
  {
   "cell_type": "code",
   "execution_count": 7,
   "metadata": {},
   "outputs": [],
   "source": [
    "X_train, X_test, y_train, y_test = train_test_split(X, y, \n",
    "                                                    test_size=0.30, \n",
    "                                                    random_state=42)"
   ]
  },
  {
   "cell_type": "markdown",
   "metadata": {},
   "source": [
    "# Model & Tahmin"
   ]
  },
  {
   "cell_type": "code",
   "execution_count": 29,
   "metadata": {},
   "outputs": [],
   "source": [
    "rf_model = RandomForestClassifier().fit(X_train, y_train)"
   ]
  },
  {
   "cell_type": "code",
   "execution_count": 30,
   "metadata": {},
   "outputs": [
    {
     "data": {
      "text/plain": [
       "RandomForestClassifier(bootstrap=True, class_weight=None, criterion='gini',\n",
       "                       max_depth=None, max_features='auto', max_leaf_nodes=None,\n",
       "                       min_impurity_decrease=0.0, min_impurity_split=None,\n",
       "                       min_samples_leaf=1, min_samples_split=2,\n",
       "                       min_weight_fraction_leaf=0.0, n_estimators=10,\n",
       "                       n_jobs=None, oob_score=False, random_state=None,\n",
       "                       verbose=0, warm_start=False)"
      ]
     },
     "execution_count": 30,
     "metadata": {},
     "output_type": "execute_result"
    }
   ],
   "source": [
    "rf_model"
   ]
  },
  {
   "cell_type": "code",
   "execution_count": 31,
   "metadata": {},
   "outputs": [
    {
     "data": {
      "text/plain": [
       "0.70995670995671"
      ]
     },
     "execution_count": 31,
     "metadata": {},
     "output_type": "execute_result"
    }
   ],
   "source": [
    "y_pred = rf_model.predict(X_test)\n",
    "accuracy_score(y_test, y_pred)"
   ]
  },
  {
   "cell_type": "markdown",
   "metadata": {},
   "source": [
    "# Model Tuning"
   ]
  },
  {
   "cell_type": "code",
   "execution_count": 32,
   "metadata": {},
   "outputs": [],
   "source": [
    "rf = RandomForestClassifier()"
   ]
  },
  {
   "cell_type": "code",
   "execution_count": 35,
   "metadata": {},
   "outputs": [],
   "source": [
    "rf_params = {\"n_estimators\": [100,200,500,1000],\n",
    "            \"max_features\": [3,5,7,8],\n",
    "            \"min_samples_split\": [2,5,10,20]}"
   ]
  },
  {
   "cell_type": "code",
   "execution_count": 36,
   "metadata": {},
   "outputs": [
    {
     "name": "stdout",
     "output_type": "stream",
     "text": [
      "Fitting 10 folds for each of 64 candidates, totalling 640 fits\n"
     ]
    },
    {
     "name": "stderr",
     "output_type": "stream",
     "text": [
      "[Parallel(n_jobs=-1)]: Using backend LokyBackend with 12 concurrent workers.\n",
      "[Parallel(n_jobs=-1)]: Done  17 tasks      | elapsed:    2.7s\n",
      "[Parallel(n_jobs=-1)]: Done 138 tasks      | elapsed:   11.5s\n",
      "[Parallel(n_jobs=-1)]: Done 341 tasks      | elapsed:   32.3s\n",
      "[Parallel(n_jobs=-1)]: Done 640 out of 640 | elapsed:  1.1min finished\n"
     ]
    }
   ],
   "source": [
    "rf_cv_model = GridSearchCV(rf, rf_params, cv = 10, n_jobs = -1, verbose = 2).fit(X_train, y_train)"
   ]
  },
  {
   "cell_type": "code",
   "execution_count": 38,
   "metadata": {},
   "outputs": [
    {
     "data": {
      "text/plain": [
       "{'max_features': 8, 'min_samples_split': 5, 'n_estimators': 500}"
      ]
     },
     "execution_count": 38,
     "metadata": {},
     "output_type": "execute_result"
    }
   ],
   "source": [
    "rf_cv_model.best_params_"
   ]
  },
  {
   "cell_type": "code",
   "execution_count": null,
   "metadata": {},
   "outputs": [],
   "source": [
    "#final model"
   ]
  },
  {
   "cell_type": "code",
   "execution_count": 144,
   "metadata": {},
   "outputs": [],
   "source": [
    "rf_tuned = RandomForestClassifier(max_features = 8, \n",
    "                                  min_samples_split = 5, \n",
    "                                  n_estimators = 500).fit(X_train, y_train)"
   ]
  },
  {
   "cell_type": "code",
   "execution_count": 40,
   "metadata": {},
   "outputs": [],
   "source": [
    "y_pred = rf_tuned.predict(X_test)"
   ]
  },
  {
   "cell_type": "code",
   "execution_count": 41,
   "metadata": {},
   "outputs": [
    {
     "data": {
      "text/plain": [
       "0.7445887445887446"
      ]
     },
     "execution_count": 41,
     "metadata": {},
     "output_type": "execute_result"
    }
   ],
   "source": [
    "accuracy_score(y_test, y_pred)"
   ]
  },
  {
   "cell_type": "code",
   "execution_count": null,
   "metadata": {},
   "outputs": [],
   "source": [
    "#degisken onem duzeyleri"
   ]
  },
  {
   "cell_type": "code",
   "execution_count": 58,
   "metadata": {},
   "outputs": [
    {
     "data": {
      "text/plain": [
       "RandomForestClassifier(bootstrap=True, class_weight=None, criterion='gini',\n",
       "                       max_depth=None, max_features=8, max_leaf_nodes=None,\n",
       "                       min_impurity_decrease=0.0, min_impurity_split=None,\n",
       "                       min_samples_leaf=1, min_samples_split=5,\n",
       "                       min_weight_fraction_leaf=0.0, n_estimators=500,\n",
       "                       n_jobs=None, oob_score=False, random_state=None,\n",
       "                       verbose=0, warm_start=False)"
      ]
     },
     "execution_count": 58,
     "metadata": {},
     "output_type": "execute_result"
    }
   ],
   "source": [
    "rf_tuned"
   ]
  },
  {
   "cell_type": "code",
   "execution_count": 60,
   "metadata": {},
   "outputs": [
    {
     "data": {
      "image/png": "[encoded data removed]",
      "text/plain": [
       "<Figure size 432x288 with 1 Axes>"
      ]
     },
     "metadata": {
      "needs_background": "light"
     },
     "output_type": "display_data"
    }
   ],
   "source": [
    "feature_imp = pd.Series(rf_tuned.feature_importances_,\n",
    "                        index=X_train.columns).sort_values(ascending=False)\n",
    "\n",
    "sns.barplot(x=feature_imp, y=feature_imp.index)\n",
    "plt.xlabel('Değişken Önem Skorları')\n",
    "plt.ylabel('Değişkenler')\n",
    "plt.title(\"Değişken Önem Düzeyleri\")\n",
    "plt.show()"
   ]
  },
  {
   "cell_type": "markdown",
   "metadata": {},
   "source": [
    "# Gradient Boosting Machines"
   ]
  },
  {
   "cell_type": "markdown",
   "metadata": {},
   "source": [
    "# Model & Tahmin"
   ]
  },
  {
   "cell_type": "code",
   "execution_count": 61,
   "metadata": {},
   "outputs": [],
   "source": [
    "gbm_model = GradientBoostingClassifier().fit(X_train, y_train)"
   ]
  },
  {
   "cell_type": "code",
   "execution_count": 63,
   "metadata": {
    "collapsed": true,
    "jupyter": {
     "outputs_hidden": true
    }
   },
   "outputs": [
    {
     "data": {
      "text/plain": [
       "\u001b[0;31mType:\u001b[0m        GradientBoostingClassifier\n",
       "\u001b[0;31mString form:\u001b[0m\n",
       "GradientBoostingClassifier(criterion='friedman_mse', init=None,\n",
       "           learni <...>                  validation_fraction=0.1, verbose=0,\n",
       "           warm_start=False)\n",
       "\u001b[0;31mLength:\u001b[0m      100\n",
       "\u001b[0;31mFile:\u001b[0m        ~/anaconda3/lib/python3.7/site-packages/sklearn/ensemble/gradient_boosting.py\n",
       "\u001b[0;31mDocstring:\u001b[0m  \n",
       "Gradient Boosting for classification.\n",
       "\n",
       "GB builds an additive model in a\n",
       "forward stage-wise fashion; it allows for the optimization of\n",
       "arbitrary differentiable loss functions. In each stage ``n_classes_``\n",
       "regression trees are fit on the negative gradient of the\n",
       "binomial or multinomial deviance loss function. Binary classification\n",
       "is a special case where only a single regression tree is induced.\n",
       "\n",
       "Read more in the :ref:`User Guide <gradient_boosting>`.\n",
       "\n",
       "Parameters\n",
       "----------\n",
       "loss : {'deviance', 'exponential'}, optional (default='deviance')\n",
       "    loss function to be optimized. 'deviance' refers to\n",
       "    deviance (= logistic regression) for classification\n",
       "    with probabilistic outputs. For loss 'exponential' gradient\n",
       "    boosting recovers the AdaBoost algorithm.\n",
       "\n",
       "learning_rate : float, optional (default=0.1)\n",
       "    learning rate shrinks the contribution of each tree by `learning_rate`.\n",
       "    There is a trade-off between learning_rate and n_estimators.\n",
       "\n",
       "n_estimators : int (default=100)\n",
       "    The number of boosting stages to perform. Gradient boosting\n",
       "    is fairly robust to over-fitting so a large number usually\n",
       "    results in better performance.\n",
       "\n",
       "subsample : float, optional (default=1.0)\n",
       "    The fraction of samples to be used for fitting the individual base\n",
       "    learners. If smaller than 1.0 this results in Stochastic Gradient\n",
       "    Boosting. `subsample` interacts with the parameter `n_estimators`.\n",
       "    Choosing `subsample < 1.0` leads to a reduction of variance\n",
       "    and an increase in bias.\n",
       "\n",
       "criterion : string, optional (default=\"friedman_mse\")\n",
       "    The function to measure the quality of a split. Supported criteria\n",
       "    are \"friedman_mse\" for the mean squared error with improvement\n",
       "    score by Friedman, \"mse\" for mean squared error, and \"mae\" for\n",
       "    the mean absolute error. The default value of \"friedman_mse\" is\n",
       "    generally the best as it can provide a better approximation in\n",
       "    some cases.\n",
       "\n",
       "    .. versionadded:: 0.18\n",
       "\n",
       "min_samples_split : int, float, optional (default=2)\n",
       "    The minimum number of samples required to split an internal node:\n",
       "\n",
       "    - If int, then consider `min_samples_split` as the minimum number.\n",
       "    - If float, then `min_samples_split` is a fraction and\n",
       "      `ceil(min_samples_split * n_samples)` are the minimum\n",
       "      number of samples for each split.\n",
       "\n",
       "    .. versionchanged:: 0.18\n",
       "       Added float values for fractions.\n",
       "\n",
       "min_samples_leaf : int, float, optional (default=1)\n",
       "    The minimum number of samples required to be at a leaf node.\n",
       "    A split point at any depth will only be considered if it leaves at\n",
       "    least ``min_samples_leaf`` training samples in each of the left and\n",
       "    right branches.  This may have the effect of smoothing the model,\n",
       "    especially in regression.\n",
       "\n",
       "    - If int, then consider `min_samples_leaf` as the minimum number.\n",
       "    - If float, then `min_samples_leaf` is a fraction and\n",
       "      `ceil(min_samples_leaf * n_samples)` are the minimum\n",
       "      number of samples for each node.\n",
       "\n",
       "    .. versionchanged:: 0.18\n",
       "       Added float values for fractions.\n",
       "\n",
       "min_weight_fraction_leaf : float, optional (default=0.)\n",
       "    The minimum weighted fraction of the sum total of weights (of all\n",
       "    the input samples) required to be at a leaf node. Samples have\n",
       "    equal weight when sample_weight is not provided.\n",
       "\n",
       "max_depth : integer, optional (default=3)\n",
       "    maximum depth of the individual regression estimators. The maximum\n",
       "    depth limits the number of nodes in the tree. Tune this parameter\n",
       "    for best performance; the best value depends on the interaction\n",
       "    of the input variables.\n",
       "\n",
       "min_impurity_decrease : float, optional (default=0.)\n",
       "    A node will be split if this split induces a decrease of the impurity\n",
       "    greater than or equal to this value.\n",
       "\n",
       "    The weighted impurity decrease equation is the following::\n",
       "\n",
       "        N_t / N * (impurity - N_t_R / N_t * right_impurity\n",
       "                            - N_t_L / N_t * left_impurity)\n",
       "\n",
       "    where ``N`` is the total number of samples, ``N_t`` is the number of\n",
       "    samples at the current node, ``N_t_L`` is the number of samples in the\n",
       "    left child, and ``N_t_R`` is the number of samples in the right child.\n",
       "\n",
       "    ``N``, ``N_t``, ``N_t_R`` and ``N_t_L`` all refer to the weighted sum,\n",
       "    if ``sample_weight`` is passed.\n",
       "\n",
       "    .. versionadded:: 0.19\n",
       "\n",
       "min_impurity_split : float, (default=1e-7)\n",
       "    Threshold for early stopping in tree growth. A node will split\n",
       "    if its impurity is above the threshold, otherwise it is a leaf.\n",
       "\n",
       "    .. deprecated:: 0.19\n",
       "       ``min_impurity_split`` has been deprecated in favor of\n",
       "       ``min_impurity_decrease`` in 0.19. The default value of\n",
       "       ``min_impurity_split`` will change from 1e-7 to 0 in 0.23 and it\n",
       "       will be removed in 0.25. Use ``min_impurity_decrease`` instead.\n",
       "\n",
       "init : estimator or 'zero', optional (default=None)\n",
       "    An estimator object that is used to compute the initial predictions.\n",
       "    ``init`` has to provide `fit` and `predict_proba`. If 'zero', the\n",
       "    initial raw predictions are set to zero. By default, a\n",
       "    ``DummyEstimator`` predicting the classes priors is used.\n",
       "\n",
       "random_state : int, RandomState instance or None, optional (default=None)\n",
       "    If int, random_state is the seed used by the random number generator;\n",
       "    If RandomState instance, random_state is the random number generator;\n",
       "    If None, the random number generator is the RandomState instance used\n",
       "    by `np.random`.\n",
       "\n",
       "max_features : int, float, string or None, optional (default=None)\n",
       "    The number of features to consider when looking for the best split:\n",
       "\n",
       "    - If int, then consider `max_features` features at each split.\n",
       "    - If float, then `max_features` is a fraction and\n",
       "      `int(max_features * n_features)` features are considered at each\n",
       "      split.\n",
       "    - If \"auto\", then `max_features=sqrt(n_features)`.\n",
       "    - If \"sqrt\", then `max_features=sqrt(n_features)`.\n",
       "    - If \"log2\", then `max_features=log2(n_features)`.\n",
       "    - If None, then `max_features=n_features`.\n",
       "\n",
       "    Choosing `max_features < n_features` leads to a reduction of variance\n",
       "    and an increase in bias.\n",
       "\n",
       "    Note: the search for a split does not stop until at least one\n",
       "    valid partition of the node samples is found, even if it requires to\n",
       "    effectively inspect more than ``max_features`` features.\n",
       "\n",
       "verbose : int, default: 0\n",
       "    Enable verbose output. If 1 then it prints progress and performance\n",
       "    once in a while (the more trees the lower the frequency). If greater\n",
       "    than 1 then it prints progress and performance for every tree.\n",
       "\n",
       "max_leaf_nodes : int or None, optional (default=None)\n",
       "    Grow trees with ``max_leaf_nodes`` in best-first fashion.\n",
       "    Best nodes are defined as relative reduction in impurity.\n",
       "    If None then unlimited number of leaf nodes.\n",
       "\n",
       "warm_start : bool, default: False\n",
       "    When set to ``True``, reuse the solution of the previous call to fit\n",
       "    and add more estimators to the ensemble, otherwise, just erase the\n",
       "    previous solution. See :term:`the Glossary <warm_start>`.\n",
       "\n",
       "presort : bool or 'auto', optional (default='auto')\n",
       "    Whether to presort the data to speed up the finding of best splits in\n",
       "    fitting. Auto mode by default will use presorting on dense data and\n",
       "    default to normal sorting on sparse data. Setting presort to true on\n",
       "    sparse data will raise an error.\n",
       "\n",
       "    .. versionadded:: 0.17\n",
       "       *presort* parameter.\n",
       "\n",
       "validation_fraction : float, optional, default 0.1\n",
       "    The proportion of training data to set aside as validation set for\n",
       "    early stopping. Must be between 0 and 1.\n",
       "    Only used if ``n_iter_no_change`` is set to an integer.\n",
       "\n",
       "    .. versionadded:: 0.20\n",
       "\n",
       "n_iter_no_change : int, default None\n",
       "    ``n_iter_no_change`` is used to decide if early stopping will be used\n",
       "    to terminate training when validation score is not improving. By\n",
       "    default it is set to None to disable early stopping. If set to a\n",
       "    number, it will set aside ``validation_fraction`` size of the training\n",
       "    data as validation and terminate training when validation score is not\n",
       "    improving in all of the previous ``n_iter_no_change`` numbers of\n",
       "    iterations. The split is stratified.\n",
       "\n",
       "    .. versionadded:: 0.20\n",
       "\n",
       "tol : float, optional, default 1e-4\n",
       "    Tolerance for the early stopping. When the loss is not improving\n",
       "    by at least tol for ``n_iter_no_change`` iterations (if set to a\n",
       "    number), the training stops.\n",
       "\n",
       "    .. versionadded:: 0.20\n",
       "\n",
       "Attributes\n",
       "----------\n",
       "n_estimators_ : int\n",
       "    The number of estimators as selected by early stopping (if\n",
       "    ``n_iter_no_change`` is specified). Otherwise it is set to\n",
       "    ``n_estimators``.\n",
       "\n",
       "    .. versionadded:: 0.20\n",
       "\n",
       "feature_importances_ : array, shape (n_features,)\n",
       "    The feature importances (the higher, the more important the feature).\n",
       "\n",
       "oob_improvement_ : array, shape (n_estimators,)\n",
       "    The improvement in loss (= deviance) on the out-of-bag samples\n",
       "    relative to the previous iteration.\n",
       "    ``oob_improvement_[0]`` is the improvement in\n",
       "    loss of the first stage over the ``init`` estimator.\n",
       "\n",
       "train_score_ : array, shape (n_estimators,)\n",
       "    The i-th score ``train_score_[i]`` is the deviance (= loss) of the\n",
       "    model at iteration ``i`` on the in-bag sample.\n",
       "    If ``subsample == 1`` this is the deviance on the training data.\n",
       "\n",
       "loss_ : LossFunction\n",
       "    The concrete ``LossFunction`` object.\n",
       "\n",
       "init_ : estimator\n",
       "    The estimator that provides the initial predictions.\n",
       "    Set via the ``init`` argument or ``loss.init_estimator``.\n",
       "\n",
       "estimators_ : ndarray of DecisionTreeRegressor,shape (n_estimators, ``loss_.K``)\n",
       "    The collection of fitted sub-estimators. ``loss_.K`` is 1 for binary\n",
       "    classification, otherwise n_classes.\n",
       "\n",
       "Notes\n",
       "-----\n",
       "The features are always randomly permuted at each split. Therefore,\n",
       "the best found split may vary, even with the same training data and\n",
       "``max_features=n_features``, if the improvement of the criterion is\n",
       "identical for several splits enumerated during the search of the best\n",
       "split. To obtain a deterministic behaviour during fitting,\n",
       "``random_state`` has to be fixed.\n",
       "\n",
       "See also\n",
       "--------\n",
       "sklearn.ensemble.HistGradientBoostingClassifier,\n",
       "sklearn.tree.DecisionTreeClassifier, RandomForestClassifier\n",
       "AdaBoostClassifier\n",
       "\n",
       "References\n",
       "----------\n",
       "J. Friedman, Greedy Function Approximation: A Gradient Boosting\n",
       "Machine, The Annals of Statistics, Vol. 29, No. 5, 2001.\n",
       "\n",
       "J. Friedman, Stochastic Gradient Boosting, 1999\n",
       "\n",
       "T. Hastie, R. Tibshirani and J. Friedman.\n",
       "Elements of Statistical Learning Ed. 2, Springer, 2009.\n"
      ]
     },
     "metadata": {},
     "output_type": "display_data"
    }
   ],
   "source": [
    "?gbm_model"
   ]
  },
  {
   "cell_type": "code",
   "execution_count": 64,
   "metadata": {},
   "outputs": [],
   "source": [
    "y_pred = gbm_model.predict(X_test)"
   ]
  },
  {
   "cell_type": "code",
   "execution_count": 65,
   "metadata": {},
   "outputs": [
    {
     "data": {
      "text/plain": [
       "0.7489177489177489"
      ]
     },
     "execution_count": 65,
     "metadata": {},
     "output_type": "execute_result"
    }
   ],
   "source": [
    "accuracy_score(y_test, y_pred)"
   ]
  },
  {
   "cell_type": "markdown",
   "metadata": {},
   "source": [
    "# Model Tuning"
   ]
  },
  {
   "cell_type": "code",
   "execution_count": 67,
   "metadata": {},
   "outputs": [],
   "source": [
    "gbm = GradientBoostingClassifier()"
   ]
  },
  {
   "cell_type": "code",
   "execution_count": 68,
   "metadata": {},
   "outputs": [],
   "source": [
    "gbm_params = {\"learning_rate\": [0.1, 0.01, 0.001, 0.05],\n",
    "             \"n_estimators\": [100, 300, 500, 1000],\n",
    "             \"max_depth\":[2,3,5,8]}"
   ]
  },
  {
   "cell_type": "code",
   "execution_count": 71,
   "metadata": {},
   "outputs": [
    {
     "name": "stdout",
     "output_type": "stream",
     "text": [
      "Fitting 10 folds for each of 64 candidates, totalling 640 fits\n"
     ]
    },
    {
     "name": "stderr",
     "output_type": "stream",
     "text": [
      "[Parallel(n_jobs=-1)]: Using backend LokyBackend with 12 concurrent workers.\n",
      "[Parallel(n_jobs=-1)]: Done  17 tasks      | elapsed:    2.4s\n",
      "[Parallel(n_jobs=-1)]: Done 138 tasks      | elapsed:    9.8s\n",
      "[Parallel(n_jobs=-1)]: Done 341 tasks      | elapsed:   30.8s\n",
      "[Parallel(n_jobs=-1)]: Done 640 out of 640 | elapsed:  1.1min finished\n"
     ]
    }
   ],
   "source": [
    "gbm_cv_model= GridSearchCV(gbm, gbm_params, \n",
    "                           cv = 10, \n",
    "                           n_jobs = -1, verbose = 2).fit(X_train, y_train)"
   ]
  },
  {
   "cell_type": "code",
   "execution_count": 72,
   "metadata": {},
   "outputs": [
    {
     "data": {
      "text/plain": [
       "{'learning_rate': 0.01, 'max_depth': 5, 'n_estimators': 500}"
      ]
     },
     "execution_count": 72,
     "metadata": {},
     "output_type": "execute_result"
    }
   ],
   "source": [
    "gbm_cv_model.best_params_"
   ]
  },
  {
   "cell_type": "code",
   "execution_count": null,
   "metadata": {},
   "outputs": [],
   "source": [
    "#final model"
   ]
  },
  {
   "cell_type": "code",
   "execution_count": 73,
   "metadata": {},
   "outputs": [],
   "source": [
    "gbm_tuned = GradientBoostingClassifier(learning_rate = 0.01,\n",
    "                                       max_depth = 5, \n",
    "                                       n_estimators = 500).fit(X_train, y_train)"
   ]
  },
  {
   "cell_type": "code",
   "execution_count": 74,
   "metadata": {},
   "outputs": [
    {
     "data": {
      "text/plain": [
       "0.7359307359307359"
      ]
     },
     "execution_count": 74,
     "metadata": {},
     "output_type": "execute_result"
    }
   ],
   "source": [
    "y_pred = gbm_tuned.predict(X_test)\n",
    "accuracy_score(y_test, y_pred)"
   ]
  },
  {
   "cell_type": "code",
   "execution_count": 75,
   "metadata": {},
   "outputs": [
    {
     "data": {
      "image/png": "[encoded data removed]",
      "text/plain": [
       "<Figure size 432x288 with 1 Axes>"
      ]
     },
     "metadata": {
      "needs_background": "light"
     },
     "output_type": "display_data"
    }
   ],
   "source": [
    "feature_imp = pd.Series(gbm_tuned.feature_importances_,\n",
    "                        index=X_train.columns).sort_values(ascending=False)\n",
    "\n",
    "sns.barplot(x=feature_imp, y=feature_imp.index)\n",
    "plt.xlabel('Değişken Önem Skorları')\n",
    "plt.ylabel('Değişkenler')\n",
    "plt.title(\"Değişken Önem Düzeyleri\")\n",
    "plt.show()"
   ]
  },
  {
   "cell_type": "markdown",
   "metadata": {},
   "source": [
    "# XGBoost"
   ]
  },
  {
   "cell_type": "markdown",
   "metadata": {},
   "source": [
    "# Model & Tahmin"
   ]
  },
  {
   "cell_type": "code",
   "execution_count": 77,
   "metadata": {
    "collapsed": true,
    "jupyter": {
     "outputs_hidden": true
    }
   },
   "outputs": [
    {
     "name": "stdout",
     "output_type": "stream",
     "text": [
      "Requirement already satisfied: xgboost in /Users/mvahit/anaconda3/lib/python3.7/site-packages (0.90)\n",
      "Requirement already satisfied: numpy in /Users/mvahit/anaconda3/lib/python3.7/site-packages (from xgboost) (1.16.4)\n",
      "Requirement already satisfied: scipy in /Users/mvahit/anaconda3/lib/python3.7/site-packages (from xgboost) (1.3.0)\n"
     ]
    }
   ],
   "source": [
    "!pip install xgboost"
   ]
  },
  {
   "cell_type": "code",
   "execution_count": 78,
   "metadata": {},
   "outputs": [],
   "source": [
    "from xgboost import XGBClassifier"
   ]
  },
  {
   "cell_type": "code",
   "execution_count": 79,
   "metadata": {},
   "outputs": [],
   "source": [
    "xgb_model = XGBClassifier().fit(X_train, y_train)"
   ]
  },
  {
   "cell_type": "code",
   "execution_count": 80,
   "metadata": {
    "collapsed": true,
    "jupyter": {
     "outputs_hidden": true
    }
   },
   "outputs": [
    {
     "data": {
      "text/plain": [
       "\u001b[0;31mType:\u001b[0m        XGBClassifier\n",
       "\u001b[0;31mString form:\u001b[0m\n",
       "XGBClassifier(base_score=0.5, booster='gbtree', colsample_bylevel=1,\n",
       "           colsample_byno <...> reg_lambda=1, scale_pos_weight=1, seed=None,\n",
       "           silent=None, subsample=1, verbosity=1)\n",
       "\u001b[0;31mFile:\u001b[0m        ~/anaconda3/lib/python3.7/site-packages/xgboost/sklearn.py\n",
       "\u001b[0;31mDocstring:\u001b[0m  \n",
       "Implementation of the scikit-learn API for XGBoost classification.\n",
       "\n",
       "Parameters\n",
       "----------\n",
       "max_depth : int\n",
       "    Maximum tree depth for base learners.\n",
       "learning_rate : float\n",
       "    Boosting learning rate (xgb's \"eta\")\n",
       "n_estimators : int\n",
       "    Number of trees to fit.\n",
       "verbosity : int\n",
       "    The degree of verbosity. Valid values are 0 (silent) - 3 (debug).\n",
       "silent : boolean\n",
       "    Whether to print messages while running boosting. Deprecated. Use verbosity instead.\n",
       "objective : string or callable\n",
       "    Specify the learning task and the corresponding learning objective or\n",
       "    a custom objective function to be used (see note below).\n",
       "booster: string\n",
       "    Specify which booster to use: gbtree, gblinear or dart.\n",
       "nthread : int\n",
       "    Number of parallel threads used to run xgboost.  (Deprecated, please use ``n_jobs``)\n",
       "n_jobs : int\n",
       "    Number of parallel threads used to run xgboost.  (replaces ``nthread``)\n",
       "gamma : float\n",
       "    Minimum loss reduction required to make a further partition on a leaf node of the tree.\n",
       "min_child_weight : int\n",
       "    Minimum sum of instance weight(hessian) needed in a child.\n",
       "max_delta_step : int\n",
       "    Maximum delta step we allow each tree's weight estimation to be.\n",
       "subsample : float\n",
       "    Subsample ratio of the training instance.\n",
       "colsample_bytree : float\n",
       "    Subsample ratio of columns when constructing each tree.\n",
       "colsample_bylevel : float\n",
       "    Subsample ratio of columns for each level.\n",
       "colsample_bynode : float\n",
       "    Subsample ratio of columns for each split.\n",
       "reg_alpha : float (xgb's alpha)\n",
       "    L1 regularization term on weights\n",
       "reg_lambda : float (xgb's lambda)\n",
       "    L2 regularization term on weights\n",
       "scale_pos_weight : float\n",
       "    Balancing of positive and negative weights.\n",
       "base_score:\n",
       "    The initial prediction score of all instances, global bias.\n",
       "seed : int\n",
       "    Random number seed.  (Deprecated, please use random_state)\n",
       "random_state : int\n",
       "    Random number seed.  (replaces seed)\n",
       "missing : float, optional\n",
       "    Value in the data which needs to be present as a missing value. If\n",
       "    None, defaults to np.nan.\n",
       "importance_type: string, default \"gain\"\n",
       "    The feature importance type for the feature_importances_ property: either \"gain\",\n",
       "    \"weight\", \"cover\", \"total_gain\" or \"total_cover\".\n",
       "\\*\\*kwargs : dict, optional\n",
       "    Keyword arguments for XGBoost Booster object.  Full documentation of parameters can\n",
       "    be found here: https://github.com/dmlc/xgboost/blob/master/doc/parameter.rst.\n",
       "    Attempting to set a parameter via the constructor args and \\*\\*kwargs dict simultaneously\n",
       "    will result in a TypeError.\n",
       "\n",
       "    .. note:: \\*\\*kwargs unsupported by scikit-learn\n",
       "\n",
       "        \\*\\*kwargs is unsupported by scikit-learn.  We do not guarantee that parameters\n",
       "        passed via this argument will interact properly with scikit-learn.\n",
       "\n",
       "Note\n",
       "----\n",
       "A custom objective function can be provided for the ``objective``\n",
       "parameter. In this case, it should have the signature\n",
       "``objective(y_true, y_pred) -> grad, hess``:\n",
       "\n",
       "y_true: array_like of shape [n_samples]\n",
       "    The target values\n",
       "y_pred: array_like of shape [n_samples]\n",
       "    The predicted values\n",
       "\n",
       "grad: array_like of shape [n_samples]\n",
       "    The value of the gradient for each sample point.\n",
       "hess: array_like of shape [n_samples]\n",
       "    The value of the second derivative for each sample point\n"
      ]
     },
     "metadata": {},
     "output_type": "display_data"
    }
   ],
   "source": [
    "?xgb_model"
   ]
  },
  {
   "cell_type": "code",
   "execution_count": 81,
   "metadata": {},
   "outputs": [],
   "source": [
    "y_pred = xgb_model.predict(X_test)"
   ]
  },
  {
   "cell_type": "code",
   "execution_count": 82,
   "metadata": {},
   "outputs": [
    {
     "data": {
      "text/plain": [
       "0.7489177489177489"
      ]
     },
     "execution_count": 82,
     "metadata": {},
     "output_type": "execute_result"
    }
   ],
   "source": [
    "accuracy_score(y_test, y_pred)"
   ]
  },
  {
   "cell_type": "markdown",
   "metadata": {},
   "source": [
    "# Model Tuning"
   ]
  },
  {
   "cell_type": "code",
   "execution_count": 83,
   "metadata": {},
   "outputs": [],
   "source": [
    "xgb = XGBClassifier()"
   ]
  },
  {
   "cell_type": "code",
   "execution_count": 84,
   "metadata": {},
   "outputs": [],
   "source": [
    "xgb_params = {\"n_estimators\": [100, 500, 1000],\n",
    "             \"subsample\":[0.6,0.8,1],\n",
    "             \"max_depth\":[3,5,7],\n",
    "             \"learning_rate\":[0.1,0.001,0.01]}"
   ]
  },
  {
   "cell_type": "code",
   "execution_count": 87,
   "metadata": {},
   "outputs": [
    {
     "name": "stdout",
     "output_type": "stream",
     "text": [
      "Fitting 10 folds for each of 81 candidates, totalling 810 fits\n"
     ]
    },
    {
     "name": "stderr",
     "output_type": "stream",
     "text": [
      "[Parallel(n_jobs=-1)]: Using backend LokyBackend with 12 concurrent workers.\n",
      "[Parallel(n_jobs=-1)]: Done  17 tasks      | elapsed:    2.2s\n",
      "[Parallel(n_jobs=-1)]: Done 138 tasks      | elapsed:    5.5s\n",
      "[Parallel(n_jobs=-1)]: Done 341 tasks      | elapsed:   13.8s\n",
      "[Parallel(n_jobs=-1)]: Done 624 tasks      | elapsed:   27.6s\n",
      "[Parallel(n_jobs=-1)]: Done 810 out of 810 | elapsed:   37.8s finished\n"
     ]
    }
   ],
   "source": [
    "xgb_cv_model = GridSearchCV(xgb, xgb_params, cv = 10, \n",
    "                            n_jobs = -1, verbose = 2).fit(X_train, y_train)"
   ]
  },
  {
   "cell_type": "code",
   "execution_count": 92,
   "metadata": {},
   "outputs": [
    {
     "data": {
      "text/plain": [
       "{'learning_rate': 0.001, 'max_depth': 7, 'n_estimators': 500, 'subsample': 0.6}"
      ]
     },
     "execution_count": 92,
     "metadata": {},
     "output_type": "execute_result"
    }
   ],
   "source": [
    "xgb_cv_model.best_params_"
   ]
  },
  {
   "cell_type": "code",
   "execution_count": 93,
   "metadata": {},
   "outputs": [],
   "source": [
    "xgb_tuned = xgb = XGBClassifier(learning_rate= 0.001, \n",
    "                                max_depth= 7, \n",
    "                                n_estimators= 500, \n",
    "                                subsample= 0.6).fit(X_train, y_train)"
   ]
  },
  {
   "cell_type": "code",
   "execution_count": 94,
   "metadata": {},
   "outputs": [],
   "source": [
    "y_pred = xgb_tuned.predict(X_test)"
   ]
  },
  {
   "cell_type": "code",
   "execution_count": 95,
   "metadata": {},
   "outputs": [
    {
     "data": {
      "text/plain": [
       "0.7575757575757576"
      ]
     },
     "execution_count": 95,
     "metadata": {},
     "output_type": "execute_result"
    }
   ],
   "source": [
    "accuracy_score(y_test,y_pred)"
   ]
  },
  {
   "cell_type": "code",
   "execution_count": 96,
   "metadata": {},
   "outputs": [
    {
     "data": {
      "image/png": "[encoded data removed]",
      "text/plain": [
       "<Figure size 432x288 with 1 Axes>"
      ]
     },
     "metadata": {
      "needs_background": "light"
     },
     "output_type": "display_data"
    }
   ],
   "source": [
    "feature_imp = pd.Series(xgb_tuned.feature_importances_,\n",
    "                        index=X_train.columns).sort_values(ascending=False)\n",
    "\n",
    "sns.barplot(x=feature_imp, y=feature_imp.index)\n",
    "plt.xlabel('Değişken Önem Skorları')\n",
    "plt.ylabel('Değişkenler')\n",
    "plt.title(\"Değişken Önem Düzeyleri\")\n",
    "plt.show()"
   ]
  },
  {
   "cell_type": "markdown",
   "metadata": {},
   "source": [
    "# Light GBM"
   ]
  },
  {
   "cell_type": "markdown",
   "metadata": {},
   "source": [
    "# Model & Tahmin"
   ]
  },
  {
   "cell_type": "code",
   "execution_count": 97,
   "metadata": {
    "collapsed": true,
    "jupyter": {
     "outputs_hidden": true
    }
   },
   "outputs": [
    {
     "name": "stdout",
     "output_type": "stream",
     "text": [
      "Requirement already satisfied: lightgbm in /Users/mvahit/anaconda3/lib/python3.7/site-packages (2.3.0)\n",
      "Requirement already satisfied: scipy in /Users/mvahit/anaconda3/lib/python3.7/site-packages (from lightgbm) (1.3.0)\n",
      "Requirement already satisfied: scikit-learn in /Users/mvahit/anaconda3/lib/python3.7/site-packages (from lightgbm) (0.21.2)\n",
      "Requirement already satisfied: numpy in /Users/mvahit/anaconda3/lib/python3.7/site-packages (from lightgbm) (1.16.4)\n",
      "Requirement already satisfied: joblib>=0.11 in /Users/mvahit/anaconda3/lib/python3.7/site-packages (from scikit-learn->lightgbm) (0.13.2)\n"
     ]
    }
   ],
   "source": [
    "!pip install lightgbm"
   ]
  },
  {
   "cell_type": "code",
   "execution_count": null,
   "metadata": {},
   "outputs": [],
   "source": [
    "!conda install -c conda-forge lightgbm"
   ]
  },
  {
   "cell_type": "code",
   "execution_count": 98,
   "metadata": {},
   "outputs": [
    {
     "name": "stderr",
     "output_type": "stream",
     "text": [
      "/Users/mvahit/anaconda3/lib/python3.7/site-packages/lightgbm/__init__.py:46: UserWarning: Starting from version 2.2.1, the library file in distribution wheels for macOS is built by the Apple Clang (Xcode_8.3.3) compiler.\n",
      "This means that in case of installing LightGBM from PyPI via the ``pip install lightgbm`` command, you don't need to install the gcc compiler anymore.\n",
      "Instead of that, you need to install the OpenMP library, which is required for running LightGBM on the system with the Apple Clang compiler.\n",
      "You can install the OpenMP library by the following command: ``brew install libomp``.\n",
      "  \"You can install the OpenMP library by the following command: ``brew install libomp``.\", UserWarning)\n"
     ]
    }
   ],
   "source": [
    "from lightgbm import LGBMClassifier"
   ]
  },
  {
   "cell_type": "code",
   "execution_count": 100,
   "metadata": {},
   "outputs": [],
   "source": [
    "lgbm_model = LGBMClassifier().fit(X_train, y_train)"
   ]
  },
  {
   "cell_type": "code",
   "execution_count": 101,
   "metadata": {
    "collapsed": true,
    "jupyter": {
     "outputs_hidden": true
    }
   },
   "outputs": [
    {
     "data": {
      "text/plain": [
       "\u001b[0;31mType:\u001b[0m           LGBMClassifier\n",
       "\u001b[0;31mString form:\u001b[0m   \n",
       "LGBMClassifier(boosting_type='gbdt', class_weight=None, colsample_bytree=1.0,\n",
       "           impo <...> ambda=0.0, silent=True,\n",
       "           subsample=1.0, subsample_for_bin=200000, subsample_freq=0)\n",
       "\u001b[0;31mFile:\u001b[0m           ~/anaconda3/lib/python3.7/site-packages/lightgbm/sklearn.py\n",
       "\u001b[0;31mDocstring:\u001b[0m      LightGBM classifier.\n",
       "\u001b[0;31mInit docstring:\u001b[0m\n",
       "Construct a gradient boosting model.\n",
       "\n",
       "Parameters\n",
       "----------\n",
       "boosting_type : string, optional (default='gbdt')\n",
       "    'gbdt', traditional Gradient Boosting Decision Tree.\n",
       "    'dart', Dropouts meet Multiple Additive Regression Trees.\n",
       "    'goss', Gradient-based One-Side Sampling.\n",
       "    'rf', Random Forest.\n",
       "num_leaves : int, optional (default=31)\n",
       "    Maximum tree leaves for base learners.\n",
       "max_depth : int, optional (default=-1)\n",
       "    Maximum tree depth for base learners, -1 means no limit.\n",
       "learning_rate : float, optional (default=0.1)\n",
       "    Boosting learning rate.\n",
       "    You can use ``callbacks`` parameter of ``fit`` method to shrink/adapt learning rate\n",
       "    in training using ``reset_parameter`` callback.\n",
       "    Note, that this will ignore the ``learning_rate`` argument in training.\n",
       "n_estimators : int, optional (default=100)\n",
       "    Number of boosted trees to fit.\n",
       "subsample_for_bin : int, optional (default=200000)\n",
       "    Number of samples for constructing bins.\n",
       "objective : string, callable or None, optional (default=None)\n",
       "    Specify the learning task and the corresponding learning objective or\n",
       "    a custom objective function to be used (see note below).\n",
       "    Default: 'regression' for LGBMRegressor, 'binary' or 'multiclass' for LGBMClassifier, 'lambdarank' for LGBMRanker.\n",
       "class_weight : dict, 'balanced' or None, optional (default=None)\n",
       "    Weights associated with classes in the form ``{class_label: weight}``.\n",
       "    Use this parameter only for multi-class classification task;\n",
       "    for binary classification task you may use ``is_unbalance`` or ``scale_pos_weight`` parameters.\n",
       "    The 'balanced' mode uses the values of y to automatically adjust weights\n",
       "    inversely proportional to class frequencies in the input data as ``n_samples / (n_classes * np.bincount(y))``.\n",
       "    If None, all classes are supposed to have weight one.\n",
       "    Note, that these weights will be multiplied with ``sample_weight`` (passed through the ``fit`` method)\n",
       "    if ``sample_weight`` is specified.\n",
       "min_split_gain : float, optional (default=0.)\n",
       "    Minimum loss reduction required to make a further partition on a leaf node of the tree.\n",
       "min_child_weight : float, optional (default=1e-3)\n",
       "    Minimum sum of instance weight (hessian) needed in a child (leaf).\n",
       "min_child_samples : int, optional (default=20)\n",
       "    Minimum number of data needed in a child (leaf).\n",
       "subsample : float, optional (default=1.)\n",
       "    Subsample ratio of the training instance.\n",
       "subsample_freq : int, optional (default=0)\n",
       "    Frequence of subsample, <=0 means no enable.\n",
       "colsample_bytree : float, optional (default=1.)\n",
       "    Subsample ratio of columns when constructing each tree.\n",
       "reg_alpha : float, optional (default=0.)\n",
       "    L1 regularization term on weights.\n",
       "reg_lambda : float, optional (default=0.)\n",
       "    L2 regularization term on weights.\n",
       "random_state : int or None, optional (default=None)\n",
       "    Random number seed.\n",
       "    If None, default seeds in C++ code will be used.\n",
       "n_jobs : int, optional (default=-1)\n",
       "    Number of parallel threads.\n",
       "silent : bool, optional (default=True)\n",
       "    Whether to print messages while running boosting.\n",
       "importance_type : string, optional (default='split')\n",
       "    The type of feature importance to be filled into ``feature_importances_``.\n",
       "    If 'split', result contains numbers of times the feature is used in a model.\n",
       "    If 'gain', result contains total gains of splits which use the feature.\n",
       "**kwargs\n",
       "    Other parameters for the model.\n",
       "    Check http://lightgbm.readthedocs.io/en/latest/Parameters.html for more parameters.\n",
       "\n",
       "    Note\n",
       "    ----\n",
       "    \\*\\*kwargs is not supported in sklearn, it may cause unexpected issues.\n",
       "\n",
       "Attributes\n",
       "----------\n",
       "n_features_ : int\n",
       "    The number of features of fitted model.\n",
       "classes_ : array of shape = [n_classes]\n",
       "    The class label array (only for classification problem).\n",
       "n_classes_ : int\n",
       "    The number of classes (only for classification problem).\n",
       "best_score_ : dict or None\n",
       "    The best score of fitted model.\n",
       "best_iteration_ : int or None\n",
       "    The best iteration of fitted model if ``early_stopping_rounds`` has been specified.\n",
       "objective_ : string or callable\n",
       "    The concrete objective used while fitting this model.\n",
       "booster_ : Booster\n",
       "    The underlying Booster of this model.\n",
       "evals_result_ : dict or None\n",
       "    The evaluation results if ``early_stopping_rounds`` has been specified.\n",
       "feature_importances_ : array of shape = [n_features]\n",
       "    The feature importances (the higher, the more important the feature).\n",
       "\n",
       "Note\n",
       "----\n",
       "A custom objective function can be provided for the ``objective`` parameter.\n",
       "In this case, it should have the signature\n",
       "``objective(y_true, y_pred) -> grad, hess`` or\n",
       "``objective(y_true, y_pred, group) -> grad, hess``:\n",
       "\n",
       "    y_true : array-like of shape = [n_samples]\n",
       "        The target values.\n",
       "    y_pred : array-like of shape = [n_samples] or shape = [n_samples * n_classes] (for multi-class task)\n",
       "        The predicted values.\n",
       "    group : array-like\n",
       "        Group/query data, used for ranking task.\n",
       "    grad : array-like of shape = [n_samples] or shape = [n_samples * n_classes] (for multi-class task)\n",
       "        The value of the gradient for each sample point.\n",
       "    hess : array-like of shape = [n_samples] or shape = [n_samples * n_classes] (for multi-class task)\n",
       "        The value of the second derivative for each sample point.\n",
       "\n",
       "For multi-class task, the y_pred is group by class_id first, then group by row_id.\n",
       "If you want to get i-th row y_pred in j-th class, the access way is y_pred[j * num_data + i]\n",
       "and you should group grad and hess in this way as well.\n"
      ]
     },
     "metadata": {},
     "output_type": "display_data"
    }
   ],
   "source": [
    "?lgbm_model"
   ]
  },
  {
   "cell_type": "code",
   "execution_count": 102,
   "metadata": {},
   "outputs": [],
   "source": [
    "y_pred = lgbm_model.predict(X_test)"
   ]
  },
  {
   "cell_type": "code",
   "execution_count": 103,
   "metadata": {},
   "outputs": [
    {
     "data": {
      "text/plain": [
       "0.7272727272727273"
      ]
     },
     "execution_count": 103,
     "metadata": {},
     "output_type": "execute_result"
    }
   ],
   "source": [
    "accuracy_score(y_test,y_pred)"
   ]
  },
  {
   "cell_type": "markdown",
   "metadata": {},
   "source": [
    "# Model Tuning"
   ]
  },
  {
   "cell_type": "code",
   "execution_count": 104,
   "metadata": {},
   "outputs": [],
   "source": [
    "lgbm = LGBMClassifier()"
   ]
  },
  {
   "cell_type": "code",
   "execution_count": 105,
   "metadata": {},
   "outputs": [],
   "source": [
    "lgbm_params = {\"learning_rate\": [0.001, 0.01, 0.1],\n",
    "              \"n_estimators\": [200, 500, 100],\n",
    "              \"max_depth\":[1,2,35,8]}"
   ]
  },
  {
   "cell_type": "code",
   "execution_count": 108,
   "metadata": {},
   "outputs": [
    {
     "name": "stdout",
     "output_type": "stream",
     "text": [
      "Fitting 10 folds for each of 36 candidates, totalling 360 fits\n"
     ]
    },
    {
     "name": "stderr",
     "output_type": "stream",
     "text": [
      "[Parallel(n_jobs=-1)]: Using backend LokyBackend with 12 concurrent workers.\n",
      "[Parallel(n_jobs=-1)]: Done  17 tasks      | elapsed:    2.4s\n",
      "[Parallel(n_jobs=-1)]: Done 205 tasks      | elapsed:    4.4s\n",
      "[Parallel(n_jobs=-1)]: Done 337 out of 360 | elapsed:    6.0s remaining:    0.4s\n",
      "[Parallel(n_jobs=-1)]: Done 360 out of 360 | elapsed:    6.3s finished\n"
     ]
    }
   ],
   "source": [
    "lgbm_params = {\"learning_rate\": [0.001, 0.01, 0.1],\n",
    "              \"n_estimators\": [200, 500, 100],\n",
    "              \"max_depth\":[1,2,35,8]}\n",
    "lgbm_cv_model = GridSearchCV(lgbm,lgbm_params, cv = 10, n_jobs = -1, verbose = 2).fit(X_train, y_train)\n",
    "lgbm_cv_model.best_params_"
   ]
  },
  {
   "cell_type": "code",
   "execution_count": 109,
   "metadata": {},
   "outputs": [
    {
     "data": {
      "text/plain": [
       "{'learning_rate': 0.01, 'max_depth': 1, 'n_estimators': 500}"
      ]
     },
     "execution_count": 109,
     "metadata": {},
     "output_type": "execute_result"
    }
   ],
   "source": [
    "lgbm_cv_model.best_params_"
   ]
  },
  {
   "cell_type": "code",
   "execution_count": 110,
   "metadata": {},
   "outputs": [],
   "source": [
    "lgbm_tuned = LGBMClassifier(learning_rate= 0.01, \n",
    "                            max_depth= 1, \n",
    "                            n_estimators= 500).fit(X_train, y_train)"
   ]
  },
  {
   "cell_type": "code",
   "execution_count": 111,
   "metadata": {},
   "outputs": [],
   "source": [
    "y_pred = lgbm_tuned.predict(X_test)"
   ]
  },
  {
   "cell_type": "code",
   "execution_count": 112,
   "metadata": {},
   "outputs": [
    {
     "data": {
      "text/plain": [
       "0.7575757575757576"
      ]
     },
     "execution_count": 112,
     "metadata": {},
     "output_type": "execute_result"
    }
   ],
   "source": [
    "accuracy_score(y_test, y_pred)"
   ]
  },
  {
   "cell_type": "code",
   "execution_count": 113,
   "metadata": {},
   "outputs": [
    {
     "data": {
      "image/png": "[encoded data removed]",
      "text/plain": [
       "<Figure size 432x288 with 1 Axes>"
      ]
     },
     "metadata": {
      "needs_background": "light"
     },
     "output_type": "display_data"
    }
   ],
   "source": [
    "feature_imp = pd.Series(lgbm_tuned.feature_importances_,\n",
    "                        index=X_train.columns).sort_values(ascending=False)\n",
    "\n",
    "sns.barplot(x=feature_imp, y=feature_imp.index)\n",
    "plt.xlabel('Değişken Önem Skorları')\n",
    "plt.ylabel('Değişkenler')\n",
    "plt.title(\"Değişken Önem Düzeyleri\")\n",
    "plt.show()"
   ]
  },
  {
   "cell_type": "markdown",
   "metadata": {},
   "source": [
    "# CatBoost"
   ]
  },
  {
   "cell_type": "markdown",
   "metadata": {},
   "source": [
    "# Model & Tahmin"
   ]
  },
  {
   "cell_type": "code",
   "execution_count": 121,
   "metadata": {
    "collapsed": true,
    "jupyter": {
     "outputs_hidden": true
    }
   },
   "outputs": [
    {
     "name": "stdout",
     "output_type": "stream",
     "text": [
      "Requirement already satisfied: catboost in /Users/mvahit/anaconda3/lib/python3.7/site-packages (0.18)\n",
      "Requirement already satisfied: numpy>=1.16.0 in /Users/mvahit/anaconda3/lib/python3.7/site-packages (from catboost) (1.16.4)\n",
      "Requirement already satisfied: graphviz in /Users/mvahit/anaconda3/lib/python3.7/site-packages (from catboost) (0.13)\n",
      "Requirement already satisfied: pandas>=0.24.0 in /Users/mvahit/anaconda3/lib/python3.7/site-packages (from catboost) (0.24.2)\n",
      "Requirement already satisfied: plotly in /Users/mvahit/anaconda3/lib/python3.7/site-packages (from catboost) (4.2.1)\n",
      "Requirement already satisfied: scipy in /Users/mvahit/anaconda3/lib/python3.7/site-packages (from catboost) (1.3.0)\n",
      "Requirement already satisfied: matplotlib in /Users/mvahit/anaconda3/lib/python3.7/site-packages (from catboost) (3.1.0)\n",
      "Requirement already satisfied: six in /Users/mvahit/anaconda3/lib/python3.7/site-packages (from catboost) (1.12.0)\n",
      "Requirement already satisfied: pytz>=2011k in /Users/mvahit/anaconda3/lib/python3.7/site-packages (from pandas>=0.24.0->catboost) (2019.1)\n",
      "Requirement already satisfied: python-dateutil>=2.5.0 in /Users/mvahit/anaconda3/lib/python3.7/site-packages (from pandas>=0.24.0->catboost) (2.8.0)\n",
      "Requirement already satisfied: retrying>=1.3.3 in /Users/mvahit/anaconda3/lib/python3.7/site-packages (from plotly->catboost) (1.3.3)\n",
      "Requirement already satisfied: cycler>=0.10 in /Users/mvahit/anaconda3/lib/python3.7/site-packages (from matplotlib->catboost) (0.10.0)\n",
      "Requirement already satisfied: kiwisolver>=1.0.1 in /Users/mvahit/anaconda3/lib/python3.7/site-packages (from matplotlib->catboost) (1.1.0)\n",
      "Requirement already satisfied: pyparsing!=2.0.4,!=2.1.2,!=2.1.6,>=2.0.1 in /Users/mvahit/anaconda3/lib/python3.7/site-packages (from matplotlib->catboost) (2.4.0)\n",
      "Requirement already satisfied: setuptools in /Users/mvahit/anaconda3/lib/python3.7/site-packages (from kiwisolver>=1.0.1->matplotlib->catboost) (41.0.1)\n"
     ]
    }
   ],
   "source": [
    "!pip install catboost"
   ]
  },
  {
   "cell_type": "code",
   "execution_count": 122,
   "metadata": {},
   "outputs": [],
   "source": [
    "from catboost import CatBoostClassifier"
   ]
  },
  {
   "cell_type": "code",
   "execution_count": 123,
   "metadata": {},
   "outputs": [],
   "source": [
    "catb_model = CatBoostClassifier().fit(X_train, y_train, verbose = False)"
   ]
  },
  {
   "cell_type": "code",
   "execution_count": 126,
   "metadata": {},
   "outputs": [
    {
     "data": {
      "text/plain": [
       "\u001b[0;31mType:\u001b[0m            CatBoostClassifier\n",
       "\u001b[0;31mString form:\u001b[0m     <catboost.core.CatBoostClassifier object at 0x7ff1d9326ef0>\n",
       "\u001b[0;31mFile:\u001b[0m            ~/anaconda3/lib/python3.7/site-packages/catboost/core.py\n",
       "\u001b[0;31mDocstring:\u001b[0m       <no docstring>\n",
       "\u001b[0;31mClass docstring:\u001b[0m CatBoost model. Contains training, prediction and evaluation methods.\n",
       "\u001b[0;31mInit docstring:\u001b[0m \n",
       "Initialize the CatBoost.\n",
       "\n",
       "Parameters\n",
       "----------\n",
       "params : dict\n",
       "    Parameters for CatBoost.\n",
       "    If  None, all params are set to their defaults.\n",
       "    If  dict, overriding parameters present in dict.\n"
      ]
     },
     "metadata": {},
     "output_type": "display_data"
    }
   ],
   "source": [
    "?catb_model"
   ]
  },
  {
   "cell_type": "code",
   "execution_count": 124,
   "metadata": {},
   "outputs": [],
   "source": [
    "y_pred = catb_model.predict(X_test)"
   ]
  },
  {
   "cell_type": "code",
   "execution_count": 125,
   "metadata": {},
   "outputs": [
    {
     "data": {
      "text/plain": [
       "0.7359307359307359"
      ]
     },
     "execution_count": 125,
     "metadata": {},
     "output_type": "execute_result"
    }
   ],
   "source": [
    "accuracy_score(y_test, y_pred)"
   ]
  },
  {
   "cell_type": "markdown",
   "metadata": {},
   "source": [
    "# Model Tuning"
   ]
  },
  {
   "cell_type": "code",
   "execution_count": 129,
   "metadata": {},
   "outputs": [],
   "source": [
    "catb = CatBoostClassifier()"
   ]
  },
  {
   "cell_type": "code",
   "execution_count": 130,
   "metadata": {},
   "outputs": [],
   "source": [
    "catb_params = {\"iterations\":[200,500,100],\n",
    "              \"learning_rate\":[0.01, 0.03, 0.1],\n",
    "              \"depth\":[4,5,8]}"
   ]
  },
  {
   "cell_type": "code",
   "execution_count": 132,
   "metadata": {
    "collapsed": true,
    "jupyter": {
     "outputs_hidden": true
    }
   },
   "outputs": [
    {
     "name": "stdout",
     "output_type": "stream",
     "text": [
      "Fitting 5 folds for each of 27 candidates, totalling 135 fits\n"
     ]
    },
    {
     "name": "stderr",
     "output_type": "stream",
     "text": [
      "[Parallel(n_jobs=-1)]: Using backend LokyBackend with 12 concurrent workers.\n",
      "[Parallel(n_jobs=-1)]: Done  17 tasks      | elapsed:   54.9s\n",
      "[Parallel(n_jobs=-1)]: Done 135 out of 135 | elapsed:  4.1min finished\n"
     ]
    },
    {
     "name": "stdout",
     "output_type": "stream",
     "text": [
      "0:\tlearn: 0.6749075\ttotal: 20.9ms\tremaining: 4.17s\n",
      "1:\tlearn: 0.6586537\ttotal: 35.9ms\tremaining: 3.55s\n",
      "2:\tlearn: 0.6425268\ttotal: 50.9ms\tremaining: 3.34s\n",
      "3:\tlearn: 0.6247661\ttotal: 64.8ms\tremaining: 3.17s\n",
      "4:\tlearn: 0.6079451\ttotal: 78.9ms\tremaining: 3.08s\n",
      "5:\tlearn: 0.5939632\ttotal: 93.6ms\tremaining: 3.02s\n",
      "6:\tlearn: 0.5792526\ttotal: 107ms\tremaining: 2.95s\n",
      "7:\tlearn: 0.5688651\ttotal: 123ms\tremaining: 2.94s\n",
      "8:\tlearn: 0.5562211\ttotal: 140ms\tremaining: 2.97s\n",
      "9:\tlearn: 0.5444938\ttotal: 154ms\tremaining: 2.92s\n",
      "10:\tlearn: 0.5348107\ttotal: 167ms\tremaining: 2.87s\n",
      "11:\tlearn: 0.5261863\ttotal: 182ms\tremaining: 2.85s\n",
      "12:\tlearn: 0.5148002\ttotal: 197ms\tremaining: 2.83s\n",
      "13:\tlearn: 0.5055527\ttotal: 211ms\tremaining: 2.8s\n",
      "14:\tlearn: 0.4989946\ttotal: 229ms\tremaining: 2.83s\n",
      "15:\tlearn: 0.4912710\ttotal: 245ms\tremaining: 2.81s\n",
      "16:\tlearn: 0.4852215\ttotal: 261ms\tremaining: 2.81s\n",
      "17:\tlearn: 0.4786486\ttotal: 275ms\tremaining: 2.78s\n",
      "18:\tlearn: 0.4713345\ttotal: 288ms\tremaining: 2.75s\n",
      "19:\tlearn: 0.4645211\ttotal: 304ms\tremaining: 2.73s\n",
      "20:\tlearn: 0.4548993\ttotal: 319ms\tremaining: 2.72s\n",
      "21:\tlearn: 0.4488258\ttotal: 333ms\tremaining: 2.7s\n",
      "22:\tlearn: 0.4428727\ttotal: 351ms\tremaining: 2.7s\n",
      "23:\tlearn: 0.4368695\ttotal: 366ms\tremaining: 2.69s\n",
      "24:\tlearn: 0.4322155\ttotal: 380ms\tremaining: 2.66s\n",
      "25:\tlearn: 0.4277836\ttotal: 395ms\tremaining: 2.64s\n",
      "26:\tlearn: 0.4233010\ttotal: 410ms\tremaining: 2.63s\n",
      "27:\tlearn: 0.4190276\ttotal: 425ms\tremaining: 2.61s\n",
      "28:\tlearn: 0.4133761\ttotal: 443ms\tremaining: 2.61s\n",
      "29:\tlearn: 0.4076487\ttotal: 459ms\tremaining: 2.6s\n",
      "30:\tlearn: 0.4030485\ttotal: 474ms\tremaining: 2.58s\n",
      "31:\tlearn: 0.3985494\ttotal: 488ms\tremaining: 2.56s\n",
      "32:\tlearn: 0.3935922\ttotal: 503ms\tremaining: 2.54s\n",
      "33:\tlearn: 0.3885118\ttotal: 519ms\tremaining: 2.53s\n",
      "34:\tlearn: 0.3840053\ttotal: 534ms\tremaining: 2.52s\n",
      "35:\tlearn: 0.3802626\ttotal: 549ms\tremaining: 2.5s\n",
      "36:\tlearn: 0.3747388\ttotal: 564ms\tremaining: 2.48s\n",
      "37:\tlearn: 0.3696799\ttotal: 579ms\tremaining: 2.47s\n",
      "38:\tlearn: 0.3666040\ttotal: 591ms\tremaining: 2.44s\n",
      "39:\tlearn: 0.3627254\ttotal: 607ms\tremaining: 2.43s\n",
      "40:\tlearn: 0.3589184\ttotal: 620ms\tremaining: 2.4s\n",
      "41:\tlearn: 0.3553188\ttotal: 636ms\tremaining: 2.39s\n",
      "42:\tlearn: 0.3509715\ttotal: 650ms\tremaining: 2.37s\n",
      "43:\tlearn: 0.3480741\ttotal: 664ms\tremaining: 2.35s\n",
      "44:\tlearn: 0.3447456\ttotal: 679ms\tremaining: 2.34s\n",
      "45:\tlearn: 0.3414134\ttotal: 695ms\tremaining: 2.33s\n",
      "46:\tlearn: 0.3374116\ttotal: 711ms\tremaining: 2.31s\n",
      "47:\tlearn: 0.3342421\ttotal: 726ms\tremaining: 2.3s\n",
      "48:\tlearn: 0.3325737\ttotal: 740ms\tremaining: 2.28s\n",
      "49:\tlearn: 0.3300647\ttotal: 753ms\tremaining: 2.26s\n",
      "50:\tlearn: 0.3281547\ttotal: 768ms\tremaining: 2.24s\n",
      "51:\tlearn: 0.3263995\ttotal: 780ms\tremaining: 2.22s\n",
      "52:\tlearn: 0.3240038\ttotal: 794ms\tremaining: 2.2s\n",
      "53:\tlearn: 0.3222804\ttotal: 808ms\tremaining: 2.18s\n",
      "54:\tlearn: 0.3187592\ttotal: 824ms\tremaining: 2.17s\n",
      "55:\tlearn: 0.3150537\ttotal: 841ms\tremaining: 2.16s\n",
      "56:\tlearn: 0.3129099\ttotal: 852ms\tremaining: 2.14s\n",
      "57:\tlearn: 0.3113140\ttotal: 865ms\tremaining: 2.12s\n",
      "58:\tlearn: 0.3095872\ttotal: 874ms\tremaining: 2.09s\n",
      "59:\tlearn: 0.3075307\ttotal: 884ms\tremaining: 2.06s\n",
      "60:\tlearn: 0.3049377\ttotal: 894ms\tremaining: 2.04s\n",
      "61:\tlearn: 0.3034760\ttotal: 903ms\tremaining: 2.01s\n",
      "62:\tlearn: 0.3011487\ttotal: 912ms\tremaining: 1.98s\n",
      "63:\tlearn: 0.2996966\ttotal: 922ms\tremaining: 1.96s\n",
      "64:\tlearn: 0.2975659\ttotal: 931ms\tremaining: 1.93s\n",
      "65:\tlearn: 0.2957515\ttotal: 940ms\tremaining: 1.91s\n",
      "66:\tlearn: 0.2936079\ttotal: 950ms\tremaining: 1.89s\n",
      "67:\tlearn: 0.2917726\ttotal: 959ms\tremaining: 1.86s\n",
      "68:\tlearn: 0.2895160\ttotal: 969ms\tremaining: 1.84s\n",
      "69:\tlearn: 0.2877678\ttotal: 979ms\tremaining: 1.82s\n",
      "70:\tlearn: 0.2866831\ttotal: 988ms\tremaining: 1.79s\n",
      "71:\tlearn: 0.2850452\ttotal: 998ms\tremaining: 1.77s\n",
      "72:\tlearn: 0.2829760\ttotal: 1.01s\tremaining: 1.75s\n",
      "73:\tlearn: 0.2817099\ttotal: 1.02s\tremaining: 1.73s\n",
      "74:\tlearn: 0.2803306\ttotal: 1.03s\tremaining: 1.71s\n",
      "75:\tlearn: 0.2795779\ttotal: 1.04s\tremaining: 1.69s\n",
      "76:\tlearn: 0.2780320\ttotal: 1.05s\tremaining: 1.67s\n",
      "77:\tlearn: 0.2775135\ttotal: 1.06s\tremaining: 1.66s\n",
      "78:\tlearn: 0.2756365\ttotal: 1.07s\tremaining: 1.64s\n",
      "79:\tlearn: 0.2735824\ttotal: 1.08s\tremaining: 1.62s\n",
      "80:\tlearn: 0.2719819\ttotal: 1.09s\tremaining: 1.6s\n",
      "81:\tlearn: 0.2703745\ttotal: 1.1s\tremaining: 1.58s\n",
      "82:\tlearn: 0.2689795\ttotal: 1.11s\tremaining: 1.57s\n",
      "83:\tlearn: 0.2669706\ttotal: 1.12s\tremaining: 1.55s\n",
      "84:\tlearn: 0.2646515\ttotal: 1.13s\tremaining: 1.53s\n",
      "85:\tlearn: 0.2630659\ttotal: 1.14s\tremaining: 1.51s\n",
      "86:\tlearn: 0.2620606\ttotal: 1.15s\tremaining: 1.49s\n",
      "87:\tlearn: 0.2599774\ttotal: 1.16s\tremaining: 1.47s\n",
      "88:\tlearn: 0.2583748\ttotal: 1.17s\tremaining: 1.46s\n",
      "89:\tlearn: 0.2572641\ttotal: 1.18s\tremaining: 1.44s\n",
      "90:\tlearn: 0.2553247\ttotal: 1.19s\tremaining: 1.42s\n",
      "91:\tlearn: 0.2533691\ttotal: 1.2s\tremaining: 1.41s\n",
      "92:\tlearn: 0.2523635\ttotal: 1.21s\tremaining: 1.39s\n",
      "93:\tlearn: 0.2507139\ttotal: 1.22s\tremaining: 1.37s\n",
      "94:\tlearn: 0.2487259\ttotal: 1.23s\tremaining: 1.36s\n",
      "95:\tlearn: 0.2464712\ttotal: 1.24s\tremaining: 1.34s\n",
      "96:\tlearn: 0.2449016\ttotal: 1.25s\tremaining: 1.33s\n",
      "97:\tlearn: 0.2435560\ttotal: 1.26s\tremaining: 1.31s\n",
      "98:\tlearn: 0.2421241\ttotal: 1.27s\tremaining: 1.3s\n",
      "99:\tlearn: 0.2412530\ttotal: 1.28s\tremaining: 1.28s\n",
      "100:\tlearn: 0.2399323\ttotal: 1.29s\tremaining: 1.27s\n",
      "101:\tlearn: 0.2387314\ttotal: 1.3s\tremaining: 1.25s\n",
      "102:\tlearn: 0.2375097\ttotal: 1.31s\tremaining: 1.24s\n",
      "103:\tlearn: 0.2365957\ttotal: 1.32s\tremaining: 1.22s\n",
      "104:\tlearn: 0.2357016\ttotal: 1.33s\tremaining: 1.21s\n",
      "105:\tlearn: 0.2347573\ttotal: 1.34s\tremaining: 1.19s\n",
      "106:\tlearn: 0.2344829\ttotal: 1.35s\tremaining: 1.18s\n",
      "107:\tlearn: 0.2331152\ttotal: 1.36s\tremaining: 1.16s\n",
      "108:\tlearn: 0.2315521\ttotal: 1.37s\tremaining: 1.14s\n",
      "109:\tlearn: 0.2303904\ttotal: 1.38s\tremaining: 1.13s\n",
      "110:\tlearn: 0.2291686\ttotal: 1.39s\tremaining: 1.11s\n",
      "111:\tlearn: 0.2275476\ttotal: 1.4s\tremaining: 1.1s\n",
      "112:\tlearn: 0.2263450\ttotal: 1.41s\tremaining: 1.08s\n",
      "113:\tlearn: 0.2248865\ttotal: 1.42s\tremaining: 1.07s\n",
      "114:\tlearn: 0.2236758\ttotal: 1.43s\tremaining: 1.06s\n",
      "115:\tlearn: 0.2223643\ttotal: 1.44s\tremaining: 1.04s\n",
      "116:\tlearn: 0.2211495\ttotal: 1.46s\tremaining: 1.03s\n",
      "117:\tlearn: 0.2196291\ttotal: 1.47s\tremaining: 1.02s\n",
      "118:\tlearn: 0.2186072\ttotal: 1.48s\tremaining: 1.01s\n",
      "119:\tlearn: 0.2175275\ttotal: 1.49s\tremaining: 994ms\n",
      "120:\tlearn: 0.2158426\ttotal: 1.5s\tremaining: 980ms\n",
      "121:\tlearn: 0.2150792\ttotal: 1.51s\tremaining: 966ms\n",
      "122:\tlearn: 0.2136079\ttotal: 1.52s\tremaining: 953ms\n",
      "123:\tlearn: 0.2123736\ttotal: 1.53s\tremaining: 939ms\n",
      "124:\tlearn: 0.2112493\ttotal: 1.54s\tremaining: 925ms\n",
      "125:\tlearn: 0.2106552\ttotal: 1.55s\tremaining: 911ms\n",
      "126:\tlearn: 0.2096727\ttotal: 1.56s\tremaining: 899ms\n",
      "127:\tlearn: 0.2089460\ttotal: 1.57s\tremaining: 885ms\n",
      "128:\tlearn: 0.2081058\ttotal: 1.58s\tremaining: 871ms\n",
      "129:\tlearn: 0.2075126\ttotal: 1.59s\tremaining: 858ms\n",
      "130:\tlearn: 0.2066506\ttotal: 1.6s\tremaining: 844ms\n",
      "131:\tlearn: 0.2061398\ttotal: 1.61s\tremaining: 831ms\n",
      "132:\tlearn: 0.2049191\ttotal: 1.62s\tremaining: 817ms\n",
      "133:\tlearn: 0.2034429\ttotal: 1.63s\tremaining: 804ms\n",
      "134:\tlearn: 0.2028161\ttotal: 1.64s\tremaining: 790ms\n",
      "135:\tlearn: 0.2017489\ttotal: 1.65s\tremaining: 777ms\n",
      "136:\tlearn: 0.2000653\ttotal: 1.67s\tremaining: 766ms\n",
      "137:\tlearn: 0.1989918\ttotal: 1.68s\tremaining: 754ms\n",
      "138:\tlearn: 0.1981144\ttotal: 1.69s\tremaining: 742ms\n",
      "139:\tlearn: 0.1975150\ttotal: 1.7s\tremaining: 729ms\n",
      "140:\tlearn: 0.1967731\ttotal: 1.71s\tremaining: 716ms\n",
      "141:\tlearn: 0.1961501\ttotal: 1.72s\tremaining: 702ms\n",
      "142:\tlearn: 0.1951265\ttotal: 1.73s\tremaining: 689ms\n",
      "143:\tlearn: 0.1945547\ttotal: 1.74s\tremaining: 677ms\n",
      "144:\tlearn: 0.1940180\ttotal: 1.75s\tremaining: 664ms\n",
      "145:\tlearn: 0.1934094\ttotal: 1.76s\tremaining: 651ms\n",
      "146:\tlearn: 0.1922760\ttotal: 1.77s\tremaining: 638ms\n",
      "147:\tlearn: 0.1919023\ttotal: 1.78s\tremaining: 625ms\n",
      "148:\tlearn: 0.1910553\ttotal: 1.79s\tremaining: 612ms\n",
      "149:\tlearn: 0.1900587\ttotal: 1.8s\tremaining: 599ms\n",
      "150:\tlearn: 0.1892286\ttotal: 1.81s\tremaining: 587ms\n",
      "151:\tlearn: 0.1880235\ttotal: 1.82s\tremaining: 574ms\n",
      "152:\tlearn: 0.1876588\ttotal: 1.83s\tremaining: 561ms\n",
      "153:\tlearn: 0.1862592\ttotal: 1.84s\tremaining: 549ms\n",
      "154:\tlearn: 0.1852626\ttotal: 1.85s\tremaining: 536ms\n",
      "155:\tlearn: 0.1840127\ttotal: 1.86s\tremaining: 525ms\n",
      "156:\tlearn: 0.1825947\ttotal: 1.87s\tremaining: 513ms\n",
      "157:\tlearn: 0.1819224\ttotal: 1.89s\tremaining: 502ms\n",
      "158:\tlearn: 0.1809242\ttotal: 1.9s\tremaining: 489ms\n",
      "159:\tlearn: 0.1800041\ttotal: 1.91s\tremaining: 477ms\n",
      "160:\tlearn: 0.1794793\ttotal: 1.92s\tremaining: 465ms\n",
      "161:\tlearn: 0.1791491\ttotal: 1.93s\tremaining: 452ms\n",
      "162:\tlearn: 0.1780742\ttotal: 1.94s\tremaining: 440ms\n",
      "163:\tlearn: 0.1772895\ttotal: 1.95s\tremaining: 427ms\n",
      "164:\tlearn: 0.1759503\ttotal: 1.96s\tremaining: 415ms\n",
      "165:\tlearn: 0.1750760\ttotal: 1.97s\tremaining: 403ms\n",
      "166:\tlearn: 0.1743364\ttotal: 1.98s\tremaining: 391ms\n",
      "167:\tlearn: 0.1736058\ttotal: 1.99s\tremaining: 378ms\n",
      "168:\tlearn: 0.1728699\ttotal: 2s\tremaining: 366ms\n",
      "169:\tlearn: 0.1724452\ttotal: 2s\tremaining: 354ms\n",
      "170:\tlearn: 0.1718171\ttotal: 2.02s\tremaining: 342ms\n",
      "171:\tlearn: 0.1711258\ttotal: 2.02s\tremaining: 330ms\n",
      "172:\tlearn: 0.1703004\ttotal: 2.04s\tremaining: 318ms\n",
      "173:\tlearn: 0.1691359\ttotal: 2.05s\tremaining: 306ms\n",
      "174:\tlearn: 0.1680706\ttotal: 2.06s\tremaining: 295ms\n",
      "175:\tlearn: 0.1669954\ttotal: 2.08s\tremaining: 283ms\n",
      "176:\tlearn: 0.1657224\ttotal: 2.09s\tremaining: 272ms\n",
      "177:\tlearn: 0.1651812\ttotal: 2.1s\tremaining: 259ms\n",
      "178:\tlearn: 0.1640068\ttotal: 2.11s\tremaining: 248ms\n",
      "179:\tlearn: 0.1633181\ttotal: 2.12s\tremaining: 236ms\n",
      "180:\tlearn: 0.1622211\ttotal: 2.13s\tremaining: 224ms\n",
      "181:\tlearn: 0.1615833\ttotal: 2.14s\tremaining: 212ms\n",
      "182:\tlearn: 0.1607092\ttotal: 2.15s\tremaining: 200ms\n",
      "183:\tlearn: 0.1597908\ttotal: 2.16s\tremaining: 188ms\n",
      "184:\tlearn: 0.1589240\ttotal: 2.17s\tremaining: 176ms\n",
      "185:\tlearn: 0.1580230\ttotal: 2.19s\tremaining: 165ms\n",
      "186:\tlearn: 0.1574658\ttotal: 2.19s\tremaining: 153ms\n",
      "187:\tlearn: 0.1567768\ttotal: 2.21s\tremaining: 141ms\n",
      "188:\tlearn: 0.1563061\ttotal: 2.21s\tremaining: 129ms\n",
      "189:\tlearn: 0.1553316\ttotal: 2.23s\tremaining: 117ms\n",
      "190:\tlearn: 0.1542825\ttotal: 2.24s\tremaining: 105ms\n",
      "191:\tlearn: 0.1532252\ttotal: 2.25s\tremaining: 93.6ms\n",
      "192:\tlearn: 0.1521715\ttotal: 2.26s\tremaining: 82ms\n",
      "193:\tlearn: 0.1511812\ttotal: 2.27s\tremaining: 70.3ms\n",
      "194:\tlearn: 0.1506213\ttotal: 2.28s\tremaining: 58.6ms\n",
      "195:\tlearn: 0.1503290\ttotal: 2.3s\tremaining: 46.9ms\n",
      "196:\tlearn: 0.1498942\ttotal: 2.31s\tremaining: 35.1ms\n",
      "197:\tlearn: 0.1494728\ttotal: 2.32s\tremaining: 23.4ms\n",
      "198:\tlearn: 0.1485412\ttotal: 2.33s\tremaining: 11.7ms\n",
      "199:\tlearn: 0.1481220\ttotal: 2.34s\tremaining: 0us\n"
     ]
    }
   ],
   "source": [
    "catb_cv_model = GridSearchCV(catb, catb_params, \n",
    "                             cv = 5, n_jobs = -1, verbose = 2).fit(X_train, y_train)"
   ]
  },
  {
   "cell_type": "code",
   "execution_count": 133,
   "metadata": {},
   "outputs": [
    {
     "data": {
      "text/plain": [
       "{'depth': 8, 'iterations': 200, 'learning_rate': 0.03}"
      ]
     },
     "execution_count": 133,
     "metadata": {},
     "output_type": "execute_result"
    }
   ],
   "source": [
    "catb_cv_model.best_params_"
   ]
  },
  {
   "cell_type": "code",
   "execution_count": 134,
   "metadata": {
    "collapsed": true,
    "jupyter": {
     "outputs_hidden": true
    }
   },
   "outputs": [
    {
     "name": "stdout",
     "output_type": "stream",
     "text": [
      "0:\tlearn: 0.6749075\ttotal: 14.7ms\tremaining: 2.93s\n",
      "1:\tlearn: 0.6586537\ttotal: 28.2ms\tremaining: 2.79s\n",
      "2:\tlearn: 0.6425268\ttotal: 41.2ms\tremaining: 2.71s\n",
      "3:\tlearn: 0.6247661\ttotal: 52.4ms\tremaining: 2.57s\n",
      "4:\tlearn: 0.6079451\ttotal: 63.1ms\tremaining: 2.46s\n",
      "5:\tlearn: 0.5939632\ttotal: 73.6ms\tremaining: 2.38s\n",
      "6:\tlearn: 0.5792526\ttotal: 83.1ms\tremaining: 2.29s\n",
      "7:\tlearn: 0.5688651\ttotal: 92.9ms\tremaining: 2.23s\n",
      "8:\tlearn: 0.5562211\ttotal: 102ms\tremaining: 2.17s\n",
      "9:\tlearn: 0.5444938\ttotal: 112ms\tremaining: 2.13s\n",
      "10:\tlearn: 0.5348107\ttotal: 123ms\tremaining: 2.11s\n",
      "11:\tlearn: 0.5261863\ttotal: 134ms\tremaining: 2.1s\n",
      "12:\tlearn: 0.5148002\ttotal: 145ms\tremaining: 2.08s\n",
      "13:\tlearn: 0.5055527\ttotal: 154ms\tremaining: 2.05s\n",
      "14:\tlearn: 0.4989946\ttotal: 165ms\tremaining: 2.03s\n",
      "15:\tlearn: 0.4912710\ttotal: 176ms\tremaining: 2.02s\n",
      "16:\tlearn: 0.4852215\ttotal: 182ms\tremaining: 1.96s\n",
      "17:\tlearn: 0.4786486\ttotal: 192ms\tremaining: 1.94s\n",
      "18:\tlearn: 0.4713345\ttotal: 201ms\tremaining: 1.92s\n",
      "19:\tlearn: 0.4645211\ttotal: 208ms\tremaining: 1.87s\n",
      "20:\tlearn: 0.4548993\ttotal: 216ms\tremaining: 1.84s\n",
      "21:\tlearn: 0.4488258\ttotal: 226ms\tremaining: 1.83s\n",
      "22:\tlearn: 0.4428727\ttotal: 234ms\tremaining: 1.8s\n",
      "23:\tlearn: 0.4368695\ttotal: 243ms\tremaining: 1.78s\n",
      "24:\tlearn: 0.4322155\ttotal: 252ms\tremaining: 1.76s\n",
      "25:\tlearn: 0.4277836\ttotal: 261ms\tremaining: 1.75s\n",
      "26:\tlearn: 0.4233010\ttotal: 271ms\tremaining: 1.74s\n",
      "27:\tlearn: 0.4190276\ttotal: 279ms\tremaining: 1.71s\n",
      "28:\tlearn: 0.4133761\ttotal: 286ms\tremaining: 1.69s\n",
      "29:\tlearn: 0.4076487\ttotal: 295ms\tremaining: 1.67s\n",
      "30:\tlearn: 0.4030485\ttotal: 304ms\tremaining: 1.66s\n",
      "31:\tlearn: 0.3985494\ttotal: 312ms\tremaining: 1.64s\n",
      "32:\tlearn: 0.3935922\ttotal: 320ms\tremaining: 1.62s\n",
      "33:\tlearn: 0.3885118\ttotal: 329ms\tremaining: 1.61s\n",
      "34:\tlearn: 0.3840053\ttotal: 336ms\tremaining: 1.58s\n",
      "35:\tlearn: 0.3802626\ttotal: 343ms\tremaining: 1.56s\n",
      "36:\tlearn: 0.3747388\ttotal: 349ms\tremaining: 1.54s\n",
      "37:\tlearn: 0.3696799\ttotal: 356ms\tremaining: 1.52s\n",
      "38:\tlearn: 0.3666040\ttotal: 364ms\tremaining: 1.5s\n",
      "39:\tlearn: 0.3627254\ttotal: 372ms\tremaining: 1.49s\n",
      "40:\tlearn: 0.3589184\ttotal: 379ms\tremaining: 1.47s\n",
      "41:\tlearn: 0.3553188\ttotal: 387ms\tremaining: 1.46s\n",
      "42:\tlearn: 0.3509715\ttotal: 395ms\tremaining: 1.44s\n",
      "43:\tlearn: 0.3480741\ttotal: 402ms\tremaining: 1.42s\n",
      "44:\tlearn: 0.3447456\ttotal: 408ms\tremaining: 1.41s\n",
      "45:\tlearn: 0.3414134\ttotal: 416ms\tremaining: 1.39s\n",
      "46:\tlearn: 0.3374116\ttotal: 426ms\tremaining: 1.39s\n",
      "47:\tlearn: 0.3342421\ttotal: 434ms\tremaining: 1.38s\n",
      "48:\tlearn: 0.3325737\ttotal: 443ms\tremaining: 1.37s\n",
      "49:\tlearn: 0.3300647\ttotal: 452ms\tremaining: 1.36s\n",
      "50:\tlearn: 0.3281547\ttotal: 462ms\tremaining: 1.35s\n",
      "51:\tlearn: 0.3263995\ttotal: 469ms\tremaining: 1.33s\n",
      "52:\tlearn: 0.3240038\ttotal: 477ms\tremaining: 1.32s\n",
      "53:\tlearn: 0.3222804\ttotal: 483ms\tremaining: 1.31s\n",
      "54:\tlearn: 0.3187592\ttotal: 492ms\tremaining: 1.3s\n",
      "55:\tlearn: 0.3150537\ttotal: 499ms\tremaining: 1.28s\n",
      "56:\tlearn: 0.3129099\ttotal: 505ms\tremaining: 1.27s\n",
      "57:\tlearn: 0.3113140\ttotal: 512ms\tremaining: 1.25s\n",
      "58:\tlearn: 0.3095872\ttotal: 522ms\tremaining: 1.25s\n",
      "59:\tlearn: 0.3075307\ttotal: 530ms\tremaining: 1.24s\n",
      "60:\tlearn: 0.3049377\ttotal: 539ms\tremaining: 1.23s\n",
      "61:\tlearn: 0.3034760\ttotal: 549ms\tremaining: 1.22s\n",
      "62:\tlearn: 0.3011487\ttotal: 557ms\tremaining: 1.21s\n",
      "63:\tlearn: 0.2996966\ttotal: 564ms\tremaining: 1.2s\n",
      "64:\tlearn: 0.2975659\ttotal: 570ms\tremaining: 1.18s\n",
      "65:\tlearn: 0.2957515\ttotal: 577ms\tremaining: 1.17s\n",
      "66:\tlearn: 0.2936079\ttotal: 583ms\tremaining: 1.16s\n",
      "67:\tlearn: 0.2917726\ttotal: 591ms\tremaining: 1.15s\n",
      "68:\tlearn: 0.2895160\ttotal: 597ms\tremaining: 1.13s\n",
      "69:\tlearn: 0.2877678\ttotal: 604ms\tremaining: 1.12s\n",
      "70:\tlearn: 0.2866831\ttotal: 610ms\tremaining: 1.11s\n",
      "71:\tlearn: 0.2850452\ttotal: 620ms\tremaining: 1.1s\n",
      "72:\tlearn: 0.2829760\ttotal: 627ms\tremaining: 1.09s\n",
      "73:\tlearn: 0.2817099\ttotal: 636ms\tremaining: 1.08s\n",
      "74:\tlearn: 0.2803306\ttotal: 645ms\tremaining: 1.07s\n",
      "75:\tlearn: 0.2795779\ttotal: 654ms\tremaining: 1.07s\n",
      "76:\tlearn: 0.2780320\ttotal: 662ms\tremaining: 1.06s\n",
      "77:\tlearn: 0.2775135\ttotal: 672ms\tremaining: 1.05s\n",
      "78:\tlearn: 0.2756365\ttotal: 678ms\tremaining: 1.04s\n",
      "79:\tlearn: 0.2735824\ttotal: 687ms\tremaining: 1.03s\n",
      "80:\tlearn: 0.2719819\ttotal: 694ms\tremaining: 1.02s\n",
      "81:\tlearn: 0.2703745\ttotal: 700ms\tremaining: 1.01s\n",
      "82:\tlearn: 0.2689795\ttotal: 707ms\tremaining: 997ms\n",
      "83:\tlearn: 0.2669706\ttotal: 714ms\tremaining: 986ms\n",
      "84:\tlearn: 0.2646515\ttotal: 721ms\tremaining: 976ms\n",
      "85:\tlearn: 0.2630659\ttotal: 730ms\tremaining: 967ms\n",
      "86:\tlearn: 0.2620606\ttotal: 738ms\tremaining: 958ms\n",
      "87:\tlearn: 0.2599774\ttotal: 745ms\tremaining: 948ms\n",
      "88:\tlearn: 0.2583748\ttotal: 754ms\tremaining: 941ms\n",
      "89:\tlearn: 0.2572641\ttotal: 761ms\tremaining: 930ms\n",
      "90:\tlearn: 0.2553247\ttotal: 769ms\tremaining: 921ms\n",
      "91:\tlearn: 0.2533691\ttotal: 775ms\tremaining: 910ms\n",
      "92:\tlearn: 0.2523635\ttotal: 786ms\tremaining: 904ms\n",
      "93:\tlearn: 0.2507139\ttotal: 792ms\tremaining: 894ms\n",
      "94:\tlearn: 0.2487259\ttotal: 800ms\tremaining: 884ms\n",
      "95:\tlearn: 0.2464712\ttotal: 807ms\tremaining: 874ms\n",
      "96:\tlearn: 0.2449016\ttotal: 816ms\tremaining: 867ms\n",
      "97:\tlearn: 0.2435560\ttotal: 825ms\tremaining: 858ms\n",
      "98:\tlearn: 0.2421241\ttotal: 834ms\tremaining: 850ms\n",
      "99:\tlearn: 0.2412530\ttotal: 843ms\tremaining: 843ms\n",
      "100:\tlearn: 0.2399323\ttotal: 853ms\tremaining: 836ms\n",
      "101:\tlearn: 0.2387314\ttotal: 862ms\tremaining: 829ms\n",
      "102:\tlearn: 0.2375097\ttotal: 872ms\tremaining: 822ms\n",
      "103:\tlearn: 0.2365957\ttotal: 883ms\tremaining: 815ms\n",
      "104:\tlearn: 0.2357016\ttotal: 894ms\tremaining: 809ms\n",
      "105:\tlearn: 0.2347573\ttotal: 904ms\tremaining: 801ms\n",
      "106:\tlearn: 0.2344829\ttotal: 913ms\tremaining: 793ms\n",
      "107:\tlearn: 0.2331152\ttotal: 922ms\tremaining: 785ms\n",
      "108:\tlearn: 0.2315521\ttotal: 930ms\tremaining: 776ms\n",
      "109:\tlearn: 0.2303904\ttotal: 939ms\tremaining: 768ms\n",
      "110:\tlearn: 0.2291686\ttotal: 947ms\tremaining: 759ms\n",
      "111:\tlearn: 0.2275476\ttotal: 956ms\tremaining: 751ms\n",
      "112:\tlearn: 0.2263450\ttotal: 965ms\tremaining: 743ms\n",
      "113:\tlearn: 0.2248865\ttotal: 974ms\tremaining: 735ms\n",
      "114:\tlearn: 0.2236758\ttotal: 984ms\tremaining: 727ms\n",
      "115:\tlearn: 0.2223643\ttotal: 993ms\tremaining: 719ms\n",
      "116:\tlearn: 0.2211495\ttotal: 1s\tremaining: 711ms\n",
      "117:\tlearn: 0.2196291\ttotal: 1.01s\tremaining: 703ms\n",
      "118:\tlearn: 0.2186072\ttotal: 1.02s\tremaining: 695ms\n",
      "119:\tlearn: 0.2175275\ttotal: 1.03s\tremaining: 687ms\n",
      "120:\tlearn: 0.2158426\ttotal: 1.04s\tremaining: 679ms\n",
      "121:\tlearn: 0.2150792\ttotal: 1.05s\tremaining: 671ms\n",
      "122:\tlearn: 0.2136079\ttotal: 1.06s\tremaining: 663ms\n",
      "123:\tlearn: 0.2123736\ttotal: 1.07s\tremaining: 655ms\n",
      "124:\tlearn: 0.2112493\ttotal: 1.08s\tremaining: 647ms\n",
      "125:\tlearn: 0.2106552\ttotal: 1.09s\tremaining: 640ms\n",
      "126:\tlearn: 0.2096727\ttotal: 1.1s\tremaining: 633ms\n",
      "127:\tlearn: 0.2089460\ttotal: 1.11s\tremaining: 625ms\n",
      "128:\tlearn: 0.2081058\ttotal: 1.12s\tremaining: 616ms\n",
      "129:\tlearn: 0.2075126\ttotal: 1.13s\tremaining: 608ms\n",
      "130:\tlearn: 0.2066506\ttotal: 1.14s\tremaining: 599ms\n",
      "131:\tlearn: 0.2061398\ttotal: 1.15s\tremaining: 590ms\n",
      "132:\tlearn: 0.2049191\ttotal: 1.15s\tremaining: 581ms\n",
      "133:\tlearn: 0.2034429\ttotal: 1.16s\tremaining: 572ms\n",
      "134:\tlearn: 0.2028161\ttotal: 1.17s\tremaining: 564ms\n",
      "135:\tlearn: 0.2017489\ttotal: 1.18s\tremaining: 555ms\n",
      "136:\tlearn: 0.2000653\ttotal: 1.19s\tremaining: 546ms\n",
      "137:\tlearn: 0.1989918\ttotal: 1.19s\tremaining: 537ms\n",
      "138:\tlearn: 0.1981144\ttotal: 1.2s\tremaining: 528ms\n",
      "139:\tlearn: 0.1975150\ttotal: 1.21s\tremaining: 519ms\n",
      "140:\tlearn: 0.1967731\ttotal: 1.22s\tremaining: 510ms\n",
      "141:\tlearn: 0.1961501\ttotal: 1.23s\tremaining: 502ms\n",
      "142:\tlearn: 0.1951265\ttotal: 1.24s\tremaining: 493ms\n",
      "143:\tlearn: 0.1945547\ttotal: 1.25s\tremaining: 485ms\n",
      "144:\tlearn: 0.1940180\ttotal: 1.26s\tremaining: 477ms\n",
      "145:\tlearn: 0.1934094\ttotal: 1.27s\tremaining: 469ms\n",
      "146:\tlearn: 0.1922760\ttotal: 1.28s\tremaining: 461ms\n",
      "147:\tlearn: 0.1919023\ttotal: 1.29s\tremaining: 453ms\n",
      "148:\tlearn: 0.1910553\ttotal: 1.3s\tremaining: 445ms\n",
      "149:\tlearn: 0.1900587\ttotal: 1.31s\tremaining: 437ms\n",
      "150:\tlearn: 0.1892286\ttotal: 1.32s\tremaining: 428ms\n",
      "151:\tlearn: 0.1880235\ttotal: 1.33s\tremaining: 419ms\n",
      "152:\tlearn: 0.1876588\ttotal: 1.34s\tremaining: 411ms\n",
      "153:\tlearn: 0.1862592\ttotal: 1.34s\tremaining: 402ms\n",
      "154:\tlearn: 0.1852626\ttotal: 1.35s\tremaining: 393ms\n",
      "155:\tlearn: 0.1840127\ttotal: 1.36s\tremaining: 384ms\n",
      "156:\tlearn: 0.1825947\ttotal: 1.37s\tremaining: 375ms\n",
      "157:\tlearn: 0.1819224\ttotal: 1.38s\tremaining: 366ms\n",
      "158:\tlearn: 0.1809242\ttotal: 1.38s\tremaining: 357ms\n",
      "159:\tlearn: 0.1800041\ttotal: 1.39s\tremaining: 348ms\n",
      "160:\tlearn: 0.1794793\ttotal: 1.4s\tremaining: 339ms\n",
      "161:\tlearn: 0.1791491\ttotal: 1.41s\tremaining: 330ms\n",
      "162:\tlearn: 0.1780742\ttotal: 1.41s\tremaining: 321ms\n",
      "163:\tlearn: 0.1772895\ttotal: 1.42s\tremaining: 312ms\n",
      "164:\tlearn: 0.1759503\ttotal: 1.43s\tremaining: 304ms\n",
      "165:\tlearn: 0.1750760\ttotal: 1.44s\tremaining: 295ms\n",
      "166:\tlearn: 0.1743364\ttotal: 1.45s\tremaining: 287ms\n",
      "167:\tlearn: 0.1736058\ttotal: 1.46s\tremaining: 278ms\n",
      "168:\tlearn: 0.1728699\ttotal: 1.47s\tremaining: 270ms\n",
      "169:\tlearn: 0.1724452\ttotal: 1.48s\tremaining: 261ms\n",
      "170:\tlearn: 0.1718171\ttotal: 1.49s\tremaining: 253ms\n",
      "171:\tlearn: 0.1711258\ttotal: 1.5s\tremaining: 245ms\n",
      "172:\tlearn: 0.1703004\ttotal: 1.51s\tremaining: 236ms\n",
      "173:\tlearn: 0.1691359\ttotal: 1.52s\tremaining: 228ms\n",
      "174:\tlearn: 0.1680706\ttotal: 1.53s\tremaining: 219ms\n",
      "175:\tlearn: 0.1669954\ttotal: 1.54s\tremaining: 210ms\n",
      "176:\tlearn: 0.1657224\ttotal: 1.55s\tremaining: 201ms\n",
      "177:\tlearn: 0.1651812\ttotal: 1.56s\tremaining: 193ms\n",
      "178:\tlearn: 0.1640068\ttotal: 1.57s\tremaining: 184ms\n",
      "179:\tlearn: 0.1633181\ttotal: 1.58s\tremaining: 175ms\n",
      "180:\tlearn: 0.1622211\ttotal: 1.59s\tremaining: 166ms\n",
      "181:\tlearn: 0.1615833\ttotal: 1.59s\tremaining: 158ms\n",
      "182:\tlearn: 0.1607092\ttotal: 1.6s\tremaining: 149ms\n",
      "183:\tlearn: 0.1597908\ttotal: 1.61s\tremaining: 140ms\n",
      "184:\tlearn: 0.1589240\ttotal: 1.61s\tremaining: 131ms\n",
      "185:\tlearn: 0.1580230\ttotal: 1.62s\tremaining: 122ms\n",
      "186:\tlearn: 0.1574658\ttotal: 1.63s\tremaining: 113ms\n",
      "187:\tlearn: 0.1567768\ttotal: 1.64s\tremaining: 105ms\n",
      "188:\tlearn: 0.1563061\ttotal: 1.65s\tremaining: 95.9ms\n",
      "189:\tlearn: 0.1553316\ttotal: 1.66s\tremaining: 87.3ms\n",
      "190:\tlearn: 0.1542825\ttotal: 1.67s\tremaining: 78.6ms\n",
      "191:\tlearn: 0.1532252\ttotal: 1.68s\tremaining: 69.8ms\n",
      "192:\tlearn: 0.1521715\ttotal: 1.68s\tremaining: 61.1ms\n",
      "193:\tlearn: 0.1511812\ttotal: 1.7s\tremaining: 52.4ms\n",
      "194:\tlearn: 0.1506213\ttotal: 1.71s\tremaining: 43.8ms\n",
      "195:\tlearn: 0.1503290\ttotal: 1.72s\tremaining: 35ms\n",
      "196:\tlearn: 0.1498942\ttotal: 1.73s\tremaining: 26.3ms\n",
      "197:\tlearn: 0.1494728\ttotal: 1.74s\tremaining: 17.5ms\n",
      "198:\tlearn: 0.1485412\ttotal: 1.74s\tremaining: 8.77ms\n",
      "199:\tlearn: 0.1481220\ttotal: 1.76s\tremaining: 0us\n"
     ]
    }
   ],
   "source": [
    "catb_tuned = CatBoostClassifier(depth= 8, \n",
    "                                iterations= 200, \n",
    "                                learning_rate= 0.03).fit(X_train, y_train)"
   ]
  },
  {
   "cell_type": "code",
   "execution_count": 135,
   "metadata": {},
   "outputs": [],
   "source": [
    "y_pred = catb_tuned.predict(X_test)"
   ]
  },
  {
   "cell_type": "code",
   "execution_count": 136,
   "metadata": {},
   "outputs": [
    {
     "data": {
      "text/plain": [
       "0.7532467532467533"
      ]
     },
     "execution_count": 136,
     "metadata": {},
     "output_type": "execute_result"
    }
   ],
   "source": [
    "accuracy_score(y_test, y_pred)"
   ]
  },
  {
   "cell_type": "code",
   "execution_count": 137,
   "metadata": {},
   "outputs": [
    {
     "data": {
      "image/png": "[encoded data removed]",
      "text/plain": [
       "<Figure size 432x288 with 1 Axes>"
      ]
     },
     "metadata": {
      "needs_background": "light"
     },
     "output_type": "display_data"
    }
   ],
   "source": [
    "feature_imp = pd.Series(catb_tuned.feature_importances_,\n",
    "                        index=X_train.columns).sort_values(ascending=False)\n",
    "\n",
    "sns.barplot(x=feature_imp, y=feature_imp.index)\n",
    "plt.xlabel('Değişken Önem Skorları')\n",
    "plt.ylabel('Değişkenler')\n",
    "plt.title(\"Değişken Önem Düzeyleri\")\n",
    "plt.show()"
   ]
  },
  {
   "cell_type": "markdown",
   "metadata": {},
   "source": [
    "# Tüm Modellerin Karşılaştırılması"
   ]
  },
  {
   "cell_type": "code",
   "execution_count": 150,
   "metadata": {},
   "outputs": [],
   "source": [
    "modeller = [\n",
    "    knn_tuned,\n",
    "    loj_model,\n",
    "    svm_tuned,\n",
    "    mlpc_tuned,\n",
    "    cart_tuned,\n",
    "    rf_tuned,\n",
    "    gbm_tuned,\n",
    "    catb_tuned,\n",
    "    lgbm_tuned,\n",
    "    xgb_tuned]\n",
    "\n",
    "sonuc = []\n",
    "sonuclar = pd.DataFrame(columns= [\"Modeller\",\"Accuracy\"])\n",
    "\n",
    "for model in modeller:\n",
    "    isimler = model.__class__.__name__\n",
    "    y_pred = model.predict(X_test)\n",
    "    dogruluk = accuracy_score(y_test, y_pred)\n",
    "    sonuc = pd.DataFrame([[isimler, dogruluk*100]], columns= [\"Modeller\",\"Accuracy\"])\n",
    "    sonuclar = sonuclar.append(sonuc)"
   ]
  },
  {
   "cell_type": "code",
   "execution_count": 151,
   "metadata": {},
   "outputs": [
    {
     "data": {
      "image/png": "[encoded data removed]",
      "text/plain": [
       "<Figure size 432x288 with 1 Axes>"
      ]
     },
     "metadata": {
      "needs_background": "light"
     },
     "output_type": "display_data"
    }
   ],
   "source": [
    "sns.barplot(x= 'Accuracy', y = 'Modeller', data=sonuclar, color=\"r\")\n",
    "plt.xlabel('Accuracy %')\n",
    "plt.title('Modellerin Doğruluk Oranları');"
   ]
  },
  {
   "cell_type": "code",
   "execution_count": 152,
   "metadata": {},
   "outputs": [
    {
     "data": {
      "text/html": [
       "<div>\n",
       "<style scoped>\n",
       "    .dataframe tbody tr th:only-of-type {\n",
       "        vertical-align: middle;\n",
       "    }\n",
       "\n",
       "    .dataframe tbody tr th {\n",
       "        vertical-align: top;\n",
       "    }\n",
       "\n",
       "    .dataframe thead th {\n",
       "        text-align: right;\n",
       "    }\n",
       "</style>\n",
       "<table border=\"1\" class=\"dataframe\">\n",
       "  <thead>\n",
       "    <tr style=\"text-align: right;\">\n",
       "      <th></th>\n",
       "      <th>Modeller</th>\n",
       "      <th>Accuracy</th>\n",
       "    </tr>\n",
       "  </thead>\n",
       "  <tbody>\n",
       "    <tr>\n",
       "      <th>0</th>\n",
       "      <td>KNeighborsClassifier</td>\n",
       "      <td>73.160173</td>\n",
       "    </tr>\n",
       "    <tr>\n",
       "      <th>0</th>\n",
       "      <td>LogisticRegression</td>\n",
       "      <td>75.757576</td>\n",
       "    </tr>\n",
       "    <tr>\n",
       "      <th>0</th>\n",
       "      <td>SVC</td>\n",
       "      <td>74.458874</td>\n",
       "    </tr>\n",
       "    <tr>\n",
       "      <th>0</th>\n",
       "      <td>MLPClassifier</td>\n",
       "      <td>67.965368</td>\n",
       "    </tr>\n",
       "    <tr>\n",
       "      <th>0</th>\n",
       "      <td>DecisionTreeClassifier</td>\n",
       "      <td>75.324675</td>\n",
       "    </tr>\n",
       "    <tr>\n",
       "      <th>0</th>\n",
       "      <td>RandomForestClassifier</td>\n",
       "      <td>74.458874</td>\n",
       "    </tr>\n",
       "    <tr>\n",
       "      <th>0</th>\n",
       "      <td>GradientBoostingClassifier</td>\n",
       "      <td>73.593074</td>\n",
       "    </tr>\n",
       "    <tr>\n",
       "      <th>0</th>\n",
       "      <td>CatBoostClassifier</td>\n",
       "      <td>75.324675</td>\n",
       "    </tr>\n",
       "    <tr>\n",
       "      <th>0</th>\n",
       "      <td>LGBMClassifier</td>\n",
       "      <td>75.757576</td>\n",
       "    </tr>\n",
       "    <tr>\n",
       "      <th>0</th>\n",
       "      <td>XGBClassifier</td>\n",
       "      <td>75.757576</td>\n",
       "    </tr>\n",
       "  </tbody>\n",
       "</table>\n",
       "</div>"
      ],
      "text/plain": [
       "                     Modeller   Accuracy\n",
       "0        KNeighborsClassifier  73.160173\n",
       "0          LogisticRegression  75.757576\n",
       "0                         SVC  74.458874\n",
       "0               MLPClassifier  67.965368\n",
       "0      DecisionTreeClassifier  75.324675\n",
       "0      RandomForestClassifier  74.458874\n",
       "0  GradientBoostingClassifier  73.593074\n",
       "0          CatBoostClassifier  75.324675\n",
       "0              LGBMClassifier  75.757576\n",
       "0               XGBClassifier  75.757576"
      ]
     },
     "execution_count": 152,
     "metadata": {},
     "output_type": "execute_result"
    }
   ],
   "source": [
    "sonuclar"
   ]
  },
  {
   "cell_type": "markdown",
   "metadata": {},
   "source": [
    "# Daha Başka Ne Yapılabilir?"
   ]
  },
  {
   "cell_type": "markdown",
   "metadata": {},
   "source": [
    "1. Değişken türetme / değişken mühendisliği\n",
    "2. Değişken seçme\n",
    "3. Otomatik ML\n",
    "4. Model deployment"
   ]
  },
  {
   "cell_type": "code",
   "execution_count": null,
   "metadata": {},
   "outputs": [],
   "source": []
  }
 ],
 "metadata": {
  "kernelspec": {
   "display_name": "Python 3",
   "language": "python",
   "name": "python3"
  },
  "language_info": {
   "codemirror_mode": {
    "name": "ipython",
    "version": 3
   },
   "file_extension": ".py",
   "mimetype": "text/x-python",
   "name": "python",
   "nbconvert_exporter": "python",
   "pygments_lexer": "ipython3",
   "version": "3.7.6"
  }
 },
 "nbformat": 4,
 "nbformat_minor": 4
}
